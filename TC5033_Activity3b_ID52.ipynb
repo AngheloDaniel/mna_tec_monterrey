{
  "cells": [
    {
      "cell_type": "markdown",
      "source": [
        "## Team 52\n",
        "\n",
        "\n",
        "*   Anghelo Daniel Pérez Martínez (A01795323)\n",
        "*   Luis Daniel Ortega Muñoz (A01795197)\n",
        "*   Emil Khaleb Palomino Bruzzón (A00826811)\n",
        "*   José de Jesús Peña Rodríguez (A01794940)\n",
        "*   Gerardo Miguel Pérez Solis (A01795599)"
      ],
      "metadata": {
        "id": "eJCmSs0lnQd7"
      },
      "id": "eJCmSs0lnQd7"
    },
    {
      "cell_type": "markdown",
      "id": "940c6dbc",
      "metadata": {
        "id": "940c6dbc"
      },
      "source": [
        "## TC 5033\n",
        "# **Word Embeddings**\n",
        "\n",
        "<br>\n",
        "\n",
        "#### Activity 3b: Text Classification using RNNs and AG_NEWS dataset in PyTorch\n",
        "<br>\n",
        "\n",
        "- Objective:\n",
        "    - Understand the basics of Recurrent Neural Networks (RNNs) and their application in text classification.\n",
        "    - Learn how to handle a real-world text dataset, AG_NEWS, in PyTorch.\n",
        "    - Gain hands-on experience in defining, training, and evaluating a text classification model in PyTorch.\n",
        "    \n",
        "<br>\n",
        "\n",
        "- Instructions:\n",
        "    - Data Preparation: Starter code will be provided that loads the AG_NEWS dataset and prepares it for training. Do not modify this part. However, you should be sure to understand it, and comment it, the use of markdown cells is suggested.\n",
        "\n",
        "    - Model Setup: A skeleton code for the RNN model class will be provided. Complete this class and use it to instantiate your model.\n",
        "\n",
        "    - Implementing Accuracy Function: Write a function that takes model predictions and ground truth labels as input and returns the model's accuracy.\n",
        "\n",
        "    - Training Function: Implement a function that performs training on the given model using the AG_NEWS dataset. Your model should achieve an accuracy of at least 80% to get full marks for this part.\n",
        "\n",
        "    - Text Sampling: Write a function that takes a sample text as input and classifies it using your trained model.\n",
        "\n",
        "    - Confusion Matrix: Implement a function to display the confusion matrix for your model on the test data.\n",
        "\n",
        "    - Submission: Submit your completed Jupyter Notebook. Make sure to include a markdown cell at the beginning of the notebook that lists the names of all team members. Teams should consist of 3 to 4 members.\n",
        "    \n",
        "<br>\n",
        "\n",
        "- Evaluation Criteria:\n",
        "\n",
        "    - Correct setup of all the required libraries and modules (10%)\n",
        "    - Code Quality (30%): Your code should be well-organized, clearly commented, and easy to follow. Use also markdown cells for clarity. Comments should be given for all the provided code, this will help you understand its functionality.\n",
        "    \n",
        "   - Functionality (60%):\n",
        "        - All the functions should execute without errors and provide the expected outputs.\n",
        "        - RNN model class (20%)\n",
        "        - Accuracy fucntion (10%)\n",
        "        - Training function (10%)\n",
        "        - Sampling function (10%)\n",
        "        - Confucion matrix (10%)\n",
        "\n",
        "        - The model should achieve at least an 80% accuracy on the AG_NEWS test set for full marks in this criterion.\n"
      ]
    },
    {
      "cell_type": "markdown",
      "source": [
        "## **Library imports and additional installations**"
      ],
      "metadata": {
        "id": "0L0ANZvKqSJ2"
      },
      "id": "0L0ANZvKqSJ2"
    },
    {
      "cell_type": "markdown",
      "id": "4de318da",
      "metadata": {
        "id": "4de318da"
      },
      "source": [
        "**Dataset**\n",
        "\n",
        "https://pytorch.org/text/stable/datasets.html#text-classification\n",
        "\n",
        "https://paperswithcode.com/dataset/ag-news\n"
      ]
    },
    {
      "cell_type": "markdown",
      "source": [
        "**AG News (AG’s News Corpus)**\n",
        "\n",
        "AG News (AG’s News Corpus) is a subdataset of AG's corpus of news articles constructed by assembling titles and description fields of articles from the 4 largest classes (“World”, “Sports”, “Business”, “Sci/Tech”) of AG’s Corpus. The AG News contains 30,000 training and 1,900 test samples per class.\n",
        "\n",
        "Papers with Code - AG News Dataset. (s. f.). https://paperswithcode.com/dataset/ag-news"
      ],
      "metadata": {
        "id": "vC_8YBFtvMOg"
      },
      "id": "vC_8YBFtvMOg"
    },
    {
      "cell_type": "markdown",
      "source": [
        "**Pytorch Text Classification**\n",
        "\n",
        "AG_NEWS\n",
        "\n",
        "`torchtext.datasets.AG_NEWS(root: str = '.data', split: Union[Tuple[str], str] = ('train', 'test'))`"
      ],
      "metadata": {
        "id": "ynVNXFskwaCN"
      },
      "id": "ynVNXFskwaCN"
    },
    {
      "cell_type": "markdown",
      "id": "4a9801f9",
      "metadata": {
        "id": "4a9801f9"
      },
      "source": [
        "**Install libraries (if needed)**"
      ]
    },
    {
      "cell_type": "markdown",
      "id": "97QE07qUQXN4",
      "metadata": {
        "id": "97QE07qUQXN4"
      },
      "source": [
        "You may need to install the following libraries to ensure version compatibility. After installing them, please Restart the Session (Runtime -> Restart Session)"
      ]
    },
    {
      "cell_type": "markdown",
      "source": [
        "**Torch text**\n",
        "\n",
        "This library is part of the PyTorch project. The torchtext package consists of data processing utilities and popular datasets for natural language."
      ],
      "metadata": {
        "id": "QBVVQetqxJ9S"
      },
      "id": "QBVVQetqxJ9S"
    },
    {
      "cell_type": "code",
      "execution_count": null,
      "id": "54394f53",
      "metadata": {
        "id": "54394f53"
      },
      "outputs": [],
      "source": [
        "!pip install torch==2.0.1 torchvision==0.15.2 torchaudio==2.0.2 torchtext==0.15.2"
      ]
    },
    {
      "cell_type": "code",
      "execution_count": null,
      "id": "3m9B33A8QOiI",
      "metadata": {
        "id": "3m9B33A8QOiI"
      },
      "outputs": [],
      "source": [
        "!pip install scipy==1.9.3\n",
        "!pip install scikit-plot\n",
        "#you may receive a message of restarting session, this is OK"
      ]
    },
    {
      "cell_type": "code",
      "execution_count": null,
      "id": "SfzuGL4LQRGc",
      "metadata": {
        "id": "SfzuGL4LQRGc"
      },
      "outputs": [],
      "source": [
        "!pip install portalocker\n",
        "#please restar session after this intallation. After restarting go straight to importing the libraries"
      ]
    },
    {
      "cell_type": "markdown",
      "id": "9IUa6uRqQtGu",
      "metadata": {
        "id": "9IUa6uRqQtGu"
      },
      "source": [
        "### **Import libraries**"
      ]
    },
    {
      "cell_type": "code",
      "execution_count": 43,
      "id": "878b524f",
      "metadata": {
        "id": "878b524f"
      },
      "outputs": [],
      "source": [
        "# The following libraries are required for running the given code\n",
        "# Please feel free to add any libraries you consider adecuate to complete the assingment.\n",
        "import numpy as np\n",
        "#PyTorch libraries\n",
        "import torch\n",
        "from torchtext.datasets import AG_NEWS\n",
        "# Dataloader library\n",
        "from torch.utils.data import DataLoader\n",
        "from torch.utils.data.dataset import random_split\n",
        "# Libraries to prepare the data\n",
        "from torchtext.data.utils import get_tokenizer\n",
        "from torchtext.vocab import build_vocab_from_iterator\n",
        "from torchtext.data.functional import to_map_style_dataset\n",
        "# neural layers\n",
        "from torch import nn\n",
        "from torch.nn import functional as F\n",
        "\n",
        "# These libraries are suggested to plot confusion matrix\n",
        "# you may use others\n",
        "import scikitplot as skplt\n",
        "import gc\n",
        "from sklearn.metrics import confusion_matrix\n",
        "import matplotlib.pyplot as plt"
      ]
    },
    {
      "cell_type": "code",
      "execution_count": 2,
      "id": "3bab55f3",
      "metadata": {
        "colab": {
          "base_uri": "https://localhost:8080/"
        },
        "id": "3bab55f3",
        "outputId": "cd91b7c4-9a67-4a3c-8760-758700aa7c6e"
      },
      "outputs": [
        {
          "output_type": "stream",
          "name": "stdout",
          "text": [
            "cuda\n"
          ]
        }
      ],
      "source": [
        "# Use GPU if available\n",
        "device = torch.device(\"cuda\" if torch.cuda.is_available() else \"cpu\")\n",
        "print(device)"
      ]
    },
    {
      "cell_type": "markdown",
      "source": [
        "## **Data Preparation**\n",
        "\n",
        "Starter code will be provided that loads the AG_NEWS dataset and prepares it for training. Do not modify this part. However, you should be sure to understand it, and comment it, the use of markdown cells is suggested."
      ],
      "metadata": {
        "id": "7jTlSVd-pP-X"
      },
      "id": "7jTlSVd-pP-X"
    },
    {
      "cell_type": "markdown",
      "id": "3d38956d",
      "metadata": {
        "id": "3d38956d"
      },
      "source": [
        "**Get the train and the test datasets and dataloaders**"
      ]
    },
    {
      "cell_type": "markdown",
      "id": "e9c6b784",
      "metadata": {
        "id": "e9c6b784"
      },
      "source": [
        "Classes:\n",
        "\n",
        "* 1 - World\n",
        "\n",
        "* 2 - Sports\n",
        "\n",
        "* 3 - Business\n",
        "\n",
        "* 4 - Sci/Tech\n",
        "\n",
        "We will convert them to:\n",
        "\n",
        "* 0 - World\n",
        "\n",
        "* 1 - Sports\n",
        "\n",
        "* 2 - Business\n",
        "\n",
        "* 3 - Sci/Tech"
      ]
    },
    {
      "cell_type": "markdown",
      "source": [
        "**to_map_style_dataset**\n",
        "\n",
        "Convert iterable-style dataset to map-style dataset.\n",
        "\n",
        "`torchtext.data.functional.to_map_style_dataset(iter_data)`\n",
        "\n",
        "https://pytorch.org/text/main/_modules/torchtext/data/functional.html#to_map_style_dataset"
      ],
      "metadata": {
        "id": "Ny_l1CPe8LnM"
      },
      "id": "Ny_l1CPe8LnM"
    },
    {
      "cell_type": "markdown",
      "source": [
        "**DataLoader**\n",
        "\n",
        "DataLoader wraps an iterable around the Dataset to enable easy access to the samples\n",
        "\n",
        "https://pytorch.org/tutorials/beginner/basics/data_tutorial.html"
      ],
      "metadata": {
        "id": "xlFfmBpJ8gsz"
      },
      "id": "xlFfmBpJ8gsz"
    },
    {
      "cell_type": "markdown",
      "source": [
        "Load dataset and convert it to \"map-style\" which makes it compatible with DataLoader\n"
      ],
      "metadata": {
        "id": "TWAnLBHC7TvK"
      },
      "id": "TWAnLBHC7TvK"
    },
    {
      "cell_type": "code",
      "execution_count": 3,
      "id": "49fbed19",
      "metadata": {
        "id": "49fbed19"
      },
      "outputs": [],
      "source": [
        "train_dataset, test_dataset = AG_NEWS()\n",
        "train_dataset, test_dataset = to_map_style_dataset(train_dataset), to_map_style_dataset(test_dataset)"
      ]
    },
    {
      "cell_type": "markdown",
      "source": [
        "Create a 'basic_english' tokenizer, which will be used to split text into tokens"
      ],
      "metadata": {
        "id": "m3VyJNFH7cvR"
      },
      "id": "m3VyJNFH7cvR"
    },
    {
      "cell_type": "code",
      "execution_count": 4,
      "id": "9c372eb9",
      "metadata": {
        "id": "9c372eb9"
      },
      "outputs": [],
      "source": [
        "tokeniser = get_tokenizer('basic_english')"
      ]
    },
    {
      "cell_type": "markdown",
      "source": [
        "**yield_tokens()**\n",
        "\n",
        "This function receives a parameter \"data\" which is an iterable collection of tuples (label, text), then loops through \"data\" to get the text from each item and tokenize it."
      ],
      "metadata": {
        "id": "J3dyaoXY9VKx"
      },
      "id": "J3dyaoXY9VKx"
    },
    {
      "cell_type": "code",
      "source": [
        "def yield_tokens(data):\n",
        "    for _, text in data:\n",
        "        yield tokeniser(text)"
      ],
      "metadata": {
        "id": "vPIcNtiD9Wfb"
      },
      "id": "vPIcNtiD9Wfb",
      "execution_count": 5,
      "outputs": []
    },
    {
      "cell_type": "markdown",
      "source": [
        "**build_vocab_from_iterator()**\n",
        "\n",
        "Build a Vocab from an iterator.\n",
        "\n",
        "`torchtext.vocab.build_vocab_from_iterator(iterator: Iterable, min_freq: int = 1, specials: Optional[List[str]] = None, special_first: bool = True, max_tokens: Optional[int] = None)`\n",
        "\n",
        "https://pytorch.org/text/main/vocab.html#build-vocab-from-iterator"
      ],
      "metadata": {
        "id": "QrAYmw1X-iS-"
      },
      "id": "QrAYmw1X-iS-"
    },
    {
      "cell_type": "markdown",
      "source": [
        "Create a vocabulary from tokenized data, this will map each word to an index\n",
        "\n",
        "*`specials`* parameter allows special tokens in the vocabulary, if it finds a word that wasn't in the training data it will add it to `\"<unk>\"`"
      ],
      "metadata": {
        "id": "319m3E33-zph"
      },
      "id": "319m3E33-zph"
    },
    {
      "cell_type": "code",
      "execution_count": 6,
      "id": "794d0375",
      "metadata": {
        "id": "794d0375"
      },
      "outputs": [],
      "source": [
        "vocab = build_vocab_from_iterator(yield_tokens(train_dataset), specials=[\"<unk>\"])"
      ]
    },
    {
      "cell_type": "markdown",
      "source": [
        "Once the vocabulary was built, set the default index to the index of `<unk>`, that means that 0 will be the index of all the unknown words"
      ],
      "metadata": {
        "id": "bxkISNJoANwV"
      },
      "id": "bxkISNJoANwV"
    },
    {
      "cell_type": "code",
      "source": [
        "vocab.set_default_index(vocab[\"<unk>\"])"
      ],
      "metadata": {
        "id": "I8aihpP9APKk"
      },
      "id": "I8aihpP9APKk",
      "execution_count": 7,
      "outputs": []
    },
    {
      "cell_type": "markdown",
      "source": [
        "Print an example of the result of tokenizing a sentence and their respective value in the vocabulary"
      ],
      "metadata": {
        "id": "GEkpAgpvArit"
      },
      "id": "GEkpAgpvArit"
    },
    {
      "cell_type": "code",
      "execution_count": 8,
      "id": "b48268d4",
      "metadata": {
        "colab": {
          "base_uri": "https://localhost:8080/"
        },
        "id": "b48268d4",
        "outputId": "2ceeb50e-6ebd-438f-b7ee-69fc87428788"
      },
      "outputs": [
        {
          "output_type": "stream",
          "name": "stdout",
          "text": [
            "['welcome', 'to', 'tc5033'] [3314, 4, 0]\n"
          ]
        }
      ],
      "source": [
        "tokens = tokeniser('Welcome to TC5033')\n",
        "print(tokens, vocab(tokens))"
      ]
    },
    {
      "cell_type": "markdown",
      "source": [
        "Define the size of the training dataset, it's going to be 90% of the train_dataset"
      ],
      "metadata": {
        "id": "NhlczcBLtoen"
      },
      "id": "NhlczcBLtoen"
    },
    {
      "cell_type": "code",
      "execution_count": 9,
      "id": "c8c8f6a6",
      "metadata": {
        "id": "c8c8f6a6"
      },
      "outputs": [],
      "source": [
        "NUM_TRAIN = int(len(train_dataset)*0.9)"
      ]
    },
    {
      "cell_type": "markdown",
      "source": [
        "The size of the validation dataset is 10% of train_dataset"
      ],
      "metadata": {
        "id": "ZU18cXUetx7d"
      },
      "id": "ZU18cXUetx7d"
    },
    {
      "cell_type": "code",
      "source": [
        "NUM_VAL = len(train_dataset) - NUM_TRAIN"
      ],
      "metadata": {
        "id": "wQYnxUSJtmzq"
      },
      "id": "wQYnxUSJtmzq",
      "execution_count": 10,
      "outputs": []
    },
    {
      "cell_type": "markdown",
      "source": [
        "Create a train (90%) and a validation (10%) datasets using random_split()"
      ],
      "metadata": {
        "id": "GyEvvYQxt5_P"
      },
      "id": "GyEvvYQxt5_P"
    },
    {
      "cell_type": "code",
      "execution_count": 11,
      "id": "8290895e",
      "metadata": {
        "id": "8290895e"
      },
      "outputs": [],
      "source": [
        "train_dataset, val_dataset = random_split(train_dataset, [NUM_TRAIN, NUM_VAL])"
      ]
    },
    {
      "cell_type": "markdown",
      "source": [
        "Print the sizes of the train, validation and test datasets"
      ],
      "metadata": {
        "id": "XKWYzsH5uUZa"
      },
      "id": "XKWYzsH5uUZa"
    },
    {
      "cell_type": "code",
      "execution_count": 12,
      "id": "cbc75b54",
      "metadata": {
        "colab": {
          "base_uri": "https://localhost:8080/"
        },
        "id": "cbc75b54",
        "outputId": "06bbf34f-d28a-46e3-b3c3-a848f438cb4c"
      },
      "outputs": [
        {
          "output_type": "stream",
          "name": "stdout",
          "text": [
            "108000 12000 7600\n"
          ]
        }
      ],
      "source": [
        "print(len(train_dataset), len(val_dataset), len(test_dataset))"
      ]
    },
    {
      "cell_type": "markdown",
      "source": [
        "**collate_batch()**\n",
        "\n",
        "This function will be passed to the DataLoader to process a batch of data as indicated:\n",
        "\n",
        "It will transform the tuples into tensors"
      ],
      "metadata": {
        "id": "gDcw1yhYvA4i"
      },
      "id": "gDcw1yhYvA4i"
    },
    {
      "cell_type": "code",
      "execution_count": 13,
      "id": "ffdbf077",
      "metadata": {
        "id": "ffdbf077"
      },
      "outputs": [],
      "source": [
        "def collate_batch(batch):\n",
        "    # Get label and text and save them in y and x\n",
        "    y, x = list(zip(*batch))\n",
        "\n",
        "    # Create list with indices from tokeniser\n",
        "    # tokenize every text, then convert each token in an index\n",
        "    # that index represents the position of the token in the vocab\n",
        "    x = [vocab(tokeniser(text)) for text in x]\n",
        "    # Iterates x, if the length of the text is less than max_tokens, it adds zeros\n",
        "    # at the end until reaching max_tokens length\n",
        "    # if the length is greater than max_tokens, it truncates the exceeding records\n",
        "    x = [t + ([0]*(max_tokens - len(t))) if len(t) < max_tokens else t[:max_tokens] for t in x]\n",
        "\n",
        "    # convert x and y into tensors type int32\n",
        "    # Prepare the labels, by subtracting 1 to get them in the range 0-3\n",
        "    # it returns a tuple with 2 tensors\n",
        "    return torch.tensor(x, dtype=torch.int32), torch.tensor(y, dtype=torch.int32) - 1"
      ]
    },
    {
      "cell_type": "markdown",
      "source": [
        "Define news labels (will be used in the confusion matrix), max number of tokens and batch size for the DataLoader"
      ],
      "metadata": {
        "id": "P1_0PydvxZa-"
      },
      "id": "P1_0PydvxZa-"
    },
    {
      "cell_type": "code",
      "execution_count": 14,
      "id": "5eb459c7",
      "metadata": {
        "id": "5eb459c7"
      },
      "outputs": [],
      "source": [
        "labels =  [\"World\", \"Sports\", \"Business\", \"Sci/Tech\"]\n",
        "max_tokens = 50\n",
        "BATCH_SIZE = 256"
      ]
    },
    {
      "cell_type": "markdown",
      "source": [
        "Create the three DataLoaders for the train, validation and test datasets"
      ],
      "metadata": {
        "id": "NNVKaAHLvcya"
      },
      "id": "NNVKaAHLvcya"
    },
    {
      "cell_type": "code",
      "execution_count": 15,
      "id": "0a55e6ee",
      "metadata": {
        "id": "0a55e6ee"
      },
      "outputs": [],
      "source": [
        "train_loader = DataLoader(train_dataset, batch_size=BATCH_SIZE, collate_fn=collate_batch, shuffle = True)\n",
        "val_loader = DataLoader(val_dataset, batch_size=BATCH_SIZE, collate_fn=collate_batch, shuffle = True)\n",
        "test_loader = DataLoader(test_dataset, batch_size=BATCH_SIZE, collate_fn=collate_batch, shuffle = True)"
      ]
    },
    {
      "cell_type": "markdown",
      "id": "47b98898",
      "metadata": {
        "id": "47b98898"
      },
      "source": [
        "## **Model Setup**\n",
        "\n",
        "A skeleton code for the RNN model class will be provided. Complete this class and use it to instantiate your model."
      ]
    },
    {
      "cell_type": "code",
      "execution_count": 16,
      "id": "50f20793",
      "metadata": {
        "id": "50f20793"
      },
      "outputs": [],
      "source": [
        "EMBEDDING_SIZE = 300\n",
        "NEURONS = 256\n",
        "LAYERS = 2\n",
        "NUM_CLASSES = 4"
      ]
    },
    {
      "cell_type": "markdown",
      "source": [
        "**What is RNN?**\n",
        "\n",
        "A recurrent neural network (RNN) is a deep learning model that is trained to process and convert a sequential data input into a specific sequential data output. Sequential data is data—such as words, sentences, or time-series data—where sequential components interrelate based on complex semantics and syntax rules. An RNN is a software system that consists of many interconnected components mimicking how humans perform sequential data conversions, such as translating text from one language to another.\n",
        "\n",
        "What is RNN? - Recurrent Neural Networks Explained - AWS. (s. f.). Amazon Web Services, Inc. https://aws.amazon.com/what-is/recurrent-neural-network/?nc1=h_ls"
      ],
      "metadata": {
        "id": "YFSJCWSeHYdJ"
      },
      "id": "YFSJCWSeHYdJ"
    },
    {
      "cell_type": "markdown",
      "source": [
        "**LSTM**\n",
        "\n",
        "A Long Short-Term Memory Network, also known as LSTM, is an advanced recurrent neural network that uses \"gates\" to capture both long-term and short-term memory. These gates help prevent the issues of gradient exploding and vanishing that occur in standard RNNs. LSTM has a well-constructed structure with gates named as \"forget gate,\" \"input gate,\" and \"output gate.\" It is designed to effectively process and retain information over multiple time steps.\n",
        "\n",
        "Long Short-Term Memory Network. (2021). Science Direct. Recuperado 10 de noviembre de 2024, de https://www.sciencedirect.com/topics/computer-science/long-short-term-memory-network"
      ],
      "metadata": {
        "id": "vDvZYTSfM33t"
      },
      "id": "vDvZYTSfM33t"
    },
    {
      "cell_type": "markdown",
      "source": [
        "## **RNN_Model_1 class**\n",
        "\n",
        "Define the architecture of the **RNN** model, it inherits from **nn.Module** in PyTorch\n",
        "\n",
        "This is the architecture:\n",
        "\n",
        "* Embedding layer: convert words to vectors\n",
        "* LSTM layer: capture sequential information\n",
        "* Fully connected layer: Predicts probabilities\n",
        "\n",
        "\n",
        "Params:\n",
        "\n",
        "* embed_size: size of each word embedding vectors\n",
        "* hidden: number of neurons in the hidden layers of LSTM\n",
        "* layers: number of layers of LSTM\n",
        "* num_classes: output layers\n",
        "\n",
        "\n",
        "**forward**\n",
        "\n",
        "this method defines forward propagation of the network, see more details in the comments of the class"
      ],
      "metadata": {
        "id": "k9TUSbaVG6o6"
      },
      "id": "k9TUSbaVG6o6"
    },
    {
      "cell_type": "code",
      "execution_count": 17,
      "id": "0f7f5621",
      "metadata": {
        "id": "0f7f5621"
      },
      "outputs": [],
      "source": [
        "class RNN_Model_1(nn.Module):\n",
        "    def __init__(self, embed_size, hidden, layers, num_classes):\n",
        "        super().__init__()\n",
        "        self.embedding_layer = nn.Embedding(num_embeddings=len(vocab),\n",
        "                                            embedding_dim=embed_size)\n",
        "\n",
        "        self.rnn = nn.LSTM(input_size=embed_size,\n",
        "                           hidden_size=hidden,\n",
        "                           num_layers=layers,\n",
        "                           batch_first=True)\n",
        "\n",
        "        self.fc = nn.Linear(hidden, num_classes)\n",
        "\n",
        "    def forward(self, x):\n",
        "        # apply embedding layer to input tokens (x)\n",
        "        x = self.embedding_layer(x)\n",
        "\n",
        "        # pass the output of the embedding_layer to LSTM\n",
        "        # it returns 2 outputs, we use the output sentence\n",
        "        x, _ = self.rnn(x)\n",
        "\n",
        "        # get the output of the last time step for classification\n",
        "        # syntax: select all the elements (:)\n",
        "        # syntax: select the last output of the sequence (-1)\n",
        "        x = x[:, -1, :]\n",
        "\n",
        "        # pass the RNN output through the fully connected layer for classification\n",
        "        x = self.fc(x)\n",
        "\n",
        "        return x"
      ]
    },
    {
      "cell_type": "markdown",
      "source": [
        "## **Accuracy Function**\n",
        "\n",
        "*Write a function that takes model predictions and ground truth labels as input and returns the model's accuracy.*"
      ],
      "metadata": {
        "id": "xpdYImS8tlgm"
      },
      "id": "xpdYImS8tlgm"
    },
    {
      "cell_type": "markdown",
      "source": [
        "## **accuracy()**\n",
        "\n",
        "This function will evaluate model's performance on a given dataset\n",
        "It iterates the loader from the parameters to get the model's predictions and compares them with the true labels to calculate the accuracy\n",
        "\n",
        "it will apply `model(x_batch)` to get the predictions and then compare the prediction to `y_batch` which are the true labels\n",
        "\n",
        "Accuracy is calculated dividing `correct / total`"
      ],
      "metadata": {
        "id": "lCEFUKU3BCl4"
      },
      "id": "lCEFUKU3BCl4"
    },
    {
      "cell_type": "code",
      "execution_count": 27,
      "id": "2a42613f",
      "metadata": {
        "code_folding": [],
        "id": "2a42613f"
      },
      "outputs": [],
      "source": [
        "def accuracy(model, loader):\n",
        "    # set the model to evaluation mode\n",
        "    model.eval()\n",
        "\n",
        "    # initialize variables\n",
        "    correct = 0\n",
        "    total = 0\n",
        "\n",
        "    # disable autograd to save memory and speed up computations\n",
        "    with torch.no_grad():\n",
        "        for x_batch, y_batch in loader:\n",
        "            # move data to cuda\n",
        "            x_batch, y_batch = x_batch.to(device), y_batch.to(device)\n",
        "\n",
        "            # get predictions\n",
        "            outputs = model(x_batch)\n",
        "\n",
        "            # get highest score for each sample to get the predicted class\n",
        "            _, predicted = torch.max(outputs, 1)\n",
        "\n",
        "            # keep track of correct predictions and total samples\n",
        "            correct += (predicted == y_batch).sum().item()\n",
        "            total += y_batch.size(0)\n",
        "\n",
        "    # calculate the accuracy\n",
        "    accuracy = correct / total\n",
        "    return accuracy"
      ]
    },
    {
      "cell_type": "markdown",
      "source": [
        "## **Training Function**\n",
        "\n",
        "Implement a function that performs training on the given model using the AG_NEWS dataset. Your model should achieve an accuracy of at least 80% to get full marks for this part."
      ],
      "metadata": {
        "id": "hiAo3bk0spvj"
      },
      "id": "hiAo3bk0spvj"
    },
    {
      "cell_type": "markdown",
      "source": [
        "## **train()**\n",
        "\n",
        "\n",
        "Model is set to train mode\n",
        "\n",
        "`model.train()`\n",
        "\n",
        "The it iterates the train loader\n",
        "\n",
        "`for batch_x, batch_y in train_loader:`\n",
        "\n",
        "applies the model to get the predictions\n",
        "\n",
        "`predictions = model(batch_x)`\n",
        "\n",
        "calculates loss\n",
        "\n",
        "`loss = lossFunc(predictions, batch_y)`\n",
        "\n",
        "performs the backpropagation and prints the number of epoch and its loss"
      ],
      "metadata": {
        "id": "VflOJI_rBAFz"
      },
      "id": "VflOJI_rBAFz"
    },
    {
      "cell_type": "code",
      "execution_count": 19,
      "id": "5e843e1f",
      "metadata": {
        "code_folding": [],
        "id": "5e843e1f"
      },
      "outputs": [],
      "source": [
        "def train(model, optimizer, epochs=100):\n",
        "    model.train()\n",
        "\n",
        "    for epoch in range(epochs):\n",
        "        total_loss = 0\n",
        "\n",
        "        # Loop over each batch in the training data\n",
        "        for batch_x, batch_y in train_loader:\n",
        "            # move data to cuda for faster processing\n",
        "            batch_x, batch_y = batch_x.to(device), batch_y.to(device).long()\n",
        "\n",
        "            # get predictions\n",
        "            predictions = model(batch_x)\n",
        "\n",
        "            # calculate loss\n",
        "            # nn.CrossEntropyLoss()\n",
        "            loss = lossFunc(predictions, batch_y)\n",
        "\n",
        "            # clear gradients from previous the batch\n",
        "            optimizer.zero_grad()\n",
        "            # calculate gradients\n",
        "            loss.backward()\n",
        "            # update weights using the optimizer\n",
        "            optimizer.step()\n",
        "\n",
        "            # save accumulated loss\n",
        "            total_loss += loss.item()\n",
        "\n",
        "        # calculate average loss for this epoch\n",
        "        avg_loss = total_loss / len(train_loader)\n",
        "        # print epoch and loss\n",
        "        print(f'Epoch {epoch + 1}/{epochs}, Loss: {avg_loss:.4f}')"
      ]
    },
    {
      "cell_type": "markdown",
      "source": [
        "Define hyperparameters"
      ],
      "metadata": {
        "id": "yD2HBGurD0OR"
      },
      "id": "yD2HBGurD0OR"
    },
    {
      "cell_type": "code",
      "execution_count": 22,
      "id": "87775b29",
      "metadata": {
        "id": "87775b29"
      },
      "outputs": [],
      "source": [
        "epochs = 10\n",
        "lr = 0.001"
      ]
    },
    {
      "cell_type": "markdown",
      "source": [
        "**Instantiate model**"
      ],
      "metadata": {
        "id": "kxaGK6NUDtxN"
      },
      "id": "kxaGK6NUDtxN"
    },
    {
      "cell_type": "code",
      "source": [
        "model = RNN_Model_1(EMBEDDING_SIZE, NEURONS, LAYERS, NUM_CLASSES).to(device)"
      ],
      "metadata": {
        "id": "FXJ3V-J3Dzaj"
      },
      "id": "FXJ3V-J3Dzaj",
      "execution_count": null,
      "outputs": []
    },
    {
      "cell_type": "markdown",
      "source": [
        "**Instantiate an Adam optimizer**"
      ],
      "metadata": {
        "id": "hQhw-ju7FNgC"
      },
      "id": "hQhw-ju7FNgC"
    },
    {
      "cell_type": "code",
      "source": [
        "optimizer = torch.optim.Adam(model.parameters(), lr=lr)"
      ],
      "metadata": {
        "id": "txbt21j6FM4d"
      },
      "id": "txbt21j6FM4d",
      "execution_count": null,
      "outputs": []
    },
    {
      "cell_type": "markdown",
      "source": [
        "**Instantiate a loss function**"
      ],
      "metadata": {
        "id": "0GUURLY8E-NQ"
      },
      "id": "0GUURLY8E-NQ"
    },
    {
      "cell_type": "code",
      "source": [
        "lossFunc = nn.CrossEntropyLoss()"
      ],
      "metadata": {
        "id": "a2giCYYMFLKP"
      },
      "id": "a2giCYYMFLKP",
      "execution_count": null,
      "outputs": []
    },
    {
      "cell_type": "markdown",
      "source": [
        "## **Train the model**"
      ],
      "metadata": {
        "id": "6Cff1wDHCBtY"
      },
      "id": "6Cff1wDHCBtY"
    },
    {
      "cell_type": "code",
      "execution_count": 23,
      "id": "aec12a1b",
      "metadata": {
        "id": "aec12a1b",
        "scrolled": true,
        "colab": {
          "base_uri": "https://localhost:8080/"
        },
        "outputId": "52eb0677-e932-446b-adf3-6834e738e32c"
      },
      "outputs": [
        {
          "output_type": "stream",
          "name": "stdout",
          "text": [
            "Epoch 1/10, Loss: 0.6429\n",
            "Epoch 2/10, Loss: 0.2949\n",
            "Epoch 3/10, Loss: 0.2119\n",
            "Epoch 4/10, Loss: 0.1532\n",
            "Epoch 5/10, Loss: 0.1132\n",
            "Epoch 6/10, Loss: 0.0819\n",
            "Epoch 7/10, Loss: 0.0616\n",
            "Epoch 8/10, Loss: 0.0416\n",
            "Epoch 9/10, Loss: 0.0341\n",
            "Epoch 10/10, Loss: 0.0275\n"
          ]
        }
      ],
      "source": [
        "train(model, optimizer, epochs)"
      ]
    },
    {
      "cell_type": "markdown",
      "source": [
        "## **Print the accuracy**"
      ],
      "metadata": {
        "id": "poghCucqCHHH"
      },
      "id": "poghCucqCHHH"
    },
    {
      "cell_type": "code",
      "execution_count": 28,
      "id": "7a3ef175",
      "metadata": {
        "id": "7a3ef175",
        "colab": {
          "base_uri": "https://localhost:8080/"
        },
        "outputId": "0e05872a-c62e-4094-ac7b-751313f0b01e"
      },
      "outputs": [
        {
          "output_type": "stream",
          "name": "stdout",
          "text": [
            "0.9061\n"
          ]
        }
      ],
      "source": [
        "print(f'{accuracy(model, test_loader):.4f}')"
      ]
    },
    {
      "cell_type": "markdown",
      "source": [
        "## **Text Sampling**\n",
        "\n",
        "*Write a function that takes a sample text as input and classifies it using your trained model.*"
      ],
      "metadata": {
        "id": "sOYp5fMk5sMi"
      },
      "id": "sOYp5fMk5sMi"
    },
    {
      "cell_type": "markdown",
      "source": [
        "## **sample_text()**\n",
        "\n",
        "This function will receive a sample text and display its category to validate how the model works\n",
        "\n",
        "it processes the text and applies the model, then gets the category and returns the name of the category"
      ],
      "metadata": {
        "id": "zj7groO3D6Il"
      },
      "id": "zj7groO3D6Il"
    },
    {
      "cell_type": "code",
      "execution_count": 29,
      "id": "ed30693d",
      "metadata": {
        "id": "ed30693d"
      },
      "outputs": [],
      "source": [
        "def sample_text(model, text):\n",
        "    # set model to evaluation mode\n",
        "    model.eval()\n",
        "\n",
        "    # tokenize the input text\n",
        "    tokens = tokeniser(text)\n",
        "\n",
        "    # convert tokens to indices\n",
        "    token_indices = vocab(tokens)\n",
        "\n",
        "    # make token_indices have same length (max_tokens)\n",
        "    if len(token_indices) < max_tokens:\n",
        "        # add zeros\n",
        "        token_indices += [0] * (max_tokens - len(token_indices))\n",
        "    else:\n",
        "        # truncate\n",
        "        token_indices = token_indices[:max_tokens]\n",
        "\n",
        "    # convert token_indices to tensor of type int32\n",
        "    input_tensor = torch.tensor([token_indices], dtype=torch.int32).to(device)\n",
        "\n",
        "    # disable gradiente calculation\n",
        "    with torch.no_grad():\n",
        "        # get prediction\n",
        "        output = model(input_tensor)\n",
        "\n",
        "    # get the predicted class (highest score in the output vector)\n",
        "    predicted_class = torch.argmax(output, dim=1).item()\n",
        "\n",
        "    # map the predicted class index to the corresponding label\n",
        "    label = labels[predicted_class]\n",
        "\n",
        "    # return name of the category\n",
        "    return label\n"
      ]
    },
    {
      "cell_type": "markdown",
      "source": [
        "Classify this text:"
      ],
      "metadata": {
        "id": "hZkPylBC7fqa"
      },
      "id": "hZkPylBC7fqa"
    },
    {
      "cell_type": "code",
      "source": [
        "print(test_dataset[0][1])"
      ],
      "metadata": {
        "colab": {
          "base_uri": "https://localhost:8080/"
        },
        "id": "psj0Gxi97R3w",
        "outputId": "75b7f252-2921-423f-8904-407223d027d4"
      },
      "id": "psj0Gxi97R3w",
      "execution_count": 40,
      "outputs": [
        {
          "output_type": "stream",
          "name": "stdout",
          "text": [
            "Fears for T N pension after talks Unions representing workers at Turner   Newall say they are 'disappointed' after talks with stricken parent firm Federal Mogul.\n"
          ]
        }
      ]
    },
    {
      "cell_type": "markdown",
      "source": [
        "The category of the previos text is:"
      ],
      "metadata": {
        "id": "zbK9Ad_m7mDK"
      },
      "id": "zbK9Ad_m7mDK"
    },
    {
      "cell_type": "code",
      "execution_count": 39,
      "id": "534f0220",
      "metadata": {
        "id": "534f0220",
        "colab": {
          "base_uri": "https://localhost:8080/",
          "height": 35
        },
        "outputId": "376e512d-9253-47c1-c78d-ec930c978202"
      },
      "outputs": [
        {
          "output_type": "execute_result",
          "data": {
            "text/plain": [
              "'Business'"
            ],
            "application/vnd.google.colaboratory.intrinsic+json": {
              "type": "string"
            }
          },
          "metadata": {},
          "execution_count": 39
        }
      ],
      "source": [
        "sample_text(model, test_dataset[0][1])"
      ]
    },
    {
      "cell_type": "markdown",
      "source": [
        "## **Confusion Matrix**\n",
        "\n",
        "*Implement a function to display the confusion matrix for your model on the test data.*"
      ],
      "metadata": {
        "id": "Sk5R4Ndy6uL4"
      },
      "id": "Sk5R4Ndy6uL4"
    },
    {
      "cell_type": "markdown",
      "source": [
        "## **conf_matrix()**\n",
        "\n",
        "\n",
        "This function will plot a confusion matrix, it will get the predictions and compare them with the true labels."
      ],
      "metadata": {
        "id": "llOxHQCdEDLh"
      },
      "id": "llOxHQCdEDLh"
    },
    {
      "cell_type": "code",
      "execution_count": 54,
      "id": "bb38e093",
      "metadata": {
        "id": "bb38e093"
      },
      "outputs": [],
      "source": [
        "def conf_matrix(model, loader):\n",
        "    # initilize lists\n",
        "    all_preds = []\n",
        "    all_labels = []\n",
        "\n",
        "    # set model to evaluation mode\n",
        "    model.eval()\n",
        "\n",
        "    #disable gradiente calculation\n",
        "    with torch.no_grad():\n",
        "        # loop test loader\n",
        "        for batch_x, batch_y in loader:\n",
        "            # move data to cuda for faster processing\n",
        "            batch_x, batch_y = batch_x.to(device), batch_y.to(device)\n",
        "\n",
        "            # get the predictions\n",
        "            outputs = model(batch_x)\n",
        "            # get the predicted class\n",
        "            _, preds = torch.max(outputs, 1)\n",
        "\n",
        "            # this lists will save the category name to display the results\n",
        "            # in the confusion matrix using labels instead of indices\n",
        "            # using cpu().numpy() to avoid an error for using cuda as device\n",
        "            # for computing other heavy processes\n",
        "\n",
        "            # add prediction to list\n",
        "            all_preds.extend([labels[pred] for pred in preds.cpu().numpy()])\n",
        "            # add actual label to list\n",
        "            all_labels.extend([labels[label] for label in batch_y.cpu().numpy()])\n",
        "\n",
        "    # calculate confusion matrix using all labels and all predictions\n",
        "    cm = confusion_matrix(all_labels, all_preds)\n",
        "\n",
        "    # plot the confusion matrix\n",
        "    plt.figure(figsize=(8, 6))\n",
        "    skplt.metrics.plot_confusion_matrix(all_labels, all_preds, cmap=\"Greens\", labels=labels)\n",
        "    plt.title(\"Confusion Matrix\")\n",
        "    plt.show()"
      ]
    },
    {
      "cell_type": "markdown",
      "source": [
        "## **Plot confusion matrix**"
      ],
      "metadata": {
        "id": "qqtoj77PCMZS"
      },
      "id": "qqtoj77PCMZS"
    },
    {
      "cell_type": "code",
      "source": [
        "conf_matrix(model, test_loader)"
      ],
      "metadata": {
        "colab": {
          "base_uri": "https://localhost:8080/",
          "height": 489
        },
        "id": "z1GRSpf879SC",
        "outputId": "97127bc9-9372-41d2-bb91-2d6f28aa4548"
      },
      "id": "z1GRSpf879SC",
      "execution_count": 55,
      "outputs": [
        {
          "output_type": "display_data",
          "data": {
            "text/plain": [
              "<Figure size 800x600 with 0 Axes>"
            ]
          },
          "metadata": {}
        },
        {
          "output_type": "display_data",
          "data": {
            "text/plain": [
              "<Figure size 640x480 with 2 Axes>"
            ],
            "image/png": "[encoded data removed]"
          },
          "metadata": {}
        }
      ]
    }
  ],
  "metadata": {
    "colab": {
      "provenance": [],
      "gpuType": "T4"
    },
    "kernelspec": {
      "display_name": "Python 3",
      "name": "python3"
    },
    "language_info": {
      "codemirror_mode": {
        "name": "ipython",
        "version": 3
      },
      "file_extension": ".py",
      "mimetype": "text/x-python",
      "name": "python",
      "nbconvert_exporter": "python",
      "pygments_lexer": "ipython3",
      "version": "3.12.7"
    },
    "varInspector": {
      "cols": {
        "lenName": 16,
        "lenType": 16,
        "lenVar": 40
      },
      "kernels_config": {
        "python": {
          "delete_cmd_postfix": "",
          "delete_cmd_prefix": "del ",
          "library": "var_list.py",
          "varRefreshCmd": "print(var_dic_list())"
        },
        "r": {
          "delete_cmd_postfix": ") ",
          "delete_cmd_prefix": "rm(",
          "library": "var_list.r",
          "varRefreshCmd": "cat(var_dic_list()) "
        }
      },
      "types_to_exclude": [
        "module",
        "function",
        "builtin_function_or_method",
        "instance",
        "_Feature"
      ],
      "window_display": false
    },
    "accelerator": "GPU"
  },
  "nbformat": 4,
  "nbformat_minor": 5
}