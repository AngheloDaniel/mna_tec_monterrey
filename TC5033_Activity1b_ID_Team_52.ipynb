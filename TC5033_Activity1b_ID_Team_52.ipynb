{
  "cells": [
    {
      "cell_type": "markdown",
      "metadata": {
        "id": "_mN_MxdW5l0D"
      },
      "source": [
        "## Team members\n",
        "\n",
        "\n",
        "*   Anghelo Daniel Pérez Martínez (A01795323)\n",
        "*   Luis Daniel Ortega Muñoz (A01795197)\n",
        "*   Emil Khaleb Palomino Bruzzón (A00826811)\n",
        "*   José de Jesús Peña Rodríguez (A01794940)\n",
        "*   Gerardo Miguel Pérez Solis (A01795599)\n",
        "\n"
      ]
    },
    {
      "cell_type": "markdown",
      "metadata": {
        "id": "vsD-5EiOayhv"
      },
      "source": [
        "# TC 5033\n",
        "## Deep Learning\n",
        "## Fully Connected Deep Neural Networks\n",
        "\n",
        "#### Activity 1b: Implementing a Fully Connected Network for Kaggle ASL Dataset\n",
        "\n",
        "- Objective\n",
        "\n",
        "The aim of this part of the activity is to apply your understanding of Fully Connected Networks by implementing a multilayer network for the [Kaggle ASL (American Sign Language) dataset](https://www.kaggle.com/datasets/grassknoted/asl-alphabet). While you have been provided with a complete solution for a Fully Connected Network using Numpy for the MNIST dataset, you are encouraged to try to come up with the solution.\n",
        "\n",
        "- Instructions\n",
        "\n",
        "    This activity requires submission in teams of 3 or 4 members. Submissions from smaller or larger teams will not be accepted unless prior approval has been granted (only due to exceptional circumstances). While teamwork is encouraged, each member is expected to contribute individually to the assignment. The final submission should feature the best arguments and solutions from each team member. Only one person per team needs to submit the completed work, but it is imperative that the names of all team members are listed in a Markdown cell at the very beginning of the notebook (either the first or second cell). Failure to include all team member names will result in the grade being awarded solely to the individual who submitted the assignment, with zero points given to other team members (no exceptions will be made to this rule).\n",
        "\n",
        "    Load and Preprocess Data: You are provided a starter code to load the data. Be sure to understand the code.\n",
        "\n",
        "    Review MNIST Notebook (Optional): Before diving into this activity, you have the option to revisit the MNIST example to refresh your understanding of how to build a Fully Connected Network using Numpy.\n",
        "\n",
        "    Start Fresh: Although you can refer to the MNIST solution at any point, try to implement the network for the ASL dataset on your own. This will reinforce your learning and understanding of the architecture and mathematics involved.\n",
        "\n",
        "    Implement Forward and Backward Pass: Write the code to perform the forward and backward passes, keeping in mind the specific challenges and characteristics of the ASL dataset.\n",
        "    \n",
        "     Design the Network: Create the architecture of the Fully Connected Network tailored for the ASL dataset. Choose the number of hidden layers, neurons, and hyperparameters judiciously.\n",
        "\n",
        "    Train the Model: Execute the training loop, ensuring to track performance metrics such as loss and accuracy.\n",
        "\n",
        "    Analyze and Document: Use Markdown cells to document in detail the choices you made in terms of architecture and hyperparameters, you may use figures, equations, etc to aid in your explanations. Include any metrics that help justify these choices and discuss the model's performance.  \n",
        "\n",
        "- Evaluation Criteria\n",
        "\n",
        "    - Code Readability and Comments\n",
        "    - Appropriateness of chosen architecture and hyperparameters for the ASL dataset\n",
        "    - Performance of the model on the ASL dataset (at least 70% acc)\n",
        "    - Quality of Markdown documentation\n",
        "\n",
        "- Submission\n",
        "\n",
        "Submit this Jupyter Notebook in canvas with your complete solution, ensuring your code is well-commented and includes Markdown cells that explain your design choices, results, and any challenges you encountered.\n"
      ]
    },
    {
      "cell_type": "markdown",
      "source": [
        "## Required imports"
      ],
      "metadata": {
        "id": "hJxvnuY6SDqX"
      }
    },
    {
      "cell_type": "code",
      "execution_count": null,
      "metadata": {
        "id": "8nWXvowFayh5",
        "colab": {
          "base_uri": "https://localhost:8080/"
        },
        "outputId": "a883f927-e233-4bf1-cd90-8b4789dea1a6"
      },
      "outputs": [
        {
          "output_type": "stream",
          "name": "stdout",
          "text": [
            "The autoreload extension is already loaded. To reload it, use:\n",
            "  %reload_ext autoreload\n"
          ]
        }
      ],
      "source": [
        "import numpy as np\n",
        "import string\n",
        "import pandas as pd\n",
        "import matplotlib.pyplot as plt\n",
        "import cv2 as cv\n",
        "import os\n",
        "\n",
        "%load_ext autoreload\n",
        "%autoreload 2\n",
        "#################################\n",
        "%matplotlib inline\n"
      ]
    },
    {
      "cell_type": "markdown",
      "metadata": {
        "id": "c0urRxnKIUnq"
      },
      "source": [
        "## Loading the dataset"
      ]
    },
    {
      "cell_type": "markdown",
      "source": [
        "Run the following cell when running this in Google Colab."
      ],
      "metadata": {
        "id": "EC0pA6VMP1fP"
      }
    },
    {
      "cell_type": "code",
      "source": [
        "from google.colab import drive\n",
        "drive.mount('/content/drive')"
      ],
      "metadata": {
        "colab": {
          "base_uri": "https://localhost:8080/"
        },
        "id": "rs0GY1UjJVBB",
        "outputId": "4011bd1f-d86d-4584-9945-700549541028"
      },
      "execution_count": null,
      "outputs": [
        {
          "output_type": "stream",
          "name": "stdout",
          "text": [
            "Drive already mounted at /content/drive; to attempt to forcibly remount, call drive.mount(\"/content/drive\", force_remount=True).\n"
          ]
        }
      ]
    },
    {
      "cell_type": "markdown",
      "source": [
        "Set the `DATA_PATH` to the path of the base `asl_data` directory. Then, load both the train and validation datasets into a pandas `DataFrame`."
      ],
      "metadata": {
        "id": "ZmIwnasSP5ds"
      }
    },
    {
      "cell_type": "code",
      "execution_count": null,
      "metadata": {
        "id": "T8-4ffnFayh8"
      },
      "outputs": [],
      "source": [
        "# Don't forget to update this to reflect your execution environment!\n",
        "DATA_PATH = '/content/drive/MyDrive/Team_52/Activity_1b/asl_data'\n",
        "\n",
        "train_df = pd.read_csv(os.path.join(DATA_PATH, 'sign_mnist_train.csv'))\n",
        "valid_df = pd.read_csv(os.path.join(DATA_PATH, 'sign_mnist_valid.csv'))"
      ]
    },
    {
      "cell_type": "code",
      "execution_count": null,
      "metadata": {
        "colab": {
          "base_uri": "https://localhost:8080/",
          "height": 256
        },
        "id": "Yz2ya9Z-ayh9",
        "outputId": "be329dfa-1624-4c57-c14f-800d1c13619d"
      },
      "outputs": [
        {
          "output_type": "execute_result",
          "data": {
            "text/plain": [
              "   label  pixel1  pixel2  pixel3  pixel4  pixel5  pixel6  pixel7  pixel8  \\\n",
              "0      3     107     118     127     134     139     143     146     150   \n",
              "1      6     155     157     156     156     156     157     156     158   \n",
              "2      2     187     188     188     187     187     186     187     188   \n",
              "3      2     211     211     212     212     211     210     211     210   \n",
              "4     12     164     167     170     172     176     179     180     184   \n",
              "\n",
              "   pixel9  ...  pixel775  pixel776  pixel777  pixel778  pixel779  pixel780  \\\n",
              "0     153  ...       207       207       207       207       206       206   \n",
              "1     158  ...        69       149       128        87        94       163   \n",
              "2     187  ...       202       201       200       199       198       199   \n",
              "3     210  ...       235       234       233       231       230       226   \n",
              "4     185  ...        92       105       105       108       133       163   \n",
              "\n",
              "   pixel781  pixel782  pixel783  pixel784  \n",
              "0       206       204       203       202  \n",
              "1       175       103       135       149  \n",
              "2       198       195       194       195  \n",
              "3       225       222       229       163  \n",
              "4       157       163       164       179  \n",
              "\n",
              "[5 rows x 785 columns]"
            ],
            "text/html": [
              "\n",
              "  <div id=\"df-7b200856-d4fd-4c0a-a951-97167404d892\" class=\"colab-df-container\">\n",
              "    <div>\n",
              "<style scoped>\n",
              "    .dataframe tbody tr th:only-of-type {\n",
              "        vertical-align: middle;\n",
              "    }\n",
              "\n",
              "    .dataframe tbody tr th {\n",
              "        vertical-align: top;\n",
              "    }\n",
              "\n",
              "    .dataframe thead th {\n",
              "        text-align: right;\n",
              "    }\n",
              "</style>\n",
              "<table border=\"1\" class=\"dataframe\">\n",
              "  <thead>\n",
              "    <tr style=\"text-align: right;\">\n",
              "      <th></th>\n",
              "      <th>label</th>\n",
              "      <th>pixel1</th>\n",
              "      <th>pixel2</th>\n",
              "      <th>pixel3</th>\n",
              "      <th>pixel4</th>\n",
              "      <th>pixel5</th>\n",
              "      <th>pixel6</th>\n",
              "      <th>pixel7</th>\n",
              "      <th>pixel8</th>\n",
              "      <th>pixel9</th>\n",
              "      <th>...</th>\n",
              "      <th>pixel775</th>\n",
              "      <th>pixel776</th>\n",
              "      <th>pixel777</th>\n",
              "      <th>pixel778</th>\n",
              "      <th>pixel779</th>\n",
              "      <th>pixel780</th>\n",
              "      <th>pixel781</th>\n",
              "      <th>pixel782</th>\n",
              "      <th>pixel783</th>\n",
              "      <th>pixel784</th>\n",
              "    </tr>\n",
              "  </thead>\n",
              "  <tbody>\n",
              "    <tr>\n",
              "      <th>0</th>\n",
              "      <td>3</td>\n",
              "      <td>107</td>\n",
              "      <td>118</td>\n",
              "      <td>127</td>\n",
              "      <td>134</td>\n",
              "      <td>139</td>\n",
              "      <td>143</td>\n",
              "      <td>146</td>\n",
              "      <td>150</td>\n",
              "      <td>153</td>\n",
              "      <td>...</td>\n",
              "      <td>207</td>\n",
              "      <td>207</td>\n",
              "      <td>207</td>\n",
              "      <td>207</td>\n",
              "      <td>206</td>\n",
              "      <td>206</td>\n",
              "      <td>206</td>\n",
              "      <td>204</td>\n",
              "      <td>203</td>\n",
              "      <td>202</td>\n",
              "    </tr>\n",
              "    <tr>\n",
              "      <th>1</th>\n",
              "      <td>6</td>\n",
              "      <td>155</td>\n",
              "      <td>157</td>\n",
              "      <td>156</td>\n",
              "      <td>156</td>\n",
              "      <td>156</td>\n",
              "      <td>157</td>\n",
              "      <td>156</td>\n",
              "      <td>158</td>\n",
              "      <td>158</td>\n",
              "      <td>...</td>\n",
              "      <td>69</td>\n",
              "      <td>149</td>\n",
              "      <td>128</td>\n",
              "      <td>87</td>\n",
              "      <td>94</td>\n",
              "      <td>163</td>\n",
              "      <td>175</td>\n",
              "      <td>103</td>\n",
              "      <td>135</td>\n",
              "      <td>149</td>\n",
              "    </tr>\n",
              "    <tr>\n",
              "      <th>2</th>\n",
              "      <td>2</td>\n",
              "      <td>187</td>\n",
              "      <td>188</td>\n",
              "      <td>188</td>\n",
              "      <td>187</td>\n",
              "      <td>187</td>\n",
              "      <td>186</td>\n",
              "      <td>187</td>\n",
              "      <td>188</td>\n",
              "      <td>187</td>\n",
              "      <td>...</td>\n",
              "      <td>202</td>\n",
              "      <td>201</td>\n",
              "      <td>200</td>\n",
              "      <td>199</td>\n",
              "      <td>198</td>\n",
              "      <td>199</td>\n",
              "      <td>198</td>\n",
              "      <td>195</td>\n",
              "      <td>194</td>\n",
              "      <td>195</td>\n",
              "    </tr>\n",
              "    <tr>\n",
              "      <th>3</th>\n",
              "      <td>2</td>\n",
              "      <td>211</td>\n",
              "      <td>211</td>\n",
              "      <td>212</td>\n",
              "      <td>212</td>\n",
              "      <td>211</td>\n",
              "      <td>210</td>\n",
              "      <td>211</td>\n",
              "      <td>210</td>\n",
              "      <td>210</td>\n",
              "      <td>...</td>\n",
              "      <td>235</td>\n",
              "      <td>234</td>\n",
              "      <td>233</td>\n",
              "      <td>231</td>\n",
              "      <td>230</td>\n",
              "      <td>226</td>\n",
              "      <td>225</td>\n",
              "      <td>222</td>\n",
              "      <td>229</td>\n",
              "      <td>163</td>\n",
              "    </tr>\n",
              "    <tr>\n",
              "      <th>4</th>\n",
              "      <td>12</td>\n",
              "      <td>164</td>\n",
              "      <td>167</td>\n",
              "      <td>170</td>\n",
              "      <td>172</td>\n",
              "      <td>176</td>\n",
              "      <td>179</td>\n",
              "      <td>180</td>\n",
              "      <td>184</td>\n",
              "      <td>185</td>\n",
              "      <td>...</td>\n",
              "      <td>92</td>\n",
              "      <td>105</td>\n",
              "      <td>105</td>\n",
              "      <td>108</td>\n",
              "      <td>133</td>\n",
              "      <td>163</td>\n",
              "      <td>157</td>\n",
              "      <td>163</td>\n",
              "      <td>164</td>\n",
              "      <td>179</td>\n",
              "    </tr>\n",
              "  </tbody>\n",
              "</table>\n",
              "<p>5 rows × 785 columns</p>\n",
              "</div>\n",
              "    <div class=\"colab-df-buttons\">\n",
              "\n",
              "  <div class=\"colab-df-container\">\n",
              "    <button class=\"colab-df-convert\" onclick=\"convertToInteractive('df-7b200856-d4fd-4c0a-a951-97167404d892')\"\n",
              "            title=\"Convert this dataframe to an interactive table.\"\n",
              "            style=\"display:none;\">\n",
              "\n",
              "  <svg xmlns=\"http://www.w3.org/2000/svg\" height=\"24px\" viewBox=\"0 -960 960 960\">\n",
              "    <path d=\"M120-120v-720h720v720H120Zm60-500h600v-160H180v160Zm220 220h160v-160H400v160Zm0 220h160v-160H400v160ZM180-400h160v-160H180v160Zm440 0h160v-160H620v160ZM180-180h160v-160H180v160Zm440 0h160v-160H620v160Z\"/>\n",
              "  </svg>\n",
              "    </button>\n",
              "\n",
              "  <style>\n",
              "    .colab-df-container {\n",
              "      display:flex;\n",
              "      gap: 12px;\n",
              "    }\n",
              "\n",
              "    .colab-df-convert {\n",
              "      background-color: #E8F0FE;\n",
              "      border: none;\n",
              "      border-radius: 50%;\n",
              "      cursor: pointer;\n",
              "      display: none;\n",
              "      fill: #1967D2;\n",
              "      height: 32px;\n",
              "      padding: 0 0 0 0;\n",
              "      width: 32px;\n",
              "    }\n",
              "\n",
              "    .colab-df-convert:hover {\n",
              "      background-color: #E2EBFA;\n",
              "      box-shadow: 0px 1px 2px rgba(60, 64, 67, 0.3), 0px 1px 3px 1px rgba(60, 64, 67, 0.15);\n",
              "      fill: #174EA6;\n",
              "    }\n",
              "\n",
              "    .colab-df-buttons div {\n",
              "      margin-bottom: 4px;\n",
              "    }\n",
              "\n",
              "    [theme=dark] .colab-df-convert {\n",
              "      background-color: #3B4455;\n",
              "      fill: #D2E3FC;\n",
              "    }\n",
              "\n",
              "    [theme=dark] .colab-df-convert:hover {\n",
              "      background-color: #434B5C;\n",
              "      box-shadow: 0px 1px 3px 1px rgba(0, 0, 0, 0.15);\n",
              "      filter: drop-shadow(0px 1px 2px rgba(0, 0, 0, 0.3));\n",
              "      fill: #FFFFFF;\n",
              "    }\n",
              "  </style>\n",
              "\n",
              "    <script>\n",
              "      const buttonEl =\n",
              "        document.querySelector('#df-7b200856-d4fd-4c0a-a951-97167404d892 button.colab-df-convert');\n",
              "      buttonEl.style.display =\n",
              "        google.colab.kernel.accessAllowed ? 'block' : 'none';\n",
              "\n",
              "      async function convertToInteractive(key) {\n",
              "        const element = document.querySelector('#df-7b200856-d4fd-4c0a-a951-97167404d892');\n",
              "        const dataTable =\n",
              "          await google.colab.kernel.invokeFunction('convertToInteractive',\n",
              "                                                    [key], {});\n",
              "        if (!dataTable) return;\n",
              "\n",
              "        const docLinkHtml = 'Like what you see? Visit the ' +\n",
              "          '<a target=\"_blank\" href=https://colab.research.google.com/notebooks/data_table.ipynb>data table notebook</a>'\n",
              "          + ' to learn more about interactive tables.';\n",
              "        element.innerHTML = '';\n",
              "        dataTable['output_type'] = 'display_data';\n",
              "        await google.colab.output.renderOutput(dataTable, element);\n",
              "        const docLink = document.createElement('div');\n",
              "        docLink.innerHTML = docLinkHtml;\n",
              "        element.appendChild(docLink);\n",
              "      }\n",
              "    </script>\n",
              "  </div>\n",
              "\n",
              "\n",
              "<div id=\"df-ac07cdb2-5bd5-4388-85f7-2e029ead522d\">\n",
              "  <button class=\"colab-df-quickchart\" onclick=\"quickchart('df-ac07cdb2-5bd5-4388-85f7-2e029ead522d')\"\n",
              "            title=\"Suggest charts\"\n",
              "            style=\"display:none;\">\n",
              "\n",
              "<svg xmlns=\"http://www.w3.org/2000/svg\" height=\"24px\"viewBox=\"0 0 24 24\"\n",
              "     width=\"24px\">\n",
              "    <g>\n",
              "        <path d=\"M19 3H5c-1.1 0-2 .9-2 2v14c0 1.1.9 2 2 2h14c1.1 0 2-.9 2-2V5c0-1.1-.9-2-2-2zM9 17H7v-7h2v7zm4 0h-2V7h2v10zm4 0h-2v-4h2v4z\"/>\n",
              "    </g>\n",
              "</svg>\n",
              "  </button>\n",
              "\n",
              "<style>\n",
              "  .colab-df-quickchart {\n",
              "      --bg-color: #E8F0FE;\n",
              "      --fill-color: #1967D2;\n",
              "      --hover-bg-color: #E2EBFA;\n",
              "      --hover-fill-color: #174EA6;\n",
              "      --disabled-fill-color: #AAA;\n",
              "      --disabled-bg-color: #DDD;\n",
              "  }\n",
              "\n",
              "  [theme=dark] .colab-df-quickchart {\n",
              "      --bg-color: #3B4455;\n",
              "      --fill-color: #D2E3FC;\n",
              "      --hover-bg-color: #434B5C;\n",
              "      --hover-fill-color: #FFFFFF;\n",
              "      --disabled-bg-color: #3B4455;\n",
              "      --disabled-fill-color: #666;\n",
              "  }\n",
              "\n",
              "  .colab-df-quickchart {\n",
              "    background-color: var(--bg-color);\n",
              "    border: none;\n",
              "    border-radius: 50%;\n",
              "    cursor: pointer;\n",
              "    display: none;\n",
              "    fill: var(--fill-color);\n",
              "    height: 32px;\n",
              "    padding: 0;\n",
              "    width: 32px;\n",
              "  }\n",
              "\n",
              "  .colab-df-quickchart:hover {\n",
              "    background-color: var(--hover-bg-color);\n",
              "    box-shadow: 0 1px 2px rgba(60, 64, 67, 0.3), 0 1px 3px 1px rgba(60, 64, 67, 0.15);\n",
              "    fill: var(--button-hover-fill-color);\n",
              "  }\n",
              "\n",
              "  .colab-df-quickchart-complete:disabled,\n",
              "  .colab-df-quickchart-complete:disabled:hover {\n",
              "    background-color: var(--disabled-bg-color);\n",
              "    fill: var(--disabled-fill-color);\n",
              "    box-shadow: none;\n",
              "  }\n",
              "\n",
              "  .colab-df-spinner {\n",
              "    border: 2px solid var(--fill-color);\n",
              "    border-color: transparent;\n",
              "    border-bottom-color: var(--fill-color);\n",
              "    animation:\n",
              "      spin 1s steps(1) infinite;\n",
              "  }\n",
              "\n",
              "  @keyframes spin {\n",
              "    0% {\n",
              "      border-color: transparent;\n",
              "      border-bottom-color: var(--fill-color);\n",
              "      border-left-color: var(--fill-color);\n",
              "    }\n",
              "    20% {\n",
              "      border-color: transparent;\n",
              "      border-left-color: var(--fill-color);\n",
              "      border-top-color: var(--fill-color);\n",
              "    }\n",
              "    30% {\n",
              "      border-color: transparent;\n",
              "      border-left-color: var(--fill-color);\n",
              "      border-top-color: var(--fill-color);\n",
              "      border-right-color: var(--fill-color);\n",
              "    }\n",
              "    40% {\n",
              "      border-color: transparent;\n",
              "      border-right-color: var(--fill-color);\n",
              "      border-top-color: var(--fill-color);\n",
              "    }\n",
              "    60% {\n",
              "      border-color: transparent;\n",
              "      border-right-color: var(--fill-color);\n",
              "    }\n",
              "    80% {\n",
              "      border-color: transparent;\n",
              "      border-right-color: var(--fill-color);\n",
              "      border-bottom-color: var(--fill-color);\n",
              "    }\n",
              "    90% {\n",
              "      border-color: transparent;\n",
              "      border-bottom-color: var(--fill-color);\n",
              "    }\n",
              "  }\n",
              "</style>\n",
              "\n",
              "  <script>\n",
              "    async function quickchart(key) {\n",
              "      const quickchartButtonEl =\n",
              "        document.querySelector('#' + key + ' button');\n",
              "      quickchartButtonEl.disabled = true;  // To prevent multiple clicks.\n",
              "      quickchartButtonEl.classList.add('colab-df-spinner');\n",
              "      try {\n",
              "        const charts = await google.colab.kernel.invokeFunction(\n",
              "            'suggestCharts', [key], {});\n",
              "      } catch (error) {\n",
              "        console.error('Error during call to suggestCharts:', error);\n",
              "      }\n",
              "      quickchartButtonEl.classList.remove('colab-df-spinner');\n",
              "      quickchartButtonEl.classList.add('colab-df-quickchart-complete');\n",
              "    }\n",
              "    (() => {\n",
              "      let quickchartButtonEl =\n",
              "        document.querySelector('#df-ac07cdb2-5bd5-4388-85f7-2e029ead522d button');\n",
              "      quickchartButtonEl.style.display =\n",
              "        google.colab.kernel.accessAllowed ? 'block' : 'none';\n",
              "    })();\n",
              "  </script>\n",
              "</div>\n",
              "\n",
              "    </div>\n",
              "  </div>\n"
            ],
            "application/vnd.google.colaboratory.intrinsic+json": {
              "type": "dataframe",
              "variable_name": "train_df"
            }
          },
          "metadata": {},
          "execution_count": 15
        }
      ],
      "source": [
        "# Run this to get a preview of the first 5 elements of the train dataset.\n",
        "train_df.head()"
      ]
    },
    {
      "cell_type": "markdown",
      "metadata": {
        "id": "X6iO27Eiayh-"
      },
      "source": [
        "## Preparing the data"
      ]
    },
    {
      "cell_type": "markdown",
      "source": [
        "Separate the input features from the target label. This is done in the following steps for both the train and validation sets:\n",
        "1. Create a numpy array from the `label` column in the original sets and assign it to a variable (either `y_train` or `y_val`)\n",
        "2. Delete the `label` column from both data frames\n",
        "3. Convert each data frame into a numpy array and assign them to a variable (`x_train` and `x_val`)"
      ],
      "metadata": {
        "id": "fYlxkn5ePH6A"
      }
    },
    {
      "cell_type": "code",
      "execution_count": null,
      "metadata": {
        "id": "mo91d4aNayh-"
      },
      "outputs": [],
      "source": [
        "y_train = np.array(train_df['label'])\n",
        "y_val = np.array(valid_df['label'])\n",
        "del train_df['label']\n",
        "del valid_df['label']\n",
        "x_train = train_df.values.astype(np.float32)\n",
        "x_val = valid_df.values.astype(np.float32)"
      ]
    },
    {
      "cell_type": "markdown",
      "metadata": {
        "id": "cJcKe-yoDvdC"
      },
      "source": [
        "#### Splitting the validation and test datasets"
      ]
    },
    {
      "cell_type": "markdown",
      "source": [
        "Let's start by defining the `shuffle_dataset` utility function, which can be reused anytime `x` and `y` need to be shuffled."
      ],
      "metadata": {
        "id": "S-vjtpeiNa0s"
      }
    },
    {
      "cell_type": "code",
      "source": [
        "def shuffle_dataset(x, y):\n",
        "    \"\"\"Shuffles the dataset. The size of the input arrays must match, otherwise an error is thrown.\n",
        "\n",
        "    Args:\n",
        "        x: Input features.\n",
        "        y: Labels.\n",
        "\n",
        "    Returns:\n",
        "        Shuffled x and y.\n",
        "    \"\"\"\n",
        "    assert x.shape[0] == y.shape[0], 'The lenghts of x and y are not of the same.'\n",
        "\n",
        "    indexes = np.arange(x.shape[0])\n",
        "    np.random.shuffle(indexes)\n",
        "    shuffled_x = x[indexes]\n",
        "    shuffled_y = y[indexes]\n",
        "\n",
        "    return shuffled_x, shuffled_y"
      ],
      "metadata": {
        "id": "1NziBHHlMMbM"
      },
      "execution_count": null,
      "outputs": []
    },
    {
      "cell_type": "markdown",
      "source": [
        "Now, let's define the `split_val_test` function. It will receive the input features array `x`, and the labels array `y`.\n",
        "\n",
        "By default, it will split them such that half of the elements are used for validation and the other half comprises the test dataset, but this can be overriden by the `pct` variable, which takes a number between 0 and 1 representing the percentage of data that will be used for the test set, with the remainder being allocated as part of the validation set.\n",
        "\n",
        "This will additionally shuffle the input arrays before performing the split, unless the optional parameter `shuffle` is set to `False`."
      ],
      "metadata": {
        "id": "jZrq9io5NoG3"
      }
    },
    {
      "cell_type": "code",
      "execution_count": null,
      "metadata": {
        "code_folding": [],
        "id": "BYR3UFT7ayh_"
      },
      "outputs": [],
      "source": [
        "def split_val_test(x, y, pct=0.5, shuffle=True):\n",
        "    \"\"\"Splits a dataset into validation and test sets. The size of the input arrays must match, otherwise an error is thrown.\n",
        "\n",
        "    Args:\n",
        "        x: Input features.\n",
        "        y: Labels.\n",
        "        pct: Percentage of data to use for the test set. Default is 0.5.\n",
        "        shuffle: Whether to shuffle the data before splitting. Default is True.\n",
        "\n",
        "    Returns:\n",
        "        A tuple containing the test set features, test set labels, validation set\n",
        "        features, and validation set labels.\n",
        "    \"\"\"\n",
        "\n",
        "    # Ensure that the lenght of x and y are the same before proceeding\n",
        "    assert x.shape[0] == y.shape[0], 'The lenghts of x and y are not of the same.'\n",
        "\n",
        "    if shuffle:\n",
        "        x, y = shuffle_dataset(x, y)\n",
        "\n",
        "    # obtener la cantidad de datos que se asignarán para el conjunto prueba\n",
        "    cantidad_prueba = int(x.shape[0] * pct)\n",
        "\n",
        "    # dividir el conjunto original, primero asignar el conjunto prueba\n",
        "    x_test = x[:cantidad_prueba]\n",
        "    y_test = y[:cantidad_prueba]\n",
        "\n",
        "    # y después el conjunto de validación\n",
        "    x_val = x[cantidad_prueba:]\n",
        "    y_val = y[cantidad_prueba:]\n",
        "\n",
        "    return x_test, y_test, x_val, y_val"
      ]
    },
    {
      "cell_type": "code",
      "execution_count": null,
      "metadata": {
        "id": "GQPEqQoFayiA"
      },
      "outputs": [],
      "source": [
        "x_val, y_val, x_test, y_test = split_val_test(x_val, y_val)"
      ]
    },
    {
      "cell_type": "markdown",
      "metadata": {
        "id": "yO_5_VRhF9lY"
      },
      "source": [
        "We now need to create a way to convert from the original labels to the actual letters of the alphabet they represent. We can achieve this by creating a list in which the index of each letter corresponds to the label assigned to it in the dataset.\n",
        "\n",
        "Note: the original data set does not contain samples for the letters `j` and `z`, so we need to remove them from our alphabet."
      ]
    },
    {
      "cell_type": "code",
      "execution_count": null,
      "metadata": {
        "colab": {
          "base_uri": "https://localhost:8080/"
        },
        "id": "BXZFCGGLayiB",
        "outputId": "13143f45-a505-4732-8efd-9fff8b207f6c"
      },
      "outputs": [
        {
          "output_type": "stream",
          "name": "stdout",
          "text": [
            "24\n"
          ]
        }
      ],
      "source": [
        "alphabet = list(string.ascii_lowercase)\n",
        "alphabet.remove('j')\n",
        "alphabet.remove('z')\n",
        "print(len(alphabet))"
      ]
    },
    {
      "cell_type": "markdown",
      "metadata": {
        "id": "tsXeO9u0ayiD"
      },
      "source": [
        "### **Normalise**"
      ]
    },
    {
      "cell_type": "markdown",
      "metadata": {
        "id": "NxXG4DyrKdo4"
      },
      "source": [
        "Start by defining the normalization function."
      ]
    },
    {
      "cell_type": "code",
      "execution_count": null,
      "metadata": {
        "id": "tqqtqaEEKQ9q"
      },
      "outputs": [],
      "source": [
        "def normalise(x_mean, x_std, x):\n",
        "    \"\"\"Normalizes data using the mean and standard deviation.\n",
        "\n",
        "    Args:\n",
        "    x_mean: Mean of the data.\n",
        "    x_std: Standard deviation of the data.\n",
        "    x: Data to be normalized.\n",
        "\n",
        "    Returns:\n",
        "    Normalized data.\n",
        "    \"\"\"\n",
        "    return (x - x_mean) / x_std"
      ]
    },
    {
      "cell_type": "markdown",
      "metadata": {
        "id": "vSJRlpHRK6XA"
      },
      "source": [
        "Compute the mean and standard deviation for the train dataset."
      ]
    },
    {
      "cell_type": "code",
      "execution_count": null,
      "metadata": {
        "id": "_1VcGgxFK3aU"
      },
      "outputs": [],
      "source": [
        "x_mean = x_train.mean()\n",
        "x_std = x_train.std()"
      ]
    },
    {
      "cell_type": "markdown",
      "metadata": {
        "id": "bXUn_H7jLHiI"
      },
      "source": [
        "Use the computed values for the mean and standard deviation to normalise all of the `x` datasets.\n",
        "\n",
        "Be sure to use the mean and std. deviation values from the train dataset only; this will prevent data leakage."
      ]
    },
    {
      "cell_type": "code",
      "execution_count": null,
      "metadata": {
        "id": "rXqDNV-ELQKE"
      },
      "outputs": [],
      "source": [
        "x_train = normalise(x_mean, x_std, x_train)\n",
        "x_val = normalise(x_mean, x_std, x_val)\n",
        "x_test = normalise(x_mean, x_std, x_test)"
      ]
    },
    {
      "cell_type": "markdown",
      "metadata": {
        "id": "PDS_but3ayiE"
      },
      "source": [
        "## Plotting samples"
      ]
    },
    {
      "cell_type": "markdown",
      "metadata": {
        "id": "cIOkV09zLviK"
      },
      "source": [
        "Each of the samples is comprised of 784 columns, with each of them representing the value of a given pixel on a 28x28 representation of a letter in ASL. Using `matplotlib`, we can create a function that takes any sample from the dataset and plots its image representation.\n",
        "\n",
        "The following is the implementation for `plot_image`:"
      ]
    },
    {
      "cell_type": "code",
      "execution_count": null,
      "metadata": {
        "id": "IsMWFb4TNbRZ"
      },
      "outputs": [],
      "source": [
        "def plot_image(data, image_label):\n",
        "    \"\"\"\n",
        "    Plots the given data as an image.\n",
        "\n",
        "    Args:\n",
        "    x: The data to be rendered.\n",
        "    image_label: The corresponding label for the image.\n",
        "\n",
        "    Returns:\n",
        "    None\n",
        "\n",
        "    \"\"\"\n",
        "\n",
        "    # Convert the linear 1D array to a 2D array with each of the pixel values.\n",
        "    # For this specific problem, we know before-hand that the image should be of size 28x28.\n",
        "    img_array = data.reshape((28, 28))\n",
        "\n",
        "    # Then use matlplotlib to plot the given values in grayscale, alongside the title of the letter it represents.\n",
        "    plt.figure(figsize=(5,5))\n",
        "    plt.imshow(img_array, cmap='gray')\n",
        "    plt.title(f'Letter: {alphabet[image_label]}')\n",
        "    plt.show()"
      ]
    },
    {
      "cell_type": "markdown",
      "metadata": {
        "id": "ZSUEoezZiZS4"
      },
      "source": [
        "Now, let's take a random sample from the training set to verify that our `plot_image` function works as expected."
      ]
    },
    {
      "cell_type": "code",
      "execution_count": null,
      "metadata": {
        "colab": {
          "base_uri": "https://localhost:8080/",
          "height": 468
        },
        "id": "aTFVzMjBihR0",
        "outputId": "e74b0665-4b2b-44d5-81d0-eefbeaa5514f"
      },
      "outputs": [
        {
          "output_type": "display_data",
          "data": {
            "text/plain": [
              "<Figure size 500x500 with 1 Axes>"
            ],
            "image/png": "[encoded data removed]"
          },
          "metadata": {}
        }
      ],
      "source": [
        "random_id = np.random.randint(len(x_train))\n",
        "plot_image(x_train[random_id], y_train[random_id],)"
      ]
    },
    {
      "cell_type": "markdown",
      "metadata": {
        "id": "Bjhn9K6LayiE"
      },
      "source": [
        "## Model equations\n",
        "\n",
        "The following are the mathematical equations representing the model we will be training during this excercise:"
      ]
    },
    {
      "cell_type": "markdown",
      "source": [
        "1$$z^1 = W^1 X + b^1$$\n",
        "\n",
        "$$a^1 = ReLU(z^1) $$\n",
        "\n",
        "$$z^2 = W^2 a^1 + b^2$$\n",
        "\n",
        "$$\\hat{y} = \\frac{e^{z^{2_k}}}{\\sum_j{e^{z_j}}}$$\n",
        "\n",
        "\n",
        "$$ \\mathcal{L}(\\hat{y}^{i}, y^{i}) =  - y^{i}  \\ln(\\hat{y}^{i}) = -\\ln(\\hat{y}^i)$$\n",
        "\n",
        "\n",
        "$$ \\mathcal{J}(w, b) =  \\frac{1}{num\\_samples} \\sum_{i=1}^{num\\_samples}-\\ln(\\hat{y}^{i})$$"
      ],
      "metadata": {
        "id": "V8TXj_uIY7mN"
      }
    },
    {
      "cell_type": "markdown",
      "metadata": {
        "id": "7w0A0atjayiF"
      },
      "source": [
        "## Additional functions"
      ]
    },
    {
      "cell_type": "markdown",
      "metadata": {
        "id": "CrzmmgI4ayiF"
      },
      "source": [
        "### Mini batches"
      ]
    },
    {
      "cell_type": "markdown",
      "metadata": {
        "id": "qp3611fRkYHD"
      },
      "source": [
        "The `create_minibatches` function is used during training to improve performance by randomly splitting the data into smaller groups (i.e., batches).\n",
        "\n",
        "This function will return smaller batches of `x` and `y` with each containing at most `mb_size` items. Note that the returning value is a generator, which means that the batches won't be allocated until the results are iterated."
      ]
    },
    {
      "cell_type": "code",
      "execution_count": null,
      "metadata": {
        "id": "VIcXUewoayiF"
      },
      "outputs": [],
      "source": [
        "def create_minibatches(mb_size, x, y, shuffle = True):\n",
        "    \"\"\"\n",
        "    Divides the data into smaller groups (mini-batches) for training.\n",
        "\n",
        "    Args:\n",
        "      mb_size: Mini-batch size.\n",
        "      x: Input data.\n",
        "      y: Labels.\n",
        "      shuffle: Whether to shuffle the data before creating mini-batches.\n",
        "               Defaults to True.\n",
        "\n",
        "    Returns:\n",
        "      A generator that yields mini-batches of data.\n",
        "    \"\"\"\n",
        "\n",
        "    # Throw an error if the sizes of x and y don't match\n",
        "    assert x.shape[0] == y.shape[0], 'The lenghts of x and y are not of the same.'\n",
        "\n",
        "    if shuffle:\n",
        "        x, y = shuffle_dataset(x, y)\n",
        "\n",
        "    total_data = x.shape[0]\n",
        "    return ((x[i:i+mb_size], y[i:i+mb_size]) for i in range(0, total_data, mb_size))"
      ]
    },
    {
      "cell_type": "markdown",
      "metadata": {
        "id": "HK0kvK06ayiG"
      },
      "source": [
        "## Defining the Linear, ReLU, and Sequential classes"
      ]
    },
    {
      "cell_type": "markdown",
      "source": [
        "Before creating and training our model, we first need to implement the python classes that will represent the different entities within our model. Because we are working with a multilayer fully connected neural network, we need to define the objects representing the neural network and each layer whithin it; as well as the ReLU implementation. All of them will implement the forward and backward passes.\n",
        "\n",
        "The `np_tensor` class is defined in order to be able to add attributes at runtime without changing the underlying tensor; in this case weight and bias attributes."
      ],
      "metadata": {
        "id": "CVj0PzFTEJ97"
      }
    },
    {
      "cell_type": "code",
      "execution_count": null,
      "metadata": {
        "id": "1kAYLjxabJIk"
      },
      "outputs": [],
      "source": [
        "class np_tensor(np.ndarray): pass"
      ]
    },
    {
      "cell_type": "markdown",
      "metadata": {
        "id": "Zr2UzvPNayiG"
      },
      "source": [
        "###  **Linear class**\n",
        "\n",
        "The `Linear` class will represent a layer in our neural network. It is initialized with the input and output sizes. The initial weights are randomized using Kaiming He initialization, while biases are initially zero.\n",
        "\n",
        "The forward pass can be invoked by calling the object as a function (which in turn calls the `__call__` method), while the backward pass can be invoked with the `backward` function.\n",
        "\n",
        "Esta clase representará una capa lineal en una red neuronal, es decir, que está complementamente conectada. El método forward propagará hacia adelante el producto punto de W x + b. Mientras que el método backward ajustará los parámetros para disminuir el costo."
      ]
    },
    {
      "cell_type": "code",
      "execution_count": null,
      "metadata": {
        "id": "Qp_Q_jvimjde"
      },
      "outputs": [],
      "source": [
        "\"\"\"\n",
        "The Linear class represents a single layer in a neural network. Each layer will be comprised of the weights and biases.\n",
        "\"\"\"\n",
        "class Linear():\n",
        "\n",
        "    def __init__(self, input_size, output_size):\n",
        "        \"\"\"\n",
        "        Initializes a new instance of the neural network layer with the provided input and output sizes.\n",
        "        \"\"\"\n",
        "        self.W = (np.random.randn(output_size, input_size) / np.sqrt(input_size/2)).view(np_tensor)\n",
        "        self.b = (np.zeros((output_size, 1))).view(np_tensor)\n",
        "\n",
        "\n",
        "    def __call__(self, X):\n",
        "        \"\"\"\n",
        "        Applies the forward pass of the neural network layer.\n",
        "        This consists of the cross product of the weights and the input, and adding the bias.\n",
        "        \"\"\"\n",
        "        Z = self.W @ X + self.b\n",
        "        return Z\n",
        "\n",
        "\n",
        "    def backward(self, X, Z):\n",
        "        \"\"\"\n",
        "        Applies the backward pass of the neural network layer to adjust the weights and biases.\n",
        "        \"\"\"\n",
        "        X.grad = self.W.T @ Z.grad\n",
        "        self.W.grad = Z.grad @ X.T\n",
        "        self.b.grad = np.sum(Z.grad, axis = 1, keepdims=True)"
      ]
    },
    {
      "cell_type": "markdown",
      "metadata": {
        "id": "Ns4H_OONayiG"
      },
      "source": [
        "### **ReLU class**\n",
        "\n",
        "Next is the implementation of the ReLU function, also known as Rectified Linear Unit activation function.\n",
        "\n",
        "In the forward pass, it will activate only if the given value is greater than zero.\n",
        "\n",
        "In the backward pass, it will"
      ]
    },
    {
      "cell_type": "code",
      "execution_count": null,
      "metadata": {
        "id": "roGYn9Hcvjbw"
      },
      "outputs": [],
      "source": [
        "'''\n",
        "Implementation of the Rectified Linear Unit activation function\n",
        "'''\n",
        "class ReLU():\n",
        "    def __call__(self, Z):\n",
        "        \"\"\"\n",
        "        Forward pass, applies the activation function. Will return the input if it is greater than zero; otherwise zero.\n",
        "        \"\"\"\n",
        "        return np.maximum(0, Z)\n",
        "\n",
        "\n",
        "    def backward(self, Z, A):\n",
        "        \"\"\"\n",
        "        Backward pass, updates the gradients based on the activation function.\n",
        "        \"\"\"\n",
        "        Z.grad = A.grad.copy()\n",
        "        Z.grad[Z <= 0] = 0"
      ]
    },
    {
      "cell_type": "markdown",
      "metadata": {
        "id": "lOyUbgqFayiH"
      },
      "source": [
        "### **SequentialLayers class**\n",
        "\n",
        "The `SequentialLayers` class will represent the whole neural network, and can be used to interact with it.\n",
        "\n",
        "For this problem, the layers can be a neuron layer represented by a `Linear` instance, or an activation layer represented by a `ReLU` instance."
      ]
    },
    {
      "cell_type": "code",
      "execution_count": null,
      "metadata": {
        "id": "pBBJyczAzMDV"
      },
      "outputs": [],
      "source": [
        "'''\n",
        "Represents a neural network, comprised of sequential layers.\n",
        "Also provides methods to update it, predict a label and to perform forward and backward passes.\n",
        "'''\n",
        "class SequentialLayers():\n",
        "\n",
        "    def __init__(self, layers):\n",
        "        \"\"\"\n",
        "        Initializes a new instance of the neural network with the provided layers.\n",
        "        Layers can be either Linear or ReLU instances.\n",
        "        \"\"\"\n",
        "        self.layers = layers\n",
        "        self.x = None\n",
        "        self.outputs = {}\n",
        "\n",
        "    def __call__(self, X):\n",
        "        \"\"\"\n",
        "        Performs a forward pass with the provided input to the neural network.\n",
        "        \"\"\"\n",
        "\n",
        "        # Initializes the outputs of the input layer to be the provided input\n",
        "        self.x = X\n",
        "        self.outputs['l0'] = self.x\n",
        "\n",
        "        # For each layer, update the current value of x, and also store it in the outputs dictionary for future reference.\n",
        "        for i, layer in enumerate(self.layers, 1):\n",
        "            self.x = layer(self.x)\n",
        "            self.outputs['l'+str(i)] = self.x\n",
        "\n",
        "        # self.x will be the output for the last layer.\n",
        "        return self.x\n",
        "\n",
        "\n",
        "    def backward(self):\n",
        "        \"\"\"\n",
        "        Performs a backward pass to update the weights and biases of the neural network.\n",
        "        This works by iterating the layers in reverse and calling their backward methods.\n",
        "        \"\"\"\n",
        "        for i in reversed(range(len(self.layers))): #  recorre las capas en orden inverso\n",
        "            # llama al método backward de la capa que se está trabajando\n",
        "            self.layers[i].backward(self.outputs['l'+str(i)], self.outputs['l'+str(i+1)])\n",
        "\n",
        "    def update(self, learning_rate = 1e-3):\n",
        "        \"\"\"\n",
        "        Updates the weights and biases of each layer in the neural network\n",
        "        based on the gradients and the learning rate.\n",
        "        \"\"\"\n",
        "        for layer in self.layers:\n",
        "            # Skip ReLU instances\n",
        "            if isinstance(layer, ReLU): continue\n",
        "\n",
        "            layer.W = layer.W - learning_rate * layer.W.grad\n",
        "            layer.b = layer.b - learning_rate * layer.b.grad\n",
        "\n",
        "    def predict(self, X):\n",
        "        \"\"\"\n",
        "        Performs a forward pass based on the provided input to predict the label.\n",
        "        \"\"\"\n",
        "        return np.argmax(self.__call__(X))"
      ]
    },
    {
      "cell_type": "markdown",
      "metadata": {
        "id": "K6861bcXayiH"
      },
      "source": [
        "### Cost Function\n",
        "\n",
        "For the cost function used during training, we will implement a softmax cross entropy function. It will\n",
        "\n",
        "Se creará la función **softmaxXEntropy** la cual convertirá los valores de salida de la red en la probabilidad de que cada una sea la clase correcta, además, mide la discrepancia entre las predicciones y la clase correcta."
      ]
    },
    {
      "cell_type": "code",
      "execution_count": null,
      "metadata": {
        "id": "EMH-WlF82pqP"
      },
      "outputs": [],
      "source": [
        "'''\n",
        "Softmax cross entropy function to be used as the cost function during training.\n",
        "Softmax takes the outputs of the network and converts them into probabilities,\n",
        "while cross entropy measures the difference between the predicted probabilities and the true labels.\n",
        "'''\n",
        "def softmaxXEntropy(x, y):\n",
        "    # Softmax probabilities\n",
        "    batch_size = x.shape[1]\n",
        "    exp_scores = np.exp(x)\n",
        "    probs = exp_scores / exp_scores.sum(axis = 0)\n",
        "    preds = probs.copy()\n",
        "\n",
        "    # Cross entropy loss\n",
        "    y_hat = probs[y.squeeze(), np.arange(batch_size)]\n",
        "    cost = np.sum(-np.log(y_hat)) / batch_size\n",
        "\n",
        "    # Update gradients of x\n",
        "    probs[y.squeeze(), np.arange(batch_size)] -= 1\n",
        "    x.grad = probs.copy()\n",
        "\n",
        "    return preds, cost\n"
      ]
    },
    {
      "cell_type": "markdown",
      "source": [
        "### Accuracy function\n",
        "\n",
        "The following is the accuracy function that will be used as our target to optimize against during training. The accuracy is defined as the ratio of correct predictions divided by the total amount of predictions."
      ],
      "metadata": {
        "id": "iNGg1DPqPWSZ"
      }
    },
    {
      "cell_type": "code",
      "execution_count": null,
      "metadata": {
        "id": "FWz_TZFC7oCV"
      },
      "outputs": [],
      "source": [
        "def accuracy(x, y, mb_size):\n",
        "    correct = 0\n",
        "    total = 0\n",
        "\n",
        "    # Create minibatches and\n",
        "    for i, (x, y) in enumerate(create_minibatches(mb_size, x, y)):\n",
        "        pred = model(x.T.view(np_tensor))\n",
        "\n",
        "        # Correct predictions are the ones in which the maximum value in the output layer of the model\n",
        "        # corresponds to the actual labels\n",
        "        correct += np.sum(np.argmax(pred, axis=0) == y.squeeze()) # predicciones correctas\n",
        "        total += pred.shape[1] # numero total de predicciones\n",
        "\n",
        "    return correct/total"
      ]
    },
    {
      "cell_type": "markdown",
      "metadata": {
        "id": "psDGbdVWayiH"
      },
      "source": [
        "### **Training loop**\n",
        "\n",
        "Now, let's implement the main training function. During each epoch (the number of which are defined by the user), this will:\n",
        "- Create the micro-batches from the input data and the given value of `mb_size` (or default to 128)\n",
        "- Perform a forward pass through the network\n",
        "- Compute the cost using the `softm\n",
        "\n",
        "En esta sección, creamos dos funciones, train y accuracy\n",
        "\n",
        "**train** entrenará al modelo utilizando los datos de entrenamiento durante el número de ciclos o epocas que hayamos definido, además, actualizará los pesos de cada capa despues de procesar cada mini batch\n",
        "\n",
        "**accuracy** calculará la precisión del modelo comparando las predicciones con las etiquetas reales"
      ]
    },
    {
      "cell_type": "code",
      "execution_count": null,
      "metadata": {
        "id": "M2o7JeB468OD"
      },
      "outputs": [],
      "source": [
        "def train(model, epochs, mb_size=128, learning_rate = 1e-3):\n",
        "    \"\"\"Trains the neural network model using the training data.\n",
        "\n",
        "    Args:\n",
        "      model: The neural network model to train.\n",
        "      epochs: The number of training epochs.\n",
        "      mb_size: The mini-batch size. Default is 128.\n",
        "      learning_rate: The learning rate for updating the model weights.\n",
        "                      Default is 1e-3.\n",
        "\n",
        "    Returns:\n",
        "      None\n",
        "    \"\"\"\n",
        "    for epoch in range(epochs): # un ciclo de la cantidad de epocas definidas por el usuario\n",
        "        for i, (x, y) in enumerate(create_minibatches(mb_size, x_train, y_train)): # se crean los mini batches y se crea un ciclo de la cantidad creada\n",
        "            scores = model(x.T.view(np_tensor)) #  # forward pass\n",
        "            _, cost = softmaxXEntropy(scores, y) # aplicar softmax cross entropy para obtener probabilidades\n",
        "            model.backward() # se llama el método backward del modelo\n",
        "            model.update(learning_rate) # se actualizan los parametros\n",
        "\n",
        "        # At the end of each epoch, print the cost and accuracy for that given iteration.\n",
        "        print(f'cost: {cost}, accuracy: {accuracy(x_val, y_val, mb_size)}')"
      ]
    },
    {
      "cell_type": "markdown",
      "metadata": {
        "id": "ssNzLpmJayiH"
      },
      "source": [
        "## Create your model and train it"
      ]
    },
    {
      "cell_type": "markdown",
      "source": [
        "### Model description"
      ],
      "metadata": {
        "id": "PENyaRaG75F5"
      }
    },
    {
      "cell_type": "markdown",
      "metadata": {
        "id": "ykvqh75WxJ3B"
      },
      "source": [
        "The ML model that will be used consists of a deep neural network. This model will consist of an input layer of size 784 (one for each feature in the dataset), 4 hidden layers and an output layer of size 24 (one for each of the labels in the dataset).\n",
        "\n",
        "### **Modelo e hiperparámetros**\n",
        "\n",
        "# Descripción del modelo\n",
        "\n",
        "El modelo tiene **4 capas ocultas** y **24 neuronas en la capa de salida**.\n",
        "\n",
        "### Capas ocultas:\n",
        "- **Capa 1**: 512 neuronas (784 -> 512)\n",
        "- **Capa 2**: 256 neuronas (512 -> 256)\n",
        "- **Capa 3**: 128 neuronas (256 -> 128)\n",
        "- **Capa 4**: 64 neuronas (128 -> 64)\n",
        "\n",
        "### Capa de salida:\n",
        "- La última capa tiene **24 neuronas** (64 -> 24), debido a que estamos reconociendo 24 letras del alfabeto, ya que se eliminaron las letras 'j' y 'z'.\n",
        "\n",
        "### Parámetros del modelo:\n",
        "- **Batch size**: 128 (para lograr una mejor generalización y evitar el ruido)\n",
        "- **Learning rate**: 1e-3\n",
        "- **Número de epochs**: 20\n"
      ]
    },
    {
      "cell_type": "code",
      "execution_count": null,
      "metadata": {
        "colab": {
          "base_uri": "https://localhost:8080/"
        },
        "id": "r3CREAWfayiI",
        "outputId": "ae898572-a6ad-44ec-d129-5188ff73ab01"
      },
      "outputs": [
        {
          "output_type": "stream",
          "name": "stdout",
          "text": [
            "costo: 0.015240141635396807, accuracy: 0.7785833798103736\n",
            "costo: 0.0033027783291856567, accuracy: 0.7769102063580591\n",
            "costo: 0.002824279000483069, accuracy: 0.7766313441160066\n",
            "costo: 0.0015859648711529272, accuracy: 0.7805354155047407\n",
            "costo: 0.0009277558142859593, accuracy: 0.7791411042944786\n",
            "costo: 0.0006137787028369813, accuracy: 0.7783045175683212\n",
            "costo: 0.00065674788574971, accuracy: 0.7799776910206359\n",
            "costo: 0.0006205321965322455, accuracy: 0.7788622420524262\n",
            "costo: 0.000662970056122667, accuracy: 0.7788622420524262\n",
            "costo: 0.0003729247235296015, accuracy: 0.7788622420524262\n",
            "costo: 0.0005385568302487026, accuracy: 0.7796988287785834\n",
            "costo: 0.00032199065071871684, accuracy: 0.7791411042944786\n",
            "costo: 0.0002985052971665559, accuracy: 0.7802565532626883\n",
            "costo: 0.00030876722601601726, accuracy: 0.7802565532626883\n",
            "costo: 0.00025440752005357145, accuracy: 0.7805354155047407\n",
            "costo: 0.00034803793623413844, accuracy: 0.7802565532626883\n",
            "costo: 0.00012301166256457327, accuracy: 0.7808142777467931\n",
            "costo: 0.00020524958364734862, accuracy: 0.7802565532626883\n",
            "costo: 0.00018179023148512085, accuracy: 0.7791411042944786\n",
            "costo: 0.00021843767612281568, accuracy: 0.7805354155047407\n"
          ]
        }
      ],
      "source": [
        "model = SequentialLayers([ # Definimos un modelo secuencial multicapa\n",
        "    Linear(784, 512), ReLU(),\n",
        "    Linear(512, 256), ReLU(),\n",
        "    Linear(256, 128), ReLU(),\n",
        "    Linear(128, 64), ReLU(),\n",
        "    Linear(64, 24)\n",
        "])\n",
        "\n",
        "mb_size = 128\n",
        "learning_rate = 0.001\n",
        "epochs = 20\n",
        "train(model, epochs, mb_size, learning_rate)"
      ]
    },
    {
      "cell_type": "markdown",
      "metadata": {
        "id": "Xf6kCIaoIUnx"
      },
      "source": [
        "## Results\n",
        "\n",
        "- **Accuracy** en los datos de validación: **0.814**\n",
        "- **Accuracy** en los datos de prueba: **0.81176**\n",
        "- **Función de costo**: **0.00047**"
      ]
    },
    {
      "cell_type": "code",
      "execution_count": null,
      "metadata": {
        "colab": {
          "base_uri": "https://localhost:8080/"
        },
        "id": "c25cZyE3cLJj",
        "outputId": "c94494f9-673f-41e3-f338-78f4dfcd7b4c"
      },
      "outputs": [
        {
          "output_type": "stream",
          "name": "stdout",
          "text": [
            "0.7911321807027328\n"
          ]
        }
      ],
      "source": [
        "print(accuracy(x_test, y_test, mb_size))"
      ]
    },
    {
      "cell_type": "markdown",
      "metadata": {
        "id": "DpyqgDB4ayiJ"
      },
      "source": [
        "### Test your model on Random data from your test set"
      ]
    },
    {
      "cell_type": "code",
      "execution_count": null,
      "metadata": {
        "colab": {
          "base_uri": "https://localhost:8080/",
          "height": 485
        },
        "id": "fElqZmddayiJ",
        "outputId": "74c9a5f4-eb6c-40d1-8d17-5dc3626c3489"
      },
      "outputs": [
        {
          "output_type": "display_data",
          "data": {
            "text/plain": [
              "<Figure size 500x500 with 1 Axes>"
            ],
            "image/png": "[encoded data removed]"
          },
          "metadata": {}
        },
        {
          "output_type": "stream",
          "name": "stdout",
          "text": [
            "el valor predicho es: y el valor real es: y\n"
          ]
        }
      ],
      "source": [
        "idx = np.random.randint(len(y_test))  # Generamos un índice aleatorio para seleccionar una imagen al azar\n",
        "plot_image(x_test[idx].reshape(28, 28), y_test[idx])  # Mostramos la imagen\n",
        "pred = model.predict(x_test[idx].reshape(-1, 1))  # Realizamos una predicción con el modelo sobre la imagen seleccionada\n",
        "\n",
        "# Imprimimos el valor predicho y el valor real de la etiqueta\n",
        "print(f'el valor predicho es: {alphabet[pred]} el valor real es: {alphabet[y_test[idx]]}')\n"
      ]
    },
    {
      "cell_type": "markdown",
      "metadata": {
        "id": "BDz2kPQoIUny"
      },
      "source": [
        "# Experimentación usando la funcion de Keras"
      ]
    },
    {
      "cell_type": "code",
      "execution_count": null,
      "metadata": {
        "id": "sAfb17WBIUny",
        "outputId": "c1a56e99-330a-42a9-f3cc-4536bd467b0a",
        "colab": {
          "base_uri": "https://localhost:8080/"
        }
      },
      "outputs": [
        {
          "output_type": "stream",
          "name": "stderr",
          "text": [
            "/usr/local/lib/python3.10/dist-packages/keras/src/layers/core/dense.py:87: UserWarning: Do not pass an `input_shape`/`input_dim` argument to a layer. When using Sequential models, prefer using an `Input(shape)` object as the first layer in the model instead.\n",
            "  super().__init__(activity_regularizer=activity_regularizer, **kwargs)\n"
          ]
        }
      ],
      "source": [
        "from tensorflow.keras.models import Sequential\n",
        "from tensorflow.keras.layers import Dense\n",
        "\n",
        "model_2 = Sequential()\n",
        "\n",
        "# Capa oculta con funcion RELU\n",
        "model_2.add(Dense(units=512, activation='relu', input_shape=(784,)))  # Capa densa con 512 neuronas\n",
        "\n",
        "# Agregamos las capas ocultas\n",
        "model_2.add(Dense(units=256, activation='relu'))  # Capa con 256 neuronas\n",
        "model_2.add(Dense(units=128, activation='relu'))  # Capa  con 128 neuronas\n",
        "model_2.add(Dense(units=64, activation='relu'))   # Capa con 64 neuronas\n",
        "\n",
        "# Capa de salida (para clasificación)\n",
        "model_2.add(Dense(units=24, activation='softmax'))  # 24 unidades para 24 letras\n"
      ]
    },
    {
      "cell_type": "markdown",
      "metadata": {
        "id": "bwYH7tNLIUny"
      },
      "source": [
        "### **Loop de entrenamiento**"
      ]
    },
    {
      "cell_type": "code",
      "execution_count": null,
      "metadata": {
        "id": "i2AL4YcbIUny",
        "outputId": "afe25e40-64c7-4bea-e5ad-0f19c84667db",
        "colab": {
          "base_uri": "https://localhost:8080/"
        }
      },
      "outputs": [
        {
          "output_type": "stream",
          "name": "stdout",
          "text": [
            "Epoch 1/20\n",
            "\u001b[1m215/215\u001b[0m \u001b[32m━━━━━━━━━━━━━━━━━━━━\u001b[0m\u001b[37m\u001b[0m \u001b[1m10s\u001b[0m 29ms/step - accuracy: 0.6463 - loss: 1.2173 - val_accuracy: 0.8020 - val_loss: 0.7811\n",
            "Epoch 2/20\n",
            "\u001b[1m215/215\u001b[0m \u001b[32m━━━━━━━━━━━━━━━━━━━━\u001b[0m\u001b[37m\u001b[0m \u001b[1m11s\u001b[0m 31ms/step - accuracy: 0.9874 - loss: 0.0522 - val_accuracy: 0.7337 - val_loss: 1.2011\n",
            "Epoch 3/20\n",
            "\u001b[1m215/215\u001b[0m \u001b[32m━━━━━━━━━━━━━━━━━━━━\u001b[0m\u001b[37m\u001b[0m \u001b[1m7s\u001b[0m 15ms/step - accuracy: 0.9885 - loss: 0.0382 - val_accuracy: 0.7928 - val_loss: 1.0096\n",
            "Epoch 4/20\n",
            "\u001b[1m215/215\u001b[0m \u001b[32m━━━━━━━━━━━━━━━━━━━━\u001b[0m\u001b[37m\u001b[0m \u001b[1m5s\u001b[0m 24ms/step - accuracy: 0.9950 - loss: 0.0188 - val_accuracy: 0.7716 - val_loss: 1.1644\n",
            "Epoch 5/20\n",
            "\u001b[1m215/215\u001b[0m \u001b[32m━━━━━━━━━━━━━━━━━━━━\u001b[0m\u001b[37m\u001b[0m \u001b[1m4s\u001b[0m 20ms/step - accuracy: 0.9924 - loss: 0.0268 - val_accuracy: 0.8093 - val_loss: 0.9821\n",
            "Epoch 6/20\n",
            "\u001b[1m215/215\u001b[0m \u001b[32m━━━━━━━━━━━━━━━━━━━━\u001b[0m\u001b[37m\u001b[0m \u001b[1m4s\u001b[0m 20ms/step - accuracy: 1.0000 - loss: 1.7758e-04 - val_accuracy: 0.8090 - val_loss: 0.9902\n",
            "Epoch 7/20\n",
            "\u001b[1m215/215\u001b[0m \u001b[32m━━━━━━━━━━━━━━━━━━━━\u001b[0m\u001b[37m\u001b[0m \u001b[1m5s\u001b[0m 23ms/step - accuracy: 1.0000 - loss: 9.1930e-05 - val_accuracy: 0.8107 - val_loss: 1.0049\n",
            "Epoch 8/20\n",
            "\u001b[1m215/215\u001b[0m \u001b[32m━━━━━━━━━━━━━━━━━━━━\u001b[0m\u001b[37m\u001b[0m \u001b[1m6s\u001b[0m 26ms/step - accuracy: 1.0000 - loss: 6.2620e-05 - val_accuracy: 0.8118 - val_loss: 1.0199\n",
            "Epoch 9/20\n",
            "\u001b[1m215/215\u001b[0m \u001b[32m━━━━━━━━━━━━━━━━━━━━\u001b[0m\u001b[37m\u001b[0m \u001b[1m9s\u001b[0m 22ms/step - accuracy: 1.0000 - loss: 4.9188e-05 - val_accuracy: 0.8123 - val_loss: 1.0320\n",
            "Epoch 10/20\n",
            "\u001b[1m215/215\u001b[0m \u001b[32m━━━━━━━━━━━━━━━━━━━━\u001b[0m\u001b[37m\u001b[0m \u001b[1m7s\u001b[0m 29ms/step - accuracy: 1.0000 - loss: 4.0457e-05 - val_accuracy: 0.8140 - val_loss: 1.0432\n",
            "Epoch 11/20\n",
            "\u001b[1m215/215\u001b[0m \u001b[32m━━━━━━━━━━━━━━━━━━━━\u001b[0m\u001b[37m\u001b[0m \u001b[1m9s\u001b[0m 20ms/step - accuracy: 1.0000 - loss: 3.1642e-05 - val_accuracy: 0.8137 - val_loss: 1.0546\n",
            "Epoch 12/20\n",
            "\u001b[1m215/215\u001b[0m \u001b[32m━━━━━━━━━━━━━━━━━━━━\u001b[0m\u001b[37m\u001b[0m \u001b[1m5s\u001b[0m 25ms/step - accuracy: 1.0000 - loss: 2.6677e-05 - val_accuracy: 0.8132 - val_loss: 1.0653\n",
            "Epoch 13/20\n",
            "\u001b[1m215/215\u001b[0m \u001b[32m━━━━━━━━━━━━━━━━━━━━\u001b[0m\u001b[37m\u001b[0m \u001b[1m5s\u001b[0m 21ms/step - accuracy: 1.0000 - loss: 2.2832e-05 - val_accuracy: 0.8126 - val_loss: 1.0753\n",
            "Epoch 14/20\n",
            "\u001b[1m215/215\u001b[0m \u001b[32m━━━━━━━━━━━━━━━━━━━━\u001b[0m\u001b[37m\u001b[0m \u001b[1m4s\u001b[0m 21ms/step - accuracy: 1.0000 - loss: 1.8672e-05 - val_accuracy: 0.8140 - val_loss: 1.0842\n",
            "Epoch 15/20\n",
            "\u001b[1m215/215\u001b[0m \u001b[32m━━━━━━━━━━━━━━━━━━━━\u001b[0m\u001b[37m\u001b[0m \u001b[1m5s\u001b[0m 22ms/step - accuracy: 1.0000 - loss: 1.6109e-05 - val_accuracy: 0.8129 - val_loss: 1.0942\n",
            "Epoch 16/20\n",
            "\u001b[1m215/215\u001b[0m \u001b[32m━━━━━━━━━━━━━━━━━━━━\u001b[0m\u001b[37m\u001b[0m \u001b[1m4s\u001b[0m 19ms/step - accuracy: 1.0000 - loss: 1.4168e-05 - val_accuracy: 0.8129 - val_loss: 1.1039\n",
            "Epoch 17/20\n",
            "\u001b[1m215/215\u001b[0m \u001b[32m━━━━━━━━━━━━━━━━━━━━\u001b[0m\u001b[37m\u001b[0m \u001b[1m4s\u001b[0m 17ms/step - accuracy: 1.0000 - loss: 1.2202e-05 - val_accuracy: 0.8140 - val_loss: 1.1129\n",
            "Epoch 18/20\n",
            "\u001b[1m215/215\u001b[0m \u001b[32m━━━━━━━━━━━━━━━━━━━━\u001b[0m\u001b[37m\u001b[0m \u001b[1m6s\u001b[0m 19ms/step - accuracy: 1.0000 - loss: 1.1020e-05 - val_accuracy: 0.8140 - val_loss: 1.1229\n",
            "Epoch 19/20\n",
            "\u001b[1m215/215\u001b[0m \u001b[32m━━━━━━━━━━━━━━━━━━━━\u001b[0m\u001b[37m\u001b[0m \u001b[1m5s\u001b[0m 20ms/step - accuracy: 1.0000 - loss: 9.2896e-06 - val_accuracy: 0.8140 - val_loss: 1.1311\n",
            "Epoch 20/20\n",
            "\u001b[1m215/215\u001b[0m \u001b[32m━━━━━━━━━━━━━━━━━━━━\u001b[0m\u001b[37m\u001b[0m \u001b[1m3s\u001b[0m 15ms/step - accuracy: 1.0000 - loss: 8.1556e-06 - val_accuracy: 0.8143 - val_loss: 1.1400\n"
          ]
        }
      ],
      "source": [
        "model_2.compile(optimizer='adam',\n",
        "              loss='sparse_categorical_crossentropy',\n",
        "              metrics=['accuracy'])\n",
        "\n",
        "\n",
        "history = model_2.fit(x_train, y_train,\n",
        "                    batch_size=128,\n",
        "                    epochs=20,\n",
        "                    validation_data=(x_val, y_val))"
      ]
    },
    {
      "cell_type": "markdown",
      "metadata": {
        "id": "sbE0yXBpIUny"
      },
      "source": [
        "# Comentarios\n",
        "\n",
        "El modelo arroja resultados de **accuracy** similares utilizando la librería Keras en comparación con las funciones creadas en nuestro modelo. Ambas implementaciones lograron un **accuracy** en los datos de validación no mayor a **0.814**.\n"
      ]
    }
  ],
  "metadata": {
    "colab": {
      "provenance": [],
      "toc_visible": true
    },
    "kernelspec": {
      "display_name": "Python 3 (ipykernel)",
      "language": "python",
      "name": "python3"
    },
    "language_info": {
      "codemirror_mode": {
        "name": "ipython",
        "version": 3
      },
      "file_extension": ".py",
      "mimetype": "text/x-python",
      "name": "python",
      "nbconvert_exporter": "python",
      "pygments_lexer": "ipython3",
      "version": "3.11.7"
    },
    "toc": {
      "base_numbering": 1,
      "nav_menu": {},
      "number_sections": true,
      "sideBar": true,
      "skip_h1_title": false,
      "title_cell": "Table of Contents",
      "title_sidebar": "Contents",
      "toc_cell": false,
      "toc_position": {},
      "toc_section_display": true,
      "toc_window_display": false
    },
    "varInspector": {
      "cols": {
        "lenName": 16,
        "lenType": 16,
        "lenVar": 40
      },
      "kernels_config": {
        "python": {
          "delete_cmd_postfix": "",
          "delete_cmd_prefix": "del ",
          "library": "var_list.py",
          "varRefreshCmd": "print(var_dic_list())"
        },
        "r": {
          "delete_cmd_postfix": ") ",
          "delete_cmd_prefix": "rm(",
          "library": "var_list.r",
          "varRefreshCmd": "cat(var_dic_list()) "
        }
      },
      "types_to_exclude": [
        "module",
        "function",
        "builtin_function_or_method",
        "instance",
        "_Feature"
      ],
      "window_display": false
    }
  },
  "nbformat": 4,
  "nbformat_minor": 0
}