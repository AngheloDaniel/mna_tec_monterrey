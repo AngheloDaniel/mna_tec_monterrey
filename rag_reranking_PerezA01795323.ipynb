{
  "cells": [
    {
      "cell_type": "markdown",
      "id": "07557e5a",
      "metadata": {
        "id": "07557e5a"
      },
      "source": [
        "# Introduction to reranking: an advanced RAG technique"
      ]
    },
    {
      "cell_type": "markdown",
      "id": "0b780d1b",
      "metadata": {
        "id": "0b780d1b"
      },
      "source": [
        "In this notebook, you will test an advanced RAG technique: using a reranker (CrossEncoder model) to improve the retrieval of news in a RAG pipeline.\n",
        "\n",
        "The notebook is partially filled with code. You will complete it by writing the missing code, running evaluations, and comparing results."
      ]
    },
    {
      "cell_type": "markdown",
      "id": "dbd78911",
      "metadata": {
        "id": "dbd78911"
      },
      "source": [
        "# 📌 Objectives\n",
        "\n",
        "By the end of this notebook, students will be able to:\n",
        "\n",
        "1. **Create and Use a Synthetic Evaluation Dataset:**\n",
        "   - Automatically generate natural language questions corresponding to news articles using an LLM.\n",
        "   - Construct a test set to assess the quality of retrieved answers.\n",
        "\n",
        "2. **Evaluate Baseline RAG Performance Without Reranking:**\n",
        "   - Measure how often the original article appears in the top-k results using FAISS alone.\n",
        "   - Record retrieval accuracy and position for each query.\n",
        "\n",
        "3. **Apply a Cross-Encoder Reranker to Improve Retrieval:**\n",
        "   - Use a pretrained CrossEncoder model to rerank top FAISS results.\n",
        "   - Evaluate improvements in the ranking of correct articles after reranking.\n",
        "\n",
        "4. **Compare Retrieval Performance With and Without Reranking:**\n",
        "   - Compute and visualize differences in rank positions before and after reranking.\n",
        "   - Analyze statistical improvements (e.g., average rank, frequency at position 0).\n",
        "\n",
        "5. **Reflect on the Impact of Reranking in RAG Pipelines:**\n",
        "   - Discuss how reranking enhances retrieval quality in a RAG context.\n",
        "   - Identify scenarios where reranking may offer the most value, and propose further improvements.\n"
      ]
    },
    {
      "cell_type": "markdown",
      "id": "fb80062c",
      "metadata": {
        "id": "fb80062c"
      },
      "source": [
        "## Install and Import librairies\n",
        "Run the following cell to install required libraries. These include `sentence-transformers` for embeddings and reranking, and `faiss-cpu` for vector similarity search."
      ]
    },
    {
      "cell_type": "code",
      "execution_count": null,
      "id": "8881fdc9",
      "metadata": {
        "id": "8881fdc9"
      },
      "outputs": [],
      "source": [
        "%pip install sentence-transformers\n",
        "%pip install faiss-cpu"
      ]
    },
    {
      "cell_type": "code",
      "execution_count": 2,
      "id": "b1e3b9a4",
      "metadata": {
        "id": "b1e3b9a4"
      },
      "outputs": [],
      "source": [
        "from sentence_transformers import SentenceTransformer\n",
        "from sklearn.metrics.pairwise import cosine_similarity\n",
        "from collections import Counter\n",
        "from openai import OpenAI\n",
        "\n",
        "import faiss\n",
        "import pandas as pd\n",
        "import numpy as np\n",
        "import matplotlib.pyplot as plt"
      ]
    },
    {
      "cell_type": "markdown",
      "id": "d6a240f6",
      "metadata": {
        "id": "d6a240f6"
      },
      "source": [
        "## Load S&P 500 news\n",
        "We will work with a dataset of financial news headlines and summaries. You will:\n",
        " - Load the data\n",
        " - Convert the publication date column to datetime\n",
        " - Drop duplicate summaries"
      ]
    },
    {
      "cell_type": "code",
      "source": [
        "from google.colab import drive\n",
        "drive.mount('/content/drive')"
      ],
      "metadata": {
        "colab": {
          "base_uri": "https://localhost:8080/"
        },
        "id": "GQq5Q_7QTDHl",
        "outputId": "12c68892-a553-4400-b17d-0f3458f25273"
      },
      "id": "GQq5Q_7QTDHl",
      "execution_count": 3,
      "outputs": [
        {
          "output_type": "stream",
          "name": "stdout",
          "text": [
            "Mounted at /content/drive\n"
          ]
        }
      ]
    },
    {
      "cell_type": "code",
      "source": [
        "file_path = '/content/drive/MyDrive/Colab Notebooks/MNA/Fintech/Week 3/df_news.csv'"
      ],
      "metadata": {
        "id": "CX8QDMquTEXw"
      },
      "id": "CX8QDMquTEXw",
      "execution_count": 4,
      "outputs": []
    },
    {
      "cell_type": "code",
      "execution_count": 5,
      "id": "2a8fac52",
      "metadata": {
        "colab": {
          "base_uri": "https://localhost:8080/",
          "height": 458
        },
        "id": "2a8fac52",
        "outputId": "a24cf5e7-03e3-4092-9eba-763baf87fa24"
      },
      "outputs": [
        {
          "output_type": "display_data",
          "data": {
            "text/plain": [
              "     TICKER                                              TITLE  \\\n",
              "0       MMM  2 Dow Jones Stocks with Promising Prospects an...   \n",
              "1       MMM               3 S&P 500 Stocks Skating on Thin Ice   \n",
              "2       MMM  3M Rises 15.8% YTD: Should You Buy the Stock N...   \n",
              "3       MMM  Q1 Earnings Roundup: 3M (NYSE:MMM) And The Res...   \n",
              "4       MMM  3 Cash-Producing Stocks with Questionable Fund...   \n",
              "...     ...                                                ...   \n",
              "4866    ZTS  2 Dividend Stocks to Buy With $500 and Hold Fo...   \n",
              "4867    ZTS  Zoetis (NYSE:ZTS) Declares US$0.50 Dividend Pe...   \n",
              "4868    ZTS  Jim Cramer on Zoetis (ZTS): “It Does Seem to B...   \n",
              "4869    ZTS           Zoetis (ZTS) Upgraded to Buy: Here's Why   \n",
              "4870    ZTS  ZTS Q1 Earnings Call: Guidance Raised as Platf...   \n",
              "\n",
              "                                                SUMMARY PUBLICATION_DATE  \\\n",
              "0     The Dow Jones (^DJI) is made up of 30 of the m...       2025-05-29   \n",
              "1     The S&P 500 (^GSPC) is often seen as a benchma...       2025-05-27   \n",
              "2     MMM is making strides in the aerospace, indust...       2025-05-22   \n",
              "3     Quarterly earnings results are a good time to ...       2025-05-22   \n",
              "4     While strong cash flow is a key indicator of s...       2025-05-19   \n",
              "...                                                 ...              ...   \n",
              "4866  Zoetis is a leading animal health company with...       2025-05-23   \n",
              "4867  Zoetis (NYSE:ZTS) recently affirmed a dividend...       2025-05-22   \n",
              "4868  We recently published a list of Jim Cramer Tal...       2025-05-21   \n",
              "4869  Zoetis (ZTS) might move higher on growing opti...       2025-05-21   \n",
              "4870  Animal health company Zoetis (NYSE:ZTS) report...       2025-05-19   \n",
              "\n",
              "             PROVIDER                                                URL  \n",
              "0          StockStory  https://finance.yahoo.com/news/2-dow-jones-sto...  \n",
              "1          StockStory  https://finance.yahoo.com/news/3-p-500-stocks-...  \n",
              "2               Zacks  https://finance.yahoo.com/news/3m-rises-15-8-y...  \n",
              "3          StockStory  https://finance.yahoo.com/news/q1-earnings-rou...  \n",
              "4          StockStory  https://finance.yahoo.com/news/3-cash-producin...  \n",
              "...               ...                                                ...  \n",
              "4866      Motley Fool  https://www.fool.com/investing/2025/05/23/2-di...  \n",
              "4867  Simply Wall St.  https://finance.yahoo.com/news/zoetis-nyse-zts...  \n",
              "4868   Insider Monkey  https://finance.yahoo.com/news/jim-cramer-zoet...  \n",
              "4869            Zacks  https://finance.yahoo.com/news/zoetis-zts-upgr...  \n",
              "4870       StockStory  https://finance.yahoo.com/news/zts-q1-earnings...  \n",
              "\n",
              "[4871 rows x 6 columns]"
            ],
            "text/html": [
              "\n",
              "  <div id=\"df-25b72d02-46f8-4d00-9722-de314737f05b\" class=\"colab-df-container\">\n",
              "    <div>\n",
              "<style scoped>\n",
              "    .dataframe tbody tr th:only-of-type {\n",
              "        vertical-align: middle;\n",
              "    }\n",
              "\n",
              "    .dataframe tbody tr th {\n",
              "        vertical-align: top;\n",
              "    }\n",
              "\n",
              "    .dataframe thead th {\n",
              "        text-align: right;\n",
              "    }\n",
              "</style>\n",
              "<table border=\"1\" class=\"dataframe\">\n",
              "  <thead>\n",
              "    <tr style=\"text-align: right;\">\n",
              "      <th></th>\n",
              "      <th>TICKER</th>\n",
              "      <th>TITLE</th>\n",
              "      <th>SUMMARY</th>\n",
              "      <th>PUBLICATION_DATE</th>\n",
              "      <th>PROVIDER</th>\n",
              "      <th>URL</th>\n",
              "    </tr>\n",
              "  </thead>\n",
              "  <tbody>\n",
              "    <tr>\n",
              "      <th>0</th>\n",
              "      <td>MMM</td>\n",
              "      <td>2 Dow Jones Stocks with Promising Prospects an...</td>\n",
              "      <td>The Dow Jones (^DJI) is made up of 30 of the m...</td>\n",
              "      <td>2025-05-29</td>\n",
              "      <td>StockStory</td>\n",
              "      <td>https://finance.yahoo.com/news/2-dow-jones-sto...</td>\n",
              "    </tr>\n",
              "    <tr>\n",
              "      <th>1</th>\n",
              "      <td>MMM</td>\n",
              "      <td>3 S&amp;P 500 Stocks Skating on Thin Ice</td>\n",
              "      <td>The S&amp;P 500 (^GSPC) is often seen as a benchma...</td>\n",
              "      <td>2025-05-27</td>\n",
              "      <td>StockStory</td>\n",
              "      <td>https://finance.yahoo.com/news/3-p-500-stocks-...</td>\n",
              "    </tr>\n",
              "    <tr>\n",
              "      <th>2</th>\n",
              "      <td>MMM</td>\n",
              "      <td>3M Rises 15.8% YTD: Should You Buy the Stock N...</td>\n",
              "      <td>MMM is making strides in the aerospace, indust...</td>\n",
              "      <td>2025-05-22</td>\n",
              "      <td>Zacks</td>\n",
              "      <td>https://finance.yahoo.com/news/3m-rises-15-8-y...</td>\n",
              "    </tr>\n",
              "    <tr>\n",
              "      <th>3</th>\n",
              "      <td>MMM</td>\n",
              "      <td>Q1 Earnings Roundup: 3M (NYSE:MMM) And The Res...</td>\n",
              "      <td>Quarterly earnings results are a good time to ...</td>\n",
              "      <td>2025-05-22</td>\n",
              "      <td>StockStory</td>\n",
              "      <td>https://finance.yahoo.com/news/q1-earnings-rou...</td>\n",
              "    </tr>\n",
              "    <tr>\n",
              "      <th>4</th>\n",
              "      <td>MMM</td>\n",
              "      <td>3 Cash-Producing Stocks with Questionable Fund...</td>\n",
              "      <td>While strong cash flow is a key indicator of s...</td>\n",
              "      <td>2025-05-19</td>\n",
              "      <td>StockStory</td>\n",
              "      <td>https://finance.yahoo.com/news/3-cash-producin...</td>\n",
              "    </tr>\n",
              "    <tr>\n",
              "      <th>...</th>\n",
              "      <td>...</td>\n",
              "      <td>...</td>\n",
              "      <td>...</td>\n",
              "      <td>...</td>\n",
              "      <td>...</td>\n",
              "      <td>...</td>\n",
              "    </tr>\n",
              "    <tr>\n",
              "      <th>4866</th>\n",
              "      <td>ZTS</td>\n",
              "      <td>2 Dividend Stocks to Buy With $500 and Hold Fo...</td>\n",
              "      <td>Zoetis is a leading animal health company with...</td>\n",
              "      <td>2025-05-23</td>\n",
              "      <td>Motley Fool</td>\n",
              "      <td>https://www.fool.com/investing/2025/05/23/2-di...</td>\n",
              "    </tr>\n",
              "    <tr>\n",
              "      <th>4867</th>\n",
              "      <td>ZTS</td>\n",
              "      <td>Zoetis (NYSE:ZTS) Declares US$0.50 Dividend Pe...</td>\n",
              "      <td>Zoetis (NYSE:ZTS) recently affirmed a dividend...</td>\n",
              "      <td>2025-05-22</td>\n",
              "      <td>Simply Wall St.</td>\n",
              "      <td>https://finance.yahoo.com/news/zoetis-nyse-zts...</td>\n",
              "    </tr>\n",
              "    <tr>\n",
              "      <th>4868</th>\n",
              "      <td>ZTS</td>\n",
              "      <td>Jim Cramer on Zoetis (ZTS): “It Does Seem to B...</td>\n",
              "      <td>We recently published a list of Jim Cramer Tal...</td>\n",
              "      <td>2025-05-21</td>\n",
              "      <td>Insider Monkey</td>\n",
              "      <td>https://finance.yahoo.com/news/jim-cramer-zoet...</td>\n",
              "    </tr>\n",
              "    <tr>\n",
              "      <th>4869</th>\n",
              "      <td>ZTS</td>\n",
              "      <td>Zoetis (ZTS) Upgraded to Buy: Here's Why</td>\n",
              "      <td>Zoetis (ZTS) might move higher on growing opti...</td>\n",
              "      <td>2025-05-21</td>\n",
              "      <td>Zacks</td>\n",
              "      <td>https://finance.yahoo.com/news/zoetis-zts-upgr...</td>\n",
              "    </tr>\n",
              "    <tr>\n",
              "      <th>4870</th>\n",
              "      <td>ZTS</td>\n",
              "      <td>ZTS Q1 Earnings Call: Guidance Raised as Platf...</td>\n",
              "      <td>Animal health company Zoetis (NYSE:ZTS) report...</td>\n",
              "      <td>2025-05-19</td>\n",
              "      <td>StockStory</td>\n",
              "      <td>https://finance.yahoo.com/news/zts-q1-earnings...</td>\n",
              "    </tr>\n",
              "  </tbody>\n",
              "</table>\n",
              "<p>4871 rows × 6 columns</p>\n",
              "</div>\n",
              "    <div class=\"colab-df-buttons\">\n",
              "\n",
              "  <div class=\"colab-df-container\">\n",
              "    <button class=\"colab-df-convert\" onclick=\"convertToInteractive('df-25b72d02-46f8-4d00-9722-de314737f05b')\"\n",
              "            title=\"Convert this dataframe to an interactive table.\"\n",
              "            style=\"display:none;\">\n",
              "\n",
              "  <svg xmlns=\"http://www.w3.org/2000/svg\" height=\"24px\" viewBox=\"0 -960 960 960\">\n",
              "    <path d=\"M120-120v-720h720v720H120Zm60-500h600v-160H180v160Zm220 220h160v-160H400v160Zm0 220h160v-160H400v160ZM180-400h160v-160H180v160Zm440 0h160v-160H620v160ZM180-180h160v-160H180v160Zm440 0h160v-160H620v160Z\"/>\n",
              "  </svg>\n",
              "    </button>\n",
              "\n",
              "  <style>\n",
              "    .colab-df-container {\n",
              "      display:flex;\n",
              "      gap: 12px;\n",
              "    }\n",
              "\n",
              "    .colab-df-convert {\n",
              "      background-color: #E8F0FE;\n",
              "      border: none;\n",
              "      border-radius: 50%;\n",
              "      cursor: pointer;\n",
              "      display: none;\n",
              "      fill: #1967D2;\n",
              "      height: 32px;\n",
              "      padding: 0 0 0 0;\n",
              "      width: 32px;\n",
              "    }\n",
              "\n",
              "    .colab-df-convert:hover {\n",
              "      background-color: #E2EBFA;\n",
              "      box-shadow: 0px 1px 2px rgba(60, 64, 67, 0.3), 0px 1px 3px 1px rgba(60, 64, 67, 0.15);\n",
              "      fill: #174EA6;\n",
              "    }\n",
              "\n",
              "    .colab-df-buttons div {\n",
              "      margin-bottom: 4px;\n",
              "    }\n",
              "\n",
              "    [theme=dark] .colab-df-convert {\n",
              "      background-color: #3B4455;\n",
              "      fill: #D2E3FC;\n",
              "    }\n",
              "\n",
              "    [theme=dark] .colab-df-convert:hover {\n",
              "      background-color: #434B5C;\n",
              "      box-shadow: 0px 1px 3px 1px rgba(0, 0, 0, 0.15);\n",
              "      filter: drop-shadow(0px 1px 2px rgba(0, 0, 0, 0.3));\n",
              "      fill: #FFFFFF;\n",
              "    }\n",
              "  </style>\n",
              "\n",
              "    <script>\n",
              "      const buttonEl =\n",
              "        document.querySelector('#df-25b72d02-46f8-4d00-9722-de314737f05b button.colab-df-convert');\n",
              "      buttonEl.style.display =\n",
              "        google.colab.kernel.accessAllowed ? 'block' : 'none';\n",
              "\n",
              "      async function convertToInteractive(key) {\n",
              "        const element = document.querySelector('#df-25b72d02-46f8-4d00-9722-de314737f05b');\n",
              "        const dataTable =\n",
              "          await google.colab.kernel.invokeFunction('convertToInteractive',\n",
              "                                                    [key], {});\n",
              "        if (!dataTable) return;\n",
              "\n",
              "        const docLinkHtml = 'Like what you see? Visit the ' +\n",
              "          '<a target=\"_blank\" href=https://colab.research.google.com/notebooks/data_table.ipynb>data table notebook</a>'\n",
              "          + ' to learn more about interactive tables.';\n",
              "        element.innerHTML = '';\n",
              "        dataTable['output_type'] = 'display_data';\n",
              "        await google.colab.output.renderOutput(dataTable, element);\n",
              "        const docLink = document.createElement('div');\n",
              "        docLink.innerHTML = docLinkHtml;\n",
              "        element.appendChild(docLink);\n",
              "      }\n",
              "    </script>\n",
              "  </div>\n",
              "\n",
              "\n",
              "    <div id=\"df-720551e4-e369-493c-8e15-50ed3827dca9\">\n",
              "      <button class=\"colab-df-quickchart\" onclick=\"quickchart('df-720551e4-e369-493c-8e15-50ed3827dca9')\"\n",
              "                title=\"Suggest charts\"\n",
              "                style=\"display:none;\">\n",
              "\n",
              "<svg xmlns=\"http://www.w3.org/2000/svg\" height=\"24px\"viewBox=\"0 0 24 24\"\n",
              "     width=\"24px\">\n",
              "    <g>\n",
              "        <path d=\"M19 3H5c-1.1 0-2 .9-2 2v14c0 1.1.9 2 2 2h14c1.1 0 2-.9 2-2V5c0-1.1-.9-2-2-2zM9 17H7v-7h2v7zm4 0h-2V7h2v10zm4 0h-2v-4h2v4z\"/>\n",
              "    </g>\n",
              "</svg>\n",
              "      </button>\n",
              "\n",
              "<style>\n",
              "  .colab-df-quickchart {\n",
              "      --bg-color: #E8F0FE;\n",
              "      --fill-color: #1967D2;\n",
              "      --hover-bg-color: #E2EBFA;\n",
              "      --hover-fill-color: #174EA6;\n",
              "      --disabled-fill-color: #AAA;\n",
              "      --disabled-bg-color: #DDD;\n",
              "  }\n",
              "\n",
              "  [theme=dark] .colab-df-quickchart {\n",
              "      --bg-color: #3B4455;\n",
              "      --fill-color: #D2E3FC;\n",
              "      --hover-bg-color: #434B5C;\n",
              "      --hover-fill-color: #FFFFFF;\n",
              "      --disabled-bg-color: #3B4455;\n",
              "      --disabled-fill-color: #666;\n",
              "  }\n",
              "\n",
              "  .colab-df-quickchart {\n",
              "    background-color: var(--bg-color);\n",
              "    border: none;\n",
              "    border-radius: 50%;\n",
              "    cursor: pointer;\n",
              "    display: none;\n",
              "    fill: var(--fill-color);\n",
              "    height: 32px;\n",
              "    padding: 0;\n",
              "    width: 32px;\n",
              "  }\n",
              "\n",
              "  .colab-df-quickchart:hover {\n",
              "    background-color: var(--hover-bg-color);\n",
              "    box-shadow: 0 1px 2px rgba(60, 64, 67, 0.3), 0 1px 3px 1px rgba(60, 64, 67, 0.15);\n",
              "    fill: var(--button-hover-fill-color);\n",
              "  }\n",
              "\n",
              "  .colab-df-quickchart-complete:disabled,\n",
              "  .colab-df-quickchart-complete:disabled:hover {\n",
              "    background-color: var(--disabled-bg-color);\n",
              "    fill: var(--disabled-fill-color);\n",
              "    box-shadow: none;\n",
              "  }\n",
              "\n",
              "  .colab-df-spinner {\n",
              "    border: 2px solid var(--fill-color);\n",
              "    border-color: transparent;\n",
              "    border-bottom-color: var(--fill-color);\n",
              "    animation:\n",
              "      spin 1s steps(1) infinite;\n",
              "  }\n",
              "\n",
              "  @keyframes spin {\n",
              "    0% {\n",
              "      border-color: transparent;\n",
              "      border-bottom-color: var(--fill-color);\n",
              "      border-left-color: var(--fill-color);\n",
              "    }\n",
              "    20% {\n",
              "      border-color: transparent;\n",
              "      border-left-color: var(--fill-color);\n",
              "      border-top-color: var(--fill-color);\n",
              "    }\n",
              "    30% {\n",
              "      border-color: transparent;\n",
              "      border-left-color: var(--fill-color);\n",
              "      border-top-color: var(--fill-color);\n",
              "      border-right-color: var(--fill-color);\n",
              "    }\n",
              "    40% {\n",
              "      border-color: transparent;\n",
              "      border-right-color: var(--fill-color);\n",
              "      border-top-color: var(--fill-color);\n",
              "    }\n",
              "    60% {\n",
              "      border-color: transparent;\n",
              "      border-right-color: var(--fill-color);\n",
              "    }\n",
              "    80% {\n",
              "      border-color: transparent;\n",
              "      border-right-color: var(--fill-color);\n",
              "      border-bottom-color: var(--fill-color);\n",
              "    }\n",
              "    90% {\n",
              "      border-color: transparent;\n",
              "      border-bottom-color: var(--fill-color);\n",
              "    }\n",
              "  }\n",
              "</style>\n",
              "\n",
              "      <script>\n",
              "        async function quickchart(key) {\n",
              "          const quickchartButtonEl =\n",
              "            document.querySelector('#' + key + ' button');\n",
              "          quickchartButtonEl.disabled = true;  // To prevent multiple clicks.\n",
              "          quickchartButtonEl.classList.add('colab-df-spinner');\n",
              "          try {\n",
              "            const charts = await google.colab.kernel.invokeFunction(\n",
              "                'suggestCharts', [key], {});\n",
              "          } catch (error) {\n",
              "            console.error('Error during call to suggestCharts:', error);\n",
              "          }\n",
              "          quickchartButtonEl.classList.remove('colab-df-spinner');\n",
              "          quickchartButtonEl.classList.add('colab-df-quickchart-complete');\n",
              "        }\n",
              "        (() => {\n",
              "          let quickchartButtonEl =\n",
              "            document.querySelector('#df-720551e4-e369-493c-8e15-50ed3827dca9 button');\n",
              "          quickchartButtonEl.style.display =\n",
              "            google.colab.kernel.accessAllowed ? 'block' : 'none';\n",
              "        })();\n",
              "      </script>\n",
              "    </div>\n",
              "\n",
              "  <div id=\"id_596900e8-2042-4784-bcc8-e2eb5a02247e\">\n",
              "    <style>\n",
              "      .colab-df-generate {\n",
              "        background-color: #E8F0FE;\n",
              "        border: none;\n",
              "        border-radius: 50%;\n",
              "        cursor: pointer;\n",
              "        display: none;\n",
              "        fill: #1967D2;\n",
              "        height: 32px;\n",
              "        padding: 0 0 0 0;\n",
              "        width: 32px;\n",
              "      }\n",
              "\n",
              "      .colab-df-generate:hover {\n",
              "        background-color: #E2EBFA;\n",
              "        box-shadow: 0px 1px 2px rgba(60, 64, 67, 0.3), 0px 1px 3px 1px rgba(60, 64, 67, 0.15);\n",
              "        fill: #174EA6;\n",
              "      }\n",
              "\n",
              "      [theme=dark] .colab-df-generate {\n",
              "        background-color: #3B4455;\n",
              "        fill: #D2E3FC;\n",
              "      }\n",
              "\n",
              "      [theme=dark] .colab-df-generate:hover {\n",
              "        background-color: #434B5C;\n",
              "        box-shadow: 0px 1px 3px 1px rgba(0, 0, 0, 0.15);\n",
              "        filter: drop-shadow(0px 1px 2px rgba(0, 0, 0, 0.3));\n",
              "        fill: #FFFFFF;\n",
              "      }\n",
              "    </style>\n",
              "    <button class=\"colab-df-generate\" onclick=\"generateWithVariable('df_news')\"\n",
              "            title=\"Generate code using this dataframe.\"\n",
              "            style=\"display:none;\">\n",
              "\n",
              "  <svg xmlns=\"http://www.w3.org/2000/svg\" height=\"24px\"viewBox=\"0 0 24 24\"\n",
              "       width=\"24px\">\n",
              "    <path d=\"M7,19H8.4L18.45,9,17,7.55,7,17.6ZM5,21V16.75L18.45,3.32a2,2,0,0,1,2.83,0l1.4,1.43a1.91,1.91,0,0,1,.58,1.4,1.91,1.91,0,0,1-.58,1.4L9.25,21ZM18.45,9,17,7.55Zm-12,3A5.31,5.31,0,0,0,4.9,8.1,5.31,5.31,0,0,0,1,6.5,5.31,5.31,0,0,0,4.9,4.9,5.31,5.31,0,0,0,6.5,1,5.31,5.31,0,0,0,8.1,4.9,5.31,5.31,0,0,0,12,6.5,5.46,5.46,0,0,0,6.5,12Z\"/>\n",
              "  </svg>\n",
              "    </button>\n",
              "    <script>\n",
              "      (() => {\n",
              "      const buttonEl =\n",
              "        document.querySelector('#id_596900e8-2042-4784-bcc8-e2eb5a02247e button.colab-df-generate');\n",
              "      buttonEl.style.display =\n",
              "        google.colab.kernel.accessAllowed ? 'block' : 'none';\n",
              "\n",
              "      buttonEl.onclick = () => {\n",
              "        google.colab.notebook.generateWithVariable('df_news');\n",
              "      }\n",
              "      })();\n",
              "    </script>\n",
              "  </div>\n",
              "\n",
              "    </div>\n",
              "  </div>\n"
            ],
            "application/vnd.google.colaboratory.intrinsic+json": {
              "type": "dataframe",
              "variable_name": "df_news",
              "summary": "{\n  \"name\": \"df_news\",\n  \"rows\": 4871,\n  \"fields\": [\n    {\n      \"column\": \"TICKER\",\n      \"properties\": {\n        \"dtype\": \"category\",\n        \"num_unique_values\": 490,\n        \"samples\": [\n          \"UHS\",\n          \"CARR\",\n          \"TJX\"\n        ],\n        \"semantic_type\": \"\",\n        \"description\": \"\"\n      }\n    },\n    {\n      \"column\": \"TITLE\",\n      \"properties\": {\n        \"dtype\": \"string\",\n        \"num_unique_values\": 4251,\n        \"samples\": [\n          \"Here's Why Coca-Cola (KO) Fell More Than Broader Market\",\n          \"Illinois Tool Works (ITW) Up 2.7% Since Last Earnings Report: Can It Continue?\",\n          \"Q1 Earnings Roundup: Perma-Fix (NASDAQ:PESI) And The Rest Of The Waste Management Segment\"\n        ],\n        \"semantic_type\": \"\",\n        \"description\": \"\"\n      }\n    },\n    {\n      \"column\": \"SUMMARY\",\n      \"properties\": {\n        \"dtype\": \"string\",\n        \"num_unique_values\": 3976,\n        \"samples\": [\n          \"Broadcom, Arista Networks initiated: Wall Street's top analyst calls\",\n          \"Emerson Electric (EMR) has received quite a bit of attention from Zacks.com users lately. Therefore, it is wise to be aware of the facts that can impact the stock's prospects.\",\n          \"Ventas (VTR) reported earnings 30 days ago. What's next for the stock? We take a look at earnings estimates for some clues.\"\n        ],\n        \"semantic_type\": \"\",\n        \"description\": \"\"\n      }\n    },\n    {\n      \"column\": \"PUBLICATION_DATE\",\n      \"properties\": {\n        \"dtype\": \"date\",\n        \"min\": \"2024-07-12\",\n        \"max\": \"2025-05-31\",\n        \"num_unique_values\": 121,\n        \"samples\": [\n          \"2025-04-12\",\n          \"2025-04-10\",\n          \"2025-05-15\"\n        ],\n        \"semantic_type\": \"\",\n        \"description\": \"\"\n      }\n    },\n    {\n      \"column\": \"PROVIDER\",\n      \"properties\": {\n        \"dtype\": \"category\",\n        \"num_unique_values\": 95,\n        \"samples\": [\n          \"Just Auto\",\n          \"Fortune\",\n          \"Payments Dive\"\n        ],\n        \"semantic_type\": \"\",\n        \"description\": \"\"\n      }\n    },\n    {\n      \"column\": \"URL\",\n      \"properties\": {\n        \"dtype\": \"string\",\n        \"num_unique_values\": 4317,\n        \"samples\": [\n          \"https://finance.yahoo.com/news/why-te-connectivity-tel-top-134010352.html\",\n          \"https://finance.yahoo.com/news/why-jakks-jakk-5-3-153052887.html\",\n          \"https://finance.yahoo.com/news/general-dynamics-wins-217m-contract-151400769.html\"\n        ],\n        \"semantic_type\": \"\",\n        \"description\": \"\"\n      }\n    }\n  ]\n}"
            }
          },
          "metadata": {}
        },
        {
          "output_type": "stream",
          "name": "stdout",
          "text": [
            "(4871, 6)\n",
            "(3976, 6)\n"
          ]
        }
      ],
      "source": [
        "df_news = pd.read_csv(file_path)\n",
        "df_news['PUBLICATION_DATE'] = pd.to_datetime(df_news['PUBLICATION_DATE']).dt.date\n",
        "display(df_news)\n",
        "print(df_news.shape)\n",
        "\n",
        "df_news.drop_duplicates('SUMMARY', inplace=True)\n",
        "print(df_news.shape)"
      ]
    },
    {
      "cell_type": "markdown",
      "id": "6d41868b",
      "metadata": {
        "id": "6d41868b"
      },
      "source": [
        "## Implement a Faiss Vector Store with Sentence Transfomer embeddings\n",
        "This section is already implemented. It uses a sentence transformer to encode news summaries into vector embeddings and stores them in a FAISS index.\n",
        "\n",
        "We also define a simple class `FaissVectorStore` that allows for efficient retrieval.\n"
      ]
    },
    {
      "cell_type": "code",
      "execution_count": 6,
      "id": "d223f38f",
      "metadata": {
        "id": "d223f38f"
      },
      "outputs": [],
      "source": [
        "df_news['EMBEDDED_TEXT'] = df_news['TITLE'] + ' : ' + df_news['SUMMARY']"
      ]
    },
    {
      "cell_type": "code",
      "execution_count": null,
      "id": "edb6ea0b",
      "metadata": {
        "id": "edb6ea0b"
      },
      "outputs": [],
      "source": [
        "model = SentenceTransformer('all-MiniLM-L6-v2')"
      ]
    },
    {
      "cell_type": "code",
      "execution_count": 8,
      "id": "9f928034",
      "metadata": {
        "id": "9f928034"
      },
      "outputs": [],
      "source": [
        "# Load model and compute embeddings\n",
        "text_embeddings = model.encode(df_news['SUMMARY'].tolist(), convert_to_numpy=True)\n",
        "\n",
        "# Normalize embeddings to use cosine similarity (via inner product in FAISS)\n",
        "text_embeddings = text_embeddings / np.linalg.norm(text_embeddings, axis=1, keepdims=True)\n",
        "\n",
        "# Prepare metadata\n",
        "documents = df_news['SUMMARY'].tolist()\n",
        "metadata = [\n",
        "    {\n",
        "        'PUBLICATION_DATE': row['PUBLICATION_DATE'],\n",
        "        'TICKER': row['TICKER'],\n",
        "        'PROVIDER': row['PROVIDER']\n",
        "    }\n",
        "    for _, row in df_news.iterrows()\n",
        "]"
      ]
    },
    {
      "cell_type": "code",
      "execution_count": 9,
      "id": "5fd469c3",
      "metadata": {
        "id": "5fd469c3"
      },
      "outputs": [],
      "source": [
        "embedding_dim = text_embeddings.shape[1]\n",
        "faiss_index = faiss.IndexFlatIP(embedding_dim)  # Cosine similarity via inner product\n",
        "faiss_index.add(text_embeddings)"
      ]
    },
    {
      "cell_type": "code",
      "execution_count": 10,
      "id": "53df2f36",
      "metadata": {
        "id": "53df2f36"
      },
      "outputs": [],
      "source": [
        "class FaissVectorStore:\n",
        "    def __init__(self, model, index, embeddings, documents, metadata):\n",
        "        self.model = model\n",
        "        self.index = index\n",
        "        self.embeddings = embeddings\n",
        "        self.documents = documents\n",
        "        self.metadata = metadata\n",
        "\n",
        "    def search(self, query, k=5, metadata_filter=None):\n",
        "        query_embedding = self.model.encode([query])\n",
        "        query_embedding = query_embedding / np.linalg.norm(query_embedding)\n",
        "\n",
        "        if metadata_filter:\n",
        "            filtered_indices = [i for i, meta in enumerate(self.metadata) if metadata_filter(meta)]\n",
        "            if not filtered_indices:\n",
        "                return []\n",
        "            filtered_embeddings = self.embeddings[filtered_indices]\n",
        "            temp_index = faiss.IndexFlatIP(filtered_embeddings.shape[1])\n",
        "            temp_index.add(filtered_embeddings)\n",
        "            D, I = temp_index.search(query_embedding, k)\n",
        "            indices = [filtered_indices[i] for i in I[0]]\n",
        "        else:\n",
        "            D, I = self.index.search(query_embedding, k)\n",
        "            indices = I[0]\n",
        "            D = D[0]\n",
        "\n",
        "        results = []\n",
        "        for idx, sim in zip(indices, D):\n",
        "            results.append((self.documents[idx], self.metadata[idx], float(sim)))\n",
        "\n",
        "\n",
        "        return results"
      ]
    },
    {
      "cell_type": "code",
      "execution_count": 12,
      "id": "05d9c741",
      "metadata": {
        "id": "05d9c741"
      },
      "outputs": [],
      "source": [
        "# Create FAISS-based store\n",
        "faiss_store = FaissVectorStore(\n",
        "    model=model,\n",
        "    index=faiss_index,\n",
        "    embeddings=text_embeddings,\n",
        "    documents=documents,\n",
        "    metadata=metadata\n",
        ")"
      ]
    },
    {
      "cell_type": "markdown",
      "id": "54b342d0",
      "metadata": {
        "id": "54b342d0"
      },
      "source": [
        "## Creating a dataset to evaluate the reranking\n",
        "\n",
        "👉 **Instructions**:\n",
        "- In this section, we will create an evaluation dataset for reranking by:\n",
        "  - Sampling **100** distinct news articles from the full dataset.\n",
        "  - Generating **one natural question** per article using GPT, where the expected answer is the original article.\n",
        "\n",
        "✅ By the end of this section, you'll have a new DataFrame (`df_news_questions`) with:\n",
        "- `NEWS`: the original summary\n",
        "- `QUESTION`: the corresponding question generated using GPT\n",
        "\n",
        "> ℹ️ The generated questions will simulate user queries in a RAG pipeline."
      ]
    },
    {
      "cell_type": "markdown",
      "source": [
        "### Sampling 100 distinct news articles"
      ],
      "metadata": {
        "id": "BU6wjm6inZR8"
      },
      "id": "BU6wjm6inZR8"
    },
    {
      "cell_type": "code",
      "execution_count": 14,
      "id": "99933b8d",
      "metadata": {
        "id": "99933b8d"
      },
      "outputs": [],
      "source": [
        "sampled_df = df_news.sample(n=100, random_state=42).reset_index(drop=True)"
      ]
    },
    {
      "cell_type": "code",
      "source": [
        "sampled_df.head()"
      ],
      "metadata": {
        "colab": {
          "base_uri": "https://localhost:8080/",
          "height": 206
        },
        "id": "ZKJRqysanlOr",
        "outputId": "80634b58-d42f-46a2-c584-e23436c4dd91"
      },
      "id": "ZKJRqysanlOr",
      "execution_count": 16,
      "outputs": [
        {
          "output_type": "execute_result",
          "data": {
            "text/plain": [
              "  TICKER                                              TITLE  \\\n",
              "0   ANET  Broadcom, Arista Networks initiated: Wall Stre...   \n",
              "1    EMR  Investors Heavily Search Emerson Electric Co. ...   \n",
              "2    BXP  Why Is Ventas (VTR) Down 2.1% Since Last Earni...   \n",
              "3   QCOM  3 things Nvidia investors should look out for ...   \n",
              "4     KR  Inflation-weary Americans queue for toilet pap...   \n",
              "\n",
              "                                             SUMMARY PUBLICATION_DATE  \\\n",
              "0  Broadcom, Arista Networks initiated: Wall Stre...       2025-05-28   \n",
              "1  Emerson Electric (EMR) has received quite a bi...       2025-05-12   \n",
              "2  Ventas (VTR) reported earnings 30 days ago. Wh...       2025-05-30   \n",
              "3  Nvidia's earnings call this week will be a mar...       2025-05-28   \n",
              "4  Inflation-scarred American consumers are putti...       2025-05-29   \n",
              "\n",
              "          PROVIDER                                                URL  \\\n",
              "0          The Fly  https://finance.yahoo.com/news/broadcom-arista...   \n",
              "1            Zacks  https://finance.yahoo.com/news/investors-heavi...   \n",
              "2            Zacks  https://finance.yahoo.com/news/why-ventas-vtr-...   \n",
              "3    Yahoo Finance  https://finance.yahoo.com/news/3-things-nvidia...   \n",
              "4  Financial Times  https://finance.yahoo.com/news/inflation-weary...   \n",
              "\n",
              "                                       EMBEDDED_TEXT  \n",
              "0  Broadcom, Arista Networks initiated: Wall Stre...  \n",
              "1  Investors Heavily Search Emerson Electric Co. ...  \n",
              "2  Why Is Ventas (VTR) Down 2.1% Since Last Earni...  \n",
              "3  3 things Nvidia investors should look out for ...  \n",
              "4  Inflation-weary Americans queue for toilet pap...  "
            ],
            "text/html": [
              "\n",
              "  <div id=\"df-0ceb3daf-8cdc-450e-9f73-80115f6ad3dc\" class=\"colab-df-container\">\n",
              "    <div>\n",
              "<style scoped>\n",
              "    .dataframe tbody tr th:only-of-type {\n",
              "        vertical-align: middle;\n",
              "    }\n",
              "\n",
              "    .dataframe tbody tr th {\n",
              "        vertical-align: top;\n",
              "    }\n",
              "\n",
              "    .dataframe thead th {\n",
              "        text-align: right;\n",
              "    }\n",
              "</style>\n",
              "<table border=\"1\" class=\"dataframe\">\n",
              "  <thead>\n",
              "    <tr style=\"text-align: right;\">\n",
              "      <th></th>\n",
              "      <th>TICKER</th>\n",
              "      <th>TITLE</th>\n",
              "      <th>SUMMARY</th>\n",
              "      <th>PUBLICATION_DATE</th>\n",
              "      <th>PROVIDER</th>\n",
              "      <th>URL</th>\n",
              "      <th>EMBEDDED_TEXT</th>\n",
              "    </tr>\n",
              "  </thead>\n",
              "  <tbody>\n",
              "    <tr>\n",
              "      <th>0</th>\n",
              "      <td>ANET</td>\n",
              "      <td>Broadcom, Arista Networks initiated: Wall Stre...</td>\n",
              "      <td>Broadcom, Arista Networks initiated: Wall Stre...</td>\n",
              "      <td>2025-05-28</td>\n",
              "      <td>The Fly</td>\n",
              "      <td>https://finance.yahoo.com/news/broadcom-arista...</td>\n",
              "      <td>Broadcom, Arista Networks initiated: Wall Stre...</td>\n",
              "    </tr>\n",
              "    <tr>\n",
              "      <th>1</th>\n",
              "      <td>EMR</td>\n",
              "      <td>Investors Heavily Search Emerson Electric Co. ...</td>\n",
              "      <td>Emerson Electric (EMR) has received quite a bi...</td>\n",
              "      <td>2025-05-12</td>\n",
              "      <td>Zacks</td>\n",
              "      <td>https://finance.yahoo.com/news/investors-heavi...</td>\n",
              "      <td>Investors Heavily Search Emerson Electric Co. ...</td>\n",
              "    </tr>\n",
              "    <tr>\n",
              "      <th>2</th>\n",
              "      <td>BXP</td>\n",
              "      <td>Why Is Ventas (VTR) Down 2.1% Since Last Earni...</td>\n",
              "      <td>Ventas (VTR) reported earnings 30 days ago. Wh...</td>\n",
              "      <td>2025-05-30</td>\n",
              "      <td>Zacks</td>\n",
              "      <td>https://finance.yahoo.com/news/why-ventas-vtr-...</td>\n",
              "      <td>Why Is Ventas (VTR) Down 2.1% Since Last Earni...</td>\n",
              "    </tr>\n",
              "    <tr>\n",
              "      <th>3</th>\n",
              "      <td>QCOM</td>\n",
              "      <td>3 things Nvidia investors should look out for ...</td>\n",
              "      <td>Nvidia's earnings call this week will be a mar...</td>\n",
              "      <td>2025-05-28</td>\n",
              "      <td>Yahoo Finance</td>\n",
              "      <td>https://finance.yahoo.com/news/3-things-nvidia...</td>\n",
              "      <td>3 things Nvidia investors should look out for ...</td>\n",
              "    </tr>\n",
              "    <tr>\n",
              "      <th>4</th>\n",
              "      <td>KR</td>\n",
              "      <td>Inflation-weary Americans queue for toilet pap...</td>\n",
              "      <td>Inflation-scarred American consumers are putti...</td>\n",
              "      <td>2025-05-29</td>\n",
              "      <td>Financial Times</td>\n",
              "      <td>https://finance.yahoo.com/news/inflation-weary...</td>\n",
              "      <td>Inflation-weary Americans queue for toilet pap...</td>\n",
              "    </tr>\n",
              "  </tbody>\n",
              "</table>\n",
              "</div>\n",
              "    <div class=\"colab-df-buttons\">\n",
              "\n",
              "  <div class=\"colab-df-container\">\n",
              "    <button class=\"colab-df-convert\" onclick=\"convertToInteractive('df-0ceb3daf-8cdc-450e-9f73-80115f6ad3dc')\"\n",
              "            title=\"Convert this dataframe to an interactive table.\"\n",
              "            style=\"display:none;\">\n",
              "\n",
              "  <svg xmlns=\"http://www.w3.org/2000/svg\" height=\"24px\" viewBox=\"0 -960 960 960\">\n",
              "    <path d=\"M120-120v-720h720v720H120Zm60-500h600v-160H180v160Zm220 220h160v-160H400v160Zm0 220h160v-160H400v160ZM180-400h160v-160H180v160Zm440 0h160v-160H620v160ZM180-180h160v-160H180v160Zm440 0h160v-160H620v160Z\"/>\n",
              "  </svg>\n",
              "    </button>\n",
              "\n",
              "  <style>\n",
              "    .colab-df-container {\n",
              "      display:flex;\n",
              "      gap: 12px;\n",
              "    }\n",
              "\n",
              "    .colab-df-convert {\n",
              "      background-color: #E8F0FE;\n",
              "      border: none;\n",
              "      border-radius: 50%;\n",
              "      cursor: pointer;\n",
              "      display: none;\n",
              "      fill: #1967D2;\n",
              "      height: 32px;\n",
              "      padding: 0 0 0 0;\n",
              "      width: 32px;\n",
              "    }\n",
              "\n",
              "    .colab-df-convert:hover {\n",
              "      background-color: #E2EBFA;\n",
              "      box-shadow: 0px 1px 2px rgba(60, 64, 67, 0.3), 0px 1px 3px 1px rgba(60, 64, 67, 0.15);\n",
              "      fill: #174EA6;\n",
              "    }\n",
              "\n",
              "    .colab-df-buttons div {\n",
              "      margin-bottom: 4px;\n",
              "    }\n",
              "\n",
              "    [theme=dark] .colab-df-convert {\n",
              "      background-color: #3B4455;\n",
              "      fill: #D2E3FC;\n",
              "    }\n",
              "\n",
              "    [theme=dark] .colab-df-convert:hover {\n",
              "      background-color: #434B5C;\n",
              "      box-shadow: 0px 1px 3px 1px rgba(0, 0, 0, 0.15);\n",
              "      filter: drop-shadow(0px 1px 2px rgba(0, 0, 0, 0.3));\n",
              "      fill: #FFFFFF;\n",
              "    }\n",
              "  </style>\n",
              "\n",
              "    <script>\n",
              "      const buttonEl =\n",
              "        document.querySelector('#df-0ceb3daf-8cdc-450e-9f73-80115f6ad3dc button.colab-df-convert');\n",
              "      buttonEl.style.display =\n",
              "        google.colab.kernel.accessAllowed ? 'block' : 'none';\n",
              "\n",
              "      async function convertToInteractive(key) {\n",
              "        const element = document.querySelector('#df-0ceb3daf-8cdc-450e-9f73-80115f6ad3dc');\n",
              "        const dataTable =\n",
              "          await google.colab.kernel.invokeFunction('convertToInteractive',\n",
              "                                                    [key], {});\n",
              "        if (!dataTable) return;\n",
              "\n",
              "        const docLinkHtml = 'Like what you see? Visit the ' +\n",
              "          '<a target=\"_blank\" href=https://colab.research.google.com/notebooks/data_table.ipynb>data table notebook</a>'\n",
              "          + ' to learn more about interactive tables.';\n",
              "        element.innerHTML = '';\n",
              "        dataTable['output_type'] = 'display_data';\n",
              "        await google.colab.output.renderOutput(dataTable, element);\n",
              "        const docLink = document.createElement('div');\n",
              "        docLink.innerHTML = docLinkHtml;\n",
              "        element.appendChild(docLink);\n",
              "      }\n",
              "    </script>\n",
              "  </div>\n",
              "\n",
              "\n",
              "    <div id=\"df-504052cf-354a-4bd6-b43f-e5cb4f04eb86\">\n",
              "      <button class=\"colab-df-quickchart\" onclick=\"quickchart('df-504052cf-354a-4bd6-b43f-e5cb4f04eb86')\"\n",
              "                title=\"Suggest charts\"\n",
              "                style=\"display:none;\">\n",
              "\n",
              "<svg xmlns=\"http://www.w3.org/2000/svg\" height=\"24px\"viewBox=\"0 0 24 24\"\n",
              "     width=\"24px\">\n",
              "    <g>\n",
              "        <path d=\"M19 3H5c-1.1 0-2 .9-2 2v14c0 1.1.9 2 2 2h14c1.1 0 2-.9 2-2V5c0-1.1-.9-2-2-2zM9 17H7v-7h2v7zm4 0h-2V7h2v10zm4 0h-2v-4h2v4z\"/>\n",
              "    </g>\n",
              "</svg>\n",
              "      </button>\n",
              "\n",
              "<style>\n",
              "  .colab-df-quickchart {\n",
              "      --bg-color: #E8F0FE;\n",
              "      --fill-color: #1967D2;\n",
              "      --hover-bg-color: #E2EBFA;\n",
              "      --hover-fill-color: #174EA6;\n",
              "      --disabled-fill-color: #AAA;\n",
              "      --disabled-bg-color: #DDD;\n",
              "  }\n",
              "\n",
              "  [theme=dark] .colab-df-quickchart {\n",
              "      --bg-color: #3B4455;\n",
              "      --fill-color: #D2E3FC;\n",
              "      --hover-bg-color: #434B5C;\n",
              "      --hover-fill-color: #FFFFFF;\n",
              "      --disabled-bg-color: #3B4455;\n",
              "      --disabled-fill-color: #666;\n",
              "  }\n",
              "\n",
              "  .colab-df-quickchart {\n",
              "    background-color: var(--bg-color);\n",
              "    border: none;\n",
              "    border-radius: 50%;\n",
              "    cursor: pointer;\n",
              "    display: none;\n",
              "    fill: var(--fill-color);\n",
              "    height: 32px;\n",
              "    padding: 0;\n",
              "    width: 32px;\n",
              "  }\n",
              "\n",
              "  .colab-df-quickchart:hover {\n",
              "    background-color: var(--hover-bg-color);\n",
              "    box-shadow: 0 1px 2px rgba(60, 64, 67, 0.3), 0 1px 3px 1px rgba(60, 64, 67, 0.15);\n",
              "    fill: var(--button-hover-fill-color);\n",
              "  }\n",
              "\n",
              "  .colab-df-quickchart-complete:disabled,\n",
              "  .colab-df-quickchart-complete:disabled:hover {\n",
              "    background-color: var(--disabled-bg-color);\n",
              "    fill: var(--disabled-fill-color);\n",
              "    box-shadow: none;\n",
              "  }\n",
              "\n",
              "  .colab-df-spinner {\n",
              "    border: 2px solid var(--fill-color);\n",
              "    border-color: transparent;\n",
              "    border-bottom-color: var(--fill-color);\n",
              "    animation:\n",
              "      spin 1s steps(1) infinite;\n",
              "  }\n",
              "\n",
              "  @keyframes spin {\n",
              "    0% {\n",
              "      border-color: transparent;\n",
              "      border-bottom-color: var(--fill-color);\n",
              "      border-left-color: var(--fill-color);\n",
              "    }\n",
              "    20% {\n",
              "      border-color: transparent;\n",
              "      border-left-color: var(--fill-color);\n",
              "      border-top-color: var(--fill-color);\n",
              "    }\n",
              "    30% {\n",
              "      border-color: transparent;\n",
              "      border-left-color: var(--fill-color);\n",
              "      border-top-color: var(--fill-color);\n",
              "      border-right-color: var(--fill-color);\n",
              "    }\n",
              "    40% {\n",
              "      border-color: transparent;\n",
              "      border-right-color: var(--fill-color);\n",
              "      border-top-color: var(--fill-color);\n",
              "    }\n",
              "    60% {\n",
              "      border-color: transparent;\n",
              "      border-right-color: var(--fill-color);\n",
              "    }\n",
              "    80% {\n",
              "      border-color: transparent;\n",
              "      border-right-color: var(--fill-color);\n",
              "      border-bottom-color: var(--fill-color);\n",
              "    }\n",
              "    90% {\n",
              "      border-color: transparent;\n",
              "      border-bottom-color: var(--fill-color);\n",
              "    }\n",
              "  }\n",
              "</style>\n",
              "\n",
              "      <script>\n",
              "        async function quickchart(key) {\n",
              "          const quickchartButtonEl =\n",
              "            document.querySelector('#' + key + ' button');\n",
              "          quickchartButtonEl.disabled = true;  // To prevent multiple clicks.\n",
              "          quickchartButtonEl.classList.add('colab-df-spinner');\n",
              "          try {\n",
              "            const charts = await google.colab.kernel.invokeFunction(\n",
              "                'suggestCharts', [key], {});\n",
              "          } catch (error) {\n",
              "            console.error('Error during call to suggestCharts:', error);\n",
              "          }\n",
              "          quickchartButtonEl.classList.remove('colab-df-spinner');\n",
              "          quickchartButtonEl.classList.add('colab-df-quickchart-complete');\n",
              "        }\n",
              "        (() => {\n",
              "          let quickchartButtonEl =\n",
              "            document.querySelector('#df-504052cf-354a-4bd6-b43f-e5cb4f04eb86 button');\n",
              "          quickchartButtonEl.style.display =\n",
              "            google.colab.kernel.accessAllowed ? 'block' : 'none';\n",
              "        })();\n",
              "      </script>\n",
              "    </div>\n",
              "\n",
              "    </div>\n",
              "  </div>\n"
            ],
            "application/vnd.google.colaboratory.intrinsic+json": {
              "type": "dataframe",
              "variable_name": "sampled_df",
              "summary": "{\n  \"name\": \"sampled_df\",\n  \"rows\": 100,\n  \"fields\": [\n    {\n      \"column\": \"TICKER\",\n      \"properties\": {\n        \"dtype\": \"string\",\n        \"num_unique_values\": 91,\n        \"samples\": [\n          \"ROST\",\n          \"PEG\",\n          \"NUE\"\n        ],\n        \"semantic_type\": \"\",\n        \"description\": \"\"\n      }\n    },\n    {\n      \"column\": \"TITLE\",\n      \"properties\": {\n        \"dtype\": \"string\",\n        \"num_unique_values\": 100,\n        \"samples\": [\n          \"Brown & Brown (BRO) Up 3.8% Since Last Earnings Report: Can It Continue?\",\n          \"Healthpeak Properties Inc (DOC) Q3 2024 Earnings Call Highlights: Strong Leasing Momentum and ...\",\n          \"Spotting Winners: Acuity Brands (NYSE:AYI) And Electrical Systems Stocks In Q1\"\n        ],\n        \"semantic_type\": \"\",\n        \"description\": \"\"\n      }\n    },\n    {\n      \"column\": \"SUMMARY\",\n      \"properties\": {\n        \"dtype\": \"string\",\n        \"num_unique_values\": 100,\n        \"samples\": [\n          \"Brown & Brown (BRO) reported earnings 30 days ago. What's next for the stock? We take a look at earnings estimates for some clues.\",\n          \"Healthpeak Properties Inc (DOC) reports robust leasing activity and upwardly revised guidance, driven by merger synergies and strategic investments.\",\n          \"Wrapping up Q1 earnings, we look at the numbers and key takeaways for the electrical systems stocks, including Acuity Brands (NYSE:AYI) and its peers.\"\n        ],\n        \"semantic_type\": \"\",\n        \"description\": \"\"\n      }\n    },\n    {\n      \"column\": \"PUBLICATION_DATE\",\n      \"properties\": {\n        \"dtype\": \"date\",\n        \"min\": \"2024-07-22\",\n        \"max\": \"2025-05-31\",\n        \"num_unique_values\": 36,\n        \"samples\": [\n          \"2025-05-24\",\n          \"2025-05-23\",\n          \"2024-10-26\"\n        ],\n        \"semantic_type\": \"\",\n        \"description\": \"\"\n      }\n    },\n    {\n      \"column\": \"PROVIDER\",\n      \"properties\": {\n        \"dtype\": \"category\",\n        \"num_unique_values\": 26,\n        \"samples\": [\n          \"StockStory\",\n          \"Benzinga\",\n          \"The Fly\"\n        ],\n        \"semantic_type\": \"\",\n        \"description\": \"\"\n      }\n    },\n    {\n      \"column\": \"URL\",\n      \"properties\": {\n        \"dtype\": \"string\",\n        \"num_unique_values\": 100,\n        \"samples\": [\n          \"https://finance.yahoo.com/news/brown-brown-bro-3-8-153017629.html\",\n          \"https://finance.yahoo.com/news/healthpeak-properties-inc-doc-q3-070748786.html\",\n          \"https://finance.yahoo.com/news/spotting-winners-acuity-brands-nyse-033121768.html\"\n        ],\n        \"semantic_type\": \"\",\n        \"description\": \"\"\n      }\n    },\n    {\n      \"column\": \"EMBEDDED_TEXT\",\n      \"properties\": {\n        \"dtype\": \"string\",\n        \"num_unique_values\": 100,\n        \"samples\": [\n          \"Brown & Brown (BRO) Up 3.8% Since Last Earnings Report: Can It Continue? : Brown & Brown (BRO) reported earnings 30 days ago. What's next for the stock? We take a look at earnings estimates for some clues.\",\n          \"Healthpeak Properties Inc (DOC) Q3 2024 Earnings Call Highlights: Strong Leasing Momentum and ... : Healthpeak Properties Inc (DOC) reports robust leasing activity and upwardly revised guidance, driven by merger synergies and strategic investments.\",\n          \"Spotting Winners: Acuity Brands (NYSE:AYI) And Electrical Systems Stocks In Q1 : Wrapping up Q1 earnings, we look at the numbers and key takeaways for the electrical systems stocks, including Acuity Brands (NYSE:AYI) and its peers.\"\n        ],\n        \"semantic_type\": \"\",\n        \"description\": \"\"\n      }\n    }\n  ]\n}"
            }
          },
          "metadata": {},
          "execution_count": 16
        }
      ]
    },
    {
      "cell_type": "markdown",
      "id": "b110346e",
      "metadata": {
        "id": "b110346e"
      },
      "source": [
        "### Create OpenAI connector\n",
        "You’ll use OpenAI’s GPT model to generate natural questions corresponding to each sampled news summary. These questions will be used to test the retrieval system.\n",
        "\n",
        "✅ This cell contains an API key for demonstration purposes. You **must** use your own API key when running this notebook.\n"
      ]
    },
    {
      "cell_type": "code",
      "execution_count": 13,
      "id": "94fab8d1",
      "metadata": {
        "colab": {
          "base_uri": "https://localhost:8080/"
        },
        "id": "94fab8d1",
        "outputId": "1cc34641-a4aa-485e-81de-ed7917e3c0ab"
      },
      "outputs": [
        {
          "output_type": "stream",
          "name": "stdout",
          "text": [
            "As the moonlight danced across the meadow, Luna, the little unicorn, closed her eyes, knowing that with each twinkle of the stars, her dreams would carry her to magical realms filled with shimmering rainbows and friendly talking animals.\n"
          ]
        }
      ],
      "source": [
        "from openai import OpenAI\n",
        "client = OpenAI(api_key = \"\")\n",
        "\n",
        "response = client.responses.create(\n",
        "    model=\"gpt-4o-mini\",\n",
        "    input=\"Write a one-sentence bedtime story about a unicorn.\"\n",
        ")\n",
        "\n",
        "print(response.output_text)"
      ]
    },
    {
      "cell_type": "markdown",
      "id": "f540204a",
      "metadata": {
        "id": "f540204a"
      },
      "source": [
        "### Using GPT to generate a question based on a news\n",
        "Based on the instruction above, you need to use GPT to create a evaluation dataset.\n",
        "\n",
        "**Clarification** Specifically, the goal is to generate a natural question whose correct answer is the news summary. For example, if the news is about a company announcing layoffs, a good question could be: ‘Which company recently announced job cuts in its tech division?\n"
      ]
    },
    {
      "cell_type": "code",
      "execution_count": 18,
      "id": "fbeee0fa",
      "metadata": {
        "id": "fbeee0fa"
      },
      "outputs": [],
      "source": [
        "prompt_template = \"\"\"\n",
        "Given the news headline provided below,\n",
        "give me a question that would justify retrieving this specific news headline in a RAG system\n",
        "\n",
        "News headlines:\n",
        "{news}\n",
        "\n",
        "Give me a question for which the answer is the news headline:\n",
        "QUESTION\n",
        "\n",
        "**Important**\n",
        "dont answer anything else other than the question!\n",
        "\"\"\""
      ]
    },
    {
      "cell_type": "markdown",
      "source": [
        "### Generate one natural question per article using GPT, where the expected answer is the original article."
      ],
      "metadata": {
        "id": "JsbSDjrjn-M0"
      },
      "id": "JsbSDjrjn-M0"
    },
    {
      "cell_type": "code",
      "execution_count": 32,
      "id": "1ac0ca61",
      "metadata": {
        "id": "1ac0ca61"
      },
      "outputs": [],
      "source": [
        "questions = []\n",
        "\n",
        "for summary in sampled_df['SUMMARY']:\n",
        "    prompt = prompt_template.format(news=summary)\n",
        "    response = client.chat.completions.create(\n",
        "        model=\"gpt-4\",\n",
        "        messages=[{\"role\": \"user\", \"content\": prompt}],\n",
        "        temperature=0.4\n",
        "    )\n",
        "    question = response.choices[0].message.content.strip()\n",
        "    questions.append(question)"
      ]
    },
    {
      "cell_type": "markdown",
      "source": [
        "### Example of a question and answer"
      ],
      "metadata": {
        "id": "IxqOKnjPpGfw"
      },
      "id": "IxqOKnjPpGfw"
    },
    {
      "cell_type": "markdown",
      "source": [
        "#### Question created by GPT"
      ],
      "metadata": {
        "id": "PF3Dd33CpNX5"
      },
      "id": "PF3Dd33CpNX5"
    },
    {
      "cell_type": "code",
      "source": [
        "questions[0]"
      ],
      "metadata": {
        "colab": {
          "base_uri": "https://localhost:8080/",
          "height": 35
        },
        "id": "Skr1h_rko8iq",
        "outputId": "694a0fb5-21a0-4d8d-f9a7-4e27a7ef5608"
      },
      "id": "Skr1h_rko8iq",
      "execution_count": 33,
      "outputs": [
        {
          "output_type": "execute_result",
          "data": {
            "text/plain": [
              "\"What are the latest calls made by Wall Street's top analyst regarding Broadcom and Arista Networks?\""
            ],
            "application/vnd.google.colaboratory.intrinsic+json": {
              "type": "string"
            }
          },
          "metadata": {},
          "execution_count": 33
        }
      ]
    },
    {
      "cell_type": "markdown",
      "source": [
        "#### Asnwer"
      ],
      "metadata": {
        "id": "5Y7xQPmVpLBc"
      },
      "id": "5Y7xQPmVpLBc"
    },
    {
      "cell_type": "code",
      "source": [
        "sampled_df['SUMMARY'][0]"
      ],
      "metadata": {
        "colab": {
          "base_uri": "https://localhost:8080/",
          "height": 35
        },
        "id": "G7aULCZcpACg",
        "outputId": "34d82e7e-f2a1-4918-af1f-95d445b68f54"
      },
      "id": "G7aULCZcpACg",
      "execution_count": 34,
      "outputs": [
        {
          "output_type": "execute_result",
          "data": {
            "text/plain": [
              "\"Broadcom, Arista Networks initiated: Wall Street's top analyst calls\""
            ],
            "application/vnd.google.colaboratory.intrinsic+json": {
              "type": "string"
            }
          },
          "metadata": {},
          "execution_count": 34
        }
      ]
    },
    {
      "cell_type": "markdown",
      "source": [
        "### Creating a new DataFrame (df_news_questions) with:\n",
        "\n",
        "* NEWS: the original summary\n",
        "* QUESTION: the corresponding question generated using GPT"
      ],
      "metadata": {
        "id": "VjvM_5kmo4A-"
      },
      "id": "VjvM_5kmo4A-"
    },
    {
      "cell_type": "code",
      "source": [
        "df_news_questions = pd.DataFrame({\n",
        "    'NEWS': sampled_df['SUMMARY'],\n",
        "    'QUESTION': questions\n",
        "})"
      ],
      "metadata": {
        "id": "qERT_nvuo5Tv"
      },
      "id": "qERT_nvuo5Tv",
      "execution_count": 35,
      "outputs": []
    },
    {
      "cell_type": "code",
      "source": [
        "df_news_questions.head()"
      ],
      "metadata": {
        "colab": {
          "base_uri": "https://localhost:8080/",
          "height": 206
        },
        "id": "0kpB0nq8pom0",
        "outputId": "52875b62-28c0-483a-db2b-6aae705a938b"
      },
      "id": "0kpB0nq8pom0",
      "execution_count": 36,
      "outputs": [
        {
          "output_type": "execute_result",
          "data": {
            "text/plain": [
              "                                                NEWS  \\\n",
              "0  Broadcom, Arista Networks initiated: Wall Stre...   \n",
              "1  Emerson Electric (EMR) has received quite a bi...   \n",
              "2  Ventas (VTR) reported earnings 30 days ago. Wh...   \n",
              "3  Nvidia's earnings call this week will be a mar...   \n",
              "4  Inflation-scarred American consumers are putti...   \n",
              "\n",
              "                                            QUESTION  \n",
              "0  What are the latest calls made by Wall Street'...  \n",
              "1  What recent developments have occurred with Em...  \n",
              "2  What is the latest update on Ventas (VTR) stoc...  \n",
              "3  What should I know about Nvidia's upcoming ear...  \n",
              "4  What is the current behavior of American consu...  "
            ],
            "text/html": [
              "\n",
              "  <div id=\"df-aff03582-48de-4f82-a669-25b6e16832bf\" class=\"colab-df-container\">\n",
              "    <div>\n",
              "<style scoped>\n",
              "    .dataframe tbody tr th:only-of-type {\n",
              "        vertical-align: middle;\n",
              "    }\n",
              "\n",
              "    .dataframe tbody tr th {\n",
              "        vertical-align: top;\n",
              "    }\n",
              "\n",
              "    .dataframe thead th {\n",
              "        text-align: right;\n",
              "    }\n",
              "</style>\n",
              "<table border=\"1\" class=\"dataframe\">\n",
              "  <thead>\n",
              "    <tr style=\"text-align: right;\">\n",
              "      <th></th>\n",
              "      <th>NEWS</th>\n",
              "      <th>QUESTION</th>\n",
              "    </tr>\n",
              "  </thead>\n",
              "  <tbody>\n",
              "    <tr>\n",
              "      <th>0</th>\n",
              "      <td>Broadcom, Arista Networks initiated: Wall Stre...</td>\n",
              "      <td>What are the latest calls made by Wall Street'...</td>\n",
              "    </tr>\n",
              "    <tr>\n",
              "      <th>1</th>\n",
              "      <td>Emerson Electric (EMR) has received quite a bi...</td>\n",
              "      <td>What recent developments have occurred with Em...</td>\n",
              "    </tr>\n",
              "    <tr>\n",
              "      <th>2</th>\n",
              "      <td>Ventas (VTR) reported earnings 30 days ago. Wh...</td>\n",
              "      <td>What is the latest update on Ventas (VTR) stoc...</td>\n",
              "    </tr>\n",
              "    <tr>\n",
              "      <th>3</th>\n",
              "      <td>Nvidia's earnings call this week will be a mar...</td>\n",
              "      <td>What should I know about Nvidia's upcoming ear...</td>\n",
              "    </tr>\n",
              "    <tr>\n",
              "      <th>4</th>\n",
              "      <td>Inflation-scarred American consumers are putti...</td>\n",
              "      <td>What is the current behavior of American consu...</td>\n",
              "    </tr>\n",
              "  </tbody>\n",
              "</table>\n",
              "</div>\n",
              "    <div class=\"colab-df-buttons\">\n",
              "\n",
              "  <div class=\"colab-df-container\">\n",
              "    <button class=\"colab-df-convert\" onclick=\"convertToInteractive('df-aff03582-48de-4f82-a669-25b6e16832bf')\"\n",
              "            title=\"Convert this dataframe to an interactive table.\"\n",
              "            style=\"display:none;\">\n",
              "\n",
              "  <svg xmlns=\"http://www.w3.org/2000/svg\" height=\"24px\" viewBox=\"0 -960 960 960\">\n",
              "    <path d=\"M120-120v-720h720v720H120Zm60-500h600v-160H180v160Zm220 220h160v-160H400v160Zm0 220h160v-160H400v160ZM180-400h160v-160H180v160Zm440 0h160v-160H620v160ZM180-180h160v-160H180v160Zm440 0h160v-160H620v160Z\"/>\n",
              "  </svg>\n",
              "    </button>\n",
              "\n",
              "  <style>\n",
              "    .colab-df-container {\n",
              "      display:flex;\n",
              "      gap: 12px;\n",
              "    }\n",
              "\n",
              "    .colab-df-convert {\n",
              "      background-color: #E8F0FE;\n",
              "      border: none;\n",
              "      border-radius: 50%;\n",
              "      cursor: pointer;\n",
              "      display: none;\n",
              "      fill: #1967D2;\n",
              "      height: 32px;\n",
              "      padding: 0 0 0 0;\n",
              "      width: 32px;\n",
              "    }\n",
              "\n",
              "    .colab-df-convert:hover {\n",
              "      background-color: #E2EBFA;\n",
              "      box-shadow: 0px 1px 2px rgba(60, 64, 67, 0.3), 0px 1px 3px 1px rgba(60, 64, 67, 0.15);\n",
              "      fill: #174EA6;\n",
              "    }\n",
              "\n",
              "    .colab-df-buttons div {\n",
              "      margin-bottom: 4px;\n",
              "    }\n",
              "\n",
              "    [theme=dark] .colab-df-convert {\n",
              "      background-color: #3B4455;\n",
              "      fill: #D2E3FC;\n",
              "    }\n",
              "\n",
              "    [theme=dark] .colab-df-convert:hover {\n",
              "      background-color: #434B5C;\n",
              "      box-shadow: 0px 1px 3px 1px rgba(0, 0, 0, 0.15);\n",
              "      filter: drop-shadow(0px 1px 2px rgba(0, 0, 0, 0.3));\n",
              "      fill: #FFFFFF;\n",
              "    }\n",
              "  </style>\n",
              "\n",
              "    <script>\n",
              "      const buttonEl =\n",
              "        document.querySelector('#df-aff03582-48de-4f82-a669-25b6e16832bf button.colab-df-convert');\n",
              "      buttonEl.style.display =\n",
              "        google.colab.kernel.accessAllowed ? 'block' : 'none';\n",
              "\n",
              "      async function convertToInteractive(key) {\n",
              "        const element = document.querySelector('#df-aff03582-48de-4f82-a669-25b6e16832bf');\n",
              "        const dataTable =\n",
              "          await google.colab.kernel.invokeFunction('convertToInteractive',\n",
              "                                                    [key], {});\n",
              "        if (!dataTable) return;\n",
              "\n",
              "        const docLinkHtml = 'Like what you see? Visit the ' +\n",
              "          '<a target=\"_blank\" href=https://colab.research.google.com/notebooks/data_table.ipynb>data table notebook</a>'\n",
              "          + ' to learn more about interactive tables.';\n",
              "        element.innerHTML = '';\n",
              "        dataTable['output_type'] = 'display_data';\n",
              "        await google.colab.output.renderOutput(dataTable, element);\n",
              "        const docLink = document.createElement('div');\n",
              "        docLink.innerHTML = docLinkHtml;\n",
              "        element.appendChild(docLink);\n",
              "      }\n",
              "    </script>\n",
              "  </div>\n",
              "\n",
              "\n",
              "    <div id=\"df-9ee4fbda-55c3-41e5-b6f7-94ec09147a40\">\n",
              "      <button class=\"colab-df-quickchart\" onclick=\"quickchart('df-9ee4fbda-55c3-41e5-b6f7-94ec09147a40')\"\n",
              "                title=\"Suggest charts\"\n",
              "                style=\"display:none;\">\n",
              "\n",
              "<svg xmlns=\"http://www.w3.org/2000/svg\" height=\"24px\"viewBox=\"0 0 24 24\"\n",
              "     width=\"24px\">\n",
              "    <g>\n",
              "        <path d=\"M19 3H5c-1.1 0-2 .9-2 2v14c0 1.1.9 2 2 2h14c1.1 0 2-.9 2-2V5c0-1.1-.9-2-2-2zM9 17H7v-7h2v7zm4 0h-2V7h2v10zm4 0h-2v-4h2v4z\"/>\n",
              "    </g>\n",
              "</svg>\n",
              "      </button>\n",
              "\n",
              "<style>\n",
              "  .colab-df-quickchart {\n",
              "      --bg-color: #E8F0FE;\n",
              "      --fill-color: #1967D2;\n",
              "      --hover-bg-color: #E2EBFA;\n",
              "      --hover-fill-color: #174EA6;\n",
              "      --disabled-fill-color: #AAA;\n",
              "      --disabled-bg-color: #DDD;\n",
              "  }\n",
              "\n",
              "  [theme=dark] .colab-df-quickchart {\n",
              "      --bg-color: #3B4455;\n",
              "      --fill-color: #D2E3FC;\n",
              "      --hover-bg-color: #434B5C;\n",
              "      --hover-fill-color: #FFFFFF;\n",
              "      --disabled-bg-color: #3B4455;\n",
              "      --disabled-fill-color: #666;\n",
              "  }\n",
              "\n",
              "  .colab-df-quickchart {\n",
              "    background-color: var(--bg-color);\n",
              "    border: none;\n",
              "    border-radius: 50%;\n",
              "    cursor: pointer;\n",
              "    display: none;\n",
              "    fill: var(--fill-color);\n",
              "    height: 32px;\n",
              "    padding: 0;\n",
              "    width: 32px;\n",
              "  }\n",
              "\n",
              "  .colab-df-quickchart:hover {\n",
              "    background-color: var(--hover-bg-color);\n",
              "    box-shadow: 0 1px 2px rgba(60, 64, 67, 0.3), 0 1px 3px 1px rgba(60, 64, 67, 0.15);\n",
              "    fill: var(--button-hover-fill-color);\n",
              "  }\n",
              "\n",
              "  .colab-df-quickchart-complete:disabled,\n",
              "  .colab-df-quickchart-complete:disabled:hover {\n",
              "    background-color: var(--disabled-bg-color);\n",
              "    fill: var(--disabled-fill-color);\n",
              "    box-shadow: none;\n",
              "  }\n",
              "\n",
              "  .colab-df-spinner {\n",
              "    border: 2px solid var(--fill-color);\n",
              "    border-color: transparent;\n",
              "    border-bottom-color: var(--fill-color);\n",
              "    animation:\n",
              "      spin 1s steps(1) infinite;\n",
              "  }\n",
              "\n",
              "  @keyframes spin {\n",
              "    0% {\n",
              "      border-color: transparent;\n",
              "      border-bottom-color: var(--fill-color);\n",
              "      border-left-color: var(--fill-color);\n",
              "    }\n",
              "    20% {\n",
              "      border-color: transparent;\n",
              "      border-left-color: var(--fill-color);\n",
              "      border-top-color: var(--fill-color);\n",
              "    }\n",
              "    30% {\n",
              "      border-color: transparent;\n",
              "      border-left-color: var(--fill-color);\n",
              "      border-top-color: var(--fill-color);\n",
              "      border-right-color: var(--fill-color);\n",
              "    }\n",
              "    40% {\n",
              "      border-color: transparent;\n",
              "      border-right-color: var(--fill-color);\n",
              "      border-top-color: var(--fill-color);\n",
              "    }\n",
              "    60% {\n",
              "      border-color: transparent;\n",
              "      border-right-color: var(--fill-color);\n",
              "    }\n",
              "    80% {\n",
              "      border-color: transparent;\n",
              "      border-right-color: var(--fill-color);\n",
              "      border-bottom-color: var(--fill-color);\n",
              "    }\n",
              "    90% {\n",
              "      border-color: transparent;\n",
              "      border-bottom-color: var(--fill-color);\n",
              "    }\n",
              "  }\n",
              "</style>\n",
              "\n",
              "      <script>\n",
              "        async function quickchart(key) {\n",
              "          const quickchartButtonEl =\n",
              "            document.querySelector('#' + key + ' button');\n",
              "          quickchartButtonEl.disabled = true;  // To prevent multiple clicks.\n",
              "          quickchartButtonEl.classList.add('colab-df-spinner');\n",
              "          try {\n",
              "            const charts = await google.colab.kernel.invokeFunction(\n",
              "                'suggestCharts', [key], {});\n",
              "          } catch (error) {\n",
              "            console.error('Error during call to suggestCharts:', error);\n",
              "          }\n",
              "          quickchartButtonEl.classList.remove('colab-df-spinner');\n",
              "          quickchartButtonEl.classList.add('colab-df-quickchart-complete');\n",
              "        }\n",
              "        (() => {\n",
              "          let quickchartButtonEl =\n",
              "            document.querySelector('#df-9ee4fbda-55c3-41e5-b6f7-94ec09147a40 button');\n",
              "          quickchartButtonEl.style.display =\n",
              "            google.colab.kernel.accessAllowed ? 'block' : 'none';\n",
              "        })();\n",
              "      </script>\n",
              "    </div>\n",
              "\n",
              "    </div>\n",
              "  </div>\n"
            ],
            "application/vnd.google.colaboratory.intrinsic+json": {
              "type": "dataframe",
              "variable_name": "df_news_questions",
              "summary": "{\n  \"name\": \"df_news_questions\",\n  \"rows\": 100,\n  \"fields\": [\n    {\n      \"column\": \"NEWS\",\n      \"properties\": {\n        \"dtype\": \"string\",\n        \"num_unique_values\": 100,\n        \"samples\": [\n          \"Brown & Brown (BRO) reported earnings 30 days ago. What's next for the stock? We take a look at earnings estimates for some clues.\",\n          \"Healthpeak Properties Inc (DOC) reports robust leasing activity and upwardly revised guidance, driven by merger synergies and strategic investments.\",\n          \"Wrapping up Q1 earnings, we look at the numbers and key takeaways for the electrical systems stocks, including Acuity Brands (NYSE:AYI) and its peers.\"\n        ],\n        \"semantic_type\": \"\",\n        \"description\": \"\"\n      }\n    },\n    {\n      \"column\": \"QUESTION\",\n      \"properties\": {\n        \"dtype\": \"string\",\n        \"num_unique_values\": 100,\n        \"samples\": [\n          \"What is the latest update on Brown & Brown's (BRO) stock performance and future predictions?\",\n          \"What recent updates have been reported about Healthpeak Properties Inc's leasing activity and financial guidance?\",\n          \"What is a summary of the Q1 earnings for electrical systems stocks including Acuity Brands?\"\n        ],\n        \"semantic_type\": \"\",\n        \"description\": \"\"\n      }\n    }\n  ]\n}"
            }
          },
          "metadata": {},
          "execution_count": 36
        }
      ]
    },
    {
      "cell_type": "markdown",
      "id": "65d5e121",
      "metadata": {
        "id": "65d5e121"
      },
      "source": [
        "## Evaluating RAG without and with reranking\n",
        "\n",
        "You will now compare a basic RAG pipeline using FAISS with an enhanced version that includes reranking.\n"
      ]
    },
    {
      "cell_type": "markdown",
      "id": "3ce53f22",
      "metadata": {
        "id": "3ce53f22"
      },
      "source": [
        "### RAG without reranking\n",
        "\n",
        "👉 **Instructions**:\n",
        "1. Implement a function that retrieves the **top 5** news summaries for a given question using your FAISS vector store.\n",
        "2. For each `(QUESTION, NEWS)` pair:\n",
        "   - Search using the `QUESTION`\n",
        "   - Check if the corresponding `NEWS` appears in the top 5 retrieved summaries.\n",
        "   - Record the **rank position** (from 0 to 4) in a new column `NO_RERANKER`.\n",
        "   - If the news is **not found**, store `'not found'`.\n",
        "\n",
        "✅ This step helps measure the baseline performance of your vector-based retrieval without reranking.\n",
        "\n",
        "> 💡 Tip: You can store the retrieved results in a dictionary or list to avoid recomputation."
      ]
    },
    {
      "cell_type": "code",
      "execution_count": 37,
      "id": "dc80583b",
      "metadata": {
        "id": "dc80583b"
      },
      "outputs": [],
      "source": [
        "def evaluate_no_reranker(df_questions, store):\n",
        "    ranks = []\n",
        "    for _, row in df_questions.iterrows():\n",
        "        question = row['QUESTION']\n",
        "        target_news = row['NEWS']\n",
        "        results = store.search(question, k=5)\n",
        "        retrieved_texts = [r[0] for r in results]\n",
        "        if target_news in retrieved_texts:\n",
        "            rank = retrieved_texts.index(target_news)\n",
        "        else:\n",
        "            rank = 'not found'\n",
        "        ranks.append(rank)\n",
        "    df_questions['NO_RERANKER'] = ranks"
      ]
    },
    {
      "cell_type": "code",
      "source": [
        "evaluate_no_reranker(df_news_questions, faiss_store)"
      ],
      "metadata": {
        "id": "FBjFbQM6qalw"
      },
      "id": "FBjFbQM6qalw",
      "execution_count": 38,
      "outputs": []
    },
    {
      "cell_type": "code",
      "source": [
        "df_news_questions.head()"
      ],
      "metadata": {
        "colab": {
          "base_uri": "https://localhost:8080/",
          "height": 206
        },
        "id": "WQ8FqttdruL0",
        "outputId": "0d2716f4-51e7-4659-d676-d8a530f78cde"
      },
      "id": "WQ8FqttdruL0",
      "execution_count": 39,
      "outputs": [
        {
          "output_type": "execute_result",
          "data": {
            "text/plain": [
              "                                                NEWS  \\\n",
              "0  Broadcom, Arista Networks initiated: Wall Stre...   \n",
              "1  Emerson Electric (EMR) has received quite a bi...   \n",
              "2  Ventas (VTR) reported earnings 30 days ago. Wh...   \n",
              "3  Nvidia's earnings call this week will be a mar...   \n",
              "4  Inflation-scarred American consumers are putti...   \n",
              "\n",
              "                                            QUESTION NO_RERANKER  \n",
              "0  What are the latest calls made by Wall Street'...           0  \n",
              "1  What recent developments have occurred with Em...           0  \n",
              "2  What is the latest update on Ventas (VTR) stoc...           0  \n",
              "3  What should I know about Nvidia's upcoming ear...           0  \n",
              "4  What is the current behavior of American consu...           3  "
            ],
            "text/html": [
              "\n",
              "  <div id=\"df-76abfeb8-d6a6-4e22-847e-b3b32a598650\" class=\"colab-df-container\">\n",
              "    <div>\n",
              "<style scoped>\n",
              "    .dataframe tbody tr th:only-of-type {\n",
              "        vertical-align: middle;\n",
              "    }\n",
              "\n",
              "    .dataframe tbody tr th {\n",
              "        vertical-align: top;\n",
              "    }\n",
              "\n",
              "    .dataframe thead th {\n",
              "        text-align: right;\n",
              "    }\n",
              "</style>\n",
              "<table border=\"1\" class=\"dataframe\">\n",
              "  <thead>\n",
              "    <tr style=\"text-align: right;\">\n",
              "      <th></th>\n",
              "      <th>NEWS</th>\n",
              "      <th>QUESTION</th>\n",
              "      <th>NO_RERANKER</th>\n",
              "    </tr>\n",
              "  </thead>\n",
              "  <tbody>\n",
              "    <tr>\n",
              "      <th>0</th>\n",
              "      <td>Broadcom, Arista Networks initiated: Wall Stre...</td>\n",
              "      <td>What are the latest calls made by Wall Street'...</td>\n",
              "      <td>0</td>\n",
              "    </tr>\n",
              "    <tr>\n",
              "      <th>1</th>\n",
              "      <td>Emerson Electric (EMR) has received quite a bi...</td>\n",
              "      <td>What recent developments have occurred with Em...</td>\n",
              "      <td>0</td>\n",
              "    </tr>\n",
              "    <tr>\n",
              "      <th>2</th>\n",
              "      <td>Ventas (VTR) reported earnings 30 days ago. Wh...</td>\n",
              "      <td>What is the latest update on Ventas (VTR) stoc...</td>\n",
              "      <td>0</td>\n",
              "    </tr>\n",
              "    <tr>\n",
              "      <th>3</th>\n",
              "      <td>Nvidia's earnings call this week will be a mar...</td>\n",
              "      <td>What should I know about Nvidia's upcoming ear...</td>\n",
              "      <td>0</td>\n",
              "    </tr>\n",
              "    <tr>\n",
              "      <th>4</th>\n",
              "      <td>Inflation-scarred American consumers are putti...</td>\n",
              "      <td>What is the current behavior of American consu...</td>\n",
              "      <td>3</td>\n",
              "    </tr>\n",
              "  </tbody>\n",
              "</table>\n",
              "</div>\n",
              "    <div class=\"colab-df-buttons\">\n",
              "\n",
              "  <div class=\"colab-df-container\">\n",
              "    <button class=\"colab-df-convert\" onclick=\"convertToInteractive('df-76abfeb8-d6a6-4e22-847e-b3b32a598650')\"\n",
              "            title=\"Convert this dataframe to an interactive table.\"\n",
              "            style=\"display:none;\">\n",
              "\n",
              "  <svg xmlns=\"http://www.w3.org/2000/svg\" height=\"24px\" viewBox=\"0 -960 960 960\">\n",
              "    <path d=\"M120-120v-720h720v720H120Zm60-500h600v-160H180v160Zm220 220h160v-160H400v160Zm0 220h160v-160H400v160ZM180-400h160v-160H180v160Zm440 0h160v-160H620v160ZM180-180h160v-160H180v160Zm440 0h160v-160H620v160Z\"/>\n",
              "  </svg>\n",
              "    </button>\n",
              "\n",
              "  <style>\n",
              "    .colab-df-container {\n",
              "      display:flex;\n",
              "      gap: 12px;\n",
              "    }\n",
              "\n",
              "    .colab-df-convert {\n",
              "      background-color: #E8F0FE;\n",
              "      border: none;\n",
              "      border-radius: 50%;\n",
              "      cursor: pointer;\n",
              "      display: none;\n",
              "      fill: #1967D2;\n",
              "      height: 32px;\n",
              "      padding: 0 0 0 0;\n",
              "      width: 32px;\n",
              "    }\n",
              "\n",
              "    .colab-df-convert:hover {\n",
              "      background-color: #E2EBFA;\n",
              "      box-shadow: 0px 1px 2px rgba(60, 64, 67, 0.3), 0px 1px 3px 1px rgba(60, 64, 67, 0.15);\n",
              "      fill: #174EA6;\n",
              "    }\n",
              "\n",
              "    .colab-df-buttons div {\n",
              "      margin-bottom: 4px;\n",
              "    }\n",
              "\n",
              "    [theme=dark] .colab-df-convert {\n",
              "      background-color: #3B4455;\n",
              "      fill: #D2E3FC;\n",
              "    }\n",
              "\n",
              "    [theme=dark] .colab-df-convert:hover {\n",
              "      background-color: #434B5C;\n",
              "      box-shadow: 0px 1px 3px 1px rgba(0, 0, 0, 0.15);\n",
              "      filter: drop-shadow(0px 1px 2px rgba(0, 0, 0, 0.3));\n",
              "      fill: #FFFFFF;\n",
              "    }\n",
              "  </style>\n",
              "\n",
              "    <script>\n",
              "      const buttonEl =\n",
              "        document.querySelector('#df-76abfeb8-d6a6-4e22-847e-b3b32a598650 button.colab-df-convert');\n",
              "      buttonEl.style.display =\n",
              "        google.colab.kernel.accessAllowed ? 'block' : 'none';\n",
              "\n",
              "      async function convertToInteractive(key) {\n",
              "        const element = document.querySelector('#df-76abfeb8-d6a6-4e22-847e-b3b32a598650');\n",
              "        const dataTable =\n",
              "          await google.colab.kernel.invokeFunction('convertToInteractive',\n",
              "                                                    [key], {});\n",
              "        if (!dataTable) return;\n",
              "\n",
              "        const docLinkHtml = 'Like what you see? Visit the ' +\n",
              "          '<a target=\"_blank\" href=https://colab.research.google.com/notebooks/data_table.ipynb>data table notebook</a>'\n",
              "          + ' to learn more about interactive tables.';\n",
              "        element.innerHTML = '';\n",
              "        dataTable['output_type'] = 'display_data';\n",
              "        await google.colab.output.renderOutput(dataTable, element);\n",
              "        const docLink = document.createElement('div');\n",
              "        docLink.innerHTML = docLinkHtml;\n",
              "        element.appendChild(docLink);\n",
              "      }\n",
              "    </script>\n",
              "  </div>\n",
              "\n",
              "\n",
              "    <div id=\"df-c5f47f94-5746-41f6-b979-e867ab144390\">\n",
              "      <button class=\"colab-df-quickchart\" onclick=\"quickchart('df-c5f47f94-5746-41f6-b979-e867ab144390')\"\n",
              "                title=\"Suggest charts\"\n",
              "                style=\"display:none;\">\n",
              "\n",
              "<svg xmlns=\"http://www.w3.org/2000/svg\" height=\"24px\"viewBox=\"0 0 24 24\"\n",
              "     width=\"24px\">\n",
              "    <g>\n",
              "        <path d=\"M19 3H5c-1.1 0-2 .9-2 2v14c0 1.1.9 2 2 2h14c1.1 0 2-.9 2-2V5c0-1.1-.9-2-2-2zM9 17H7v-7h2v7zm4 0h-2V7h2v10zm4 0h-2v-4h2v4z\"/>\n",
              "    </g>\n",
              "</svg>\n",
              "      </button>\n",
              "\n",
              "<style>\n",
              "  .colab-df-quickchart {\n",
              "      --bg-color: #E8F0FE;\n",
              "      --fill-color: #1967D2;\n",
              "      --hover-bg-color: #E2EBFA;\n",
              "      --hover-fill-color: #174EA6;\n",
              "      --disabled-fill-color: #AAA;\n",
              "      --disabled-bg-color: #DDD;\n",
              "  }\n",
              "\n",
              "  [theme=dark] .colab-df-quickchart {\n",
              "      --bg-color: #3B4455;\n",
              "      --fill-color: #D2E3FC;\n",
              "      --hover-bg-color: #434B5C;\n",
              "      --hover-fill-color: #FFFFFF;\n",
              "      --disabled-bg-color: #3B4455;\n",
              "      --disabled-fill-color: #666;\n",
              "  }\n",
              "\n",
              "  .colab-df-quickchart {\n",
              "    background-color: var(--bg-color);\n",
              "    border: none;\n",
              "    border-radius: 50%;\n",
              "    cursor: pointer;\n",
              "    display: none;\n",
              "    fill: var(--fill-color);\n",
              "    height: 32px;\n",
              "    padding: 0;\n",
              "    width: 32px;\n",
              "  }\n",
              "\n",
              "  .colab-df-quickchart:hover {\n",
              "    background-color: var(--hover-bg-color);\n",
              "    box-shadow: 0 1px 2px rgba(60, 64, 67, 0.3), 0 1px 3px 1px rgba(60, 64, 67, 0.15);\n",
              "    fill: var(--button-hover-fill-color);\n",
              "  }\n",
              "\n",
              "  .colab-df-quickchart-complete:disabled,\n",
              "  .colab-df-quickchart-complete:disabled:hover {\n",
              "    background-color: var(--disabled-bg-color);\n",
              "    fill: var(--disabled-fill-color);\n",
              "    box-shadow: none;\n",
              "  }\n",
              "\n",
              "  .colab-df-spinner {\n",
              "    border: 2px solid var(--fill-color);\n",
              "    border-color: transparent;\n",
              "    border-bottom-color: var(--fill-color);\n",
              "    animation:\n",
              "      spin 1s steps(1) infinite;\n",
              "  }\n",
              "\n",
              "  @keyframes spin {\n",
              "    0% {\n",
              "      border-color: transparent;\n",
              "      border-bottom-color: var(--fill-color);\n",
              "      border-left-color: var(--fill-color);\n",
              "    }\n",
              "    20% {\n",
              "      border-color: transparent;\n",
              "      border-left-color: var(--fill-color);\n",
              "      border-top-color: var(--fill-color);\n",
              "    }\n",
              "    30% {\n",
              "      border-color: transparent;\n",
              "      border-left-color: var(--fill-color);\n",
              "      border-top-color: var(--fill-color);\n",
              "      border-right-color: var(--fill-color);\n",
              "    }\n",
              "    40% {\n",
              "      border-color: transparent;\n",
              "      border-right-color: var(--fill-color);\n",
              "      border-top-color: var(--fill-color);\n",
              "    }\n",
              "    60% {\n",
              "      border-color: transparent;\n",
              "      border-right-color: var(--fill-color);\n",
              "    }\n",
              "    80% {\n",
              "      border-color: transparent;\n",
              "      border-right-color: var(--fill-color);\n",
              "      border-bottom-color: var(--fill-color);\n",
              "    }\n",
              "    90% {\n",
              "      border-color: transparent;\n",
              "      border-bottom-color: var(--fill-color);\n",
              "    }\n",
              "  }\n",
              "</style>\n",
              "\n",
              "      <script>\n",
              "        async function quickchart(key) {\n",
              "          const quickchartButtonEl =\n",
              "            document.querySelector('#' + key + ' button');\n",
              "          quickchartButtonEl.disabled = true;  // To prevent multiple clicks.\n",
              "          quickchartButtonEl.classList.add('colab-df-spinner');\n",
              "          try {\n",
              "            const charts = await google.colab.kernel.invokeFunction(\n",
              "                'suggestCharts', [key], {});\n",
              "          } catch (error) {\n",
              "            console.error('Error during call to suggestCharts:', error);\n",
              "          }\n",
              "          quickchartButtonEl.classList.remove('colab-df-spinner');\n",
              "          quickchartButtonEl.classList.add('colab-df-quickchart-complete');\n",
              "        }\n",
              "        (() => {\n",
              "          let quickchartButtonEl =\n",
              "            document.querySelector('#df-c5f47f94-5746-41f6-b979-e867ab144390 button');\n",
              "          quickchartButtonEl.style.display =\n",
              "            google.colab.kernel.accessAllowed ? 'block' : 'none';\n",
              "        })();\n",
              "      </script>\n",
              "    </div>\n",
              "\n",
              "    </div>\n",
              "  </div>\n"
            ],
            "application/vnd.google.colaboratory.intrinsic+json": {
              "type": "dataframe",
              "variable_name": "df_news_questions",
              "summary": "{\n  \"name\": \"df_news_questions\",\n  \"rows\": 100,\n  \"fields\": [\n    {\n      \"column\": \"NEWS\",\n      \"properties\": {\n        \"dtype\": \"string\",\n        \"num_unique_values\": 100,\n        \"samples\": [\n          \"Brown & Brown (BRO) reported earnings 30 days ago. What's next for the stock? We take a look at earnings estimates for some clues.\",\n          \"Healthpeak Properties Inc (DOC) reports robust leasing activity and upwardly revised guidance, driven by merger synergies and strategic investments.\",\n          \"Wrapping up Q1 earnings, we look at the numbers and key takeaways for the electrical systems stocks, including Acuity Brands (NYSE:AYI) and its peers.\"\n        ],\n        \"semantic_type\": \"\",\n        \"description\": \"\"\n      }\n    },\n    {\n      \"column\": \"QUESTION\",\n      \"properties\": {\n        \"dtype\": \"string\",\n        \"num_unique_values\": 100,\n        \"samples\": [\n          \"What is the latest update on Brown & Brown's (BRO) stock performance and future predictions?\",\n          \"What recent updates have been reported about Healthpeak Properties Inc's leasing activity and financial guidance?\",\n          \"What is a summary of the Q1 earnings for electrical systems stocks including Acuity Brands?\"\n        ],\n        \"semantic_type\": \"\",\n        \"description\": \"\"\n      }\n    },\n    {\n      \"column\": \"NO_RERANKER\",\n      \"properties\": {\n        \"dtype\": \"category\",\n        \"num_unique_values\": 6,\n        \"samples\": [\n          0,\n          3,\n          4\n        ],\n        \"semantic_type\": \"\",\n        \"description\": \"\"\n      }\n    }\n  ]\n}"
            }
          },
          "metadata": {},
          "execution_count": 39
        }
      ]
    },
    {
      "cell_type": "markdown",
      "source": [
        "### Print a count of the NO_RERANKER values"
      ],
      "metadata": {
        "id": "8cxMBo7xtAis"
      },
      "id": "8cxMBo7xtAis"
    },
    {
      "cell_type": "code",
      "source": [
        "no_reranker_count = df_news_questions['NO_RERANKER'].value_counts(dropna=False)\n",
        "\n",
        "for val, qty in no_reranker_count.items():\n",
        "    print(f\"value: {val} → {qty} records\")"
      ],
      "metadata": {
        "colab": {
          "base_uri": "https://localhost:8080/"
        },
        "id": "RDNC9VYQsqLh",
        "outputId": "58929b15-b1f1-4447-b931-b581a84c51c9"
      },
      "id": "RDNC9VYQsqLh",
      "execution_count": 41,
      "outputs": [
        {
          "output_type": "stream",
          "name": "stdout",
          "text": [
            "value: 0 → 86 records\n",
            "value: 1 → 5 records\n",
            "value: not found → 4 records\n",
            "value: 2 → 3 records\n",
            "value: 3 → 1 records\n",
            "value: 4 → 1 records\n"
          ]
        }
      ]
    },
    {
      "cell_type": "markdown",
      "id": "68e97722",
      "metadata": {
        "id": "68e97722"
      },
      "source": [
        "### RAG with reranking\n",
        "In this section, you will add reranking using a cross-encoder model (`ms-marco-MiniLM-L12-v2`) to improve retrieval.\n",
        "\n",
        "👉 **Instructions**:\n",
        "1. Retrieve the **top 100** summaries from FAISS for each question.\n",
        "2. Rerank these summaries using the CrossEncoder model: `cross-encoder/ms-marco-MiniLM-L12-v2`.\n",
        "For each question, retrieve the top-100 summaries from FAISS, then rerank only those 100 using the CrossEncoder model.\n",
        "3. Return the **top 5** reranked results.\n",
        "4. For each `(QUESTION, NEWS)` pair, record the new rank (0–4) of the correct news in a new column: `WITH_RERANKER`.\n",
        "5. Again, if the news is not found, store `'not found'`.\n",
        "\n",
        "✅ This step lets you evaluate how much the reranker improves the relevance of retrieved results.\n",
        "\n",
        "> ℹ️ The CrossEncoder scores each (question, summary) pair individually, so this step may take longer to run.\n",
        "\n"
      ]
    },
    {
      "cell_type": "markdown",
      "source": [
        "### Import CrossEncoder"
      ],
      "metadata": {
        "id": "NqA22atzuAYL"
      },
      "id": "NqA22atzuAYL"
    },
    {
      "cell_type": "code",
      "execution_count": null,
      "id": "688bc28c",
      "metadata": {
        "id": "688bc28c"
      },
      "outputs": [],
      "source": [
        "from sentence_transformers import CrossEncoder"
      ]
    },
    {
      "cell_type": "markdown",
      "source": [
        "### Test cross encoder"
      ],
      "metadata": {
        "id": "P4Ev3zT7uC3t"
      },
      "id": "P4Ev3zT7uC3t"
    },
    {
      "cell_type": "code",
      "execution_count": 43,
      "id": "4aa6808a",
      "metadata": {
        "colab": {
          "base_uri": "https://localhost:8080/"
        },
        "id": "4aa6808a",
        "outputId": "0f7ff9d7-a4cc-443f-c3d0-5d131a16e5a0"
      },
      "outputs": [
        {
          "output_type": "stream",
          "name": "stdout",
          "text": [
            "[ 9.218912  -4.0780306]\n"
          ]
        }
      ],
      "source": [
        "cross_encoder = CrossEncoder('cross-encoder/ms-marco-MiniLM-L12-v2')\n",
        "scores = cross_encoder.predict([\n",
        "    (\"How many people live in Berlin?\", \"Berlin had a population of 3,520,031 registered inhabitants in an area of 891.82 square kilometers.\"),\n",
        "    (\"How many people live in Berlin?\", \"Berlin is well known for its museums.\"),\n",
        "])\n",
        "print(scores)"
      ]
    },
    {
      "cell_type": "markdown",
      "source": [
        "### Create reranker function"
      ],
      "metadata": {
        "id": "LL3ACyutuHK7"
      },
      "id": "LL3ACyutuHK7"
    },
    {
      "cell_type": "code",
      "source": [
        "def evaluate_with_reranker(df_questions, store, reranker):\n",
        "    rerank_ranks = []\n",
        "    for _, row in df_questions.iterrows():\n",
        "        question = row['QUESTION']\n",
        "        target_news = row['NEWS']\n",
        "        results = store.search(question, k=100)\n",
        "        candidate_texts = [r[0] for r in results]\n",
        "        pairs = [(question, doc) for doc in candidate_texts]\n",
        "        scores = reranker.predict(pairs)\n",
        "        sorted_indices = np.argsort(scores)[::-1]\n",
        "        top_5_indices = sorted_indices[:5]\n",
        "        top_5_texts = [candidate_texts[i] for i in top_5_indices]\n",
        "        if target_news in top_5_texts:\n",
        "            rank = top_5_texts.index(target_news)\n",
        "        else:\n",
        "            rank = 'not found'\n",
        "        rerank_ranks.append(rank)\n",
        "    df_questions['WITH_RERANKER'] = rerank_ranks"
      ],
      "metadata": {
        "id": "zOx4Df84tsBs"
      },
      "id": "zOx4Df84tsBs",
      "execution_count": 44,
      "outputs": []
    },
    {
      "cell_type": "code",
      "source": [
        "evaluate_with_reranker(df_news_questions, faiss_store, cross_encoder)"
      ],
      "metadata": {
        "id": "XVZ9cQZat1um"
      },
      "id": "XVZ9cQZat1um",
      "execution_count": 45,
      "outputs": []
    },
    {
      "cell_type": "code",
      "source": [
        "df_news_questions.head()"
      ],
      "metadata": {
        "colab": {
          "base_uri": "https://localhost:8080/",
          "height": 206
        },
        "id": "EiYl6zAuzwmg",
        "outputId": "ac8070b4-f9ab-4fd6-dabc-036f340babf0"
      },
      "id": "EiYl6zAuzwmg",
      "execution_count": 46,
      "outputs": [
        {
          "output_type": "execute_result",
          "data": {
            "text/plain": [
              "                                                NEWS  \\\n",
              "0  Broadcom, Arista Networks initiated: Wall Stre...   \n",
              "1  Emerson Electric (EMR) has received quite a bi...   \n",
              "2  Ventas (VTR) reported earnings 30 days ago. Wh...   \n",
              "3  Nvidia's earnings call this week will be a mar...   \n",
              "4  Inflation-scarred American consumers are putti...   \n",
              "\n",
              "                                            QUESTION NO_RERANKER WITH_RERANKER  \n",
              "0  What are the latest calls made by Wall Street'...           0             0  \n",
              "1  What recent developments have occurred with Em...           0             0  \n",
              "2  What is the latest update on Ventas (VTR) stoc...           0             0  \n",
              "3  What should I know about Nvidia's upcoming ear...           0             0  \n",
              "4  What is the current behavior of American consu...           3             0  "
            ],
            "text/html": [
              "\n",
              "  <div id=\"df-c2e013db-13cf-466b-9955-d999d9bd9b5e\" class=\"colab-df-container\">\n",
              "    <div>\n",
              "<style scoped>\n",
              "    .dataframe tbody tr th:only-of-type {\n",
              "        vertical-align: middle;\n",
              "    }\n",
              "\n",
              "    .dataframe tbody tr th {\n",
              "        vertical-align: top;\n",
              "    }\n",
              "\n",
              "    .dataframe thead th {\n",
              "        text-align: right;\n",
              "    }\n",
              "</style>\n",
              "<table border=\"1\" class=\"dataframe\">\n",
              "  <thead>\n",
              "    <tr style=\"text-align: right;\">\n",
              "      <th></th>\n",
              "      <th>NEWS</th>\n",
              "      <th>QUESTION</th>\n",
              "      <th>NO_RERANKER</th>\n",
              "      <th>WITH_RERANKER</th>\n",
              "    </tr>\n",
              "  </thead>\n",
              "  <tbody>\n",
              "    <tr>\n",
              "      <th>0</th>\n",
              "      <td>Broadcom, Arista Networks initiated: Wall Stre...</td>\n",
              "      <td>What are the latest calls made by Wall Street'...</td>\n",
              "      <td>0</td>\n",
              "      <td>0</td>\n",
              "    </tr>\n",
              "    <tr>\n",
              "      <th>1</th>\n",
              "      <td>Emerson Electric (EMR) has received quite a bi...</td>\n",
              "      <td>What recent developments have occurred with Em...</td>\n",
              "      <td>0</td>\n",
              "      <td>0</td>\n",
              "    </tr>\n",
              "    <tr>\n",
              "      <th>2</th>\n",
              "      <td>Ventas (VTR) reported earnings 30 days ago. Wh...</td>\n",
              "      <td>What is the latest update on Ventas (VTR) stoc...</td>\n",
              "      <td>0</td>\n",
              "      <td>0</td>\n",
              "    </tr>\n",
              "    <tr>\n",
              "      <th>3</th>\n",
              "      <td>Nvidia's earnings call this week will be a mar...</td>\n",
              "      <td>What should I know about Nvidia's upcoming ear...</td>\n",
              "      <td>0</td>\n",
              "      <td>0</td>\n",
              "    </tr>\n",
              "    <tr>\n",
              "      <th>4</th>\n",
              "      <td>Inflation-scarred American consumers are putti...</td>\n",
              "      <td>What is the current behavior of American consu...</td>\n",
              "      <td>3</td>\n",
              "      <td>0</td>\n",
              "    </tr>\n",
              "  </tbody>\n",
              "</table>\n",
              "</div>\n",
              "    <div class=\"colab-df-buttons\">\n",
              "\n",
              "  <div class=\"colab-df-container\">\n",
              "    <button class=\"colab-df-convert\" onclick=\"convertToInteractive('df-c2e013db-13cf-466b-9955-d999d9bd9b5e')\"\n",
              "            title=\"Convert this dataframe to an interactive table.\"\n",
              "            style=\"display:none;\">\n",
              "\n",
              "  <svg xmlns=\"http://www.w3.org/2000/svg\" height=\"24px\" viewBox=\"0 -960 960 960\">\n",
              "    <path d=\"M120-120v-720h720v720H120Zm60-500h600v-160H180v160Zm220 220h160v-160H400v160Zm0 220h160v-160H400v160ZM180-400h160v-160H180v160Zm440 0h160v-160H620v160ZM180-180h160v-160H180v160Zm440 0h160v-160H620v160Z\"/>\n",
              "  </svg>\n",
              "    </button>\n",
              "\n",
              "  <style>\n",
              "    .colab-df-container {\n",
              "      display:flex;\n",
              "      gap: 12px;\n",
              "    }\n",
              "\n",
              "    .colab-df-convert {\n",
              "      background-color: #E8F0FE;\n",
              "      border: none;\n",
              "      border-radius: 50%;\n",
              "      cursor: pointer;\n",
              "      display: none;\n",
              "      fill: #1967D2;\n",
              "      height: 32px;\n",
              "      padding: 0 0 0 0;\n",
              "      width: 32px;\n",
              "    }\n",
              "\n",
              "    .colab-df-convert:hover {\n",
              "      background-color: #E2EBFA;\n",
              "      box-shadow: 0px 1px 2px rgba(60, 64, 67, 0.3), 0px 1px 3px 1px rgba(60, 64, 67, 0.15);\n",
              "      fill: #174EA6;\n",
              "    }\n",
              "\n",
              "    .colab-df-buttons div {\n",
              "      margin-bottom: 4px;\n",
              "    }\n",
              "\n",
              "    [theme=dark] .colab-df-convert {\n",
              "      background-color: #3B4455;\n",
              "      fill: #D2E3FC;\n",
              "    }\n",
              "\n",
              "    [theme=dark] .colab-df-convert:hover {\n",
              "      background-color: #434B5C;\n",
              "      box-shadow: 0px 1px 3px 1px rgba(0, 0, 0, 0.15);\n",
              "      filter: drop-shadow(0px 1px 2px rgba(0, 0, 0, 0.3));\n",
              "      fill: #FFFFFF;\n",
              "    }\n",
              "  </style>\n",
              "\n",
              "    <script>\n",
              "      const buttonEl =\n",
              "        document.querySelector('#df-c2e013db-13cf-466b-9955-d999d9bd9b5e button.colab-df-convert');\n",
              "      buttonEl.style.display =\n",
              "        google.colab.kernel.accessAllowed ? 'block' : 'none';\n",
              "\n",
              "      async function convertToInteractive(key) {\n",
              "        const element = document.querySelector('#df-c2e013db-13cf-466b-9955-d999d9bd9b5e');\n",
              "        const dataTable =\n",
              "          await google.colab.kernel.invokeFunction('convertToInteractive',\n",
              "                                                    [key], {});\n",
              "        if (!dataTable) return;\n",
              "\n",
              "        const docLinkHtml = 'Like what you see? Visit the ' +\n",
              "          '<a target=\"_blank\" href=https://colab.research.google.com/notebooks/data_table.ipynb>data table notebook</a>'\n",
              "          + ' to learn more about interactive tables.';\n",
              "        element.innerHTML = '';\n",
              "        dataTable['output_type'] = 'display_data';\n",
              "        await google.colab.output.renderOutput(dataTable, element);\n",
              "        const docLink = document.createElement('div');\n",
              "        docLink.innerHTML = docLinkHtml;\n",
              "        element.appendChild(docLink);\n",
              "      }\n",
              "    </script>\n",
              "  </div>\n",
              "\n",
              "\n",
              "    <div id=\"df-ad02d8d6-1042-475c-b465-a4ae323e557a\">\n",
              "      <button class=\"colab-df-quickchart\" onclick=\"quickchart('df-ad02d8d6-1042-475c-b465-a4ae323e557a')\"\n",
              "                title=\"Suggest charts\"\n",
              "                style=\"display:none;\">\n",
              "\n",
              "<svg xmlns=\"http://www.w3.org/2000/svg\" height=\"24px\"viewBox=\"0 0 24 24\"\n",
              "     width=\"24px\">\n",
              "    <g>\n",
              "        <path d=\"M19 3H5c-1.1 0-2 .9-2 2v14c0 1.1.9 2 2 2h14c1.1 0 2-.9 2-2V5c0-1.1-.9-2-2-2zM9 17H7v-7h2v7zm4 0h-2V7h2v10zm4 0h-2v-4h2v4z\"/>\n",
              "    </g>\n",
              "</svg>\n",
              "      </button>\n",
              "\n",
              "<style>\n",
              "  .colab-df-quickchart {\n",
              "      --bg-color: #E8F0FE;\n",
              "      --fill-color: #1967D2;\n",
              "      --hover-bg-color: #E2EBFA;\n",
              "      --hover-fill-color: #174EA6;\n",
              "      --disabled-fill-color: #AAA;\n",
              "      --disabled-bg-color: #DDD;\n",
              "  }\n",
              "\n",
              "  [theme=dark] .colab-df-quickchart {\n",
              "      --bg-color: #3B4455;\n",
              "      --fill-color: #D2E3FC;\n",
              "      --hover-bg-color: #434B5C;\n",
              "      --hover-fill-color: #FFFFFF;\n",
              "      --disabled-bg-color: #3B4455;\n",
              "      --disabled-fill-color: #666;\n",
              "  }\n",
              "\n",
              "  .colab-df-quickchart {\n",
              "    background-color: var(--bg-color);\n",
              "    border: none;\n",
              "    border-radius: 50%;\n",
              "    cursor: pointer;\n",
              "    display: none;\n",
              "    fill: var(--fill-color);\n",
              "    height: 32px;\n",
              "    padding: 0;\n",
              "    width: 32px;\n",
              "  }\n",
              "\n",
              "  .colab-df-quickchart:hover {\n",
              "    background-color: var(--hover-bg-color);\n",
              "    box-shadow: 0 1px 2px rgba(60, 64, 67, 0.3), 0 1px 3px 1px rgba(60, 64, 67, 0.15);\n",
              "    fill: var(--button-hover-fill-color);\n",
              "  }\n",
              "\n",
              "  .colab-df-quickchart-complete:disabled,\n",
              "  .colab-df-quickchart-complete:disabled:hover {\n",
              "    background-color: var(--disabled-bg-color);\n",
              "    fill: var(--disabled-fill-color);\n",
              "    box-shadow: none;\n",
              "  }\n",
              "\n",
              "  .colab-df-spinner {\n",
              "    border: 2px solid var(--fill-color);\n",
              "    border-color: transparent;\n",
              "    border-bottom-color: var(--fill-color);\n",
              "    animation:\n",
              "      spin 1s steps(1) infinite;\n",
              "  }\n",
              "\n",
              "  @keyframes spin {\n",
              "    0% {\n",
              "      border-color: transparent;\n",
              "      border-bottom-color: var(--fill-color);\n",
              "      border-left-color: var(--fill-color);\n",
              "    }\n",
              "    20% {\n",
              "      border-color: transparent;\n",
              "      border-left-color: var(--fill-color);\n",
              "      border-top-color: var(--fill-color);\n",
              "    }\n",
              "    30% {\n",
              "      border-color: transparent;\n",
              "      border-left-color: var(--fill-color);\n",
              "      border-top-color: var(--fill-color);\n",
              "      border-right-color: var(--fill-color);\n",
              "    }\n",
              "    40% {\n",
              "      border-color: transparent;\n",
              "      border-right-color: var(--fill-color);\n",
              "      border-top-color: var(--fill-color);\n",
              "    }\n",
              "    60% {\n",
              "      border-color: transparent;\n",
              "      border-right-color: var(--fill-color);\n",
              "    }\n",
              "    80% {\n",
              "      border-color: transparent;\n",
              "      border-right-color: var(--fill-color);\n",
              "      border-bottom-color: var(--fill-color);\n",
              "    }\n",
              "    90% {\n",
              "      border-color: transparent;\n",
              "      border-bottom-color: var(--fill-color);\n",
              "    }\n",
              "  }\n",
              "</style>\n",
              "\n",
              "      <script>\n",
              "        async function quickchart(key) {\n",
              "          const quickchartButtonEl =\n",
              "            document.querySelector('#' + key + ' button');\n",
              "          quickchartButtonEl.disabled = true;  // To prevent multiple clicks.\n",
              "          quickchartButtonEl.classList.add('colab-df-spinner');\n",
              "          try {\n",
              "            const charts = await google.colab.kernel.invokeFunction(\n",
              "                'suggestCharts', [key], {});\n",
              "          } catch (error) {\n",
              "            console.error('Error during call to suggestCharts:', error);\n",
              "          }\n",
              "          quickchartButtonEl.classList.remove('colab-df-spinner');\n",
              "          quickchartButtonEl.classList.add('colab-df-quickchart-complete');\n",
              "        }\n",
              "        (() => {\n",
              "          let quickchartButtonEl =\n",
              "            document.querySelector('#df-ad02d8d6-1042-475c-b465-a4ae323e557a button');\n",
              "          quickchartButtonEl.style.display =\n",
              "            google.colab.kernel.accessAllowed ? 'block' : 'none';\n",
              "        })();\n",
              "      </script>\n",
              "    </div>\n",
              "\n",
              "    </div>\n",
              "  </div>\n"
            ],
            "application/vnd.google.colaboratory.intrinsic+json": {
              "type": "dataframe",
              "variable_name": "df_news_questions",
              "summary": "{\n  \"name\": \"df_news_questions\",\n  \"rows\": 100,\n  \"fields\": [\n    {\n      \"column\": \"NEWS\",\n      \"properties\": {\n        \"dtype\": \"string\",\n        \"num_unique_values\": 100,\n        \"samples\": [\n          \"Brown & Brown (BRO) reported earnings 30 days ago. What's next for the stock? We take a look at earnings estimates for some clues.\",\n          \"Healthpeak Properties Inc (DOC) reports robust leasing activity and upwardly revised guidance, driven by merger synergies and strategic investments.\",\n          \"Wrapping up Q1 earnings, we look at the numbers and key takeaways for the electrical systems stocks, including Acuity Brands (NYSE:AYI) and its peers.\"\n        ],\n        \"semantic_type\": \"\",\n        \"description\": \"\"\n      }\n    },\n    {\n      \"column\": \"QUESTION\",\n      \"properties\": {\n        \"dtype\": \"string\",\n        \"num_unique_values\": 100,\n        \"samples\": [\n          \"What is the latest update on Brown & Brown's (BRO) stock performance and future predictions?\",\n          \"What recent updates have been reported about Healthpeak Properties Inc's leasing activity and financial guidance?\",\n          \"What is a summary of the Q1 earnings for electrical systems stocks including Acuity Brands?\"\n        ],\n        \"semantic_type\": \"\",\n        \"description\": \"\"\n      }\n    },\n    {\n      \"column\": \"NO_RERANKER\",\n      \"properties\": {\n        \"dtype\": \"category\",\n        \"num_unique_values\": 6,\n        \"samples\": [\n          0,\n          3,\n          4\n        ],\n        \"semantic_type\": \"\",\n        \"description\": \"\"\n      }\n    },\n    {\n      \"column\": \"WITH_RERANKER\",\n      \"properties\": {\n        \"dtype\": \"category\",\n        \"num_unique_values\": 6,\n        \"samples\": [\n          0,\n          3,\n          2\n        ],\n        \"semantic_type\": \"\",\n        \"description\": \"\"\n      }\n    }\n  ]\n}"
            }
          },
          "metadata": {},
          "execution_count": 46
        }
      ]
    },
    {
      "cell_type": "code",
      "source": [
        "reranker_count = df_news_questions['WITH_RERANKER'].value_counts(dropna=False)\n",
        "\n",
        "for val, qty in reranker_count.items():\n",
        "    print(f\"value: {val} → {qty} records\")"
      ],
      "metadata": {
        "colab": {
          "base_uri": "https://localhost:8080/"
        },
        "id": "T_FvRZ5Nz6I7",
        "outputId": "d0d8e8e8-d23a-40e2-81bf-9a018f89f941"
      },
      "id": "T_FvRZ5Nz6I7",
      "execution_count": 47,
      "outputs": [
        {
          "output_type": "stream",
          "name": "stdout",
          "text": [
            "value: 0 → 91 records\n",
            "value: 3 → 3 records\n",
            "value: 2 → 2 records\n",
            "value: not found → 2 records\n",
            "value: 4 → 1 records\n",
            "value: 1 → 1 records\n"
          ]
        }
      ]
    },
    {
      "cell_type": "markdown",
      "id": "809ec2ce",
      "metadata": {
        "id": "809ec2ce"
      },
      "source": [
        "## Comparison and analysis\n",
        "\n",
        "👉 **Instructions**:\n",
        "- Analyze the impact of reranking using your results.\n",
        "- Write short answers to the following:\n",
        "  1. Did reranking improve the **average position** of the correct news?\n",
        "  2. How often was the correct article at **position 0** with and without reranking?\n",
        "- You may use:\n",
        "  - Value counts (`.value_counts()`)\n",
        "  - Descriptive statistics (`.mean()`, `.median()`)\n",
        "  - Simple plots (e.g. bar charts or histograms)\n",
        "\n",
        "✅ This is your opportunity to reflect on the performance of the reranker and think critically about retrieval quality.\n",
        "\n",
        "> ✨ Optional: You can create a summary table comparing the overall accuracy and coverage between the two methods."
      ]
    },
    {
      "cell_type": "code",
      "execution_count": 48,
      "id": "56463740",
      "metadata": {
        "id": "56463740"
      },
      "outputs": [],
      "source": [
        "rank_values = [0, 1, 2, 3, 4, 'not found']\n",
        "\n",
        "comparison_table = pd.DataFrame({\n",
        "    'NO_RERANKER': [sum(df_news_questions['NO_RERANKER'] == val) for val in rank_values],\n",
        "    'WITH_RERANKER': [sum(df_news_questions['WITH_RERANKER'] == val) for val in rank_values]\n",
        "}, index=rank_values)"
      ]
    },
    {
      "cell_type": "code",
      "source": [
        "print(\"Comparative Table:\")\n",
        "print(comparison_table)"
      ],
      "metadata": {
        "colab": {
          "base_uri": "https://localhost:8080/"
        },
        "id": "IEb4gO-Q0Rho",
        "outputId": "34c584c7-0a87-4623-c3ad-d32a0bd44a46"
      },
      "id": "IEb4gO-Q0Rho",
      "execution_count": 49,
      "outputs": [
        {
          "output_type": "stream",
          "name": "stdout",
          "text": [
            "Comparative Table:\n",
            "           NO_RERANKER  WITH_RERANKER\n",
            "0                   86             91\n",
            "1                    5              1\n",
            "2                    3              2\n",
            "3                    1              3\n",
            "4                    1              1\n",
            "not found            4              2\n"
          ]
        }
      ]
    },
    {
      "cell_type": "markdown",
      "source": [
        "### Exclude not found"
      ],
      "metadata": {
        "id": "TzO7Phyh0nNL"
      },
      "id": "TzO7Phyh0nNL"
    },
    {
      "cell_type": "code",
      "source": [
        "no_reranker_numeric = df_news_questions['NO_RERANKER'].apply(lambda x: x if isinstance(x, int) else None)\n",
        "with_reranker_numeric = df_news_questions['WITH_RERANKER'].apply(lambda x: x if isinstance(x, int) else None)"
      ],
      "metadata": {
        "id": "KspOMj9M0abP"
      },
      "id": "KspOMj9M0abP",
      "execution_count": 50,
      "outputs": []
    },
    {
      "cell_type": "markdown",
      "source": [
        "### Calculate mean"
      ],
      "metadata": {
        "id": "cAoG25nr1itB"
      },
      "id": "cAoG25nr1itB"
    },
    {
      "cell_type": "code",
      "source": [
        "mean_no_reranker = no_reranker_numeric.mean()\n",
        "mean_with_reranker = with_reranker_numeric.mean()"
      ],
      "metadata": {
        "id": "UDOTGzp40sso"
      },
      "id": "UDOTGzp40sso",
      "execution_count": 51,
      "outputs": []
    },
    {
      "cell_type": "code",
      "source": [
        "print(f\"\\nMean NO_RERANKER: {mean_no_reranker}\")\n",
        "print(f\"Mean WITH_RERANKER: {mean_with_reranker}\")"
      ],
      "metadata": {
        "colab": {
          "base_uri": "https://localhost:8080/"
        },
        "id": "mv2d9r4h0vvL",
        "outputId": "32956154-16f6-4326-bc58-5eab5461ebec"
      },
      "id": "mv2d9r4h0vvL",
      "execution_count": 52,
      "outputs": [
        {
          "output_type": "stream",
          "name": "stdout",
          "text": [
            "\n",
            "Mean NO_RERANKER: 0.1875\n",
            "Mean WITH_RERANKER: 0.1836734693877551\n"
          ]
        }
      ]
    },
    {
      "cell_type": "markdown",
      "source": [
        "### Calculate median"
      ],
      "metadata": {
        "id": "FgjZasvN1lI3"
      },
      "id": "FgjZasvN1lI3"
    },
    {
      "cell_type": "code",
      "source": [
        "median_no_reranker = no_reranker_numeric.median()\n",
        "median_with_reranker = with_reranker_numeric.median()"
      ],
      "metadata": {
        "id": "zgLWpor11P-_"
      },
      "id": "zgLWpor11P-_",
      "execution_count": 54,
      "outputs": []
    },
    {
      "cell_type": "code",
      "source": [
        "print(f\"\\nMedian NO_RERANKER: {median_no_reranker}\")\n",
        "print(f\"Median WITH_RERANKER: {median_with_reranker}\")"
      ],
      "metadata": {
        "colab": {
          "base_uri": "https://localhost:8080/"
        },
        "id": "ExuiY0J51XYM",
        "outputId": "5c5390ee-e6ff-453b-e96d-b5db30e09fa7"
      },
      "id": "ExuiY0J51XYM",
      "execution_count": 56,
      "outputs": [
        {
          "output_type": "stream",
          "name": "stdout",
          "text": [
            "\n",
            "Median NO_RERANKER: 0.0\n",
            "Median WITH_RERANKER: 0.0\n"
          ]
        }
      ]
    },
    {
      "cell_type": "markdown",
      "source": [
        "### No Reranker vs With Reranker comparisson chart"
      ],
      "metadata": {
        "id": "D2R057tv1CvO"
      },
      "id": "D2R057tv1CvO"
    },
    {
      "cell_type": "code",
      "source": [
        "x_labels = [str(val) for val in rank_values]\n",
        "x = range(len(rank_values))\n",
        "\n",
        "plt.figure(figsize=(10, 6))\n",
        "plt.bar(x, comparison_table['NO_RERANKER'], width=0.4, label='NO_RERANKER', align='center')\n",
        "plt.bar([i + 0.4 for i in x], comparison_table['WITH_RERANKER'], width=0.4, label='WITH_RERANKER', align='center')\n",
        "plt.xticks([i + 0.2 for i in x], x_labels)\n",
        "plt.xlabel('Rank Position')\n",
        "plt.ylabel('Count')\n",
        "plt.title('Comparison of Retrieval Ranks With and Without Reranker')\n",
        "plt.legend()\n",
        "plt.grid(axis='y')\n",
        "plt.tight_layout()\n",
        "plt.show()"
      ],
      "metadata": {
        "colab": {
          "base_uri": "https://localhost:8080/",
          "height": 607
        },
        "id": "iuJOf_-E05Pv",
        "outputId": "2d0bf173-fe9b-4b5e-dd13-30db9ca7fdaf"
      },
      "id": "iuJOf_-E05Pv",
      "execution_count": 53,
      "outputs": [
        {
          "output_type": "display_data",
          "data": {
            "text/plain": [
              "<Figure size 1000x600 with 1 Axes>"
            ],
            "image/png": "[encoded data removed]"
          },
          "metadata": {}
        }
      ]
    },
    {
      "cell_type": "markdown",
      "id": "4c537c3c",
      "metadata": {
        "id": "4c537c3c"
      },
      "source": [
        "### **Question 1.** Did reranking improve the **average position** of the correct news?\n",
        ""
      ]
    },
    {
      "cell_type": "markdown",
      "id": "636c6156",
      "metadata": {
        "id": "636c6156"
      },
      "source": [
        "The average position of correctly retrieved news articles improved slightly, although the potential for enhancement was limited given the strong performance of the baseline model without a reranker. Specifically, the non-reranked version successfully retrieved 86 correct articles at rank 0 out of 100 queries, with only 4 instances marked as \"not found.\" In contrast, the reranked version demonstrated a measurable improvement, retrieving 91 correct articles at rank 0 and reducing the number of \"not found\" cases to just 2. These results suggest that incorporating a reranker yields a tangible benefit in retrieval accuracy. However, this improvement came at the cost of significantly increased processing time compared to the non-reranked implementation."
      ]
    },
    {
      "cell_type": "markdown",
      "id": "7202a33c",
      "metadata": {
        "id": "7202a33c"
      },
      "source": [
        "### **Question 2.** How often was the correct article at **position 0** with and without reranking?\n"
      ]
    },
    {
      "cell_type": "markdown",
      "id": "cad754e7",
      "metadata": {
        "id": "cad754e7"
      },
      "source": [
        "the non-reranked version successfully retrieved 86 correct articles at posicion 0, the reranked version retrived 91 correct articles at rank 0.\n",
        "\n",
        "The average retrieval position showed a slight improvement, decreasing from 0.1875 without reranking to 0.1836 with reranking. Given that a position of 0 represents a perfect retrieval outcome, this reduction of 0.0039 indicates a modest yet meaningful enhancement in performance. While the magnitude of the improvement is not substantial, it nonetheless reflects the positive impact of incorporating a reranking mechanism."
      ]
    }
  ],
  "metadata": {
    "kernelspec": {
      "display_name": "Python 3",
      "language": "python",
      "name": "python3"
    },
    "language_info": {
      "codemirror_mode": {
        "name": "ipython",
        "version": 3
      },
      "file_extension": ".py",
      "mimetype": "text/x-python",
      "name": "python",
      "nbconvert_exporter": "python",
      "pygments_lexer": "ipython3",
      "version": "3.9.6"
    },
    "colab": {
      "provenance": []
    }
  },
  "nbformat": 4,
  "nbformat_minor": 5
}
