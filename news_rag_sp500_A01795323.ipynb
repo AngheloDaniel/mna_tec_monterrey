{
  "cells": [
    {
      "cell_type": "markdown",
      "id": "4e231d13",
      "metadata": {
        "id": "4e231d13"
      },
      "source": [
        "# Introduction to Retrieval Augmented Generation with S&P 500 news\n",
        "\n",
        "In this notebook, you will explore how to build a simple Retrieval-Augmented Generation (RAG) pipeline using financial news articles from S&P 500 companies.\n",
        "\n",
        "We'll start by vectorizing text data, creating a vector store using FAISS, and integrating it with OpenAI's GPT models to answer questions using retrieved information.\n",
        "\n",
        "This workflow emulates real-world systems in finance where natural language data (news, filings, analyst reports) are used to support decision-making."
      ]
    },
    {
      "cell_type": "markdown",
      "id": "35b70aaa",
      "metadata": {
        "id": "35b70aaa"
      },
      "source": [
        "# 📌 Objectives\n",
        "\n",
        "By the end of this notebook, students will be able to:\n",
        "\n",
        "1. **Perform Semantic Search with Metadata Filtering:**\n",
        "   - Query the provided FAISS vector store to retrieve relevant financial news articles based on natural language questions.\n",
        "   - Apply optional filters using metadata such as ticker or publication date to refine search results.\n",
        "\n",
        "2. **Enrich Data with Company Metadata:**\n",
        "   - Use the `yfinance` library to retrieve company-level metadata (company name, sector, industry) for tickers in the dataset.\n",
        "   - Integrate this metadata to support enhanced filtering and analysis of news data.\n",
        "\n",
        "3. **Build a Retrieval-Augmented Generation (RAG) Pipeline:**\n",
        "   - Combine retrieved news snippets as context to generate answers using OpenAI’s GPT models.\n",
        "   - Construct effective prompts that guide the language model to provide concise, context-aware responses.\n",
        "\n",
        "4. **Evaluate and Analyze RAG Outputs:**\n",
        "   - Review generated answers alongside the supporting news excerpts.\n",
        "   - Reflect on the strengths and limitations of the simple RAG pipeline and consider potential improvements, such as adding more filters or refining retrieval strategies.\n",
        "\n",
        "5. **Incorporate Financial Metadata into Retrieval Context:**\n",
        "   - Enrich retrieved news snippets with key financial metadata including ticker, company name, sector, and industry.\n",
        "   - Format prompts that combine both text excerpts and metadata to provide richer context to the language model.\n",
        "\n",
        "6. **Generate Context-Aware Answers Using OpenAI Models:**\n",
        "   - Construct and send prompts to an LLM that leverage both news content and metadata to produce concise, informed financial analysis.\n",
        "\n",
        "7. **Compare Answers With and Without Metadata:**\n",
        "   - Evaluate the impact of including financial metadata on answer quality using criteria such as clarity, detail, accuracy, and contextual relevance.\n",
        "   - Summarize findings to reflect on the role of metadata in improving retrieval-augmented generation."
      ]
    },
    {
      "cell_type": "markdown",
      "id": "c1034130",
      "metadata": {
        "id": "c1034130"
      },
      "source": [
        "## Install and Import important librairies\n",
        "\n",
        "First, we install and import the necessary libraries for:\n",
        "- Text embedding generation (sentence-transformers)\n",
        "- Efficient similarity search (faiss)\n",
        "- Data manipulation (pandas, numpy)\n",
        "- Visualization (matplotlib)\n",
        "\n",
        "> ℹ️ FAISS uses inner product for cosine similarity by normalizing vectors."
      ]
    },
    {
      "cell_type": "code",
      "execution_count": null,
      "id": "a979a47f",
      "metadata": {
        "id": "a979a47f"
      },
      "outputs": [],
      "source": [
        "%pip install sentence-transformers\n",
        "%pip install faiss-cpu"
      ]
    },
    {
      "cell_type": "code",
      "source": [
        "%pip install yfinance"
      ],
      "metadata": {
        "id": "y8cX6UPIFLPJ"
      },
      "id": "y8cX6UPIFLPJ",
      "execution_count": null,
      "outputs": []
    },
    {
      "cell_type": "code",
      "execution_count": null,
      "id": "6b9f8680",
      "metadata": {
        "id": "6b9f8680"
      },
      "outputs": [],
      "source": [
        "from sentence_transformers import SentenceTransformer\n",
        "from collections import Counter\n",
        "from sklearn.metrics.pairwise import cosine_similarity\n",
        "from openai import OpenAI\n",
        "\n",
        "import faiss\n",
        "import pandas as pd\n",
        "import numpy as np\n",
        "import matplotlib.pyplot as plt"
      ]
    },
    {
      "cell_type": "markdown",
      "id": "9850dbaa",
      "metadata": {
        "id": "9850dbaa"
      },
      "source": [
        "## Load news data\n",
        "We load a CSV file of financial news, focusing on TITLE and SUMMARY, along with metadata like TICKER and PUBLICATION_DATE.\n",
        "These will be embedded into vectors and used for semantic retrieval."
      ]
    },
    {
      "cell_type": "code",
      "execution_count": null,
      "id": "a090ca1c",
      "metadata": {
        "id": "a090ca1c"
      },
      "outputs": [],
      "source": [
        "K = 25"
      ]
    },
    {
      "cell_type": "code",
      "source": [
        "from google.colab import drive\n",
        "drive.mount('/content/drive')"
      ],
      "metadata": {
        "colab": {
          "base_uri": "https://localhost:8080/"
        },
        "id": "sqI_MibRVkeD",
        "outputId": "1d19704d-7623-4b85-c50b-2bfd25c988cd"
      },
      "id": "sqI_MibRVkeD",
      "execution_count": null,
      "outputs": [
        {
          "output_type": "stream",
          "name": "stdout",
          "text": [
            "Mounted at /content/drive\n"
          ]
        }
      ]
    },
    {
      "cell_type": "code",
      "source": [
        "file_path = '/content/drive/MyDrive/Colab Notebooks/MNA/Fintech/Week 3/df_news.csv'"
      ],
      "metadata": {
        "id": "GFKtJpJqVn0c"
      },
      "id": "GFKtJpJqVn0c",
      "execution_count": null,
      "outputs": []
    },
    {
      "cell_type": "code",
      "execution_count": null,
      "id": "2e00999d",
      "metadata": {
        "colab": {
          "base_uri": "https://localhost:8080/",
          "height": 424
        },
        "id": "2e00999d",
        "outputId": "c76c978d-6f07-4a4b-d851-078fa98ae1a7"
      },
      "outputs": [
        {
          "output_type": "display_data",
          "data": {
            "text/plain": [
              "     TICKER                                              TITLE  \\\n",
              "0       MMM  2 Dow Jones Stocks with Promising Prospects an...   \n",
              "1       MMM               3 S&P 500 Stocks Skating on Thin Ice   \n",
              "2       MMM  3M Rises 15.8% YTD: Should You Buy the Stock N...   \n",
              "3       MMM  Q1 Earnings Roundup: 3M (NYSE:MMM) And The Res...   \n",
              "4       MMM  3 Cash-Producing Stocks with Questionable Fund...   \n",
              "...     ...                                                ...   \n",
              "4866    ZTS  2 Dividend Stocks to Buy With $500 and Hold Fo...   \n",
              "4867    ZTS  Zoetis (NYSE:ZTS) Declares US$0.50 Dividend Pe...   \n",
              "4868    ZTS  Jim Cramer on Zoetis (ZTS): “It Does Seem to B...   \n",
              "4869    ZTS           Zoetis (ZTS) Upgraded to Buy: Here's Why   \n",
              "4870    ZTS  ZTS Q1 Earnings Call: Guidance Raised as Platf...   \n",
              "\n",
              "                                                SUMMARY PUBLICATION_DATE  \\\n",
              "0     The Dow Jones (^DJI) is made up of 30 of the m...       2025-05-29   \n",
              "1     The S&P 500 (^GSPC) is often seen as a benchma...       2025-05-27   \n",
              "2     MMM is making strides in the aerospace, indust...       2025-05-22   \n",
              "3     Quarterly earnings results are a good time to ...       2025-05-22   \n",
              "4     While strong cash flow is a key indicator of s...       2025-05-19   \n",
              "...                                                 ...              ...   \n",
              "4866  Zoetis is a leading animal health company with...       2025-05-23   \n",
              "4867  Zoetis (NYSE:ZTS) recently affirmed a dividend...       2025-05-22   \n",
              "4868  We recently published a list of Jim Cramer Tal...       2025-05-21   \n",
              "4869  Zoetis (ZTS) might move higher on growing opti...       2025-05-21   \n",
              "4870  Animal health company Zoetis (NYSE:ZTS) report...       2025-05-19   \n",
              "\n",
              "             PROVIDER                                                URL  \n",
              "0          StockStory  https://finance.yahoo.com/news/2-dow-jones-sto...  \n",
              "1          StockStory  https://finance.yahoo.com/news/3-p-500-stocks-...  \n",
              "2               Zacks  https://finance.yahoo.com/news/3m-rises-15-8-y...  \n",
              "3          StockStory  https://finance.yahoo.com/news/q1-earnings-rou...  \n",
              "4          StockStory  https://finance.yahoo.com/news/3-cash-producin...  \n",
              "...               ...                                                ...  \n",
              "4866      Motley Fool  https://www.fool.com/investing/2025/05/23/2-di...  \n",
              "4867  Simply Wall St.  https://finance.yahoo.com/news/zoetis-nyse-zts...  \n",
              "4868   Insider Monkey  https://finance.yahoo.com/news/jim-cramer-zoet...  \n",
              "4869            Zacks  https://finance.yahoo.com/news/zoetis-zts-upgr...  \n",
              "4870       StockStory  https://finance.yahoo.com/news/zts-q1-earnings...  \n",
              "\n",
              "[4871 rows x 6 columns]"
            ],
            "text/html": [
              "\n",
              "  <div id=\"df-42cffd63-a983-42f0-aac2-4b7661e90886\" class=\"colab-df-container\">\n",
              "    <div>\n",
              "<style scoped>\n",
              "    .dataframe tbody tr th:only-of-type {\n",
              "        vertical-align: middle;\n",
              "    }\n",
              "\n",
              "    .dataframe tbody tr th {\n",
              "        vertical-align: top;\n",
              "    }\n",
              "\n",
              "    .dataframe thead th {\n",
              "        text-align: right;\n",
              "    }\n",
              "</style>\n",
              "<table border=\"1\" class=\"dataframe\">\n",
              "  <thead>\n",
              "    <tr style=\"text-align: right;\">\n",
              "      <th></th>\n",
              "      <th>TICKER</th>\n",
              "      <th>TITLE</th>\n",
              "      <th>SUMMARY</th>\n",
              "      <th>PUBLICATION_DATE</th>\n",
              "      <th>PROVIDER</th>\n",
              "      <th>URL</th>\n",
              "    </tr>\n",
              "  </thead>\n",
              "  <tbody>\n",
              "    <tr>\n",
              "      <th>0</th>\n",
              "      <td>MMM</td>\n",
              "      <td>2 Dow Jones Stocks with Promising Prospects an...</td>\n",
              "      <td>The Dow Jones (^DJI) is made up of 30 of the m...</td>\n",
              "      <td>2025-05-29</td>\n",
              "      <td>StockStory</td>\n",
              "      <td>https://finance.yahoo.com/news/2-dow-jones-sto...</td>\n",
              "    </tr>\n",
              "    <tr>\n",
              "      <th>1</th>\n",
              "      <td>MMM</td>\n",
              "      <td>3 S&amp;P 500 Stocks Skating on Thin Ice</td>\n",
              "      <td>The S&amp;P 500 (^GSPC) is often seen as a benchma...</td>\n",
              "      <td>2025-05-27</td>\n",
              "      <td>StockStory</td>\n",
              "      <td>https://finance.yahoo.com/news/3-p-500-stocks-...</td>\n",
              "    </tr>\n",
              "    <tr>\n",
              "      <th>2</th>\n",
              "      <td>MMM</td>\n",
              "      <td>3M Rises 15.8% YTD: Should You Buy the Stock N...</td>\n",
              "      <td>MMM is making strides in the aerospace, indust...</td>\n",
              "      <td>2025-05-22</td>\n",
              "      <td>Zacks</td>\n",
              "      <td>https://finance.yahoo.com/news/3m-rises-15-8-y...</td>\n",
              "    </tr>\n",
              "    <tr>\n",
              "      <th>3</th>\n",
              "      <td>MMM</td>\n",
              "      <td>Q1 Earnings Roundup: 3M (NYSE:MMM) And The Res...</td>\n",
              "      <td>Quarterly earnings results are a good time to ...</td>\n",
              "      <td>2025-05-22</td>\n",
              "      <td>StockStory</td>\n",
              "      <td>https://finance.yahoo.com/news/q1-earnings-rou...</td>\n",
              "    </tr>\n",
              "    <tr>\n",
              "      <th>4</th>\n",
              "      <td>MMM</td>\n",
              "      <td>3 Cash-Producing Stocks with Questionable Fund...</td>\n",
              "      <td>While strong cash flow is a key indicator of s...</td>\n",
              "      <td>2025-05-19</td>\n",
              "      <td>StockStory</td>\n",
              "      <td>https://finance.yahoo.com/news/3-cash-producin...</td>\n",
              "    </tr>\n",
              "    <tr>\n",
              "      <th>...</th>\n",
              "      <td>...</td>\n",
              "      <td>...</td>\n",
              "      <td>...</td>\n",
              "      <td>...</td>\n",
              "      <td>...</td>\n",
              "      <td>...</td>\n",
              "    </tr>\n",
              "    <tr>\n",
              "      <th>4866</th>\n",
              "      <td>ZTS</td>\n",
              "      <td>2 Dividend Stocks to Buy With $500 and Hold Fo...</td>\n",
              "      <td>Zoetis is a leading animal health company with...</td>\n",
              "      <td>2025-05-23</td>\n",
              "      <td>Motley Fool</td>\n",
              "      <td>https://www.fool.com/investing/2025/05/23/2-di...</td>\n",
              "    </tr>\n",
              "    <tr>\n",
              "      <th>4867</th>\n",
              "      <td>ZTS</td>\n",
              "      <td>Zoetis (NYSE:ZTS) Declares US$0.50 Dividend Pe...</td>\n",
              "      <td>Zoetis (NYSE:ZTS) recently affirmed a dividend...</td>\n",
              "      <td>2025-05-22</td>\n",
              "      <td>Simply Wall St.</td>\n",
              "      <td>https://finance.yahoo.com/news/zoetis-nyse-zts...</td>\n",
              "    </tr>\n",
              "    <tr>\n",
              "      <th>4868</th>\n",
              "      <td>ZTS</td>\n",
              "      <td>Jim Cramer on Zoetis (ZTS): “It Does Seem to B...</td>\n",
              "      <td>We recently published a list of Jim Cramer Tal...</td>\n",
              "      <td>2025-05-21</td>\n",
              "      <td>Insider Monkey</td>\n",
              "      <td>https://finance.yahoo.com/news/jim-cramer-zoet...</td>\n",
              "    </tr>\n",
              "    <tr>\n",
              "      <th>4869</th>\n",
              "      <td>ZTS</td>\n",
              "      <td>Zoetis (ZTS) Upgraded to Buy: Here's Why</td>\n",
              "      <td>Zoetis (ZTS) might move higher on growing opti...</td>\n",
              "      <td>2025-05-21</td>\n",
              "      <td>Zacks</td>\n",
              "      <td>https://finance.yahoo.com/news/zoetis-zts-upgr...</td>\n",
              "    </tr>\n",
              "    <tr>\n",
              "      <th>4870</th>\n",
              "      <td>ZTS</td>\n",
              "      <td>ZTS Q1 Earnings Call: Guidance Raised as Platf...</td>\n",
              "      <td>Animal health company Zoetis (NYSE:ZTS) report...</td>\n",
              "      <td>2025-05-19</td>\n",
              "      <td>StockStory</td>\n",
              "      <td>https://finance.yahoo.com/news/zts-q1-earnings...</td>\n",
              "    </tr>\n",
              "  </tbody>\n",
              "</table>\n",
              "<p>4871 rows × 6 columns</p>\n",
              "</div>\n",
              "    <div class=\"colab-df-buttons\">\n",
              "\n",
              "  <div class=\"colab-df-container\">\n",
              "    <button class=\"colab-df-convert\" onclick=\"convertToInteractive('df-42cffd63-a983-42f0-aac2-4b7661e90886')\"\n",
              "            title=\"Convert this dataframe to an interactive table.\"\n",
              "            style=\"display:none;\">\n",
              "\n",
              "  <svg xmlns=\"http://www.w3.org/2000/svg\" height=\"24px\" viewBox=\"0 -960 960 960\">\n",
              "    <path d=\"M120-120v-720h720v720H120Zm60-500h600v-160H180v160Zm220 220h160v-160H400v160Zm0 220h160v-160H400v160ZM180-400h160v-160H180v160Zm440 0h160v-160H620v160ZM180-180h160v-160H180v160Zm440 0h160v-160H620v160Z\"/>\n",
              "  </svg>\n",
              "    </button>\n",
              "\n",
              "  <style>\n",
              "    .colab-df-container {\n",
              "      display:flex;\n",
              "      gap: 12px;\n",
              "    }\n",
              "\n",
              "    .colab-df-convert {\n",
              "      background-color: #E8F0FE;\n",
              "      border: none;\n",
              "      border-radius: 50%;\n",
              "      cursor: pointer;\n",
              "      display: none;\n",
              "      fill: #1967D2;\n",
              "      height: 32px;\n",
              "      padding: 0 0 0 0;\n",
              "      width: 32px;\n",
              "    }\n",
              "\n",
              "    .colab-df-convert:hover {\n",
              "      background-color: #E2EBFA;\n",
              "      box-shadow: 0px 1px 2px rgba(60, 64, 67, 0.3), 0px 1px 3px 1px rgba(60, 64, 67, 0.15);\n",
              "      fill: #174EA6;\n",
              "    }\n",
              "\n",
              "    .colab-df-buttons div {\n",
              "      margin-bottom: 4px;\n",
              "    }\n",
              "\n",
              "    [theme=dark] .colab-df-convert {\n",
              "      background-color: #3B4455;\n",
              "      fill: #D2E3FC;\n",
              "    }\n",
              "\n",
              "    [theme=dark] .colab-df-convert:hover {\n",
              "      background-color: #434B5C;\n",
              "      box-shadow: 0px 1px 3px 1px rgba(0, 0, 0, 0.15);\n",
              "      filter: drop-shadow(0px 1px 2px rgba(0, 0, 0, 0.3));\n",
              "      fill: #FFFFFF;\n",
              "    }\n",
              "  </style>\n",
              "\n",
              "    <script>\n",
              "      const buttonEl =\n",
              "        document.querySelector('#df-42cffd63-a983-42f0-aac2-4b7661e90886 button.colab-df-convert');\n",
              "      buttonEl.style.display =\n",
              "        google.colab.kernel.accessAllowed ? 'block' : 'none';\n",
              "\n",
              "      async function convertToInteractive(key) {\n",
              "        const element = document.querySelector('#df-42cffd63-a983-42f0-aac2-4b7661e90886');\n",
              "        const dataTable =\n",
              "          await google.colab.kernel.invokeFunction('convertToInteractive',\n",
              "                                                    [key], {});\n",
              "        if (!dataTable) return;\n",
              "\n",
              "        const docLinkHtml = 'Like what you see? Visit the ' +\n",
              "          '<a target=\"_blank\" href=https://colab.research.google.com/notebooks/data_table.ipynb>data table notebook</a>'\n",
              "          + ' to learn more about interactive tables.';\n",
              "        element.innerHTML = '';\n",
              "        dataTable['output_type'] = 'display_data';\n",
              "        await google.colab.output.renderOutput(dataTable, element);\n",
              "        const docLink = document.createElement('div');\n",
              "        docLink.innerHTML = docLinkHtml;\n",
              "        element.appendChild(docLink);\n",
              "      }\n",
              "    </script>\n",
              "  </div>\n",
              "\n",
              "\n",
              "    <div id=\"df-2ae2d944-1b71-4320-a129-891d99ebecab\">\n",
              "      <button class=\"colab-df-quickchart\" onclick=\"quickchart('df-2ae2d944-1b71-4320-a129-891d99ebecab')\"\n",
              "                title=\"Suggest charts\"\n",
              "                style=\"display:none;\">\n",
              "\n",
              "<svg xmlns=\"http://www.w3.org/2000/svg\" height=\"24px\"viewBox=\"0 0 24 24\"\n",
              "     width=\"24px\">\n",
              "    <g>\n",
              "        <path d=\"M19 3H5c-1.1 0-2 .9-2 2v14c0 1.1.9 2 2 2h14c1.1 0 2-.9 2-2V5c0-1.1-.9-2-2-2zM9 17H7v-7h2v7zm4 0h-2V7h2v10zm4 0h-2v-4h2v4z\"/>\n",
              "    </g>\n",
              "</svg>\n",
              "      </button>\n",
              "\n",
              "<style>\n",
              "  .colab-df-quickchart {\n",
              "      --bg-color: #E8F0FE;\n",
              "      --fill-color: #1967D2;\n",
              "      --hover-bg-color: #E2EBFA;\n",
              "      --hover-fill-color: #174EA6;\n",
              "      --disabled-fill-color: #AAA;\n",
              "      --disabled-bg-color: #DDD;\n",
              "  }\n",
              "\n",
              "  [theme=dark] .colab-df-quickchart {\n",
              "      --bg-color: #3B4455;\n",
              "      --fill-color: #D2E3FC;\n",
              "      --hover-bg-color: #434B5C;\n",
              "      --hover-fill-color: #FFFFFF;\n",
              "      --disabled-bg-color: #3B4455;\n",
              "      --disabled-fill-color: #666;\n",
              "  }\n",
              "\n",
              "  .colab-df-quickchart {\n",
              "    background-color: var(--bg-color);\n",
              "    border: none;\n",
              "    border-radius: 50%;\n",
              "    cursor: pointer;\n",
              "    display: none;\n",
              "    fill: var(--fill-color);\n",
              "    height: 32px;\n",
              "    padding: 0;\n",
              "    width: 32px;\n",
              "  }\n",
              "\n",
              "  .colab-df-quickchart:hover {\n",
              "    background-color: var(--hover-bg-color);\n",
              "    box-shadow: 0 1px 2px rgba(60, 64, 67, 0.3), 0 1px 3px 1px rgba(60, 64, 67, 0.15);\n",
              "    fill: var(--button-hover-fill-color);\n",
              "  }\n",
              "\n",
              "  .colab-df-quickchart-complete:disabled,\n",
              "  .colab-df-quickchart-complete:disabled:hover {\n",
              "    background-color: var(--disabled-bg-color);\n",
              "    fill: var(--disabled-fill-color);\n",
              "    box-shadow: none;\n",
              "  }\n",
              "\n",
              "  .colab-df-spinner {\n",
              "    border: 2px solid var(--fill-color);\n",
              "    border-color: transparent;\n",
              "    border-bottom-color: var(--fill-color);\n",
              "    animation:\n",
              "      spin 1s steps(1) infinite;\n",
              "  }\n",
              "\n",
              "  @keyframes spin {\n",
              "    0% {\n",
              "      border-color: transparent;\n",
              "      border-bottom-color: var(--fill-color);\n",
              "      border-left-color: var(--fill-color);\n",
              "    }\n",
              "    20% {\n",
              "      border-color: transparent;\n",
              "      border-left-color: var(--fill-color);\n",
              "      border-top-color: var(--fill-color);\n",
              "    }\n",
              "    30% {\n",
              "      border-color: transparent;\n",
              "      border-left-color: var(--fill-color);\n",
              "      border-top-color: var(--fill-color);\n",
              "      border-right-color: var(--fill-color);\n",
              "    }\n",
              "    40% {\n",
              "      border-color: transparent;\n",
              "      border-right-color: var(--fill-color);\n",
              "      border-top-color: var(--fill-color);\n",
              "    }\n",
              "    60% {\n",
              "      border-color: transparent;\n",
              "      border-right-color: var(--fill-color);\n",
              "    }\n",
              "    80% {\n",
              "      border-color: transparent;\n",
              "      border-right-color: var(--fill-color);\n",
              "      border-bottom-color: var(--fill-color);\n",
              "    }\n",
              "    90% {\n",
              "      border-color: transparent;\n",
              "      border-bottom-color: var(--fill-color);\n",
              "    }\n",
              "  }\n",
              "</style>\n",
              "\n",
              "      <script>\n",
              "        async function quickchart(key) {\n",
              "          const quickchartButtonEl =\n",
              "            document.querySelector('#' + key + ' button');\n",
              "          quickchartButtonEl.disabled = true;  // To prevent multiple clicks.\n",
              "          quickchartButtonEl.classList.add('colab-df-spinner');\n",
              "          try {\n",
              "            const charts = await google.colab.kernel.invokeFunction(\n",
              "                'suggestCharts', [key], {});\n",
              "          } catch (error) {\n",
              "            console.error('Error during call to suggestCharts:', error);\n",
              "          }\n",
              "          quickchartButtonEl.classList.remove('colab-df-spinner');\n",
              "          quickchartButtonEl.classList.add('colab-df-quickchart-complete');\n",
              "        }\n",
              "        (() => {\n",
              "          let quickchartButtonEl =\n",
              "            document.querySelector('#df-2ae2d944-1b71-4320-a129-891d99ebecab button');\n",
              "          quickchartButtonEl.style.display =\n",
              "            google.colab.kernel.accessAllowed ? 'block' : 'none';\n",
              "        })();\n",
              "      </script>\n",
              "    </div>\n",
              "\n",
              "  <div id=\"id_4c4e68bf-e513-4567-b539-a8c25372e5ac\">\n",
              "    <style>\n",
              "      .colab-df-generate {\n",
              "        background-color: #E8F0FE;\n",
              "        border: none;\n",
              "        border-radius: 50%;\n",
              "        cursor: pointer;\n",
              "        display: none;\n",
              "        fill: #1967D2;\n",
              "        height: 32px;\n",
              "        padding: 0 0 0 0;\n",
              "        width: 32px;\n",
              "      }\n",
              "\n",
              "      .colab-df-generate:hover {\n",
              "        background-color: #E2EBFA;\n",
              "        box-shadow: 0px 1px 2px rgba(60, 64, 67, 0.3), 0px 1px 3px 1px rgba(60, 64, 67, 0.15);\n",
              "        fill: #174EA6;\n",
              "      }\n",
              "\n",
              "      [theme=dark] .colab-df-generate {\n",
              "        background-color: #3B4455;\n",
              "        fill: #D2E3FC;\n",
              "      }\n",
              "\n",
              "      [theme=dark] .colab-df-generate:hover {\n",
              "        background-color: #434B5C;\n",
              "        box-shadow: 0px 1px 3px 1px rgba(0, 0, 0, 0.15);\n",
              "        filter: drop-shadow(0px 1px 2px rgba(0, 0, 0, 0.3));\n",
              "        fill: #FFFFFF;\n",
              "      }\n",
              "    </style>\n",
              "    <button class=\"colab-df-generate\" onclick=\"generateWithVariable('df_news')\"\n",
              "            title=\"Generate code using this dataframe.\"\n",
              "            style=\"display:none;\">\n",
              "\n",
              "  <svg xmlns=\"http://www.w3.org/2000/svg\" height=\"24px\"viewBox=\"0 0 24 24\"\n",
              "       width=\"24px\">\n",
              "    <path d=\"M7,19H8.4L18.45,9,17,7.55,7,17.6ZM5,21V16.75L18.45,3.32a2,2,0,0,1,2.83,0l1.4,1.43a1.91,1.91,0,0,1,.58,1.4,1.91,1.91,0,0,1-.58,1.4L9.25,21ZM18.45,9,17,7.55Zm-12,3A5.31,5.31,0,0,0,4.9,8.1,5.31,5.31,0,0,0,1,6.5,5.31,5.31,0,0,0,4.9,4.9,5.31,5.31,0,0,0,6.5,1,5.31,5.31,0,0,0,8.1,4.9,5.31,5.31,0,0,0,12,6.5,5.46,5.46,0,0,0,6.5,12Z\"/>\n",
              "  </svg>\n",
              "    </button>\n",
              "    <script>\n",
              "      (() => {\n",
              "      const buttonEl =\n",
              "        document.querySelector('#id_4c4e68bf-e513-4567-b539-a8c25372e5ac button.colab-df-generate');\n",
              "      buttonEl.style.display =\n",
              "        google.colab.kernel.accessAllowed ? 'block' : 'none';\n",
              "\n",
              "      buttonEl.onclick = () => {\n",
              "        google.colab.notebook.generateWithVariable('df_news');\n",
              "      }\n",
              "      })();\n",
              "    </script>\n",
              "  </div>\n",
              "\n",
              "    </div>\n",
              "  </div>\n"
            ],
            "application/vnd.google.colaboratory.intrinsic+json": {
              "type": "dataframe",
              "variable_name": "df_news",
              "summary": "{\n  \"name\": \"df_news\",\n  \"rows\": 4871,\n  \"fields\": [\n    {\n      \"column\": \"TICKER\",\n      \"properties\": {\n        \"dtype\": \"category\",\n        \"num_unique_values\": 490,\n        \"samples\": [\n          \"UHS\",\n          \"CARR\",\n          \"TJX\"\n        ],\n        \"semantic_type\": \"\",\n        \"description\": \"\"\n      }\n    },\n    {\n      \"column\": \"TITLE\",\n      \"properties\": {\n        \"dtype\": \"string\",\n        \"num_unique_values\": 4251,\n        \"samples\": [\n          \"Here's Why Coca-Cola (KO) Fell More Than Broader Market\",\n          \"Illinois Tool Works (ITW) Up 2.7% Since Last Earnings Report: Can It Continue?\",\n          \"Q1 Earnings Roundup: Perma-Fix (NASDAQ:PESI) And The Rest Of The Waste Management Segment\"\n        ],\n        \"semantic_type\": \"\",\n        \"description\": \"\"\n      }\n    },\n    {\n      \"column\": \"SUMMARY\",\n      \"properties\": {\n        \"dtype\": \"string\",\n        \"num_unique_values\": 3976,\n        \"samples\": [\n          \"Broadcom, Arista Networks initiated: Wall Street's top analyst calls\",\n          \"Emerson Electric (EMR) has received quite a bit of attention from Zacks.com users lately. Therefore, it is wise to be aware of the facts that can impact the stock's prospects.\",\n          \"Ventas (VTR) reported earnings 30 days ago. What's next for the stock? We take a look at earnings estimates for some clues.\"\n        ],\n        \"semantic_type\": \"\",\n        \"description\": \"\"\n      }\n    },\n    {\n      \"column\": \"PUBLICATION_DATE\",\n      \"properties\": {\n        \"dtype\": \"date\",\n        \"min\": \"2024-07-12\",\n        \"max\": \"2025-05-31\",\n        \"num_unique_values\": 121,\n        \"samples\": [\n          \"2025-04-12\",\n          \"2025-04-10\",\n          \"2025-05-15\"\n        ],\n        \"semantic_type\": \"\",\n        \"description\": \"\"\n      }\n    },\n    {\n      \"column\": \"PROVIDER\",\n      \"properties\": {\n        \"dtype\": \"category\",\n        \"num_unique_values\": 95,\n        \"samples\": [\n          \"Just Auto\",\n          \"Fortune\",\n          \"Payments Dive\"\n        ],\n        \"semantic_type\": \"\",\n        \"description\": \"\"\n      }\n    },\n    {\n      \"column\": \"URL\",\n      \"properties\": {\n        \"dtype\": \"string\",\n        \"num_unique_values\": 4317,\n        \"samples\": [\n          \"https://finance.yahoo.com/news/why-te-connectivity-tel-top-134010352.html\",\n          \"https://finance.yahoo.com/news/why-jakks-jakk-5-3-153052887.html\",\n          \"https://finance.yahoo.com/news/general-dynamics-wins-217m-contract-151400769.html\"\n        ],\n        \"semantic_type\": \"\",\n        \"description\": \"\"\n      }\n    }\n  ]\n}"
            }
          },
          "metadata": {}
        }
      ],
      "source": [
        "df_news = pd.read_csv(file_path)\n",
        "df_news['PUBLICATION_DATE'] = pd.to_datetime(df_news['PUBLICATION_DATE']).dt.date\n",
        "display(df_news)"
      ]
    },
    {
      "cell_type": "code",
      "execution_count": null,
      "id": "b0983a4a",
      "metadata": {
        "id": "b0983a4a"
      },
      "outputs": [],
      "source": [
        "df_news['EMBEDDED_TEXT'] = df_news['TITLE'] + ' : ' + df_news['SUMMARY']"
      ]
    },
    {
      "cell_type": "code",
      "execution_count": null,
      "id": "24f6c6e7",
      "metadata": {
        "id": "24f6c6e7"
      },
      "outputs": [],
      "source": [
        "model = SentenceTransformer('all-MiniLM-L6-v2')"
      ]
    },
    {
      "cell_type": "markdown",
      "id": "67c301aa",
      "metadata": {
        "id": "67c301aa"
      },
      "source": [
        "## Implement FAISS vector store\n",
        "We:\n",
        "- Use a pre-trained sentence transformer (all-MiniLM-L6-v2) to embed documents.\n",
        "- Normalize vectors to use cosine similarity.\n",
        "- Create a FAISS index and implement a basic search function.\n",
        "\n",
        "This will allow us to retrieve relevant news snippets given a natural language question.\n"
      ]
    },
    {
      "cell_type": "code",
      "execution_count": null,
      "id": "607624fc",
      "metadata": {
        "id": "607624fc"
      },
      "outputs": [],
      "source": [
        "# Load model and compute embeddings\n",
        "text_embeddings = model.encode(df_news['EMBEDDED_TEXT'].tolist(), convert_to_numpy=True)\n",
        "\n",
        "# Normalize embeddings to use cosine similarity (via inner product in FAISS)\n",
        "text_embeddings = text_embeddings / np.linalg.norm(text_embeddings, axis=1, keepdims=True)\n",
        "\n",
        "# Prepare metadata\n",
        "documents = df_news['EMBEDDED_TEXT'].tolist()\n",
        "metadata = [\n",
        "    {\n",
        "        'PUBLICATION_DATE': row['PUBLICATION_DATE'],\n",
        "        'TICKER': row['TICKER'],\n",
        "        'PROVIDER': row['PROVIDER']\n",
        "    }\n",
        "    for _, row in df_news.iterrows()\n",
        "]"
      ]
    },
    {
      "cell_type": "code",
      "execution_count": null,
      "id": "a54162c2",
      "metadata": {
        "id": "a54162c2"
      },
      "outputs": [],
      "source": [
        "embedding_dim = text_embeddings.shape[1]\n",
        "faiss_index = faiss.IndexFlatIP(embedding_dim)  # Cosine similarity via inner product\n",
        "faiss_index.add(text_embeddings)"
      ]
    },
    {
      "cell_type": "code",
      "execution_count": null,
      "id": "a6f85fd7",
      "metadata": {
        "id": "a6f85fd7"
      },
      "outputs": [],
      "source": [
        "class FaissVectorStore:\n",
        "    def __init__(self, model, index, embeddings, documents, metadata):\n",
        "        self.model = model\n",
        "        self.index = index\n",
        "        self.embeddings = embeddings\n",
        "        self.documents = documents\n",
        "        self.metadata = metadata\n",
        "\n",
        "    def search(self, query, k=5, metadata_filter=None):\n",
        "        query_embedding = self.model.encode([query])\n",
        "        query_embedding = query_embedding / np.linalg.norm(query_embedding)\n",
        "\n",
        "        if metadata_filter:\n",
        "            filtered_indices = [i for i, meta in enumerate(self.metadata) if metadata_filter(meta)]\n",
        "            if not filtered_indices:\n",
        "                return []\n",
        "            filtered_embeddings = self.embeddings[filtered_indices]\n",
        "            temp_index = faiss.IndexFlatIP(filtered_embeddings.shape[1])\n",
        "            temp_index.add(filtered_embeddings)\n",
        "            D, I = temp_index.search(query_embedding, k)\n",
        "            indices = [filtered_indices[i] for i in I[0]]\n",
        "        else:\n",
        "            D, I = self.index.search(query_embedding, k)\n",
        "            indices = I[0]\n",
        "            D = D[0]\n",
        "\n",
        "        results = []\n",
        "        for idx, sim in zip(indices, D):\n",
        "            results.append((self.documents[idx], self.metadata[idx], float(sim)))\n",
        "        return results"
      ]
    },
    {
      "cell_type": "code",
      "execution_count": null,
      "id": "5c3e256d",
      "metadata": {
        "id": "5c3e256d"
      },
      "outputs": [],
      "source": [
        "# Create FAISS-based store\n",
        "faiss_store = FaissVectorStore(\n",
        "    model=model,\n",
        "    index=faiss_index,\n",
        "    embeddings=text_embeddings,\n",
        "    documents=documents,\n",
        "    metadata=metadata\n",
        ")"
      ]
    },
    {
      "cell_type": "markdown",
      "id": "40c40d71",
      "metadata": {
        "id": "40c40d71"
      },
      "source": [
        "### Setup OpenAI Client\n",
        "\n",
        "👉 **Instructions**:\n",
        "- Import the `OpenAI` client from the `openai` Python library.\n",
        "- You will need an **OpenAI API key** to use their models programmatically:\n",
        "  - Go to [https://platform.openai.com/](https://platform.openai.com/) and sign up or log in.\n",
        "  - Create an API key from your [API keys dashboard](https://platform.openai.com/account/api-keys).\n",
        "  - ⚠️ **Keep your API key private** and **do not** share or hardcode it in public notebooks.\n",
        "- Note that **usage of the OpenAI API is not free**. You will need to:\n",
        "  - Add a payment method.\n",
        "  - Monitor your usage to avoid unexpected charges.\n",
        "  - Optionally set usage limits from your account settings.\n",
        "- You can refer to the **course’s Study Resources** for a step-by-step guide on creating an OpenAI account and retrieving your API key.\n",
        "\n",
        "Then:\n",
        "- Initialize the client with `OpenAI(api_key=\"YOUR_KEY_HERE\")`.\n",
        "- Send a test request using `.responses.create()` and the `\"gpt-4o-mini\"` model with a simple prompt:\n",
        "\n",
        "  ```python\n",
        "  response = client.responses.create(\n",
        "      model=\"gpt-4o-mini\",\n",
        "      input=\"Write a one-sentence bedtime story about a unicorn.\"\n",
        "  )\n",
        "  print(response.output_text)\n"
      ]
    },
    {
      "cell_type": "code",
      "source": [
        "client = OpenAI(\n",
        "  api_key=\"\"\n",
        ")"
      ],
      "metadata": {
        "id": "LJ4Ntaj6LR74"
      },
      "id": "LJ4Ntaj6LR74",
      "execution_count": null,
      "outputs": []
    },
    {
      "cell_type": "code",
      "source": [
        "response = client.responses.create(\n",
        "  model=\"gpt-4o-mini\",\n",
        "  input=\"write a haiku about ai\",\n",
        "  store=True,\n",
        ")\n",
        "\n",
        "print(response.output_text);"
      ],
      "metadata": {
        "id": "_glvYVp_LrNb",
        "colab": {
          "base_uri": "https://localhost:8080/"
        },
        "outputId": "ec364446-ee2c-4954-d38d-eda3ca317a44"
      },
      "id": "_glvYVp_LrNb",
      "execution_count": null,
      "outputs": [
        {
          "output_type": "stream",
          "name": "stdout",
          "text": [
            "Silent circuits hum,  \n",
            "Dreams of logic intertwine—  \n",
            "Thoughts beyond the code.  \n"
          ]
        }
      ]
    },
    {
      "cell_type": "code",
      "execution_count": null,
      "id": "bb8e09c7",
      "metadata": {
        "id": "bb8e09c7",
        "outputId": "a2dc78f7-3420-4cbf-9e10-70a3fff14617"
      },
      "outputs": [
        {
          "name": "stdout",
          "output_type": "stream",
          "text": [
            "As the moonlight kissed the enchanted meadow, a gentle unicorn named Luna danced with fireflies, spreading dreams of magic and wonder across the sleeping world.\n"
          ]
        }
      ],
      "source": [
        "response = client.responses.create(\n",
        "  model=\"gpt-4o-mini\",\n",
        "  input=\"write a one-sentence bedtime story about a unicorn\",\n",
        ")\n",
        "\n",
        "print(response.output_text);"
      ]
    },
    {
      "cell_type": "markdown",
      "id": "15b1a560",
      "metadata": {
        "id": "15b1a560"
      },
      "source": [
        "## Retrieve Additional Metadata from Yahoo Finance\n",
        "\n",
        "👉 **Instructions**:\n",
        "- We will enrich our news dataset by retrieving **company-level metadata** using the `yfinance` library.\n",
        "- The goal is to map each unique stock ticker (`TICKER`) in the dataset to:\n",
        "  - `COMPANY_NAME`\n",
        "  - `SECTOR`\n",
        "  - `INDUSTRY`\n",
        "\n",
        "> ℹ️ `yfinance` fetches live data from Yahoo Finance. If you're running this in a cloud environment or during peak hours, expect some tickers to fail or rate limits to apply.\n",
        "\n",
        "✅ After this step, you will have a new DataFrame (e.g. `df_meta`) with the columns `TICKER`, `COMPANY_NAME`, `SECTOR`, `INDUSTRY` that maps tickers to their company names, sectors, and industries. This metadata will be useful later to add filters and analysis based on sector or industry categories.\n"
      ]
    },
    {
      "cell_type": "markdown",
      "source": [
        "### Add yfinance"
      ],
      "metadata": {
        "id": "6a5yFQ5kFa38"
      },
      "id": "6a5yFQ5kFa38"
    },
    {
      "cell_type": "code",
      "execution_count": null,
      "id": "57d90b86",
      "metadata": {
        "id": "57d90b86"
      },
      "outputs": [],
      "source": [
        "import yfinance as yf"
      ]
    },
    {
      "cell_type": "markdown",
      "source": [
        "### Get unique tickers"
      ],
      "metadata": {
        "id": "CmbRFwd0GNNT"
      },
      "id": "CmbRFwd0GNNT"
    },
    {
      "cell_type": "code",
      "source": [
        "unique_tickers = df_news['TICKER'].dropna().unique()\n",
        "meta_data = []"
      ],
      "metadata": {
        "id": "1332z-MHGPhi"
      },
      "id": "1332z-MHGPhi",
      "execution_count": null,
      "outputs": []
    },
    {
      "cell_type": "code",
      "source": [
        "unique_tickers"
      ],
      "metadata": {
        "colab": {
          "base_uri": "https://localhost:8080/"
        },
        "id": "bLwUcDniGwR4",
        "outputId": "4c79f532-bd77-430c-d807-043c71df9ee9"
      },
      "id": "bLwUcDniGwR4",
      "execution_count": null,
      "outputs": [
        {
          "output_type": "execute_result",
          "data": {
            "text/plain": [
              "array(['MMM', 'AOS', 'ABT', 'ABBV', 'ACN', 'ADBE', 'AMD', 'AES', 'AFL',\n",
              "       'A', 'APD', 'ABNB', 'AKAM', 'ARE', 'ALGN', 'ALLE', 'LNT', 'ALL',\n",
              "       'GOOGL', 'GOOG', 'MO', 'AMZN', 'AMCR', 'AEE', 'AEP', 'AXP', 'AIG',\n",
              "       'AMT', 'AWK', 'AMP', 'AME', 'AMGN', 'APH', 'ADI', 'ANSS', 'AON',\n",
              "       'APA', 'APO', 'AAPL', 'AMAT', 'APTV', 'ACGL', 'ADM', 'ANET', 'AJG',\n",
              "       'AIZ', 'T', 'ATO', 'ADSK', 'ADP', 'AZO', 'AVB', 'AVY', 'AXON',\n",
              "       'BKR', 'BALL', 'BAC', 'BAX', 'BDX', 'BBY', 'TECH', 'BIIB', 'BLK',\n",
              "       'BX', 'BK', 'BA', 'BKNG', 'BSX', 'BMY', 'AVGO', 'BR', 'BRO',\n",
              "       'BLDR', 'BG', 'BXP', 'CHRW', 'CDNS', 'CZR', 'CPT', 'CPB', 'COF',\n",
              "       'CAH', 'KMX', 'CCL', 'CARR', 'CAT', 'CBOE', 'CBRE', 'CDW', 'COR',\n",
              "       'CNC', 'CNP', 'CF', 'CRL', 'SCHW', 'CHTR', 'CVX', 'CMG', 'CHD',\n",
              "       'CI', 'CINF', 'CTAS', 'CSCO', 'C', 'CFG', 'CLX', 'CME', 'CMS',\n",
              "       'KO', 'CTSH', 'COIN', 'CL', 'CMCSA', 'CAG', 'COP', 'ED', 'STZ',\n",
              "       'CEG', 'COO', 'CPRT', 'GLW', 'CPAY', 'CTVA', 'CSGP', 'COST',\n",
              "       'CTRA', 'CRWD', 'CCI', 'CSX', 'CMI', 'CVS', 'DHR', 'DRI', 'DVA',\n",
              "       'DAY', 'DECK', 'DE', 'DELL', 'DAL', 'DVN', 'DXCM', 'FANG', 'DLR',\n",
              "       'DG', 'DLTR', 'D', 'DPZ', 'DASH', 'DOV', 'DOW', 'DHI', 'DTE', 'DD',\n",
              "       'EMN', 'ETN', 'EBAY', 'ECL', 'EIX', 'EW', 'EA', 'ELV', 'EMR',\n",
              "       'ENPH', 'ETR', 'EOG', 'EPAM', 'EQT', 'EFX', 'EQIX', 'EQR', 'ERIE',\n",
              "       'ESS', 'EL', 'EG', 'EVRG', 'ES', 'EXC', 'EXE', 'EXPE', 'EXPD',\n",
              "       'EXR', 'XOM', 'FFIV', 'FDS', 'FICO', 'FAST', 'FRT', 'FDX', 'FIS',\n",
              "       'FITB', 'FSLR', 'FE', 'FI', 'F', 'FTNT', 'FTV', 'FOXA', 'FOX',\n",
              "       'BEN', 'FCX', 'GRMN', 'IT', 'GE', 'GEHC', 'GEV', 'GEN', 'GNRC',\n",
              "       'GD', 'GIS', 'GM', 'GPC', 'GILD', 'GPN', 'GL', 'GDDY', 'GS', 'HAL',\n",
              "       'HIG', 'HAS', 'HCA', 'DOC', 'HSIC', 'HSY', 'HPE', 'HLT', 'HOLX',\n",
              "       'HD', 'HON', 'HRL', 'HST', 'HWM', 'HPQ', 'HUBB', 'HUM', 'HBAN',\n",
              "       'HII', 'IBM', 'IEX', 'IDXX', 'ITW', 'INCY', 'IR', 'PODD', 'INTC',\n",
              "       'ICE', 'IFF', 'IP', 'IPG', 'INTU', 'ISRG', 'IVZ', 'INVH', 'IQV',\n",
              "       'IRM', 'JBHT', 'JBL', 'JKHY', 'J', 'JNJ', 'JCI', 'JPM', 'JNPR',\n",
              "       'K', 'KVUE', 'KDP', 'KEY', 'KEYS', 'KMB', 'KIM', 'KMI', 'KKR',\n",
              "       'KLAC', 'KHC', 'KR', 'LHX', 'LH', 'LRCX', 'LW', 'LVS', 'LDOS',\n",
              "       'LEN', 'LII', 'LLY', 'LIN', 'LYV', 'LKQ', 'LMT', 'L', 'LOW',\n",
              "       'LULU', 'LYB', 'MTB', 'MPC', 'MKTX', 'MAR', 'MMC', 'MLM', 'MAS',\n",
              "       'MA', 'MTCH', 'MKC', 'MCD', 'MCK', 'MRK', 'META', 'MET', 'MTD',\n",
              "       'MGM', 'MCHP', 'MU', 'MSFT', 'MAA', 'MRNA', 'MHK', 'MOH', 'TAP',\n",
              "       'MDLZ', 'MPWR', 'MNST', 'MCO', 'MS', 'MOS', 'MSI', 'MSCI', 'NDAQ',\n",
              "       'NTAP', 'NFLX', 'NEM', 'NWSA', 'NWS', 'NEE', 'NKE', 'NI', 'NDSN',\n",
              "       'NSC', 'NTRS', 'NOC', 'NCLH', 'NRG', 'NUE', 'NVDA', 'NVR', 'NXPI',\n",
              "       'ORLY', 'ODFL', 'OMC', 'ON', 'OKE', 'ORCL', 'OTIS', 'PCAR', 'PKG',\n",
              "       'PLTR', 'PANW', 'PARA', 'PH', 'PAYX', 'PAYC', 'PYPL', 'PNR', 'PEP',\n",
              "       'PFE', 'PCG', 'PM', 'PSX', 'PNW', 'PNC', 'POOL', 'PPG', 'PPL',\n",
              "       'PFG', 'PG', 'PGR', 'PLD', 'PRU', 'PEG', 'PTC', 'PSA', 'PHM',\n",
              "       'QCOM', 'RL', 'RJF', 'RTX', 'O', 'REG', 'REGN', 'RF', 'RSG', 'RMD',\n",
              "       'RVTY', 'ROK', 'ROL', 'ROP', 'ROST', 'RCL', 'SPGI', 'CRM', 'SBAC',\n",
              "       'SLB', 'STX', 'SRE', 'NOW', 'SHW', 'SPG', 'SWKS', 'SJM', 'SW',\n",
              "       'SNA', 'SOLV', 'SO', 'LUV', 'SWK', 'SBUX', 'STT', 'STLD', 'STE',\n",
              "       'SYK', 'SMCI', 'SYF', 'SNPS', 'SYY', 'TMUS', 'TROW', 'TTWO', 'TPR',\n",
              "       'TRGP', 'TGT', 'TEL', 'TDY', 'TER', 'TSLA', 'TXN', 'TPL', 'TXT',\n",
              "       'TJX', 'TKO', 'TT', 'TDG', 'TRV', 'TRMB', 'TFC', 'TYL', 'TSN',\n",
              "       'USB', 'UBER', 'UDR', 'ULTA', 'UNP', 'UAL', 'UPS', 'URI', 'UNH',\n",
              "       'UHS', 'VLO', 'VTR', 'VLTO', 'VRSN', 'VRSK', 'VZ', 'VRTX', 'VTRS',\n",
              "       'VICI', 'V', 'VST', 'VMC', 'WRB', 'GWW', 'WAB', 'WBA', 'WMT',\n",
              "       'DIS', 'WBD', 'WM', 'WAT', 'WEC', 'WFC', 'WELL', 'WST', 'WDC',\n",
              "       'WY', 'WSM', 'WMB', 'WTW', 'WDAY', 'WYNN', 'XEL', 'XYL', 'YUM',\n",
              "       'ZBH', 'ZTS'], dtype=object)"
            ]
          },
          "metadata": {},
          "execution_count": 24
        }
      ]
    },
    {
      "cell_type": "markdown",
      "source": [
        "### Map metadata"
      ],
      "metadata": {
        "id": "5Cdli2obG6mi"
      },
      "id": "5Cdli2obG6mi"
    },
    {
      "cell_type": "code",
      "source": [
        "for ticker in unique_tickers:\n",
        "    try:\n",
        "        info = yf.Ticker(ticker).info\n",
        "        meta_data.append({\n",
        "            'TICKER': ticker,\n",
        "            'COMPANY_NAME': info.get('longName', ''),\n",
        "            'SECTOR': info.get('sector', ''),\n",
        "            'INDUSTRY': info.get('industry', '')\n",
        "        })\n",
        "    except:\n",
        "        continue"
      ],
      "metadata": {
        "id": "_8Z8a7xSG32Y"
      },
      "id": "_8Z8a7xSG32Y",
      "execution_count": null,
      "outputs": []
    },
    {
      "cell_type": "markdown",
      "source": [
        "### Create a new DF with metadata"
      ],
      "metadata": {
        "id": "lzR8NF7iHJmv"
      },
      "id": "lzR8NF7iHJmv"
    },
    {
      "cell_type": "code",
      "source": [
        "df_meta = pd.DataFrame(meta_data)\n",
        "display(df_meta)"
      ],
      "metadata": {
        "colab": {
          "base_uri": "https://localhost:8080/",
          "height": 424
        },
        "id": "4TmUxwpRHNZp",
        "outputId": "75a137a3-cdcc-4ac6-967c-163a474e171d"
      },
      "id": "4TmUxwpRHNZp",
      "execution_count": null,
      "outputs": [
        {
          "output_type": "display_data",
          "data": {
            "text/plain": [
              "    TICKER                  COMPANY_NAME             SECTOR  \\\n",
              "0      MMM                    3M Company        Industrials   \n",
              "1      AOS       A. O. Smith Corporation        Industrials   \n",
              "2      ABT           Abbott Laboratories         Healthcare   \n",
              "3     ABBV                   AbbVie Inc.         Healthcare   \n",
              "4      ACN                 Accenture plc         Technology   \n",
              "..     ...                           ...                ...   \n",
              "485    XEL              Xcel Energy Inc.          Utilities   \n",
              "486    XYL                    Xylem Inc.        Industrials   \n",
              "487    YUM             Yum! Brands, Inc.  Consumer Cyclical   \n",
              "488    ZBH  Zimmer Biomet Holdings, Inc.         Healthcare   \n",
              "489    ZTS                   Zoetis Inc.         Healthcare   \n",
              "\n",
              "                                     INDUSTRY  \n",
              "0                               Conglomerates  \n",
              "1              Specialty Industrial Machinery  \n",
              "2                             Medical Devices  \n",
              "3                Drug Manufacturers - General  \n",
              "4             Information Technology Services  \n",
              "..                                        ...  \n",
              "485            Utilities - Regulated Electric  \n",
              "486            Specialty Industrial Machinery  \n",
              "487                               Restaurants  \n",
              "488                           Medical Devices  \n",
              "489  Drug Manufacturers - Specialty & Generic  \n",
              "\n",
              "[490 rows x 4 columns]"
            ],
            "text/html": [
              "\n",
              "  <div id=\"df-af4dbac3-1226-4a04-9d56-205c525d24e0\" class=\"colab-df-container\">\n",
              "    <div>\n",
              "<style scoped>\n",
              "    .dataframe tbody tr th:only-of-type {\n",
              "        vertical-align: middle;\n",
              "    }\n",
              "\n",
              "    .dataframe tbody tr th {\n",
              "        vertical-align: top;\n",
              "    }\n",
              "\n",
              "    .dataframe thead th {\n",
              "        text-align: right;\n",
              "    }\n",
              "</style>\n",
              "<table border=\"1\" class=\"dataframe\">\n",
              "  <thead>\n",
              "    <tr style=\"text-align: right;\">\n",
              "      <th></th>\n",
              "      <th>TICKER</th>\n",
              "      <th>COMPANY_NAME</th>\n",
              "      <th>SECTOR</th>\n",
              "      <th>INDUSTRY</th>\n",
              "    </tr>\n",
              "  </thead>\n",
              "  <tbody>\n",
              "    <tr>\n",
              "      <th>0</th>\n",
              "      <td>MMM</td>\n",
              "      <td>3M Company</td>\n",
              "      <td>Industrials</td>\n",
              "      <td>Conglomerates</td>\n",
              "    </tr>\n",
              "    <tr>\n",
              "      <th>1</th>\n",
              "      <td>AOS</td>\n",
              "      <td>A. O. Smith Corporation</td>\n",
              "      <td>Industrials</td>\n",
              "      <td>Specialty Industrial Machinery</td>\n",
              "    </tr>\n",
              "    <tr>\n",
              "      <th>2</th>\n",
              "      <td>ABT</td>\n",
              "      <td>Abbott Laboratories</td>\n",
              "      <td>Healthcare</td>\n",
              "      <td>Medical Devices</td>\n",
              "    </tr>\n",
              "    <tr>\n",
              "      <th>3</th>\n",
              "      <td>ABBV</td>\n",
              "      <td>AbbVie Inc.</td>\n",
              "      <td>Healthcare</td>\n",
              "      <td>Drug Manufacturers - General</td>\n",
              "    </tr>\n",
              "    <tr>\n",
              "      <th>4</th>\n",
              "      <td>ACN</td>\n",
              "      <td>Accenture plc</td>\n",
              "      <td>Technology</td>\n",
              "      <td>Information Technology Services</td>\n",
              "    </tr>\n",
              "    <tr>\n",
              "      <th>...</th>\n",
              "      <td>...</td>\n",
              "      <td>...</td>\n",
              "      <td>...</td>\n",
              "      <td>...</td>\n",
              "    </tr>\n",
              "    <tr>\n",
              "      <th>485</th>\n",
              "      <td>XEL</td>\n",
              "      <td>Xcel Energy Inc.</td>\n",
              "      <td>Utilities</td>\n",
              "      <td>Utilities - Regulated Electric</td>\n",
              "    </tr>\n",
              "    <tr>\n",
              "      <th>486</th>\n",
              "      <td>XYL</td>\n",
              "      <td>Xylem Inc.</td>\n",
              "      <td>Industrials</td>\n",
              "      <td>Specialty Industrial Machinery</td>\n",
              "    </tr>\n",
              "    <tr>\n",
              "      <th>487</th>\n",
              "      <td>YUM</td>\n",
              "      <td>Yum! Brands, Inc.</td>\n",
              "      <td>Consumer Cyclical</td>\n",
              "      <td>Restaurants</td>\n",
              "    </tr>\n",
              "    <tr>\n",
              "      <th>488</th>\n",
              "      <td>ZBH</td>\n",
              "      <td>Zimmer Biomet Holdings, Inc.</td>\n",
              "      <td>Healthcare</td>\n",
              "      <td>Medical Devices</td>\n",
              "    </tr>\n",
              "    <tr>\n",
              "      <th>489</th>\n",
              "      <td>ZTS</td>\n",
              "      <td>Zoetis Inc.</td>\n",
              "      <td>Healthcare</td>\n",
              "      <td>Drug Manufacturers - Specialty &amp; Generic</td>\n",
              "    </tr>\n",
              "  </tbody>\n",
              "</table>\n",
              "<p>490 rows × 4 columns</p>\n",
              "</div>\n",
              "    <div class=\"colab-df-buttons\">\n",
              "\n",
              "  <div class=\"colab-df-container\">\n",
              "    <button class=\"colab-df-convert\" onclick=\"convertToInteractive('df-af4dbac3-1226-4a04-9d56-205c525d24e0')\"\n",
              "            title=\"Convert this dataframe to an interactive table.\"\n",
              "            style=\"display:none;\">\n",
              "\n",
              "  <svg xmlns=\"http://www.w3.org/2000/svg\" height=\"24px\" viewBox=\"0 -960 960 960\">\n",
              "    <path d=\"M120-120v-720h720v720H120Zm60-500h600v-160H180v160Zm220 220h160v-160H400v160Zm0 220h160v-160H400v160ZM180-400h160v-160H180v160Zm440 0h160v-160H620v160ZM180-180h160v-160H180v160Zm440 0h160v-160H620v160Z\"/>\n",
              "  </svg>\n",
              "    </button>\n",
              "\n",
              "  <style>\n",
              "    .colab-df-container {\n",
              "      display:flex;\n",
              "      gap: 12px;\n",
              "    }\n",
              "\n",
              "    .colab-df-convert {\n",
              "      background-color: #E8F0FE;\n",
              "      border: none;\n",
              "      border-radius: 50%;\n",
              "      cursor: pointer;\n",
              "      display: none;\n",
              "      fill: #1967D2;\n",
              "      height: 32px;\n",
              "      padding: 0 0 0 0;\n",
              "      width: 32px;\n",
              "    }\n",
              "\n",
              "    .colab-df-convert:hover {\n",
              "      background-color: #E2EBFA;\n",
              "      box-shadow: 0px 1px 2px rgba(60, 64, 67, 0.3), 0px 1px 3px 1px rgba(60, 64, 67, 0.15);\n",
              "      fill: #174EA6;\n",
              "    }\n",
              "\n",
              "    .colab-df-buttons div {\n",
              "      margin-bottom: 4px;\n",
              "    }\n",
              "\n",
              "    [theme=dark] .colab-df-convert {\n",
              "      background-color: #3B4455;\n",
              "      fill: #D2E3FC;\n",
              "    }\n",
              "\n",
              "    [theme=dark] .colab-df-convert:hover {\n",
              "      background-color: #434B5C;\n",
              "      box-shadow: 0px 1px 3px 1px rgba(0, 0, 0, 0.15);\n",
              "      filter: drop-shadow(0px 1px 2px rgba(0, 0, 0, 0.3));\n",
              "      fill: #FFFFFF;\n",
              "    }\n",
              "  </style>\n",
              "\n",
              "    <script>\n",
              "      const buttonEl =\n",
              "        document.querySelector('#df-af4dbac3-1226-4a04-9d56-205c525d24e0 button.colab-df-convert');\n",
              "      buttonEl.style.display =\n",
              "        google.colab.kernel.accessAllowed ? 'block' : 'none';\n",
              "\n",
              "      async function convertToInteractive(key) {\n",
              "        const element = document.querySelector('#df-af4dbac3-1226-4a04-9d56-205c525d24e0');\n",
              "        const dataTable =\n",
              "          await google.colab.kernel.invokeFunction('convertToInteractive',\n",
              "                                                    [key], {});\n",
              "        if (!dataTable) return;\n",
              "\n",
              "        const docLinkHtml = 'Like what you see? Visit the ' +\n",
              "          '<a target=\"_blank\" href=https://colab.research.google.com/notebooks/data_table.ipynb>data table notebook</a>'\n",
              "          + ' to learn more about interactive tables.';\n",
              "        element.innerHTML = '';\n",
              "        dataTable['output_type'] = 'display_data';\n",
              "        await google.colab.output.renderOutput(dataTable, element);\n",
              "        const docLink = document.createElement('div');\n",
              "        docLink.innerHTML = docLinkHtml;\n",
              "        element.appendChild(docLink);\n",
              "      }\n",
              "    </script>\n",
              "  </div>\n",
              "\n",
              "\n",
              "    <div id=\"df-2a6933c0-294a-42da-b8a7-2b2f6fb74633\">\n",
              "      <button class=\"colab-df-quickchart\" onclick=\"quickchart('df-2a6933c0-294a-42da-b8a7-2b2f6fb74633')\"\n",
              "                title=\"Suggest charts\"\n",
              "                style=\"display:none;\">\n",
              "\n",
              "<svg xmlns=\"http://www.w3.org/2000/svg\" height=\"24px\"viewBox=\"0 0 24 24\"\n",
              "     width=\"24px\">\n",
              "    <g>\n",
              "        <path d=\"M19 3H5c-1.1 0-2 .9-2 2v14c0 1.1.9 2 2 2h14c1.1 0 2-.9 2-2V5c0-1.1-.9-2-2-2zM9 17H7v-7h2v7zm4 0h-2V7h2v10zm4 0h-2v-4h2v4z\"/>\n",
              "    </g>\n",
              "</svg>\n",
              "      </button>\n",
              "\n",
              "<style>\n",
              "  .colab-df-quickchart {\n",
              "      --bg-color: #E8F0FE;\n",
              "      --fill-color: #1967D2;\n",
              "      --hover-bg-color: #E2EBFA;\n",
              "      --hover-fill-color: #174EA6;\n",
              "      --disabled-fill-color: #AAA;\n",
              "      --disabled-bg-color: #DDD;\n",
              "  }\n",
              "\n",
              "  [theme=dark] .colab-df-quickchart {\n",
              "      --bg-color: #3B4455;\n",
              "      --fill-color: #D2E3FC;\n",
              "      --hover-bg-color: #434B5C;\n",
              "      --hover-fill-color: #FFFFFF;\n",
              "      --disabled-bg-color: #3B4455;\n",
              "      --disabled-fill-color: #666;\n",
              "  }\n",
              "\n",
              "  .colab-df-quickchart {\n",
              "    background-color: var(--bg-color);\n",
              "    border: none;\n",
              "    border-radius: 50%;\n",
              "    cursor: pointer;\n",
              "    display: none;\n",
              "    fill: var(--fill-color);\n",
              "    height: 32px;\n",
              "    padding: 0;\n",
              "    width: 32px;\n",
              "  }\n",
              "\n",
              "  .colab-df-quickchart:hover {\n",
              "    background-color: var(--hover-bg-color);\n",
              "    box-shadow: 0 1px 2px rgba(60, 64, 67, 0.3), 0 1px 3px 1px rgba(60, 64, 67, 0.15);\n",
              "    fill: var(--button-hover-fill-color);\n",
              "  }\n",
              "\n",
              "  .colab-df-quickchart-complete:disabled,\n",
              "  .colab-df-quickchart-complete:disabled:hover {\n",
              "    background-color: var(--disabled-bg-color);\n",
              "    fill: var(--disabled-fill-color);\n",
              "    box-shadow: none;\n",
              "  }\n",
              "\n",
              "  .colab-df-spinner {\n",
              "    border: 2px solid var(--fill-color);\n",
              "    border-color: transparent;\n",
              "    border-bottom-color: var(--fill-color);\n",
              "    animation:\n",
              "      spin 1s steps(1) infinite;\n",
              "  }\n",
              "\n",
              "  @keyframes spin {\n",
              "    0% {\n",
              "      border-color: transparent;\n",
              "      border-bottom-color: var(--fill-color);\n",
              "      border-left-color: var(--fill-color);\n",
              "    }\n",
              "    20% {\n",
              "      border-color: transparent;\n",
              "      border-left-color: var(--fill-color);\n",
              "      border-top-color: var(--fill-color);\n",
              "    }\n",
              "    30% {\n",
              "      border-color: transparent;\n",
              "      border-left-color: var(--fill-color);\n",
              "      border-top-color: var(--fill-color);\n",
              "      border-right-color: var(--fill-color);\n",
              "    }\n",
              "    40% {\n",
              "      border-color: transparent;\n",
              "      border-right-color: var(--fill-color);\n",
              "      border-top-color: var(--fill-color);\n",
              "    }\n",
              "    60% {\n",
              "      border-color: transparent;\n",
              "      border-right-color: var(--fill-color);\n",
              "    }\n",
              "    80% {\n",
              "      border-color: transparent;\n",
              "      border-right-color: var(--fill-color);\n",
              "      border-bottom-color: var(--fill-color);\n",
              "    }\n",
              "    90% {\n",
              "      border-color: transparent;\n",
              "      border-bottom-color: var(--fill-color);\n",
              "    }\n",
              "  }\n",
              "</style>\n",
              "\n",
              "      <script>\n",
              "        async function quickchart(key) {\n",
              "          const quickchartButtonEl =\n",
              "            document.querySelector('#' + key + ' button');\n",
              "          quickchartButtonEl.disabled = true;  // To prevent multiple clicks.\n",
              "          quickchartButtonEl.classList.add('colab-df-spinner');\n",
              "          try {\n",
              "            const charts = await google.colab.kernel.invokeFunction(\n",
              "                'suggestCharts', [key], {});\n",
              "          } catch (error) {\n",
              "            console.error('Error during call to suggestCharts:', error);\n",
              "          }\n",
              "          quickchartButtonEl.classList.remove('colab-df-spinner');\n",
              "          quickchartButtonEl.classList.add('colab-df-quickchart-complete');\n",
              "        }\n",
              "        (() => {\n",
              "          let quickchartButtonEl =\n",
              "            document.querySelector('#df-2a6933c0-294a-42da-b8a7-2b2f6fb74633 button');\n",
              "          quickchartButtonEl.style.display =\n",
              "            google.colab.kernel.accessAllowed ? 'block' : 'none';\n",
              "        })();\n",
              "      </script>\n",
              "    </div>\n",
              "\n",
              "  <div id=\"id_1a7dd7d4-1533-4ad2-b827-bb1aa52ccb02\">\n",
              "    <style>\n",
              "      .colab-df-generate {\n",
              "        background-color: #E8F0FE;\n",
              "        border: none;\n",
              "        border-radius: 50%;\n",
              "        cursor: pointer;\n",
              "        display: none;\n",
              "        fill: #1967D2;\n",
              "        height: 32px;\n",
              "        padding: 0 0 0 0;\n",
              "        width: 32px;\n",
              "      }\n",
              "\n",
              "      .colab-df-generate:hover {\n",
              "        background-color: #E2EBFA;\n",
              "        box-shadow: 0px 1px 2px rgba(60, 64, 67, 0.3), 0px 1px 3px 1px rgba(60, 64, 67, 0.15);\n",
              "        fill: #174EA6;\n",
              "      }\n",
              "\n",
              "      [theme=dark] .colab-df-generate {\n",
              "        background-color: #3B4455;\n",
              "        fill: #D2E3FC;\n",
              "      }\n",
              "\n",
              "      [theme=dark] .colab-df-generate:hover {\n",
              "        background-color: #434B5C;\n",
              "        box-shadow: 0px 1px 3px 1px rgba(0, 0, 0, 0.15);\n",
              "        filter: drop-shadow(0px 1px 2px rgba(0, 0, 0, 0.3));\n",
              "        fill: #FFFFFF;\n",
              "      }\n",
              "    </style>\n",
              "    <button class=\"colab-df-generate\" onclick=\"generateWithVariable('df_meta')\"\n",
              "            title=\"Generate code using this dataframe.\"\n",
              "            style=\"display:none;\">\n",
              "\n",
              "  <svg xmlns=\"http://www.w3.org/2000/svg\" height=\"24px\"viewBox=\"0 0 24 24\"\n",
              "       width=\"24px\">\n",
              "    <path d=\"M7,19H8.4L18.45,9,17,7.55,7,17.6ZM5,21V16.75L18.45,3.32a2,2,0,0,1,2.83,0l1.4,1.43a1.91,1.91,0,0,1,.58,1.4,1.91,1.91,0,0,1-.58,1.4L9.25,21ZM18.45,9,17,7.55Zm-12,3A5.31,5.31,0,0,0,4.9,8.1,5.31,5.31,0,0,0,1,6.5,5.31,5.31,0,0,0,4.9,4.9,5.31,5.31,0,0,0,6.5,1,5.31,5.31,0,0,0,8.1,4.9,5.31,5.31,0,0,0,12,6.5,5.46,5.46,0,0,0,6.5,12Z\"/>\n",
              "  </svg>\n",
              "    </button>\n",
              "    <script>\n",
              "      (() => {\n",
              "      const buttonEl =\n",
              "        document.querySelector('#id_1a7dd7d4-1533-4ad2-b827-bb1aa52ccb02 button.colab-df-generate');\n",
              "      buttonEl.style.display =\n",
              "        google.colab.kernel.accessAllowed ? 'block' : 'none';\n",
              "\n",
              "      buttonEl.onclick = () => {\n",
              "        google.colab.notebook.generateWithVariable('df_meta');\n",
              "      }\n",
              "      })();\n",
              "    </script>\n",
              "  </div>\n",
              "\n",
              "    </div>\n",
              "  </div>\n"
            ],
            "application/vnd.google.colaboratory.intrinsic+json": {
              "type": "dataframe",
              "variable_name": "df_meta",
              "summary": "{\n  \"name\": \"df_meta\",\n  \"rows\": 490,\n  \"fields\": [\n    {\n      \"column\": \"TICKER\",\n      \"properties\": {\n        \"dtype\": \"string\",\n        \"num_unique_values\": 490,\n        \"samples\": [\n          \"UHS\",\n          \"CARR\",\n          \"TJX\"\n        ],\n        \"semantic_type\": \"\",\n        \"description\": \"\"\n      }\n    },\n    {\n      \"column\": \"COMPANY_NAME\",\n      \"properties\": {\n        \"dtype\": \"string\",\n        \"num_unique_values\": 487,\n        \"samples\": [\n          \"Bunge Global SA\",\n          \"International Paper Company\",\n          \"Truist Financial Corporation\"\n        ],\n        \"semantic_type\": \"\",\n        \"description\": \"\"\n      }\n    },\n    {\n      \"column\": \"SECTOR\",\n      \"properties\": {\n        \"dtype\": \"category\",\n        \"num_unique_values\": 11,\n        \"samples\": [\n          \"Basic Materials\",\n          \"Industrials\",\n          \"Consumer Defensive\"\n        ],\n        \"semantic_type\": \"\",\n        \"description\": \"\"\n      }\n    },\n    {\n      \"column\": \"INDUSTRY\",\n      \"properties\": {\n        \"dtype\": \"category\",\n        \"num_unique_values\": 113,\n        \"samples\": [\n          \"Entertainment\",\n          \"Information Technology Services\",\n          \"Banks - Diversified\"\n        ],\n        \"semantic_type\": \"\",\n        \"description\": \"\"\n      }\n    }\n  ]\n}"
            }
          },
          "metadata": {}
        }
      ]
    },
    {
      "cell_type": "markdown",
      "id": "f1cb5429",
      "metadata": {
        "id": "f1cb5429"
      },
      "source": [
        "## Retrieval-Augmented Generation (RAG): Retrieve Documents and Generate Answers\n",
        "\n",
        "👉 **Instructions**:\n",
        "\n",
        "In this part of the assignment, your task is to build a simple Retrieval-Augmented Generation (RAG) pipeline that:\n",
        "\n",
        "- Takes a user question as input.\n",
        "- Searches the FAISS vector store to find a set of relevant financial news articles based on semantic similarity.\n",
        "- Uses the retrieved news articles as context to generate a clear, concise answer to the question by interacting with the OpenAI language model.\n",
        "- Returns both the generated answer and the underlying news snippets used for context.\n",
        "\n",
        "### What you need to focus on:\n",
        "\n",
        "- Implement a retrieval mechanism to query your vector store and obtain the top relevant documents for any question.\n",
        "- Construct prompts that effectively combine retrieved news content with the user’s question to guide the language model’s response.\n",
        "- Use the OpenAI API to generate answers grounded in the retrieved context.\n",
        "- Organize the outputs so that for each question, you have:\n",
        "  - The generated answer.\n",
        "  - The collection of news excerpts used to produce that answer.\n",
        "\n",
        "### What you will be provided:\n",
        "\n",
        "- Helper functions to display outputs in markdown format.\n",
        "- Lists of example questions covering topics, companies, and industries to test your implementation.\n",
        "\n",
        "---\n",
        "\n",
        "Your solution can take any form or structure you find appropriate, as long as it fulfills these core objectives. This exercise will give you hands-on experience with integrating retrieval and generation for practical applications in finance.\n"
      ]
    },
    {
      "cell_type": "markdown",
      "id": "aa99a272",
      "metadata": {
        "id": "aa99a272"
      },
      "source": [
        "#### Print markdown\n",
        "You can use the following function to print answers from GPT4o-mini in markdown."
      ]
    },
    {
      "cell_type": "code",
      "execution_count": 4,
      "id": "9165af0a",
      "metadata": {
        "id": "9165af0a"
      },
      "outputs": [],
      "source": [
        "from IPython.display import Markdown, display\n",
        "\n",
        "def print_markdown(text):\n",
        "    display(Markdown(text))"
      ]
    },
    {
      "cell_type": "markdown",
      "id": "9b4f82b9",
      "metadata": {
        "id": "9b4f82b9"
      },
      "source": [
        "#### Predefined questions"
      ]
    },
    {
      "cell_type": "code",
      "execution_count": null,
      "id": "3f4b75dd",
      "metadata": {
        "id": "3f4b75dd"
      },
      "outputs": [],
      "source": [
        "questions_topic = [\n",
        "\"What are the major concerns expressed in financial news about inflation?\",\n",
        "\"How is investor sentiment described in recent financial headlines?\",\n",
        "\"What role is artificial intelligence playing in recent finance-related news stories?\"\n",
        "]\n",
        "\n",
        "questions_company = [\n",
        "\"How is Microsoft being portrayed in news stories about artificial intelligence?\",\n",
        "\"What financial news headlines connect Amazon with automation or logistics?\"\n",
        "]\n",
        "\n",
        "questions_industry = [\n",
        "\"What are the main themes emerging in financial news about the semiconductor industry?\",\n",
        "\"What trends are being reported in the retail industry?\",\n",
        "\"What risks or challenges are discussed in recent news about the energy industry?\"\n",
        "]"
      ]
    },
    {
      "cell_type": "markdown",
      "source": [
        "### Function to take a user's question, search in the FAISS vector store and return the top 5 results"
      ],
      "metadata": {
        "id": "RaImNH-KHxyO"
      },
      "id": "RaImNH-KHxyO"
    },
    {
      "cell_type": "code",
      "execution_count": null,
      "id": "4ae50eb2",
      "metadata": {
        "id": "4ae50eb2"
      },
      "outputs": [],
      "source": [
        "def generate_answer(question, vector_store, model, k=5):\n",
        "    # Get semantic results\n",
        "    results = vector_store.search(question, k=k)\n",
        "    context = \"\\n\\n\".join([doc for doc, meta, score in results])\n",
        "    # create prompt\n",
        "    prompt = f\"Context:\\n{context}\\n\\nQuestion: {question}\\nAnswer:\"\n",
        "    # call open api model\n",
        "    response = model.chat.completions.create(\n",
        "        model=\"gpt-4o-mini\",\n",
        "        messages=[{\"role\": \"user\", \"content\": prompt}]\n",
        "    )\n",
        "    answer = response.choices[0].message.content\n",
        "    return answer, context"
      ]
    },
    {
      "cell_type": "markdown",
      "source": [
        "### Initialize the vector store"
      ],
      "metadata": {
        "id": "uDw6cVcvIR10"
      },
      "id": "uDw6cVcvIR10"
    },
    {
      "cell_type": "code",
      "source": [
        "vector_store = FaissVectorStore(model, faiss_index, text_embeddings, documents, metadata)"
      ],
      "metadata": {
        "id": "EypELghhILPY"
      },
      "id": "EypELghhILPY",
      "execution_count": null,
      "outputs": []
    },
    {
      "cell_type": "markdown",
      "source": [
        "### Group all questions"
      ],
      "metadata": {
        "id": "r0Hu_l0YIlOb"
      },
      "id": "r0Hu_l0YIlOb"
    },
    {
      "cell_type": "code",
      "source": [
        "all_questions = questions_topic + questions_company + questions_industry"
      ],
      "metadata": {
        "id": "n3rlRC2_InyE"
      },
      "id": "n3rlRC2_InyE",
      "execution_count": null,
      "outputs": []
    },
    {
      "cell_type": "markdown",
      "source": [
        "### Loop to return both the generated answer and the underlying news snippets used for context."
      ],
      "metadata": {
        "id": "5DKq-ww7JIv3"
      },
      "id": "5DKq-ww7JIv3"
    },
    {
      "cell_type": "code",
      "source": [
        "for q in all_questions:\n",
        "    answer, context = generate_answer(q, vector_store, client, k=5)\n",
        "    print_markdown(f\"### Question:\\n{q}\\n\\n### Answer:\\n{answer}\\n\\n### Context:\\n{context}\")"
      ],
      "metadata": {
        "colab": {
          "base_uri": "https://localhost:8080/",
          "height": 1000
        },
        "id": "GTgj8ByYIsXg",
        "outputId": "9e702d64-d728-44ba-8fc4-55700413599b"
      },
      "id": "GTgj8ByYIsXg",
      "execution_count": null,
      "outputs": [
        {
          "output_type": "display_data",
          "data": {
            "text/plain": [
              "<IPython.core.display.Markdown object>"
            ],
            "text/markdown": "### Question:\nWhat are the major concerns expressed in financial news about inflation?\n\n### Answer:\nMajor concerns expressed in financial news about inflation include:\n\n1. **Persistent Inflation**: There is increasing worry regarding the sustained nature of inflation, as indicated by the Federal Reserve's discussions highlighting the risk that it may not be temporary.\n\n2. **Economic Slowdown**: The potential for economic slowdown due to high inflation is a key concern, as rising prices can impact consumer spending and overall economic growth.\n\n3. **Food Inflation**: Food inflation is specifically dampening hopes of a rate cut, suggesting that rising food prices are having a significant impact on the economy and consumers' cost of living.\n\n4. **Tariff Impacts**: The ongoing uncertainty and fluctuations related to tariffs are adding to inflationary pressures, which complicates the economic outlook and monetary policy decisions.\n\n5. **Policy Response**: There is unease about how the Federal Reserve may respond to these inflationary pressures, particularly whether they may need to maintain or adjust interest rates to counteract inflation, affecting financial markets.\n\n### Context:\nBitcoin price slips as Fed minutes flag US inflation risks : The Federal Reserve’s May policy meeting revealed mounting concern over persistent US inflation and the potential for economic slowdown.\n\nThe Weekend: Food inflation dampens hopes of a rate cut as tariff twists and turns continue : Key moments from the last seven days, plus a glimpse at the week ahead\n\nThe Weekend: Food inflation dampens hopes of a rate cut as tariff twists and turns continue : Key moments from the last seven days, plus a glimpse at the week ahead\n\nThe Weekend: Food inflation dampens hopes of a rate cut as tariff twists and turns continue : Key moments from the last seven days, plus a glimpse at the week ahead\n\nThe Weekend: Food inflation dampens hopes of a rate cut as tariff twists and turns continue : Key moments from the last seven days, plus a glimpse at the week ahead"
          },
          "metadata": {}
        },
        {
          "output_type": "display_data",
          "data": {
            "text/plain": [
              "<IPython.core.display.Markdown object>"
            ],
            "text/markdown": "### Question:\nHow is investor sentiment described in recent financial headlines?\n\n### Answer:\nInvestor sentiment in recent financial headlines is characterized by a mix of optimism and caution. On one hand, certain stocks are highlighted for their strong performance, positive catalysts, and favorable price targets set by analysts, suggesting attractive upside potential. However, there is also a prevalent skepticism regarding these forecasts, as analysts may face institutional pressures that can lead to overly optimistic projections. Additionally, the disparity between bullish analyst ratings and the realities of market conditions is evident, leading to warnings about stocks that may not have solid fundamentals, thus suggesting that investors should approach these recommendations with a critical eye. Overall, while there is excitement around certain stocks, the underlying messages emphasize the importance of due diligence and a wary perspective on analyst projections.\n\n### Context:\n3 of Wall Street’s Favorite Stocks Facing Headwinds : Wall Street has set ambitious price targets for the stocks in this article. While this suggests attractive upside potential, it’s important to remain skeptical because analysts face institutional pressures that can sometimes lead to overly optimistic forecasts.\n\n3 Hyped Up  Stocks Facing Headwinds : Great things are happening to the stocks in this article. They’re all outperforming the market over the last month because of positive catalysts such as a new product line, constructive news flow, or even a loyal Reddit fanbase.\n\n1 of Wall Street’s Favorite Stock with Impressive Fundamentals and 2 to Think Twice About : The stocks in this article have caught Wall Street’s attention in a big way, with price targets implying returns above 20%. But investors should take these forecasts with a grain of salt because analysts typically say nice things about companies so their firms can win business in other product lines like M&A advisory.\n\n1 Unpopular Stock that Should Get More Attention and 2 to Steer Clear Of : When Wall Street turns bearish on a stock, it’s worth paying attention. These calls stand out because analysts rarely issue grim ratings on companies for fear their firms will lose out in other business lines such as M&A advisory.\n\n3 of Wall Street’s Favorite Stocks with Questionable Fundamentals : Wall Street is overwhelmingly bullish on the stocks in this article, with price targets suggesting significant upside potential. However, it’s worth remembering that analysts rarely issue sell ratings, partly because their firms often seek other business from the same companies they cover."
          },
          "metadata": {}
        },
        {
          "output_type": "display_data",
          "data": {
            "text/plain": [
              "<IPython.core.display.Markdown object>"
            ],
            "text/markdown": "### Question:\nWhat role is artificial intelligence playing in recent finance-related news stories?\n\n### Answer:\nArtificial intelligence (AI) is playing a significant role in recent finance-related news stories by enabling companies to enhance their operations, optimize investment strategies, and improve decision-making processes. Here are several key aspects highlighted in the stories:\n\n1. **Increased Productivity**: AI technologies are recognized for their ability to boost productivity and reduce human error. Companies like Jack Henry are integrating AI-driven lending technologies to streamline processes in the financial sector.\n\n2. **Investment Opportunities**: Analysts and investors are closely monitoring AI investments made by technology giants like Meta Platforms. These investments are expected to unlock new revenue streams, potentially leading to significant stock appreciation as the market begins to value these AI capabilities.\n\n3. **Billionaire Investments**: The involvement of billionaire hedge fund managers in companies like Palantir and Upstart showcases the perceived potential of AI stocks. Analysts forecast that these companies could see substantial upside due to their innovative AI applications, such as Palantir's work with government and commercial clients and Upstart's AI-driven credit risk assessment.\n\n4. **Comparison of AI Stocks**: The financial performance of AI-focused companies, like Palantir and Snowflake, is being scrutinized. Despite market volatility, both companies have shown strong gains, indicating investor confidence in their AI capabilities.\n\n5. **Content Production**: AI's potential to streamline content production is highlighted through companies like Netflix. The integration of AI in their content strategy suggests a transformative impact on how content is generated and delivered, which could lead to increased viewership and revenue.\n\nIn summary, AI is emerging as a pivotal force in reshaping investment strategies, enhancing operational efficiency, and influencing the financial performance of tech companies, which collectively drives interest in AI-related stocks among investors.\n\n### Context:\nJack Henry (JKHY) Integrates AI-Driven Lending Tech With Algebrik : We recently published a list of 12 AI News Investors Should Not Miss This Week. In this article, we are going to take a look at where Jack Henry & Associates, Inc. (NASDAQ:JKHY) stands against other AI news Investors should not miss this week. Artificial Intelligence (AI) is known to increase productivity, decrease human error, […]\n\nThis \"Magnificent Seven\" Stock Is Set to Skyrocket If Its AI Investments Pay Off : Meta Platforms has investments in several AI applications.  The tech giant's stock is only valued on its legacy business.  Over the past two-and-a-half years, investors have heard about various artificial intelligence (AI) investments that tech companies are making.\n\nBillionaires Are Buying 2 Artificial Intelligence (AI) Stocks That Wall Street Analysts Say Can Soar Up to 240% : Several billionaire hedge fund managers bought shares of Palantir and/or Upstart in the first quarter -- stocks where certain analysts anticipate substantial upside.  Palantir is successfully tapping demand for artificial intelligence (AI) with government and commercial customers, but the stock trades at a very expensive valuation.  Upstart is generating attractive returns for lenders by helping them quantify credit risk with artificial intelligence, and the stock trades at a very reasonable valuation.\n\nBetter Artificial Intelligence (AI) Stock: Palantir vs. Snowflake : Shares of both Palantir and Snowflake have delivered healthy gains in 2025 despite the broader stock market weakness.  Palantir stock has shot up 63% this year despite bouts of volatility.  Palantir Technologies helps commercial and government clients integrate generative AI capabilities into their operations with its Artificial Intelligence Platform (AIP), which was launched roughly two years ago.\n\n2 Underrated Artificial Intelligence (AI) Stocks to Buy and Hold : Generative AI can simplify and speed up many tasks, including content production.  It's easy to see the potential for Netflix, whose content strategy is integral to its success.  Netflix's creations have attracted millions of viewers and won many awards."
          },
          "metadata": {}
        },
        {
          "output_type": "display_data",
          "data": {
            "text/plain": [
              "<IPython.core.display.Markdown object>"
            ],
            "text/markdown": "### Question:\nHow is Microsoft being portrayed in news stories about artificial intelligence?\n\n### Answer:\nThe provided context does not specifically mention Microsoft or its portrayal in news stories about artificial intelligence. Therefore, I cannot provide a direct analysis regarding how Microsoft is being portrayed in such articles. However, if you have additional context or specific articles about Microsoft and its AI initiatives, I would be happy to help analyze that information.\n\n### Context:\nThis \"Magnificent Seven\" Stock Is Set to Skyrocket If Its AI Investments Pay Off : Meta Platforms has investments in several AI applications.  The tech giant's stock is only valued on its legacy business.  Over the past two-and-a-half years, investors have heard about various artificial intelligence (AI) investments that tech companies are making.\n\nHow Salesforce has 'overcorrected' by leaning into AI : D.A. Davidson head of technology research Gil Luria joins Market Domination to discuss Salesforce (CRM) earnings and the company's trajectory. Luria says Salesforce is \"too focused\" on artificial intelligence (AI), as the other parts of its business \"rapidly\" decelerate and the company loses market share to competitors. Luria has the equivalent of a Sell rating on the stock. To watch more expert insights and analysis on the latest market action, check out more Market Domination here.\n\nJack Henry (JKHY) Integrates AI-Driven Lending Tech With Algebrik : We recently published a list of 12 AI News Investors Should Not Miss This Week. In this article, we are going to take a look at where Jack Henry & Associates, Inc. (NASDAQ:JKHY) stands against other AI news Investors should not miss this week. Artificial Intelligence (AI) is known to increase productivity, decrease human error, […]\n\n2 Underrated Artificial Intelligence (AI) Stocks to Buy and Hold : Generative AI can simplify and speed up many tasks, including content production.  It's easy to see the potential for Netflix, whose content strategy is integral to its success.  Netflix's creations have attracted millions of viewers and won many awards.\n\nMeta (META) AI Reaches 1 Billion Users, Eyes Paid Features and Subscriptions : We recently published a list of 10 AI Stocks on Wall Street’s Radar. In this article, we are going to take a look at where Meta Platforms, Inc. (NASDAQ:META) stands against other AI stocks on Wall Street’s radar. Meta Platforms, Inc. (NASDAQ:META) is a global technology company. On May 28, CNBC reported that Meta Platforms, Inc. (NASDAQ:META)’s artificial […]"
          },
          "metadata": {}
        },
        {
          "output_type": "display_data",
          "data": {
            "text/plain": [
              "<IPython.core.display.Markdown object>"
            ],
            "text/markdown": "### Question:\nWhat financial news headlines connect Amazon with automation or logistics?\n\n### Answer:\nThe financial news headlines that connect Amazon with automation or logistics include:\n\n1. **Amazon's AI Roadmap With AWS CEO Garman**: This article discusses how every aspect of Amazon is leveraging artificial intelligence, which often includes automation technologies that can enhance logistics and operational efficiencies.\n\n2. **Winners And Losers Of Q1: C.H. Robinson Worldwide (NASDAQ:CHRW) Vs The Rest Of The Air Freight and Logistics Stocks**: While this headline primarily focuses on logistics, Amazon's involvement in the logistics space, particularly with its delivery and supply chain operations, can be inferred through comparisons with other logistics companies.\n\nThese headlines highlight Amazon's emphasis on AI, which is closely tied to automation and improving logistics efficiency.\n\n### Context:\nTruist Reiterates Buy on Amazon.com (AMZN) as Q2 Revenue Tracks Ahead : We recently published a list of 10 AI Stocks on Wall Street’s Radar. In this article, we are going to take a look at where Amazon.com Inc. (NASDAQ:AMZN) stands against other AI stocks on Wall Street’s radar. Amazon.com Inc. (NASDAQ:AMZN) is an American technology company offering e-commerce, cloud computing, and other services, including digital streaming […]\n\nAmazon's AI Roadmap With AWS CEO Garman : Every aspect of Amazon is leveraging artificial intelligence, says Matt Garman, CEO of Amazon Web Services. Garman discusses Amazon's AI roadmap and reflects on his first year in the role with Ed Ludlow on \"Bloomberg Technology.\"\n\nWoodward's Volumes, Automation to Drive Earnings Growth, Truist Says : Woodward's (WWD) increasing volumes, pricing, automation, and products will push its aerospace margi\n\nTop Stock Reports for Amazon.com, Johnson & Johnson & Cisco Systems : Today's Research Daily features new research reports on 16 major stocks, including Amazon.com, Inc. (AMZN), Johnson & Johnson (JNJ) and Cisco Systems, Inc. (CSCO), as well as a micro-cap NeurAxis, Inc. (NRXS).\n\nWinners And Losers Of Q1: C.H. Robinson Worldwide (NASDAQ:CHRW) Vs The Rest Of The Air Freight and Logistics Stocks : As the craze of earnings season draws to a close, here’s a look back at some of the most exciting (and some less so) results from Q1. Today, we are looking at air freight and logistics stocks, starting with C.H. Robinson Worldwide (NASDAQ:CHRW)."
          },
          "metadata": {}
        },
        {
          "output_type": "display_data",
          "data": {
            "text/plain": [
              "<IPython.core.display.Markdown object>"
            ],
            "text/markdown": "### Question:\nWhat are the main themes emerging in financial news about the semiconductor industry?\n\n### Answer:\nThe main themes emerging in financial news about the semiconductor industry, particularly regarding companies like ON Semiconductor Corp. (ON), include:\n\n1. **International Revenue Trends**: There is a strong focus on the analysis of international revenue trends for semiconductor companies. Investors are particularly interested in how these trends influence market forecasts and the potential impact on stock performance.\n\n2. **Earnings Performance and Investor Sentiment**: Recent articles highlight that despite some companies posting soft earnings, there seems to be a lack of concern among shareholders. This indicates a level of optimism or confidence in future performance.\n\n3. **Increased Investor Attention**: There has been a noticeable increase in interest from investors in certain semiconductor stocks, such as ON Semiconductor. This could be driven by market conditions or specific corporate developments that are attracting attention.\n\n4. **Stock Picks from Influential Investors**: The investment strategies of prominent investors, like Billionaire Glenn Russell Dubin, are shaping discussions within the industry. Mentioning stocks with significant upside potential suggests that investors are looking for high-growth opportunities in the semiconductor sector.\n\n5. **Market Environment Evaluation**: The current earnings season is seen as a strategic point for identifying companies that are effectively navigating the changing business environment. This implies a broader evaluation of performance among semiconductor firms and an indication of potential winners in the market.\n\nOverall, these themes reflect a combination of market analysis, investor sentiment, and individual stock performance within the semiconductor industry.\n\n### Context:\nInvesting in ON Semiconductor Corp. (ON)? Don't Miss Assessing Its International Revenue Trends : Explore ON Semiconductor Corp.'s (ON) international revenue trends and how these numbers impact Wall Street's forecasts and what's ahead for the stock.\n\nON Semiconductor Corporation (ON) is Attracting Investor Attention: Here is What You Should Know : Recently, Zacks.com users have been paying close attention to ON Semiconductor Corp. (ON). This makes it worthwhile to examine what the stock has in store.\n\nSome May Be Optimistic About ON Semiconductor's (NASDAQ:ON) Earnings : Soft earnings didn't appear to concern ON Semiconductor Corporation's ( NASDAQ:ON ) shareholders over the last week...\n\nSpotting Winners: Vishay Intertechnology (NYSE:VSH) And Analog Semiconductors Stocks In Q1 : The end of an earnings season can be a great time to discover new stocks and assess how companies are handling the current business environment. Let’s take a look at how Vishay Intertechnology (NYSE:VSH) and the rest of the analog semiconductors stocks fared in Q1.\n\nON Semiconductor (ON): Among Billionaire Glenn Russell Dubin’s Stock Picks with Huge Upside Potential : We recently published a list of Billionaire Glenn Russell Dubin’s 10 Stock Picks with Huge Upside Potential. In this article, we are going to take a look at where ON Semiconductor Corporation (NASDAQ:ON) stands against Billionaire Glenn Russell Dubin’s other stock picks with huge upside potential. Glenn Russell Dubin is one of the industry’s most […]"
          },
          "metadata": {}
        },
        {
          "output_type": "display_data",
          "data": {
            "text/plain": [
              "<IPython.core.display.Markdown object>"
            ],
            "text/markdown": "### Question:\nWhat trends are being reported in the retail industry?\n\n### Answer:\nThe retail industry is currently experiencing several concerning trends:\n\n1. **Volatility in Consumer Demand**: There is significant uncertainty in consumer spending, leading to fluctuations in demand for retail products. This has caused retail stocks to decline by 13.7% over the past six months, which is notably worse than the S&P 500's decline of 5.5%.\n\n2. **Adaptation to Technological Changes**: Retailers are adapting their business models in response to changing shopping behaviors driven by technology. This adaptation is essential as consumer preferences evolve, but it also contributes to the uncertainty faced by the sector.\n\n3. **Impact of Trade Policies**: Retail executives are dealing with the ramifications of tariffs and trade policies. They have reportedly shifted their supply chains, and many price increases have already been implemented in response to these external pressures.\n\n4. **Economic Cycle Dependency**: The performance of consumer discretionary businesses is closely linked to economic cycles. Recently, these businesses have faced headwinds, with an industry-wide drop of 12.3%, significantly worse than the S&P 500's 2.1% decline.\n\nOverall, the combination of increased operational costs due to tariffs, changing consumer behaviors, and economic uncertainties has created a challenging environment for retailers.\n\n### Context:\n3 Consumer Stocks That Concern Us : Retailers are adapting their business models as technology changes how people shop. Still, demand can be volatile as the industry is exposed to the ups and downs of consumer spending. This has stirred some uncertainty lately as retail stocks have tumbled by 13.7% over the past six months. This performance was worse than the S&P 500’s 5.5% loss.\n\nRetailers, Ducking Trade-War Curveballs, Stick to Their Plans : As legal rulings roll in on Trump’s tariff policies, retail executives say they have shifted their supply chains and many price increases already have hit shelves.\n\n3 Consumer Stocks Skating on Thin Ice : The performance of consumer discretionary businesses is closely linked to economic cycles. Over the past six months, it seems like demand trends are working against their favor as the industry has tumbled by 12.3%. This drop was significantly worse than the S&P 500’s 2.1% decline.\n\nPackaging Corporation of America (NYSE:PKG) Hasn't Managed To Accelerate Its Returns : What trends should we look for it we want to identify stocks that can multiply in value over the long term? Amongst...\n\nAir Products and Chemicals (NYSE:APD) Will Be Hoping To Turn Its Returns On Capital Around : To find a multi-bagger stock, what are the underlying trends we should look for in a business? Firstly, we'll want to..."
          },
          "metadata": {}
        },
        {
          "output_type": "display_data",
          "data": {
            "text/plain": [
              "<IPython.core.display.Markdown object>"
            ],
            "text/markdown": "### Question:\nWhat risks or challenges are discussed in recent news about the energy industry?\n\n### Answer:\nRecent news about the energy industry highlights several key risks and challenges, particularly for the renewable energy sector and oilfield services. \n\n1. **Legislative Changes**: The U.S. Congress is advancing a bill that could repeal important subsidies for renewable energy. This legislative change poses a significant risk to the economic viability of renewable energy projects, potentially making them uneconomical and prompting a crash in renewable energy stocks.\n\n2. **Price Fluctuations**: The oilfield service sector, represented by companies like SLB, HAL, and BKR, faces challenges due to sliding oil prices. This decline in prices can lead to reduced profitability and budget cuts in drilling operations.\n\n3. **Increase in Tariffs**: Rising tariffs are complicating the operational landscape for energy companies. As tariffs increase, costs related to imports and materials may rise, affecting profit margins and global competitiveness.\n\n4. **Budget Constraints**: With reduced drilling budgets, companies in the oilfield service sector may have to navigate a more challenging financial environment, limiting their operational capacity and future investments.\n\n5. **Market Demand Shifts**: Companies are also grappling with fluctuating demand for traditional energy sources versus renewable energy. As the market evolves, businesses must adapt or risk being left behind.\n\nThese combined factors create a highly uncertain environment for stakeholders in both the renewable energy and oilfield service sectors.\n\n### Context:\nRenewable Energy Stocks Crash as U.S. Advances Bill That Could Decimate the Industry : Congress is pushing forward a bill that could upend the renewable energy industry.  Just as companies have ramped up production and renewable electricity generation in the U.S., those projects may become uneconomical.  The news was about as bad as it could get for renewable energy stocks this week as the U.S. House of Representatives early Thursday passed a bill that will repeal some of the most important subsidies for the industry if it becomes law.\n\nRenewable Energy Stocks Crash as U.S. Advances Bill That Could Decimate the Industry : Congress is pushing forward a bill that could upend the renewable energy industry.  Just as companies have ramped up production and renewable electricity generation in the U.S., those projects may become uneconomical.  The news was about as bad as it could get for renewable energy stocks this week as the U.S. House of Representatives early Thursday passed a bill that will repeal some of the most important subsidies for the industry if it becomes law.\n\nTariffs, Prices, and Pain: What's Next for Oilfield Service? : The likes of SLB, HAL and BKR face a tough future as oil prices slide, tariffs rise and drilling budgets shrink - can LNG and AI demand offer enough support?\n\nTariffs, Prices, and Pain: What's Next for Oilfield Service? : The likes of SLB, HAL and BKR face a tough future as oil prices slide, tariffs rise and drilling budgets shrink - can LNG and AI demand offer enough support?\n\n3 American Companies Investors Need to Know Amid Trump's Tariff Wars : Copper is a critical metal for the U.S. industrial economy.  This American appliance maker expects the Trump administration to close loopholes that will improve its competitive positioning.  It's difficult to predict precisely what the tariff landscape will look like when the dust settles on the trade conflict, but we can say some things with a high degree of certainty."
          },
          "metadata": {}
        }
      ]
    },
    {
      "cell_type": "markdown",
      "id": "ae77df2b",
      "metadata": {
        "id": "ae77df2b"
      },
      "source": [
        "## Analysis & Questions - Section 1"
      ]
    },
    {
      "cell_type": "markdown",
      "id": "3d3a75ee",
      "metadata": {
        "id": "3d3a75ee"
      },
      "source": [
        "### Analysis and Reflection on Retrieval and Generation Results\n",
        "After running the RAG pipeline and obtaining answers along with their supporting news excerpts, take some time to carefully review both the generated responses and the retrieved contexts.\n",
        "\n",
        "- **For each question, read the answer and then the corresponding news snippets used as context.**\n",
        "\n",
        "- Reflect on the following points and document your observations:\n",
        "1. **Relevance**\n",
        "2. **Completeness**  \n",
        "3. **Bias or Noise**\n",
        "4. **Consistency**  \n",
        "5. **Improvement Ideas**   \n",
        "\n",
        "and answer the questions below:"
      ]
    },
    {
      "cell_type": "markdown",
      "source": [
        "**Initial analysis**\n",
        "\n",
        "**Q1: What are the major concerns expressed in financial news about inflation?**\n",
        "\n",
        "In this case, the vector database returned four identical results, ranked from second to fifth in relevance. This suggests the context could have been improved, potentially by refining the query.\n",
        "The response outlines five major concerns highlighted in financial news, analyzing and extracting key points from the two articles provided. Notably, item four discusses the impact of tariffs, which is not mentioned in the contextual news. To ensure the answer is strictly based on the provided context, the prompt may need adjustment.\n",
        "\n",
        "**Q2: How is investor sentiment described in recent financial headlines?**\n",
        "\n",
        "All articles in the context are distinct. The question seeks insights into investor sentiment. While the articles are thematically related, they lack specific references to companies, sectors, or detailed information.\n",
        "As a result, the response offers a generalized market sentiment without delving into underlying causes, an important aspect for investors seeking deeper understanding.\n",
        "\n",
        "**Q3: What role is artificial intelligence playing in recent finance-related news stories?**\n",
        "\n",
        "The context includes information on stock purchases and recommendations for companies positioned to benefit from AI.\n",
        "The response addresses multiple key topics and provides a broad perspective on AI's impact across various sectors.\n",
        "\n",
        "**Q4: How is Microsoft being portrayed in news stories about artificial intelligence?**\n",
        "\n",
        "The question directly seeks information about Microsoft, but the context does not contain specific details about the company. Consequently, the response is not helpful.\n",
        "\n",
        "**Q5: What financial news headlines connect Amazon with automation or logistics?**\n",
        "\n",
        "The question aims to identify news linking Amazon to automation or logistics. However, not all contextual articles mention Amazon, which may introduce irrelevant information.\n",
        "Given only the provided context, it's difficult to assess the accuracy of the response, particularly point two, as I lack domain expertise to determine its relevance to Amazon.\n",
        "\n",
        "**Q6: What are the main themes emerging in financial news about the semiconductor industry?**\n",
        "\n",
        "Most articles in the context focus on ON Semiconductor. The response highlights several relevant aspects of these articles, which is valuable but limited, as the question seeks insights across the entire industry.\n",
        "\n",
        "**Q7: What trends are being reported in the retail industry?**\n",
        "\n",
        "The context is strong, especially the first three results, which clearly reflect trends in the retail sector. The response effectively covers several important and relevant aspects that address the question.\n",
        "\n",
        "**Q8: What risks or challenges are discussed in recent news about the energy industry?**\n",
        "\n",
        "Articles 1 and 2, as well as 3 and 4, are duplicates. While they are partially relevant to the topic, the duplication introduces noise and some content focuses on metals not directly tied to energy use.\n",
        "\n",
        "To improve results, duplicate filtering and query expansion could be employed to generate multiple queries covering all facets of the question, enriching the response.\n",
        "Depending on the topic and the diversity of returned articles, the number of contextual results in the prompt could be dynamic, some queries yield many relevant articles, while others result in duplication.\n",
        "Additionally, sourcing context from external databases may be beneficial when the primary one lacks relevant information.\n"
      ],
      "metadata": {
        "id": "938qf_VDQ6ii"
      },
      "id": "938qf_VDQ6ii"
    },
    {
      "cell_type": "markdown",
      "id": "e8f667ed",
      "metadata": {
        "id": "e8f667ed"
      },
      "source": [
        "#### **Question 1.** How well do the retrieved news snippets support the generated answer? Are the key facts or themes in the answer clearly grounded in the context?"
      ]
    },
    {
      "cell_type": "markdown",
      "id": "992b9fe1",
      "metadata": {
        "id": "992b9fe1"
      },
      "source": [
        "In some cases, the contextual news was relevant and useful; however, overall, I encountered duplicated results, articles that were not closely aligned with the question, and a lack of diversity to fully address the key aspects that might interest the person asking. This was partly due to my decision to limit the number of contextual articles to five and to use a basic prompt, which I acknowledge could be refined. Still, I wanted to test the system under these conditions to evaluate its performance.\n",
        "\n",
        "The language model made a genuine effort to generate a meaningful response based on the context, though at times it introduced information whose accuracy I question and would need to verify. Again, this could likely be resolved with a more precise prompt.\n"
      ]
    },
    {
      "cell_type": "markdown",
      "id": "fe09d3d0",
      "metadata": {
        "id": "fe09d3d0"
      },
      "source": [
        "#### **Question 2.** Does the answer fully address the question, or does it leave important aspects out? Consider if the retrieved context provided enough information to generate a thorough response."
      ]
    },
    {
      "cell_type": "markdown",
      "id": "736e20f5",
      "metadata": {
        "id": "736e20f5"
      },
      "source": [
        "In many cases, the responses left several important aspects unaddressed. The context provided was not optimal, yet the language model extracted a considerable amount of insight from what it was given. I attribute the overall quality of the responses primarily to the limitations of the context itself.\n",
        "  "
      ]
    },
    {
      "cell_type": "markdown",
      "id": "a7690337",
      "metadata": {
        "id": "a7690337"
      },
      "source": [
        "#### **Question 3.** Are there any irrelevant or misleading snippets retrieved that may have influenced the answer? How might this affect the quality of the output?"
      ]
    },
    {
      "cell_type": "markdown",
      "id": "2513c47c",
      "metadata": {
        "id": "2513c47c"
      },
      "source": [
        "Undoubtedly, the poor quality of the context had a direct impact on the quality of the responses. This could have been mitigated by designing the prompt to instruct the model to analyze the context and select only the most relevant or directly related information to the question, potentially resulting in shorter but more precise answers. In some cases, I suspect that setting a limit on the number of articles used as context might have led to more focused and effective responses.\n",
        "\n",
        "\n"
      ]
    },
    {
      "cell_type": "markdown",
      "id": "1035b3c6",
      "metadata": {
        "id": "1035b3c6"
      },
      "source": [
        "#### **Question 4.**  Do the news snippets show consistent information, or are there conflicting viewpoints? How does the LLM handle potential contradictions in the context?"
      ]
    },
    {
      "cell_type": "markdown",
      "id": "52891908",
      "metadata": {
        "id": "52891908"
      },
      "source": [
        "In most cases, the news articles do not present a unified perspective, some even contradict one another. Additionally, many responses focus solely on a single company, despite the question requiring insights across an entire industry, resulting in inconsistencies.\n",
        "To improve this using the language model, I see two potential approaches. The first involves applying query expansion: using the LLM to interpret the original question and generate sub-questions that explore relevant themes and viewpoints. Then, the LLM could be prompted to generate a comprehensive response based on grouped contextual inputs, ensuring coverage of all aspects requested from the vector database defined in the initial prompt.\n",
        "The second option would be to craft a more specific prompt instructing the LLM to resolve conflicts within the context by identifying and prioritizing the most relevant argument, discarding information that does not support it. However, this approach might overlook valuable content that could enrich the analysis.\n",
        "\n",
        "  "
      ]
    },
    {
      "cell_type": "markdown",
      "id": "fd7b2d64",
      "metadata": {
        "id": "fd7b2d64"
      },
      "source": [
        "#### **Question 5.**  Based on your observations, suggest ways the retrieval or generation process could be improved (e.g., better filtering, adjusting `k`, refining prompt design)."
      ]
    },
    {
      "cell_type": "markdown",
      "id": "350d12cb",
      "metadata": {
        "id": "350d12cb"
      },
      "source": [
        "I would definitely apply query expansion to better interpret the question and generate sub-questions that cover all relevant areas needed to formulate a comprehensive response.\n",
        "\n",
        "I would also remove the fixed limit on the number of results retrieved from semantic search and implement filtering to eliminate duplicates.\n",
        "\n",
        "Additionally, I would refine the prompt to ensure the model relies strictly on the information provided in the context, avoiding any fabrication or inference beyond what is explicitly mentioned. The model should prioritize using only the context that is strongly aligned with the question, favoring concise or even empty responses over inaccurate ones.\n",
        "\n",
        "Finally, I would consider incorporating an alternative data source if the current database yields too few useful results.\n"
      ]
    },
    {
      "cell_type": "markdown",
      "id": "c08635e8",
      "metadata": {
        "id": "c08635e8"
      },
      "source": [
        "## 🧠 Retrieval-Augmented Generation (RAG) v2: Adding Financial Metadata to Improve Generation\n",
        "\n",
        "👉 **Instructions**:\n",
        "\n",
        "In this part of the assignment, you’ll enhance your Retrieval-Augmented Generation (RAG) pipeline by incorporating *financial metadata* to provide more contextually rich answers.\n",
        "\n",
        "Your goal is to evaluate whether metadata such as **company name**, **sector**, and **industry** helps the LLM generate **more accurate and grounded answers** to financial questions.\n",
        "\n",
        "---\n",
        "\n",
        "### ✅ What your updated pipeline should do:\n",
        "\n",
        "- Retrieve relevant financial news articles using semantic similarity with FAISS.\n",
        "- Enrich each retrieved document with financial metadata:\n",
        "  - Ticker symbol\n",
        "  - Full company name\n",
        "  - Sector (e.g., Technology, Energy)\n",
        "  - Industry (e.g., Semiconductors, Retail)\n",
        "- Construct prompts that include both:\n",
        "  - Retrieved news text\n",
        "  - Associated metadata\n",
        "- Send the prompt to the OpenAI model to generate an informed response.\n",
        "- Return:\n",
        "  - The final answer\n",
        "  - The exact set of contextual documents used to produce that answer\n",
        "\n",
        "---\n",
        "\n",
        "### 🧪 Evaluation and Comparison:\n",
        "\n",
        "You will test your improved RAG pipeline on the same three types of questions provided earlier:\n",
        "- **Topic-focused** (e.g., inflation, interest rates)\n",
        "- **Company-focused** (e.g., questions about Tesla, Nvidia)\n",
        "- **Industry-focused** (e.g., semiconductors, utilities)\n"
      ]
    },
    {
      "cell_type": "code",
      "source": [
        "def generate_enriched_answer(question, vector_store, model, df_meta, k=5):\n",
        "    # Get semantic search results\n",
        "    results = vector_store.search(question, k=k)\n",
        "    enriched_contexts = []\n",
        "    # Loop vector search results\n",
        "    for doc, meta, score in results:\n",
        "        # Get metadata by ticker\n",
        "        ticker = meta.get('TICKER', '')\n",
        "        company_info = df_meta[df_meta['TICKER'] == ticker]\n",
        "        # Add metadata\n",
        "        if not company_info.empty:\n",
        "            company_name = company_info.iloc[0]['COMPANY_NAME']\n",
        "            sector = company_info.iloc[0]['SECTOR']\n",
        "            industry = company_info.iloc[0]['INDUSTRY']\n",
        "        else:\n",
        "            # empty metadata\n",
        "            company_name = sector = industry = ''\n",
        "        # create enriched context including metadata\n",
        "        enriched_doc = f\"Ticker: {ticker}\\nCompany Name: {company_name}\\nSector: {sector}\\nIndustry: {industry}\\nNews: {doc}\"\n",
        "        enriched_contexts.append(enriched_doc)\n",
        "    enriched_context = \"\\n\\n\".join(enriched_contexts)\n",
        "    # Create prompt including enriched context\n",
        "    prompt = f\"Context:\\n{enriched_context}\\n\\nQuestion: {question}\\nAnswer:\"\n",
        "    # call open api model\n",
        "    response = model.chat.completions.create(\n",
        "        model=\"gpt-4o-mini\",\n",
        "        messages=[{\"role\": \"user\", \"content\": prompt}]\n",
        "    )\n",
        "    answer = response.choices[0].message.content\n",
        "    return answer, enriched_context"
      ],
      "metadata": {
        "id": "gWPA7HIsLkGU"
      },
      "id": "gWPA7HIsLkGU",
      "execution_count": null,
      "outputs": []
    },
    {
      "cell_type": "code",
      "source": [
        "for q in all_questions:\n",
        "    enriched_answer, enriched_context = generate_enriched_answer(q, vector_store, client, df_meta, k=5)\n",
        "    print_markdown(f\"### Question:\\n{q}\\n\\n### Enriched Answer:\\n{enriched_answer}\\n\\n### Enriched Context:\\n{enriched_context}\")"
      ],
      "metadata": {
        "colab": {
          "base_uri": "https://localhost:8080/",
          "height": 1000
        },
        "id": "ouYtOK_BLszT",
        "outputId": "a8b3d293-6699-42cf-d5a3-4fd666a21a30"
      },
      "id": "ouYtOK_BLszT",
      "execution_count": null,
      "outputs": [
        {
          "output_type": "display_data",
          "data": {
            "text/plain": [
              "<IPython.core.display.Markdown object>"
            ],
            "text/markdown": "### Question:\nWhat are the major concerns expressed in financial news about inflation?\n\n### Enriched Answer:\nThe major concerns expressed in financial news about inflation include mounting worries over persistent US inflation and its potential impact on the economy, as highlighted by the Federal Reserve's May policy meeting. Additionally, food inflation is dampening hopes for a rate cut, suggesting that rising food prices may complicate monetary policy decisions. The overall sentiment indicates apprehension regarding the economic slowdown that could result from ongoing inflationary pressures, affecting various sectors such as financial services, technology, and consumer cyclical industries.\n\n### Enriched Context:\nTicker: BLK\nCompany Name: BlackRock, Inc.\nSector: Financial Services\nIndustry: Asset Management\nNews: Bitcoin price slips as Fed minutes flag US inflation risks : The Federal Reserve’s May policy meeting revealed mounting concern over persistent US inflation and the potential for economic slowdown.\n\nTicker: TSLA\nCompany Name: Tesla, Inc.\nSector: Consumer Cyclical\nIndustry: Auto Manufacturers\nNews: The Weekend: Food inflation dampens hopes of a rate cut as tariff twists and turns continue : Key moments from the last seven days, plus a glimpse at the week ahead\n\nTicker: NVDA\nCompany Name: NVIDIA Corporation\nSector: Technology\nIndustry: Semiconductors\nNews: The Weekend: Food inflation dampens hopes of a rate cut as tariff twists and turns continue : Key moments from the last seven days, plus a glimpse at the week ahead\n\nTicker: LULU\nCompany Name: lululemon athletica inc.\nSector: Consumer Cyclical\nIndustry: Apparel Retail\nNews: The Weekend: Food inflation dampens hopes of a rate cut as tariff twists and turns continue : Key moments from the last seven days, plus a glimpse at the week ahead\n\nTicker: AVGO\nCompany Name: Broadcom Inc.\nSector: Technology\nIndustry: Semiconductors\nNews: The Weekend: Food inflation dampens hopes of a rate cut as tariff twists and turns continue : Key moments from the last seven days, plus a glimpse at the week ahead"
          },
          "metadata": {}
        },
        {
          "output_type": "display_data",
          "data": {
            "text/plain": [
              "<IPython.core.display.Markdown object>"
            ],
            "text/markdown": "### Question:\nHow is investor sentiment described in recent financial headlines?\n\n### Enriched Answer:\nInvestor sentiment in recent financial headlines is characterized by a mix of optimism and skepticism. While many stocks are highlighted with ambitious price targets and perceived attractive upside potential, there is a concurrent warning about the need for caution. Analysts may have biases due to institutional pressures or the desire for business from the companies they cover, leading to potentially overly optimistic forecasts. Additionally, bearish sentiments on certain stocks are noted as significant, especially since analysts generally avoid issuing negative ratings out of concern for losing future business opportunities. Overall, there is a prevailing theme of being aware of the limitations of analyst forecasts and the underlying fundamentals of the companies being discussed.\n\n### Enriched Context:\nTicker: KMX\nCompany Name: CarMax, Inc.\nSector: Consumer Cyclical\nIndustry: Auto & Truck Dealerships\nNews: 3 of Wall Street’s Favorite Stocks Facing Headwinds : Wall Street has set ambitious price targets for the stocks in this article. While this suggests attractive upside potential, it’s important to remain skeptical because analysts face institutional pressures that can sometimes lead to overly optimistic forecasts.\n\nTicker: MCHP\nCompany Name: Microchip Technology Incorporated\nSector: Technology\nIndustry: Semiconductors\nNews: 3 Hyped Up  Stocks Facing Headwinds : Great things are happening to the stocks in this article. They’re all outperforming the market over the last month because of positive catalysts such as a new product line, constructive news flow, or even a loyal Reddit fanbase.\n\nTicker: MPWR\nCompany Name: Monolithic Power Systems, Inc.\nSector: Technology\nIndustry: Semiconductors\nNews: 1 of Wall Street’s Favorite Stock with Impressive Fundamentals and 2 to Think Twice About : The stocks in this article have caught Wall Street’s attention in a big way, with price targets implying returns above 20%. But investors should take these forecasts with a grain of salt because analysts typically say nice things about companies so their firms can win business in other product lines like M&A advisory.\n\nTicker: DRI\nCompany Name: Darden Restaurants, Inc.\nSector: Consumer Cyclical\nIndustry: Restaurants\nNews: 1 Unpopular Stock that Should Get More Attention and 2 to Steer Clear Of : When Wall Street turns bearish on a stock, it’s worth paying attention. These calls stand out because analysts rarely issue grim ratings on companies for fear their firms will lose out in other business lines such as M&A advisory.\n\nTicker: RVTY\nCompany Name: Revvity, Inc.\nSector: Healthcare\nIndustry: Diagnostics & Research\nNews: 3 of Wall Street’s Favorite Stocks with Questionable Fundamentals : Wall Street is overwhelmingly bullish on the stocks in this article, with price targets suggesting significant upside potential. However, it’s worth remembering that analysts rarely issue sell ratings, partly because their firms often seek other business from the same companies they cover."
          },
          "metadata": {}
        },
        {
          "output_type": "display_data",
          "data": {
            "text/plain": [
              "<IPython.core.display.Markdown object>"
            ],
            "text/markdown": "### Question:\nWhat role is artificial intelligence playing in recent finance-related news stories?\n\n### Enriched Answer:\nArtificial intelligence (AI) is emerging as a critical driver of innovation and investment across various sectors, significantly shaping recent finance-related news stories. Here are some key roles AI is playing:\n\n1. **Enhancing Productivity and Reducing Errors**: Companies like Jack Henry & Associates, Inc. (JKHY) are integrating AI-driven technologies to enhance productivity and minimize human error, particularly in lending and financial services. This integration reflects a broader trend of leveraging AI to streamline operations and improve service quality in the finance sector.\n\n2. **Investment Strategies**: Major firms are making substantial investments in AI technologies, with companies like Meta Platforms, Inc. (META) focusing on AI applications to boost their future growth prospects. Investors are closely watching these developments, as the potential of AI to enhance traditional business models may drive stock prices significantly higher.\n\n3. **Attracting Institutional Investments**: Stocks like Palantir Technologies Inc. (PLTR) are gaining attention from billionaire hedge fund managers and analysts who foresee considerable upside potential due to the demand for AI solutions. This interest suggests that AI capabilities are not just enhancing current offerings but are also seen as critical components for future success in the marketplace.\n\n4. **Market Performance**: Palantir has experienced substantial stock price increases, attributed to its ability to integrate AI capabilities into its offerings. The growth reflects investor confidence in companies that successfully implement AI, even amidst broader market volatility.\n\n5. **Content Production and Engagement**: In the entertainment sector, companies like Netflix, Inc. (NFLX) are utilizing generative AI to simplify content production processes. As content creation becomes increasingly complex and competitive, AI is viewed as a tool that can improve efficiency and drive higher engagement with audiences.\n\nOverall, AI is playing a transformative role in how companies operate, attract investments, and engage with consumers, positioning itself as a critical element in both financial performance and strategic planning across various industries.\n\n### Enriched Context:\nTicker: JKHY\nCompany Name: Jack Henry & Associates, Inc.\nSector: Technology\nIndustry: Information Technology Services\nNews: Jack Henry (JKHY) Integrates AI-Driven Lending Tech With Algebrik : We recently published a list of 12 AI News Investors Should Not Miss This Week. In this article, we are going to take a look at where Jack Henry & Associates, Inc. (NASDAQ:JKHY) stands against other AI news Investors should not miss this week. Artificial Intelligence (AI) is known to increase productivity, decrease human error, […]\n\nTicker: META\nCompany Name: Meta Platforms, Inc.\nSector: Communication Services\nIndustry: Internet Content & Information\nNews: This \"Magnificent Seven\" Stock Is Set to Skyrocket If Its AI Investments Pay Off : Meta Platforms has investments in several AI applications.  The tech giant's stock is only valued on its legacy business.  Over the past two-and-a-half years, investors have heard about various artificial intelligence (AI) investments that tech companies are making.\n\nTicker: PLTR\nCompany Name: Palantir Technologies Inc.\nSector: Technology\nIndustry: Software - Infrastructure\nNews: Billionaires Are Buying 2 Artificial Intelligence (AI) Stocks That Wall Street Analysts Say Can Soar Up to 240% : Several billionaire hedge fund managers bought shares of Palantir and/or Upstart in the first quarter -- stocks where certain analysts anticipate substantial upside.  Palantir is successfully tapping demand for artificial intelligence (AI) with government and commercial customers, but the stock trades at a very expensive valuation.  Upstart is generating attractive returns for lenders by helping them quantify credit risk with artificial intelligence, and the stock trades at a very reasonable valuation.\n\nTicker: PLTR\nCompany Name: Palantir Technologies Inc.\nSector: Technology\nIndustry: Software - Infrastructure\nNews: Better Artificial Intelligence (AI) Stock: Palantir vs. Snowflake : Shares of both Palantir and Snowflake have delivered healthy gains in 2025 despite the broader stock market weakness.  Palantir stock has shot up 63% this year despite bouts of volatility.  Palantir Technologies helps commercial and government clients integrate generative AI capabilities into their operations with its Artificial Intelligence Platform (AIP), which was launched roughly two years ago.\n\nTicker: NFLX\nCompany Name: Netflix, Inc.\nSector: Communication Services\nIndustry: Entertainment\nNews: 2 Underrated Artificial Intelligence (AI) Stocks to Buy and Hold : Generative AI can simplify and speed up many tasks, including content production.  It's easy to see the potential for Netflix, whose content strategy is integral to its success.  Netflix's creations have attracted millions of viewers and won many awards."
          },
          "metadata": {}
        },
        {
          "output_type": "display_data",
          "data": {
            "text/plain": [
              "<IPython.core.display.Markdown object>"
            ],
            "text/markdown": "### Question:\nHow is Microsoft being portrayed in news stories about artificial intelligence?\n\n### Enriched Answer:\nThe provided context does not include any news stories or references about Microsoft and its portrayal in relation to artificial intelligence. Therefore, I cannot provide an answer regarding how Microsoft is being portrayed in those discussions. If you have specific news articles or sources related to Microsoft and AI, feel free to share, and I'll be glad to help analyze them.\n\n### Enriched Context:\nTicker: META\nCompany Name: Meta Platforms, Inc.\nSector: Communication Services\nIndustry: Internet Content & Information\nNews: This \"Magnificent Seven\" Stock Is Set to Skyrocket If Its AI Investments Pay Off : Meta Platforms has investments in several AI applications.  The tech giant's stock is only valued on its legacy business.  Over the past two-and-a-half years, investors have heard about various artificial intelligence (AI) investments that tech companies are making.\n\nTicker: CRM\nCompany Name: Salesforce, Inc.\nSector: Technology\nIndustry: Software - Application\nNews: How Salesforce has 'overcorrected' by leaning into AI : D.A. Davidson head of technology research Gil Luria joins Market Domination to discuss Salesforce (CRM) earnings and the company's trajectory. Luria says Salesforce is \"too focused\" on artificial intelligence (AI), as the other parts of its business \"rapidly\" decelerate and the company loses market share to competitors. Luria has the equivalent of a Sell rating on the stock. To watch more expert insights and analysis on the latest market action, check out more Market Domination here.\n\nTicker: JKHY\nCompany Name: Jack Henry & Associates, Inc.\nSector: Technology\nIndustry: Information Technology Services\nNews: Jack Henry (JKHY) Integrates AI-Driven Lending Tech With Algebrik : We recently published a list of 12 AI News Investors Should Not Miss This Week. In this article, we are going to take a look at where Jack Henry & Associates, Inc. (NASDAQ:JKHY) stands against other AI news Investors should not miss this week. Artificial Intelligence (AI) is known to increase productivity, decrease human error, […]\n\nTicker: NFLX\nCompany Name: Netflix, Inc.\nSector: Communication Services\nIndustry: Entertainment\nNews: 2 Underrated Artificial Intelligence (AI) Stocks to Buy and Hold : Generative AI can simplify and speed up many tasks, including content production.  It's easy to see the potential for Netflix, whose content strategy is integral to its success.  Netflix's creations have attracted millions of viewers and won many awards.\n\nTicker: META\nCompany Name: Meta Platforms, Inc.\nSector: Communication Services\nIndustry: Internet Content & Information\nNews: Meta (META) AI Reaches 1 Billion Users, Eyes Paid Features and Subscriptions : We recently published a list of 10 AI Stocks on Wall Street’s Radar. In this article, we are going to take a look at where Meta Platforms, Inc. (NASDAQ:META) stands against other AI stocks on Wall Street’s radar. Meta Platforms, Inc. (NASDAQ:META) is a global technology company. On May 28, CNBC reported that Meta Platforms, Inc. (NASDAQ:META)’s artificial […]"
          },
          "metadata": {}
        },
        {
          "output_type": "display_data",
          "data": {
            "text/plain": [
              "<IPython.core.display.Markdown object>"
            ],
            "text/markdown": "### Question:\nWhat financial news headlines connect Amazon with automation or logistics?\n\n### Enriched Answer:\nThe financial news headlines that connect Amazon with automation or logistics include:\n\n1. **Amazon's AI Roadmap With AWS CEO Garman**: This article discusses how Amazon is leveraging artificial intelligence across all its operations, which includes aspects of logistics and automation within its extensive e-commerce and cloud services.\n\n2. **Winners And Losers Of Q1: C.H. Robinson Worldwide (NASDAQ:CHRW) Vs The Rest Of The Air Freight and Logistics Stocks**: While this headline focuses on C.H. Robinson, it fits into the logistics theme as it gives insight into the performance of logistics companies, which can be influenced by Amazon's operations and the broader impact of automation in the logistics sector.\n\nThese headlines highlight Amazon's commitment to integrating automation and AI into its logistics and operational frameworks.\n\n### Enriched Context:\nTicker: TFC\nCompany Name: Truist Financial Corporation\nSector: Financial Services\nIndustry: Banks - Regional\nNews: Truist Reiterates Buy on Amazon.com (AMZN) as Q2 Revenue Tracks Ahead : We recently published a list of 10 AI Stocks on Wall Street’s Radar. In this article, we are going to take a look at where Amazon.com Inc. (NASDAQ:AMZN) stands against other AI stocks on Wall Street’s radar. Amazon.com Inc. (NASDAQ:AMZN) is an American technology company offering e-commerce, cloud computing, and other services, including digital streaming […]\n\nTicker: AMZN\nCompany Name: Amazon.com, Inc.\nSector: Consumer Cyclical\nIndustry: Internet Retail\nNews: Amazon's AI Roadmap With AWS CEO Garman : Every aspect of Amazon is leveraging artificial intelligence, says Matt Garman, CEO of Amazon Web Services. Garman discusses Amazon's AI roadmap and reflects on his first year in the role with Ed Ludlow on \"Bloomberg Technology.\"\n\nTicker: TFC\nCompany Name: Truist Financial Corporation\nSector: Financial Services\nIndustry: Banks - Regional\nNews: Woodward's Volumes, Automation to Drive Earnings Growth, Truist Says : Woodward's (WWD) increasing volumes, pricing, automation, and products will push its aerospace margi\n\nTicker: AON\nCompany Name: Aon plc\nSector: Financial Services\nIndustry: Insurance Brokers\nNews: Top Stock Reports for Amazon.com, Johnson & Johnson & Cisco Systems : Today's Research Daily features new research reports on 16 major stocks, including Amazon.com, Inc. (AMZN), Johnson & Johnson (JNJ) and Cisco Systems, Inc. (CSCO), as well as a micro-cap NeurAxis, Inc. (NRXS).\n\nTicker: CHRW\nCompany Name: C.H. Robinson Worldwide, Inc.\nSector: Industrials\nIndustry: Integrated Freight & Logistics\nNews: Winners And Losers Of Q1: C.H. Robinson Worldwide (NASDAQ:CHRW) Vs The Rest Of The Air Freight and Logistics Stocks : As the craze of earnings season draws to a close, here’s a look back at some of the most exciting (and some less so) results from Q1. Today, we are looking at air freight and logistics stocks, starting with C.H. Robinson Worldwide (NASDAQ:CHRW)."
          },
          "metadata": {}
        },
        {
          "output_type": "display_data",
          "data": {
            "text/plain": [
              "<IPython.core.display.Markdown object>"
            ],
            "text/markdown": "### Question:\nWhat are the main themes emerging in financial news about the semiconductor industry?\n\n### Enriched Answer:\nThe main themes emerging in financial news about the semiconductor industry, particularly regarding ON Semiconductor Corporation, include:\n\n1. **International Revenue Trends**: There is a strong focus on how international revenue figures impact overall forecasts for companies like ON Semiconductor. Investors are keen to understand global market dynamics and how they influence profitability and growth prospects.\n\n2. **Investor Attention and Market Sentiment**: ON Semiconductor is attracting significant investor interest, indicating a favorable market sentiment. The increased attention from investors may relate to potential growth opportunities and the company’s standing in the semiconductor space.\n\n3. **Earnings Performance**: Reports hint at concerns surrounding soft earnings, yet there appears to be resilience among shareholders. This suggests that investors may be looking beyond short-term earnings challenges, focusing instead on long-term potential and future performance.\n\n4. **Analyst and Expert Evaluations**: The evaluation of ON Semiconductor against broader market trends and alongside the stock picks of well-known investors (like Glenn Russell Dubin) reveals a competitive landscape where firms are assessed for upside potential in uncertain markets.\n\n5. **Comparative Analysis Within the Sector**: There is a comparative analysis with other semiconductor companies, highlighting relative performance and opportunities amid changing market environments. This includes looking at how ON Semiconductor stacks up against peers like Analog Devices and Vishay Intertechnology in terms of growth and revenue handling.\n\nOverall, the semiconductor sector is characterized by discussions around revenue growth strategies, market positioning, earnings outlooks, and investor sentiment shaped by broader economic conditions.\n\n### Enriched Context:\nTicker: ON\nCompany Name: ON Semiconductor Corporation\nSector: Technology\nIndustry: Semiconductors\nNews: Investing in ON Semiconductor Corp. (ON)? Don't Miss Assessing Its International Revenue Trends : Explore ON Semiconductor Corp.'s (ON) international revenue trends and how these numbers impact Wall Street's forecasts and what's ahead for the stock.\n\nTicker: ON\nCompany Name: ON Semiconductor Corporation\nSector: Technology\nIndustry: Semiconductors\nNews: ON Semiconductor Corporation (ON) is Attracting Investor Attention: Here is What You Should Know : Recently, Zacks.com users have been paying close attention to ON Semiconductor Corp. (ON). This makes it worthwhile to examine what the stock has in store.\n\nTicker: ON\nCompany Name: ON Semiconductor Corporation\nSector: Technology\nIndustry: Semiconductors\nNews: Some May Be Optimistic About ON Semiconductor's (NASDAQ:ON) Earnings : Soft earnings didn't appear to concern ON Semiconductor Corporation's ( NASDAQ:ON ) shareholders over the last week...\n\nTicker: ADI\nCompany Name: Analog Devices, Inc.\nSector: Technology\nIndustry: Semiconductors\nNews: Spotting Winners: Vishay Intertechnology (NYSE:VSH) And Analog Semiconductors Stocks In Q1 : The end of an earnings season can be a great time to discover new stocks and assess how companies are handling the current business environment. Let’s take a look at how Vishay Intertechnology (NYSE:VSH) and the rest of the analog semiconductors stocks fared in Q1.\n\nTicker: ON\nCompany Name: ON Semiconductor Corporation\nSector: Technology\nIndustry: Semiconductors\nNews: ON Semiconductor (ON): Among Billionaire Glenn Russell Dubin’s Stock Picks with Huge Upside Potential : We recently published a list of Billionaire Glenn Russell Dubin’s 10 Stock Picks with Huge Upside Potential. In this article, we are going to take a look at where ON Semiconductor Corporation (NASDAQ:ON) stands against Billionaire Glenn Russell Dubin’s other stock picks with huge upside potential. Glenn Russell Dubin is one of the industry’s most […]"
          },
          "metadata": {}
        },
        {
          "output_type": "display_data",
          "data": {
            "text/plain": [
              "<IPython.core.display.Markdown object>"
            ],
            "text/markdown": "### Question:\nWhat trends are being reported in the retail industry?\n\n### Enriched Answer:\nThe retail industry is currently facing several concerning trends. First, there is a notable adaptation of business models by retailers as technology changes consumer shopping behaviors. This shift indicates an ongoing transformation in how products are marketed and sold.\n\nSecond, despite these adaptations, demand within the industry remains volatile, making retailers vulnerable to fluctuations in consumer spending. This uncertainty has been reflected in the overall performance of retail stocks, which have dropped by 13.7% over the past six months, significantly underperforming compared to the S&P 500’s decline of 5.5%.\n\nAdditionally, retailers are grappling with external factors such as trade tariffs, prompting many to alter their supply chains and implement price increases, which may affect consumer purchasing habits further. Overall, the trends highlight a challenging environment for retailers as they navigate economic cycles and consumer behavior changes.\n\n### Enriched Context:\nTicker: KMX\nCompany Name: CarMax, Inc.\nSector: Consumer Cyclical\nIndustry: Auto & Truck Dealerships\nNews: 3 Consumer Stocks That Concern Us : Retailers are adapting their business models as technology changes how people shop. Still, demand can be volatile as the industry is exposed to the ups and downs of consumer spending. This has stirred some uncertainty lately as retail stocks have tumbled by 13.7% over the past six months. This performance was worse than the S&P 500’s 5.5% loss.\n\nTicker: BBY\nCompany Name: Best Buy Co., Inc.\nSector: Consumer Cyclical\nIndustry: Specialty Retail\nNews: Retailers, Ducking Trade-War Curveballs, Stick to Their Plans : As legal rulings roll in on Trump’s tariff policies, retail executives say they have shifted their supply chains and many price increases already have hit shelves.\n\nTicker: HLT\nCompany Name: Hilton Worldwide Holdings Inc.\nSector: Consumer Cyclical\nIndustry: Lodging\nNews: 3 Consumer Stocks Skating on Thin Ice : The performance of consumer discretionary businesses is closely linked to economic cycles. Over the past six months, it seems like demand trends are working against their favor as the industry has tumbled by 12.3%. This drop was significantly worse than the S&P 500’s 2.1% decline.\n\nTicker: PKG\nCompany Name: Packaging Corporation of America\nSector: Consumer Cyclical\nIndustry: Packaging & Containers\nNews: Packaging Corporation of America (NYSE:PKG) Hasn't Managed To Accelerate Its Returns : What trends should we look for it we want to identify stocks that can multiply in value over the long term? Amongst...\n\nTicker: APD\nCompany Name: Air Products and Chemicals, Inc.\nSector: Basic Materials\nIndustry: Specialty Chemicals\nNews: Air Products and Chemicals (NYSE:APD) Will Be Hoping To Turn Its Returns On Capital Around : To find a multi-bagger stock, what are the underlying trends we should look for in a business? Firstly, we'll want to..."
          },
          "metadata": {}
        },
        {
          "output_type": "display_data",
          "data": {
            "text/plain": [
              "<IPython.core.display.Markdown object>"
            ],
            "text/markdown": "### Question:\nWhat risks or challenges are discussed in recent news about the energy industry?\n\n### Enriched Answer:\nRecent news highlights several risks and challenges facing the energy industry, particularly regarding renewable energy and oilfield services:\n\n1. **Legislative Threats to Renewable Energy Subsidies**: The advancement of a bill by the U.S. House of Representatives aims to repeal significant subsidies for the renewable energy sector. If enacted, this legislation could render many renewable projects uneconomical, jeopardizing the financial viability of companies like NextEra Energy, Inc. (NEE) and Enphase Energy, Inc. (ENPH).\n\n2. **Declining Oil Prices and Budget Cuts**: The oilfield services sector, including companies like Halliburton Company (HAL) and Baker Hughes Company (BKR), faces a difficult environment due to sliding oil prices. This decline is compounded by increasing tariffs and shrinking drilling budgets, raising concerns about future profitability and operational sustainability.\n\n3. **Uncertainty from Geopolitical and Trade Conflicts**: The ongoing trade conflict, particularly related to tariffs, adds uncertainty to the market dynamics for companies reliant on critical materials like copper. For instance, Freeport-McMoRan Inc. (FCX) navigates the complexities of tariff implications on the industrial economy, which could affect competitive positioning and operational costs.\n\nOverall, the energy industry is grappling with potential regulatory changes, volatile market conditions, and the impact of global trade policies.\n\n### Enriched Context:\nTicker: NEE\nCompany Name: NextEra Energy, Inc.\nSector: Utilities\nIndustry: Utilities - Regulated Electric\nNews: Renewable Energy Stocks Crash as U.S. Advances Bill That Could Decimate the Industry : Congress is pushing forward a bill that could upend the renewable energy industry.  Just as companies have ramped up production and renewable electricity generation in the U.S., those projects may become uneconomical.  The news was about as bad as it could get for renewable energy stocks this week as the U.S. House of Representatives early Thursday passed a bill that will repeal some of the most important subsidies for the industry if it becomes law.\n\nTicker: ENPH\nCompany Name: Enphase Energy, Inc.\nSector: Technology\nIndustry: Solar\nNews: Renewable Energy Stocks Crash as U.S. Advances Bill That Could Decimate the Industry : Congress is pushing forward a bill that could upend the renewable energy industry.  Just as companies have ramped up production and renewable electricity generation in the U.S., those projects may become uneconomical.  The news was about as bad as it could get for renewable energy stocks this week as the U.S. House of Representatives early Thursday passed a bill that will repeal some of the most important subsidies for the industry if it becomes law.\n\nTicker: HAL\nCompany Name: Halliburton Company\nSector: Energy\nIndustry: Oil & Gas Equipment & Services\nNews: Tariffs, Prices, and Pain: What's Next for Oilfield Service? : The likes of SLB, HAL and BKR face a tough future as oil prices slide, tariffs rise and drilling budgets shrink - can LNG and AI demand offer enough support?\n\nTicker: BKR\nCompany Name: Baker Hughes Company\nSector: Energy\nIndustry: Oil & Gas Equipment & Services\nNews: Tariffs, Prices, and Pain: What's Next for Oilfield Service? : The likes of SLB, HAL and BKR face a tough future as oil prices slide, tariffs rise and drilling budgets shrink - can LNG and AI demand offer enough support?\n\nTicker: FCX\nCompany Name: Freeport-McMoRan Inc.\nSector: Basic Materials\nIndustry: Copper\nNews: 3 American Companies Investors Need to Know Amid Trump's Tariff Wars : Copper is a critical metal for the U.S. industrial economy.  This American appliance maker expects the Trump administration to close loopholes that will improve its competitive positioning.  It's difficult to predict precisely what the tariff landscape will look like when the dust settles on the trade conflict, but we can say some things with a high degree of certainty."
          },
          "metadata": {}
        }
      ]
    },
    {
      "cell_type": "markdown",
      "id": "80f53c26",
      "metadata": {
        "id": "80f53c26"
      },
      "source": [
        "## Analysis & Questions - Section 2"
      ]
    },
    {
      "cell_type": "markdown",
      "id": "cfbff478",
      "metadata": {
        "id": "cfbff478"
      },
      "source": [
        "### Instructions: Evaluate Answers With and Without Metadata\n",
        "\n",
        "For each question, compare the two answers provided:\n",
        "- One generated **without** metadata\n",
        "- One generated **with** metadata\n",
        "\n",
        "---\n",
        "\n",
        "### Steps:\n",
        "\n",
        "1. Use the following evaluation criteria:\n",
        "   - Clarity\n",
        "   - Detail & Depth\n",
        "   - Use of Context\n",
        "   - Accuracy & Grounding\n",
        "   - Relevance\n",
        "   - Narrrative Flow\n",
        "\n",
        "2. For each criterion, write brief notes comparing how the answer **without metadata** performs versus the answer **with metadata**.\n",
        "\n",
        "3. Summarize your evaluation in a markdown table with the following columns:\n",
        "\n",
        "| Criteria       | WITHOUT METADATA            | WITH METADATA             |\n",
        "|----------------|----------------------------|--------------------------|\n",
        "| Clarity        | [Your brief note here]     | [Your brief note here]   |\n",
        "| Detail & Depth         | [Your brief note here]     | [Your brief note here]   |\n",
        "| Use of Context        | [Your brief note here]     | [Your brief note here]   |\n",
        "| Accuracy & Grounding       | [Your brief note here]     | [Your brief note here]   |\n",
        "| Relevance      | [Your brief note here]     | [Your brief note here]   |\n",
        "| Narrative Flow      | [Your brief note here]     | [Your brief note here]   |\n",
        "\n",
        "---\n",
        "\n",
        "**Note:** Keep comments short and clear for easy comparison.\n",
        "\n"
      ]
    },
    {
      "cell_type": "code",
      "source": [
        "def dataframe_to_markdown(df):\n",
        "    header = '| ' + ' | '.join(df.columns) + ' |'\n",
        "    separator = '| ' + ' | '.join(['---'] * len(df.columns)) + ' |'\n",
        "    rows = ['| ' + ' | '.join(map(str, row)) + ' |' for row in df.values]\n",
        "    table_mk = '\\n'.join([header, separator] + rows)\n",
        "    return table_mk\n"
      ],
      "metadata": {
        "id": "XEEhY5w_fzaV"
      },
      "id": "XEEhY5w_fzaV",
      "execution_count": 1,
      "outputs": []
    },
    {
      "cell_type": "code",
      "source": [
        "import pandas as pd"
      ],
      "metadata": {
        "id": "ny1wJLW0gMAd"
      },
      "id": "ny1wJLW0gMAd",
      "execution_count": 2,
      "outputs": []
    },
    {
      "cell_type": "markdown",
      "source": [
        "### Question 1: What are the major concerns expressed in financial news about inflation?\n",
        "\n",
        "**Metadata answer:**\n",
        "The major concerns expressed in financial news about inflation include mounting worries over persistent US inflation and its potential impact on the economy, as highlighted by the Federal Reserve's May policy meeting. Additionally, food inflation is dampening hopes for a rate cut, suggesting that rising food prices may complicate monetary policy decisions. The overall sentiment indicates apprehension regarding the economic slowdown that could result from ongoing inflationary pressures, affecting various sectors such as financial services, technology, and consumer cyclical industries.\n",
        "\n",
        "**Non-metadata answer:**\n",
        "Major concerns expressed in financial news about inflation include:\n",
        "\n",
        "Persistent Inflation: There is increasing worry regarding the sustained nature of inflation, as indicated by the Federal Reserve's discussions highlighting the risk that it may not be temporary.\n",
        "\n",
        "* Economic Slowdown: The potential for economic slowdown due to high inflation is a key concern, as rising prices can impact consumer spending and overall economic growth.\n",
        "\n",
        "* Food Inflation: Food inflation is specifically dampening hopes of a rate cut, suggesting that rising food prices are having a significant impact on the economy and consumers' cost of living.\n",
        "\n",
        "* Tariff Impacts: The ongoing uncertainty and fluctuations related to tariffs are adding to inflationary pressures, which complicates the economic outlook and monetary policy decisions.\n",
        "\n",
        "* Policy Response: There is unease about how the Federal Reserve may respond to these inflationary pressures, particularly whether they may need to maintain or adjust interest rates to counteract inflation, affecting financial markets.\n",
        "\n",
        "**comparison between answers**\n",
        "\n",
        "The response that uses metadata offers a more fluid narrative, effectively consolidating the contextual information and presenting it in a concise and highly useful manner.\n",
        "\n",
        "In contrast, the response without metadata separates the main topics to address the question, which can also be helpful given the nature of the inquiry. However, the context does not mention fees, which raises doubts and makes the response feel less trustworthy.\n"
      ],
      "metadata": {
        "id": "w7cZOKRRkbZQ"
      },
      "id": "w7cZOKRRkbZQ"
    },
    {
      "cell_type": "code",
      "source": [
        "q_one_df = pd.DataFrame({\n",
        "    'Criteria': ['Clarity', 'Detail & Depth', 'Use of Context', 'Accuracy & Grounding', 'Relevance', 'Narrative flow'],\n",
        "    'Without Metadata': [\"Key topics are clearly delineated\", \"The content is highly detailed\",\n",
        "                         \"Generates substantial information despite limited context\",\"The provided context does not reference tariffs\",\n",
        "                         \"The information presented is highly pertinent\" , \"The flow is somewhat challenging to follow; the content could benefit from greater synthesis\",],\n",
        "    'With Metadata': ['Precise and to the point', 'The content is brief yet richly detailed.',\n",
        "                      'Context is leveraged effectively', \"The response directly and clearly addresses the questio\",\n",
        "                      \"Highly relevant in relation to the question posed\", \"The narrative flows seamlessly\"]\n",
        "})\n",
        "\n",
        "display(Markdown(dataframe_to_markdown(q_one_df)))"
      ],
      "metadata": {
        "colab": {
          "base_uri": "https://localhost:8080/",
          "height": 272
        },
        "id": "qW2-7I6ogDhR",
        "outputId": "272e2293-223c-4816-b099-0adb7896a844"
      },
      "id": "qW2-7I6ogDhR",
      "execution_count": null,
      "outputs": [
        {
          "output_type": "display_data",
          "data": {
            "text/plain": [
              "<IPython.core.display.Markdown object>"
            ],
            "text/markdown": "| Criteria | Without Metadata | With Metadata |\n| --- | --- | --- |\n| Clarity | Key topics are clearly delineated | Precise and to the point |\n| Detail & Depth | The content is highly detailed | The content is brief yet richly detailed. |\n| Use of Context | Generates substantial information despite limited context | Context is leveraged effectively |\n| Accuracy & Grounding | The provided context does not reference tariffs | The response directly and clearly addresses the questio |\n| Relevance | The information presented is highly pertinent | Highly relevant in relation to the question posed |\n| Narrative flow | The flow is somewhat challenging to follow; the content could benefit from greater synthesis | The narrative flows seamlessly |"
          },
          "metadata": {}
        }
      ]
    },
    {
      "cell_type": "markdown",
      "source": [
        "### Q2: How is investor sentiment described in recent financial headlines?\n",
        "\n",
        "**Metadata answer:**\n",
        "Investor sentiment in recent financial headlines is characterized by a mix of optimism and skepticism. While many stocks are highlighted with ambitious price targets and perceived attractive upside potential, there is a concurrent warning about the need for caution. Analysts may have biases due to institutional pressures or the desire for business from the companies they cover, leading to potentially overly optimistic forecasts. Additionally, bearish sentiments on certain stocks are noted as significant, especially since analysts generally avoid issuing negative ratings out of concern for losing future business opportunities. Overall, there is a prevailing theme of being aware of the limitations of analyst forecasts and the underlying fundamentals of the companies being discussed.\n",
        "\n",
        "**Non-metadata answer:**\n",
        "Investor sentiment in recent financial headlines is characterized by a mix of optimism and caution. On one hand, certain stocks are highlighted for their strong performance, positive catalysts, and favorable price targets set by analysts, suggesting attractive upside potential. However, there is also a prevalent skepticism regarding these forecasts, as analysts may face institutional pressures that can lead to overly optimistic projections. Additionally, the disparity between bullish analyst ratings and the realities of market conditions is evident, leading to warnings about stocks that may not have solid fundamentals, thus suggesting that investors should approach these recommendations with a critical eye. Overall, while there is excitement around certain stocks, the underlying messages emphasize the importance of due diligence and a wary perspective on analyst projections.\n",
        "\n",
        "\n",
        "**comparison between answers**\n",
        "\n",
        "The metadata answer is more robust, transparent, and actionable. It offers clearer attribution of insights to specific companies and articles\n",
        "\n",
        "The non-metadata answer captures the general tone of headlines but is more generalized and abstract and lacks traceability,"
      ],
      "metadata": {
        "id": "OfSFsNG1WPxr"
      },
      "id": "OfSFsNG1WPxr"
    },
    {
      "cell_type": "code",
      "source": [
        "q_two_df = pd.DataFrame({\n",
        "    'Criteria': ['Clarity', 'Detail & Depth', 'Use of Context', 'Accuracy & Grounding', 'Relevance', 'Narrative flow'],\n",
        "    'Without Metadata': [\"Generally clear, but a bit more abstract \", \"Covers key themes \",\n",
        "                         \"Uses general context from headlines\",\"Accurate overall, but harder to verify\" ,\"Relevant, though broader\",\n",
        "                         \"Flows well, but feels more like a summary than a structured argument\",],\n",
        "    'With Metadata': ['Clear and well-structured', 'References analyst behavior and company fundamentals',\n",
        "                      'Effectively integrates contextual metadata', \"Strong grounding in source material\",\n",
        "                      \"Highly relevant to the question\", \"Smooth and cohesive\"]\n",
        "})\n",
        "\n",
        "display(Markdown(dataframe_to_markdown(q_two_df)))"
      ],
      "metadata": {
        "id": "Ce07SKoeg9gG",
        "colab": {
          "base_uri": "https://localhost:8080/",
          "height": 238
        },
        "outputId": "31c9a6b9-035c-4f24-ce46-cc60e04f2a4e"
      },
      "id": "Ce07SKoeg9gG",
      "execution_count": 9,
      "outputs": [
        {
          "output_type": "display_data",
          "data": {
            "text/plain": [
              "<IPython.core.display.Markdown object>"
            ],
            "text/markdown": "| Criteria | Without Metadata | With Metadata |\n| --- | --- | --- |\n| Clarity | Generally clear, but a bit more abstract  | Clear and well-structured |\n| Detail & Depth | Covers key themes  | References analyst behavior and company fundamentals |\n| Use of Context | Uses general context from headlines | Effectively integrates contextual metadata |\n| Accuracy & Grounding | Accurate overall, but harder to verify | Strong grounding in source material |\n| Relevance | Relevant, though broader | Highly relevant to the question |\n| Narrative flow | Flows well, but feels more like a summary than a structured argument | Smooth and cohesive |"
          },
          "metadata": {}
        }
      ]
    },
    {
      "cell_type": "markdown",
      "source": [
        "### Q3: What role is artificial intelligence playing in recent finance-related news stories?\n",
        "\n",
        "**Metadata answer:**\n",
        "Artificial intelligence (AI) is emerging as a critical driver of innovation and investment across various sectors, significantly shaping recent finance-related news stories. Here are some key roles AI is playing:\n",
        "\n",
        "* Enhancing Productivity and Reducing Errors: Companies like Jack Henry & Associates, Inc. (JKHY) are integrating AI-driven technologies to enhance productivity and minimize human error, particularly in lending and financial services. This integration reflects a broader trend of leveraging AI to streamline operations and improve service quality in the finance sector.\n",
        "\n",
        "* Investment Strategies: Major firms are making substantial investments in AI technologies, with companies like Meta Platforms, Inc. (META) focusing on AI applications to boost their future growth prospects. Investors are closely watching these developments, as the potential of AI to enhance traditional business models may drive stock prices significantly higher.\n",
        "\n",
        "* Attracting Institutional Investments: Stocks like Palantir Technologies Inc. (PLTR) are gaining attention from billionaire hedge fund managers and analysts who foresee considerable upside potential due to the demand for AI solutions. This interest suggests that AI capabilities are not just enhancing current offerings but are also seen as critical components for future success in the marketplace.\n",
        "\n",
        "* Market Performance: Palantir has experienced substantial stock price increases, attributed to its ability to integrate AI capabilities into its offerings. The growth reflects investor confidence in companies that successfully implement AI, even amidst broader market volatility.\n",
        "\n",
        "* Content Production and Engagement: In the entertainment sector, companies like Netflix, Inc. (NFLX) are utilizing generative AI to simplify content production processes. As content creation becomes increasingly complex and competitive, AI is viewed as a tool that can improve efficiency and drive higher engagement with audiences.\n",
        "\n",
        "Overall, AI is playing a transformative role in how companies operate, attract investments, and engage with consumers, positioning itself as a critical element in both financial performance and strategic planning across various industries.\n",
        "\n",
        "\n",
        "**Non-metadata answer:**\n",
        "\n",
        "Artificial intelligence (AI) is playing a significant role in recent finance-related news stories by enabling companies to enhance their operations, optimize investment strategies, and improve decision-making processes. Here are several key aspects highlighted in the stories:\n",
        "\n",
        "* Increased Productivity: AI technologies are recognized for their ability to boost productivity and reduce human error. Companies like Jack Henry are integrating AI-driven lending technologies to streamline processes in the financial sector.\n",
        "\n",
        "* Investment Opportunities: Analysts and investors are closely monitoring AI investments made by technology giants like Meta Platforms. These investments are expected to unlock new revenue streams, potentially leading to significant stock appreciation as the market begins to value these AI capabilities.\n",
        "\n",
        "* Billionaire Investments: The involvement of billionaire hedge fund managers in companies like Palantir and Upstart showcases the perceived potential of AI stocks. Analysts forecast that these companies could see substantial upside due to their innovative AI applications, such as Palantir's work with government and commercial clients and Upstart's AI-driven credit risk assessment.\n",
        "\n",
        "* Comparison of AI Stocks: The financial performance of AI-focused companies, like Palantir and Snowflake, is being scrutinized. Despite market volatility, both companies have shown strong gains, indicating investor confidence in their AI capabilities.\n",
        "\n",
        "* Content Production: AI's potential to streamline content production is highlighted through companies like Netflix. The integration of AI in their content strategy suggests a transformative impact on how content is generated and delivered, which could lead to increased viewership and revenue.\n",
        "\n",
        "In summary, AI is emerging as a pivotal force in reshaping investment strategies, enhancing operational efficiency, and influencing the financial performance of tech companies, which collectively drives interest in AI-related stocks among investors.\n",
        "\n",
        "**comparison between answers**\n",
        "\n",
        "The metadata-enriched answer feels more professional and data-driven. Provides richer context and it is easier to trace back to original news articles\n",
        "\n",
        "The non-metadata answer feels more like a high-level overview. Still informative but lacks precise sourcing, covers similar themes but in a more generalized way\n"
      ],
      "metadata": {
        "id": "rK5xCQOeWJV2"
      },
      "id": "rK5xCQOeWJV2"
    },
    {
      "cell_type": "code",
      "source": [
        "q_three_df = pd.DataFrame({\n",
        "    'Criteria': ['Clarity', 'Detail & Depth', 'Use of Context', 'Accuracy & Grounding', 'Relevance', 'Narrative flow'],\n",
        "    'Without Metadata': [\"General references make it harder to trace\", \"Covers similar themes but lacks supporting data\",\n",
        "                         \"Relies on summarized content without structured context\",\"Less verifiable statements\" ,\n",
        "                         \"Relevant but slightly broader\" , \"Informative but more segmented\",],\n",
        "    'With Metadata': ['Clear attribution of claims to specific companies', 'Rich in specifics',\n",
        "                      'Integrates contextual metadata to support and validate each example', \"Strong\",\n",
        "                      \"Highly relevant to finance-related AI trends\", \"Smooth and cohesive\"]\n",
        "})\n",
        "\n",
        "display(Markdown(dataframe_to_markdown(q_three_df)))"
      ],
      "metadata": {
        "id": "_ON7ea5og-v6",
        "colab": {
          "base_uri": "https://localhost:8080/",
          "height": 238
        },
        "outputId": "b1a2569d-29be-4786-d9df-558feec934b8"
      },
      "id": "_ON7ea5og-v6",
      "execution_count": 8,
      "outputs": [
        {
          "output_type": "display_data",
          "data": {
            "text/plain": [
              "<IPython.core.display.Markdown object>"
            ],
            "text/markdown": "| Criteria | Without Metadata | With Metadata |\n| --- | --- | --- |\n| Clarity | General references make it harder to trace | Clear attribution of claims to specific companies |\n| Detail & Depth | Covers similar themes but lacks supporting data | Rich in specifics |\n| Use of Context | Relies on summarized content without structured context | Integrates contextual metadata to support and validate each example |\n| Accuracy & Grounding | Less verifiable statements | Strong |\n| Relevance | Relevant but slightly broader | Highly relevant to finance-related AI trends |\n| Narrative flow | Informative but more segmented | Smooth and cohesive |"
          },
          "metadata": {}
        }
      ]
    },
    {
      "cell_type": "markdown",
      "source": [
        "### Q4: How is Microsoft being portrayed in news stories about artificial intelligence?\n",
        "\n",
        "**Metadata answer:**\n",
        "The provided context does not include any news stories or references about Microsoft and its portrayal in relation to artificial intelligence. Therefore, I cannot provide an answer regarding how Microsoft is being portrayed in those discussions. If you have specific news articles or sources related to Microsoft and AI, feel free to share, and I'll be glad to help analyze them\n",
        "\n",
        "**Non-metadata answer:**\n",
        "The provided context does not specifically mention Microsoft or its portrayal in news stories about artificial intelligence. Therefore, I cannot provide a direct analysis regarding how Microsoft is being portrayed in such articles. However, if you have additional context or specific articles about Microsoft and its AI initiatives, I would be happy to help analyze that information.\n",
        "\n",
        "**comparison between answers**\n",
        "\n",
        "Both results give a generic response saying there's no Microsoft-related info in the provided context, so neither of them is useful.\n"
      ],
      "metadata": {
        "id": "3xCtJPXQWA--"
      },
      "id": "3xCtJPXQWA--"
    },
    {
      "cell_type": "code",
      "source": [
        "q_four_df = pd.DataFrame({\n",
        "    'Criteria': ['Clarity', 'Detail & Depth', 'Use of Context', 'Accuracy & Grounding', 'Relevance', 'Narrative flow'],\n",
        "    'Without Metadata': [\"No Microsoft info\", \"Lack of Microsoft info\", \"No Microsoft info\",\"No Microsoft info\" ,\"Irrelevant\" , \"No Microsoft info\",],\n",
        "    'With Metadata': ['No Microsoft info', 'Lack of Microsoft info', 'No Microsoft info', \"No Microsoft info\", \"Irrelevant\", \"No Microsoft info\"]\n",
        "})\n",
        "\n",
        "display(Markdown(dataframe_to_markdown(q_four_df)))"
      ],
      "metadata": {
        "id": "1mhvooGuhAHQ",
        "colab": {
          "base_uri": "https://localhost:8080/",
          "height": 238
        },
        "outputId": "33ef7a8c-e0c7-4cc7-96ef-cf80f2db7a9c"
      },
      "id": "1mhvooGuhAHQ",
      "execution_count": 7,
      "outputs": [
        {
          "output_type": "display_data",
          "data": {
            "text/plain": [
              "<IPython.core.display.Markdown object>"
            ],
            "text/markdown": "| Criteria | Without Metadata | With Metadata |\n| --- | --- | --- |\n| Clarity | No Microsoft info | No Microsoft info |\n| Detail & Depth | Lack of Microsoft info | Lack of Microsoft info |\n| Use of Context | No Microsoft info | No Microsoft info |\n| Accuracy & Grounding | No Microsoft info | No Microsoft info |\n| Relevance | Irrelevant | Irrelevant |\n| Narrative flow | No Microsoft info | No Microsoft info |"
          },
          "metadata": {}
        }
      ]
    },
    {
      "cell_type": "markdown",
      "source": [
        "### Q5: What financial news headlines connect Amazon with automation or logistics?\n",
        "\n",
        "**Metadata answer:**\n",
        "The financial news headlines that connect Amazon with automation or logistics include:\n",
        "\n",
        "* Amazon's AI Roadmap With AWS CEO Garman: This article discusses how Amazon is leveraging artificial intelligence across all its operations, which includes aspects of logistics and automation within its extensive e-commerce and cloud services.\n",
        "\n",
        "* Winners And Losers Of Q1: C.H. Robinson Worldwide (NASDAQ:CHRW) Vs The Rest Of The Air Freight and Logistics Stocks: While this headline focuses on C.H. Robinson, it fits into the logistics theme as it gives insight into the performance of logistics companies, which can be influenced by Amazon's operations and the broader impact of automation in the logistics sector.\n",
        "\n",
        "These headlines highlight Amazon's commitment to integrating automation and AI into its logistics and operational frameworks.\n",
        "\n",
        "**Non-metadata answer:**\n",
        "The financial news headlines that connect Amazon with automation or logistics include:\n",
        "\n",
        "* Amazon's AI Roadmap With AWS CEO Garman: This article discusses how every aspect of Amazon is leveraging artificial intelligence, which often includes automation technologies that can enhance logistics and operational efficiencies.\n",
        "\n",
        "* Winners And Losers Of Q1: C.H. Robinson Worldwide (NASDAQ:CHRW) Vs The Rest Of The Air Freight and Logistics Stocks: While this headline primarily focuses on logistics, Amazon's involvement in the logistics space, particularly with its delivery and supply chain operations, can be inferred through comparisons with other logistics companies.\n",
        "\n",
        "These headlines highlight Amazon's emphasis on AI, which is closely tied to automation and improving logistics efficiency.\n",
        "\n",
        "**comparison between answers**\n",
        "\n",
        "Both answers are exactly the same, the amount of information is short, but that's what was provided by the semactic search, the second point is not clearly connected to Amazon.  \n"
      ],
      "metadata": {
        "id": "HiIl64H5TG2C"
      },
      "id": "HiIl64H5TG2C"
    },
    {
      "cell_type": "code",
      "source": [
        "q_five_df = pd.DataFrame({\n",
        "    'Criteria': ['Clarity', 'Detail & Depth', 'Use of Context', 'Accuracy & Grounding', 'Relevance', 'Narrative flow'],\n",
        "    'Without Metadata': [\"Straightforward and easy to read\", \"General observations without deep connections\",\n",
        "                         \"Relies on surface-level context\", \"More interpretive and less anchored in verifiable metadata\" ,\n",
        "                         \"Not so relevant\" , \"Slightly segmented but still coherent\"],\n",
        "    'With Metadata': [\"Straightforward and easy to read\", \"General observations without deep connections\",\n",
        "                         \"Relies on surface-level context\", \"More interpretive and less anchored in verifiable metadata\" ,\n",
        "                         \"Not so relevant\" , \"Slightly segmented but still coherent\"],\n",
        "})\n",
        "\n",
        "display(Markdown(dataframe_to_markdown(q_five_df)))"
      ],
      "metadata": {
        "id": "N3e6wfUxhB_3",
        "colab": {
          "base_uri": "https://localhost:8080/",
          "height": 238
        },
        "outputId": "054b660a-e51b-4e68-a3e3-7ce51bd0689c"
      },
      "id": "N3e6wfUxhB_3",
      "execution_count": 10,
      "outputs": [
        {
          "output_type": "display_data",
          "data": {
            "text/plain": [
              "<IPython.core.display.Markdown object>"
            ],
            "text/markdown": "| Criteria | Without Metadata | With Metadata |\n| --- | --- | --- |\n| Clarity | Straightforward and easy to read | Straightforward and easy to read |\n| Detail & Depth | General observations without deep connections | General observations without deep connections |\n| Use of Context | Relies on surface-level context | Relies on surface-level context |\n| Accuracy & Grounding | More interpretive and less anchored in verifiable metadata | More interpretive and less anchored in verifiable metadata |\n| Relevance | Not so relevant | Not so relevant |\n| Narrative flow | Slightly segmented but still coherent | Slightly segmented but still coherent |"
          },
          "metadata": {}
        }
      ]
    },
    {
      "cell_type": "markdown",
      "source": [
        "### Question 6: What are the main themes emerging in financial news about the semiconductor industry?\n",
        "\n",
        "**Metadata answer:**\n",
        "The main themes emerging in financial news about the semiconductor industry, particularly regarding ON Semiconductor Corporation, include:\n",
        "\n",
        "* International Revenue Trends: There is a strong focus on how international revenue figures impact overall forecasts for companies like ON Semiconductor. Investors are keen to understand global market dynamics and how they influence profitability and growth prospects.\n",
        "\n",
        "* Investor Attention and Market Sentiment: ON Semiconductor is attracting significant investor interest, indicating a favorable market sentiment. The increased attention from investors may relate to potential growth opportunities and the company's standing in the semiconductor space.\n",
        "\n",
        "* Earnings Performance: Reports hint at concerns surrounding soft earnings, yet there appears to be resilience among shareholders. This suggests that investors may be looking beyond short-term earnings challenges, focusing instead on long-term potential and future performance.\n",
        "\n",
        "* Analyst and Expert Evaluations: The evaluation of ON Semiconductor against broader market trends and alongside the stock picks of well-known investors (like Glenn Russell Dubin) reveals a competitive landscape where firms are assessed for upside potential in uncertain markets.\n",
        "\n",
        "* Comparative Analysis Within the Sector: There is a comparative analysis with other semiconductor companies, highlighting relative performance and opportunities amid changing market environments. This includes looking at how ON Semiconductor stacks up against peers like Analog Devices and Vishay Intertechnology in terms of growth and revenue handling.\n",
        "\n",
        "Overall, the semiconductor sector is characterized by discussions around revenue growth strategies, market positioning, earnings outlooks, and investor sentiment shaped by broader economic conditions.\n",
        "\n",
        "\n",
        "**Non-metadata answer:**\n",
        "\n",
        "The main themes emerging in financial news about the semiconductor industry, particularly regarding companies like ON Semiconductor Corp. (ON), include:\n",
        "\n",
        "* International Revenue Trends: There is a strong focus on the analysis of international revenue trends for semiconductor companies. Investors are particularly interested in how these trends influence market forecasts and the potential impact on stock performance.\n",
        "\n",
        "* Earnings Performance and Investor Sentiment: Recent articles highlight that despite some companies posting soft earnings, there seems to be a lack of concern among shareholders. This indicates a level of optimism or confidence in future performance.\n",
        "\n",
        "* Increased Investor Attention: There has been a noticeable increase in interest from investors in certain semiconductor stocks, such as ON Semiconductor. This could be driven by market conditions or specific corporate developments that are attracting attention.\n",
        "\n",
        "* Stock Picks from Influential Investors: The investment strategies of prominent investors, like Billionaire Glenn Russell Dubin, are shaping discussions within the industry. Mentioning stocks with significant upside potential suggests that investors are looking for high-growth opportunities in the semiconductor sector.\n",
        "\n",
        "* Market Environment Evaluation: The current earnings season is seen as a strategic point for identifying companies that are effectively navigating the changing business environment. This implies a broader evaluation of performance among semiconductor firms and an indication of potential winners in the market.\n",
        "\n",
        "Overall, these themes reflect a combination of market analysis, investor sentiment, and individual stock performance within the semiconductor industry.\n",
        "\n",
        "**comparison between answers**\n",
        "\n",
        "The metadata-enriched is a little bit more interesting to read, but because of the limited context I dont think it satisfies the scope of the question\n",
        "\n",
        "\n",
        "In the non-metadata answer is very similar in quality to the metadata-enriched asnwer, limited by the provided context, with a bit less interesting narrative."
      ],
      "metadata": {
        "id": "KHt5ATNPNLg6"
      },
      "id": "KHt5ATNPNLg6"
    },
    {
      "cell_type": "code",
      "source": [
        "q_six_df = pd.DataFrame({\n",
        "    'Criteria': ['Clarity', 'Detail & Depth', 'Use of Context', 'Accuracy & Grounding', 'Relevance', 'Narrative flow'],\n",
        "    'Without Metadata': ['Clear but more generic', 'Limited', 'Makes good use of limited context',\n",
        "                         \"Strong grounding, easy to verify\", \"Relevant but limited\",\n",
        "                         \"Feels more like a summary than a cohesive narrative\"],\n",
        "    'With Metadata': [\"Clear and well-structured\", \"Limited\",\n",
        "                         \"Makes good use of limited context\",\"Strong grounding, easy to verify\" ,\n",
        "                         \"Relevant but limited\" , \"Feels more like a summary than a cohesive narrative\"]\n",
        "})\n",
        "\n",
        "display(Markdown(dataframe_to_markdown(q_six_df)))"
      ],
      "metadata": {
        "id": "8WkpDItUhClG",
        "colab": {
          "base_uri": "https://localhost:8080/",
          "height": 238
        },
        "outputId": "7d627e2b-990d-4d36-9fb7-32452c39b1cd"
      },
      "id": "8WkpDItUhClG",
      "execution_count": 14,
      "outputs": [
        {
          "output_type": "display_data",
          "data": {
            "text/plain": [
              "<IPython.core.display.Markdown object>"
            ],
            "text/markdown": "| Criteria | Without Metadata | With Metadata |\n| --- | --- | --- |\n| Clarity | Clear but more generic | Clear and well-structured |\n| Detail & Depth | Limited | Limited |\n| Use of Context | Makes good use of limited context | Makes good use of limited context |\n| Accuracy & Grounding | Strong grounding, easy to verify | Strong grounding, easy to verify |\n| Relevance | Relevant but limited | Relevant but limited |\n| Narrative flow | Feels more like a summary than a cohesive narrative | Feels more like a summary than a cohesive narrative |"
          },
          "metadata": {}
        }
      ]
    },
    {
      "cell_type": "markdown",
      "source": [
        "### Question 7: What trends are being reported in the retail industry?\n",
        "\n",
        "**Metadata answer:**\n",
        "The retail industry is currently facing several concerning trends. First, there is a notable adaptation of business models by retailers as technology changes consumer shopping behaviors. This shift indicates an ongoing transformation in how products are marketed and sold.\n",
        "\n",
        "Second, despite these adaptations, demand within the industry remains volatile, making retailers vulnerable to fluctuations in consumer spending. This uncertainty has been reflected in the overall performance of retail stocks, which have dropped by 13.7% over the past six months, significantly underperforming compared to the S&P 500’s decline of 5.5%.\n",
        "\n",
        "Additionally, retailers are grappling with external factors such as trade tariffs, prompting many to alter their supply chains and implement price increases, which may affect consumer purchasing habits further. Overall, the trends highlight a challenging environment for retailers as they navigate economic cycles and consumer behavior changes.\n",
        "\n",
        "**Non-metadata answer:**\n",
        "\n",
        "The retail industry is currently experiencing several concerning trends:\n",
        "\n",
        "* Volatility in Consumer Demand: There is significant uncertainty in consumer spending, leading to fluctuations in demand for retail products. This has caused retail stocks to decline by 13.7% over the past six months, which is notably worse than the S&P 500's decline of 5.5%.\n",
        "\n",
        "* Adaptation to Technological Changes: Retailers are adapting their business models in response to changing shopping behaviors driven by technology. This adaptation is essential as consumer preferences evolve, but it also contributes to the uncertainty faced by the sector.\n",
        "\n",
        "* Impact of Trade Policies: Retail executives are dealing with the ramifications of tariffs and trade policies. They have reportedly shifted their supply chains, and many price increases have already been implemented in response to these external pressures.\n",
        "\n",
        "* Economic Cycle Dependency: The performance of consumer discretionary businesses is closely linked to economic cycles. Recently, these businesses have faced headwinds, with an industry-wide drop of 12.3%, significantly worse than the S&P 500's 2.1% decline.\n",
        "\n",
        "Overall, the combination of increased operational costs due to tariffs, changing consumer behaviors, and economic uncertainties has created a challenging environment for retailers.\n",
        "\n",
        "**comparison between answers**\n",
        "* The metadata-enriched answer performs better in terms of coherence, insight, and strategic framing.\n",
        "* The non-metadata answer offers more granular data but lacks the interpretive layer that makes the trends feel interconnected and meaningful.\n"
      ],
      "metadata": {
        "id": "7rZTzM9-mRGf"
      },
      "id": "7rZTzM9-mRGf"
    },
    {
      "cell_type": "code",
      "source": [
        "q_seven_df = pd.DataFrame({\n",
        "    'Criteria': ['Clarity', 'Datail & Depth', 'Use of Context', 'Accuracy & Grounding', 'Relevance', 'Narrative flow'],\n",
        "    'Without Metadata': [\"Clear and readable, though slightly more segmented than the metadata version\", \"Includes solid detail, but there some data not present in the context\",\n",
        "                         \"Context is present but less integrated\",\"the source of figures is less transparent\" ,\"All content is relevant\" ,\n",
        "                         \"Slightly choppier flow due to bullet-style formatting and less connective phrasing.\",],\n",
        "    'With Metadata': ['The response is clear and well-structured, with smooth transitions between ideas.', 'Offers strong detail',\n",
        "                      'Effectively integrates context', \"Good grounding in factual sources\", \"All points directly address the question\", \"The answer flows logically\"]\n",
        "})\n",
        "\n",
        "display(Markdown(dataframe_to_markdown(q_seven_df)))"
      ],
      "metadata": {
        "colab": {
          "base_uri": "https://localhost:8080/",
          "height": 290
        },
        "id": "e6BbXTnLhDMM",
        "outputId": "ebd5f10b-ca73-4ef4-d2c1-d861192dc9a4"
      },
      "id": "e6BbXTnLhDMM",
      "execution_count": null,
      "outputs": [
        {
          "output_type": "display_data",
          "data": {
            "text/plain": [
              "<IPython.core.display.Markdown object>"
            ],
            "text/markdown": "| Criteria | Without Metadata | With Metadata |\n| --- | --- | --- |\n| Clarity | Clear and readable, though slightly more segmented than the metadata version | The response is clear and well-structured, with smooth transitions between ideas. |\n| Datail & Depth | Includes solid detail, but there some data not present in the context | Offers strong detail |\n| Use of Context | Context is present but less integrated | Effectively integrates context |\n| Accuracy & Grounding | the source of figures is less transparent | Good grounding in factual sources |\n| Relevance | All content is relevant | All points directly address the question |\n| Narrative flow | Slightly choppier flow due to bullet-style formatting and less connective phrasing. | The answer flows logically |"
          },
          "metadata": {}
        }
      ]
    },
    {
      "cell_type": "markdown",
      "source": [
        "### Q8: What risks or challenges are discussed in recent news about the energy industry?\n",
        "\n",
        "**Metadata answer**\n",
        "\n",
        "Recent news highlights several risks and challenges facing the energy industry, particularly regarding renewable energy and oilfield services:\n",
        "\n",
        "* Legislative Threats to Renewable Energy Subsidies: The advancement of a bill by the U.S. House of Representatives aims to repeal significant subsidies for the renewable energy sector. If enacted, this legislation could render many renewable projects uneconomical, jeopardizing the financial viability of companies like NextEra Energy, Inc. (NEE) and Enphase Energy, Inc. (ENPH).\n",
        "\n",
        "* Declining Oil Prices and Budget Cuts: The oilfield services sector, including companies like Halliburton Company (HAL) and Baker Hughes Company (BKR), faces a difficult environment due to sliding oil prices. This decline is compounded by increasing tariffs and shrinking drilling budgets, raising concerns about future profitability and operational sustainability.\n",
        "\n",
        "* Uncertainty from Geopolitical and Trade Conflicts: The ongoing trade conflict, particularly related to tariffs, adds uncertainty to the market dynamics for companies reliant on critical materials like copper. For instance, Freeport-McMoRan Inc. (FCX) navigates the complexities of tariff implications on the industrial economy, which could affect competitive positioning and operational costs.\n",
        "\n",
        "Overall, the energy industry is grappling with potential regulatory changes, volatile market conditions, and the impact of global trade policies.\n",
        "\n",
        "**Non-metadata anwser:**\n",
        "\n",
        "Recent news about the energy industry highlights several key risks and challenges, particularly for the renewable energy sector and oilfield services.\n",
        "\n",
        "* Legislative Changes: The U.S. Congress is advancing a bill that could repeal important subsidies for renewable energy. This legislative change poses a significant risk to the economic viability of renewable energy projects, potentially making them uneconomical and prompting a crash in renewable energy stocks.\n",
        "\n",
        "* Price Fluctuations: The oilfield service sector, represented by companies like SLB, HAL, and BKR, faces challenges due to sliding oil prices. This decline in prices can lead to reduced profitability and budget cuts in drilling operations.\n",
        "\n",
        "* Increase in Tariffs: Rising tariffs are complicating the operational landscape for energy companies. As tariffs increase, costs related to imports and materials may rise, affecting profit margins and global competitiveness.\n",
        "\n",
        "* Budget Constraints: With reduced drilling budgets, companies in the oilfield service sector may have to navigate a more challenging financial environment, limiting their operational capacity and future investments.\n",
        "\n",
        "* Market Demand Shifts: Companies are also grappling with fluctuating demand for traditional energy sources versus renewable energy. As the market evolves, businesses must adapt or risk being left behind.\n",
        "\n",
        "These combined factors create a highly uncertain environment for stakeholders in both the renewable energy and oilfield service sectors.\n",
        "\n",
        "\n",
        "**comparison between answers**\n",
        "\n",
        "Both responses are strong and cover a range of topics. The answer without metadata is more granular, while the one with metadata presents more cohesive and analytical information, offering a fluid narrative with well-connected insights. Both provide details about the companies relevant to each theme, but the metadata-enriched response does so more effectively, more frequently, and with greater precision.\n",
        "- Clear presentation, slightly more engaging due to the analytical depth\n",
        "- Well-detailed, covering a broad variety of themes\n",
        "- Good use of context, with effective integration of metadata\n",
        "- More challenging to link back to sources and related companies\n",
        "- Highly relevant overall\n"
      ],
      "metadata": {
        "id": "HTP8Eppwl-mJ"
      },
      "id": "HTP8Eppwl-mJ"
    },
    {
      "cell_type": "code",
      "source": [
        "q_eight_df = pd.DataFrame({\n",
        "    'Criteria': ['Clarity', 'Detail & Depth', 'Use of Context', 'Accuracy & Grounding', 'Relevance', 'Narrative flow'],\n",
        "    'Without Metadata': [\"Clear presentation\", \"Covers a broad variety of themes\", \"Good use of context\",\n",
        "                         \"More challenging to link back to sources and related companies\" ,\"Highly relevant overall\" , \"Provides granularity, a bit less interesting to read\",],\n",
        "    'With Metadata': ['Clear presentation, slightly more engaging due to the analytical depth',\n",
        "                      'Covers a broad variety of themes', 'Good use of context, with effective integration of metadata',\n",
        "                      \"Easier to link back to sources and related companies\", \"Highly relevant overall\", \"Provides more insight\"]\n",
        "})\n",
        "\n",
        "display(Markdown(dataframe_to_markdown(q_eight_df)))"
      ],
      "metadata": {
        "id": "pUiIHOwvhFZV",
        "colab": {
          "base_uri": "https://localhost:8080/",
          "height": 238
        },
        "outputId": "ce101f60-6e33-4fa6-a30a-59b3483446d7"
      },
      "id": "pUiIHOwvhFZV",
      "execution_count": 15,
      "outputs": [
        {
          "output_type": "display_data",
          "data": {
            "text/plain": [
              "<IPython.core.display.Markdown object>"
            ],
            "text/markdown": "| Criteria | Without Metadata | With Metadata |\n| --- | --- | --- |\n| Clarity | Clear presentation | Clear presentation, slightly more engaging due to the analytical depth |\n| Detail & Depth | Covers a broad variety of themes | Covers a broad variety of themes |\n| Use of Context | Good use of context | Good use of context, with effective integration of metadata |\n| Accuracy & Grounding | More challenging to link back to sources and related companies | Easier to link back to sources and related companies |\n| Relevance | Highly relevant overall | Highly relevant overall |\n| Narrative flow | Provides granularity, a bit less interesting to read | Provides more insight |"
          },
          "metadata": {}
        }
      ]
    }
  ],
  "metadata": {
    "kernelspec": {
      "display_name": "Python 3",
      "language": "python",
      "name": "python3"
    },
    "language_info": {
      "codemirror_mode": {
        "name": "ipython",
        "version": 3
      },
      "file_extension": ".py",
      "mimetype": "text/x-python",
      "name": "python",
      "nbconvert_exporter": "python",
      "pygments_lexer": "ipython3",
      "version": "3.9.6"
    },
    "colab": {
      "provenance": []
    }
  },
  "nbformat": 4,
  "nbformat_minor": 5
}